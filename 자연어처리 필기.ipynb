{
 "cells": [
  {
   "cell_type": "markdown",
   "metadata": {},
   "source": [
    "### 선형대수학"
   ]
  },
  {
   "cell_type": "markdown",
   "metadata": {},
   "source": [
    "x 단위벡터 : ^i   \n",
    "\\begin{pmatrix} 1  \\\\  0 \\end{pmatrix}\n",
    "y 단위벡터 : ^j\n",
    "\\begin{pmatrix} 0  \\\\  1 \\end{pmatrix}\n",
    "\n",
    "단위행렬     \n",
    "\\begin{pmatrix} 1 & 0 \\\\ 0 & 1 \\end{pmatrix}\n",
    "\n",
    "역행렬 \n",
    "- 역행렬은 (A^-1)은 A와 곱했을 때 단위 행렬이 된다.\n",
    "\n",
    "내적 (Dot Product)   \n",
    "- 내적은 값이 다른 두 벡터의 유사도를 알아보기 위해 하는 것   \n",
    "\n",
    "고유값 (Eigenvalue)   \n",
    "- 스칼라(상수배로만 증가하는 것)     \n",
    "\n",
    "고유벡터 (Eigenvector)    \n",
    "- 벡터(변환을 시켰을 때 방향은 변하지 않고 크기만 변하는 벡터, 데이터를 잘 설명하고 있다는 뜻)   "
   ]
  },
  {
   "cell_type": "markdown",
   "metadata": {},
   "source": [
    "$$\n",
    "\\begin{array}{c|lcr}\n",
    " & \\text{강아지} & \\text{고양이} & \\text{책} & \\text{의자}\\\\\n",
    "\\hline\n",
    "A & 10 & 10\t& 1 & 1 \\\\\n",
    "B & 12 & 11\t& 2 & 1  \\\\\n",
    "C & 1 & 2\t& 10 & 11 \\\\\n",
    "D & 100 & 100 & 10 & 11 \n",
    "\\end{array}\n",
    "$$   \n",
    "\n",
    "유클리디안 거리 (Euclidean Distance)   \n",
    "- 거리 기반의 유사도 선택 (A벡터와 B벡터의 거리는 가까울 것)\n",
    "- A와 B는 강아지, 고양이의 값을 볼 때 강아지, 고양이에 관련된 글이라는 것을 알 수 있다.    \n",
    "- (한계점)D도 마찬가지로 강아지, 고양이에 관련된 글이지만 유클리디안 거리상으로는 C와 더 가까운 것으로 생각할 수 있다.\n",
    "\n",
    "코사인 유사도 (Cosine Similarity)   \n",
    "- 벡터 간의 각도에 따라서 유사도를 파악하는 것이다.    \n",
    "- 실제로 D는 A,B와 비슷한 유형이기 때문에 A,B 와 D의 각도 차이가 C와 D의 각도보다 작을 것이다.    \n",
    "- 따라서 D는 A,B와 더 유사하다고 할 수 있다."
   ]
  },
  {
   "cell_type": "markdown",
   "metadata": {},
   "source": [
    "**텍스트 마이닝** : 텍스트 데이터를 통해 의사 결정에 유용한 정보나 패턴을 도출하는 것    \n",
    "**데이터 마이닝** : 수치 또는 범주화된 데이터를 분석하는 것"
   ]
  },
  {
   "cell_type": "markdown",
   "metadata": {},
   "source": [
    "### 자연어처리\n"
   ]
  },
  {
   "cell_type": "markdown",
   "metadata": {},
   "source": [
    "토큰화 - 품사 부착(PoS Tagging) - 개체명 인식 (NER, Named Entity Recognition) - 원형 복원 (Stemming & Lemmatization) - 불용어 처리 (Stopword)"
   ]
  },
  {
   "cell_type": "markdown",
   "metadata": {},
   "source": [
    "**원형 복원**   \n",
    "**stemming** : 규칙기반 (정해진 규칙에 의해 변경되는 방법, 새로운 단어도 변환할 수 있다.)   \n",
    "**lemmatzation** : 사전기반 (모든 단어를 사전에 저장해두고 매칭하여 변경, 새로운 단어는 변환할 수 없다.)   "
   ]
  },
  {
   "cell_type": "markdown",
   "metadata": {},
   "source": [
    "**네트워크 분석** : 각 요소간의 상관성을 보는 것 (networkX 모듈)   "
   ]
  }
 ],
 "metadata": {
  "kernelspec": {
   "display_name": "study",
   "language": "python",
   "name": "python3"
  },
  "language_info": {
   "codemirror_mode": {
    "name": "ipython",
    "version": 3
   },
   "file_extension": ".py",
   "mimetype": "text/x-python",
   "name": "python",
   "nbconvert_exporter": "python",
   "pygments_lexer": "ipython3",
   "version": "3.8.20"
  }
 },
 "nbformat": 4,
 "nbformat_minor": 2
}
