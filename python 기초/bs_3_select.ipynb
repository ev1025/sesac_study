{
 "cells": [
  {
   "cell_type": "markdown",
   "metadata": {},
   "source": [
    "# select로 크롤링하기 "
   ]
  },
  {
   "cell_type": "markdown",
   "metadata": {},
   "source": [
    "## 1. 종류"
   ]
  },
  {
   "cell_type": "markdown",
   "metadata": {},
   "source": [
    "### 1.1 soup.select('css_selector')\n",
    "- 해당되는 태그는 모두 갖고와서 list로 return\n",
    "- html에서 태그를 찾기"
   ]
  },
  {
   "cell_type": "code",
   "execution_count": 163,
   "metadata": {},
   "outputs": [
    {
     "name": "stdout",
     "output_type": "stream",
     "text": [
      "********** select는 list형식으로 반환 ********** \n",
      "[<p id=\"hello\">\n",
      "    이탈리아 요리의 시작은 기원전 4세기로 거슬러 올라갈 수 있다. 대항해시대를 거치면서 아메리카 대륙에서 감자·토마토·후추·옥수수 등이 유입되어 그 종류와 풍미가 다양해졌고 현대에 이르러서는 피자와 파스타 등 많은 이탈리아 요리가 널리 퍼지게 되었다.\n",
      "</p>, <p id=\"cook\">\n",
      "    전통적인 요리법이나 양식은 상당한 차이가 있지만, 이탈리아 요리는 다른 국가의 요리 문화에서 다양한 영감을 줄 만큼 다양하고 혁신적인 것으로 평가되고 있다. 각 지방마다 고유의 특색이 있어 그 양식도 다양하지만 크게 북부와 남부로 나눌 수 있다. 다른 나라와 국경을 맞대고 있던 북부 지방은 산업화되어 경제적으로 풍족하고 농업이 발달해 쌀이 풍부해 유제품이 다양한 반면 경제적으로 침체되었던 남부 지방은 올리브와 토마토, 모차렐라 치즈가 유명하고 특별히 해산물을 활용한 요리가 많다. 식재료와 치즈 등의 차이는 파스타의 종류와 소스와 수프 등도 다름을 의미한다.\n",
      "</p>]\n",
      "\n",
      "********** select one은 바로 반환 ********** \n",
      "<p id=\"hello\">\n",
      "    이탈리아 요리의 시작은 기원전 4세기로 거슬러 올라갈 수 있다. 대항해시대를 거치면서 아메리카 대륙에서 감자·토마토·후추·옥수수 등이 유입되어 그 종류와 풍미가 다양해졌고 현대에 이르러서는 피자와 파스타 등 많은 이탈리아 요리가 널리 퍼지게 되었다.\n",
      "</p>\n",
      "\n",
      "********** 깔끔하게 뽑기 ********** \n",
      "이탈리아 요리의 시작은 기원전 4세기로 거슬러 올라갈 수 있다. 대항해시대를 거치면서 아메리카 대륙에서 감자·토마토·후추·옥수수 등이 유입되어 그 종류와 풍미가 다양해졌고 현대에 이르러서는 피자와 파스타 등 많은 이탈리아 요리가 널리 퍼지게 되었다.\n"
     ]
    }
   ],
   "source": [
    "import requests\n",
    "from bs4 import BeautifulSoup\n",
    "\n",
    "source = requests.get('https://crawlingstudy-dd3c9.web.app/01/') # 반응값 받아오기\n",
    "soup = BeautifulSoup(source.text, 'html.parser')                 # 받아온 텍스트를 html형식으로(select매서드 먹히게)\n",
    "select_tag = soup.select('p')                                        # p태그 찾기(리스트)\n",
    "select_one_tag = soup.select_one('p')  \n",
    "\n",
    "print(f\"{'*'*10} select는 list형식으로 반환 {'*'*10} \")\n",
    "print(select_tag)\n",
    "print()\n",
    "print(f\"{'*'*10} select one은 바로 반환 {'*'*10} \")\n",
    "print(select_one_tag)\n",
    "print()\n",
    "print(f\"{'*'*10} 깔끔하게 뽑기 {'*'*10} \")\n",
    "print(select_tag[0].text.strip())\n"
   ]
  },
  {
   "cell_type": "code",
   "execution_count": 158,
   "metadata": {},
   "outputs": [
    {
     "name": "stdout",
     "output_type": "stream",
     "text": [
      "[<table border=\"1\">\n",
      "<thead>\n",
      "<tr>\n",
      "<th class=\"tablehead\">이름</th>\n",
      "<th class=\"tablehead\">나이</th>\n",
      "</tr>\n",
      "</thead>\n",
      "<tbody>\n",
      "<tr>\n",
      "<td>이몽룡</td>\n",
      "<td>34</td>\n",
      "</tr>\n",
      "<tr>\n",
      "<td>홍길동</td>\n",
      "<td>23</td>\n",
      "</tr>\n",
      "</tbody>\n",
      "</table>]\n"
     ]
    }
   ],
   "source": [
    "# 테이블\n",
    "table_tags = soup.select('table')\n",
    "print(table_tags)"
   ]
  },
  {
   "cell_type": "code",
   "execution_count": 157,
   "metadata": {},
   "outputs": [
    {
     "name": "stdout",
     "output_type": "stream",
     "text": [
      "['홍길동', '23']\n"
     ]
    }
   ],
   "source": [
    "# 테이블 값 가져오기\n",
    "tr_tags = table_tags[0].select('tr')\n",
    "print(tr_tags[2].text.strip().split('\\n'))"
   ]
  },
  {
   "cell_type": "markdown",
   "metadata": {},
   "source": [
    "### 1.2 soup.select_one('css_selector')\n",
    "- 해당되는 태그 중 가장 첫 번째 태그만 return \n",
    "- list에 묶이지 않고 태그를 바로 return해줌 \n",
    "- html에서 태그 찾기 "
   ]
  },
  {
   "cell_type": "code",
   "execution_count": 159,
   "metadata": {},
   "outputs": [
    {
     "name": "stdout",
     "output_type": "stream",
     "text": [
      "<p id=\"cook\">\n",
      "    전통적인 요리법이나 양식은 상당한 차이가 있지만, 이탈리아 요리는 다른 국가의 요리 문화에서 다양한 영감을 줄 만큼 다양하고 혁신적인 것으로 평가되고 있다. 각 지방마다 고유의 특색이 있어 그 양식도 다양하지만 크게 북부와 남부로 나눌 수 있다. 다른 나라와 국경을 맞대고 있던 북부 지방은 산업화되어 경제적으로 풍족하고 농업이 발달해 쌀이 풍부해 유제품이 다양한 반면 경제적으로 침체되었던 남부 지방은 올리브와 토마토, 모차렐라 치즈가 유명하고 특별히 해산물을 활용한 요리가 많다. 식재료와 치즈 등의 차이는 파스타의 종류와 소스와 수프 등도 다름을 의미한다.\n",
      "</p>\n",
      "\n",
      "전통적인 요리법이나 양식은 상당한 차이가 있지만, 이탈리아 요리는 다른 국가의 요리 문화에서 다양한 영감을 줄 만큼 다양하고 혁신적인 것으로 평가되고 있다. 각 지방마다 고유의 특색이 있어 그 양식도 다양하지만 크게 북부와 남부로 나눌 수 있다. 다른 나라와 국경을 맞대고 있던 북부 지방은 산업화되어 경제적으로 풍족하고 농업이 발달해 쌀이 풍부해 유제품이 다양한 반면 경제적으로 침체되었던 남부 지방은 올리브와 토마토, 모차렐라 치즈가 유명하고 특별히 해산물을 활용한 요리가 많다. 식재료와 치즈 등의 차이는 파스타의 종류와 소스와 수프 등도 다름을 의미한다.\n"
     ]
    }
   ],
   "source": [
    "p_tags = soup.select_one('p#cook')\n",
    "print(p_tags)\n",
    "print()\n",
    "print(p_tags.text.strip())\n"
   ]
  },
  {
   "cell_type": "markdown",
   "metadata": {},
   "source": [
    "- tag에서 tag찾기 "
   ]
  },
  {
   "cell_type": "code",
   "execution_count": 49,
   "metadata": {},
   "outputs": [
    {
     "name": "stdout",
     "output_type": "stream",
     "text": [
      "['이름', '나이']\n"
     ]
    }
   ],
   "source": [
    "table = soup.select_one('table')\n",
    "print(table.select_one(\"tr\").text.strip().split('\\n'))"
   ]
  },
  {
   "cell_type": "code",
   "execution_count": 60,
   "metadata": {},
   "outputs": [
    {
     "name": "stdout",
     "output_type": "stream",
     "text": [
      "\n",
      "이몽룡\n",
      "34\n",
      "\n"
     ]
    }
   ],
   "source": [
    "print(soup.select('table tr')[0].text)"
   ]
  },
  {
   "cell_type": "markdown",
   "metadata": {},
   "source": [
    "### 2.3 속성 셀렉터로 태그 갖고오기 \n",
    "- tag[속성~ = ”값”] : 해당 단어와 일치 \n",
    "- tag[속성^ = ”값”] : 해당 값으로 시작\t\n",
    "- tag[속성$ = ”값”] : 해당 값으로 끝나는\t\n",
    "- tag[속성* = ”값”] : 해당 값을 포함하는\n"
   ]
  },
  {
   "cell_type": "code",
   "execution_count": 165,
   "metadata": {},
   "outputs": [],
   "source": [
    "response = requests.get('https://crawlingstudy-dd3c9.web.app/02/')\n",
    "soup = BeautifulSoup(response.text,'html.parser')"
   ]
  },
  {
   "cell_type": "code",
   "execution_count": 138,
   "metadata": {},
   "outputs": [
    {
     "data": {
      "text/plain": [
       "[<a href=\"http://naver.com\" target=\"_blank\">네이버</a>,\n",
       " <a href=\"http://google.com\" target=\"_self\">구글</a>]"
      ]
     },
     "execution_count": 138,
     "metadata": {},
     "output_type": "execute_result"
    }
   ],
   "source": [
    "#href$= \"이값\" 이값으로 끝나는 것 뽑기\n",
    "href_tag = soup.select('a[href$=\".com\"]')\n",
    "href_tag"
   ]
  },
  {
   "cell_type": "code",
   "execution_count": 139,
   "metadata": {},
   "outputs": [
    {
     "data": {
      "text/plain": [
       "'http://naver.com'"
      ]
     },
     "execution_count": 139,
     "metadata": {},
     "output_type": "execute_result"
    }
   ],
   "source": [
    "# href 속성값 뽑는 법1\n",
    "href_tag[0].get(\"href\")"
   ]
  },
  {
   "cell_type": "code",
   "execution_count": 140,
   "metadata": {},
   "outputs": [
    {
     "data": {
      "text/plain": [
       "'http://naver.com'"
      ]
     },
     "execution_count": 140,
     "metadata": {},
     "output_type": "execute_result"
    }
   ],
   "source": [
    "# href 속성값 뽑는 법2\n",
    "href_tag[0].attrs['href']"
   ]
  },
  {
   "cell_type": "code",
   "execution_count": 146,
   "metadata": {},
   "outputs": [
    {
     "name": "stdout",
     "output_type": "stream",
     "text": [
      "[<a href=\"http://naver.com\" target=\"_blank\">네이버</a>]\n",
      "<a href=\"http://naver.com\" target=\"_blank\">네이버</a>\n"
     ]
    }
   ],
   "source": [
    "target_blank_list = soup.select('a[target=\"_blank\"]')\n",
    "target_blank = soup.select_one('a[target=\"_blank\"]')\n",
    "print(target_blank_list)\n",
    "print(target_blank)"
   ]
  },
  {
   "cell_type": "code",
   "execution_count": 148,
   "metadata": {},
   "outputs": [
    {
     "data": {
      "text/plain": [
       "[<a href=\"http://naver.com\" target=\"_blank\">네이버</a>,\n",
       " <a href=\"http://daum.net\" target=\"_self\">다음</a>,\n",
       " <a href=\"http://google.com\" target=\"_self\">구글</a>]"
      ]
     },
     "execution_count": 148,
     "metadata": {},
     "output_type": "execute_result"
    }
   ],
   "source": [
    "target_blank_list = soup.select('a[target^=\"_\"]')\n",
    "target_blank_list"
   ]
  },
  {
   "cell_type": "code",
   "execution_count": 162,
   "metadata": {},
   "outputs": [
    {
     "data": {
      "text/plain": [
       "<!DOCTYPE html>\n",
       "\n",
       "<html>\n",
       "<head>\n",
       "<title>크롤링 연습사이트 01</title>\n",
       "</head>\n",
       "<body>\n",
       "<h1>저의 첫 웹사이트 오신것을 환영합니다.</h1>\n",
       "<h1 title=\"welcome\">인사이트캠퍼스.</h1>\n",
       "<h2>이곳은 크롤링 연습을 위한 웹사이트입니다.</h2>\n",
       "<table border=\"1\">\n",
       "<thead>\n",
       "<tr>\n",
       "<th class=\"tablehead\">이름</th>\n",
       "<th class=\"tablehead\">나이</th>\n",
       "</tr>\n",
       "</thead>\n",
       "<tbody>\n",
       "<tr>\n",
       "<td>이몽룡</td>\n",
       "<td>34</td>\n",
       "</tr>\n",
       "<tr>\n",
       "<td>홍길동</td>\n",
       "<td>23</td>\n",
       "</tr>\n",
       "</tbody>\n",
       "</table>\n",
       "<p id=\"hello\">\n",
       "    이탈리아 요리의 시작은 기원전 4세기로 거슬러 올라갈 수 있다. 대항해시대를 거치면서 아메리카 대륙에서 감자·토마토·후추·옥수수 등이 유입되어 그 종류와 풍미가 다양해졌고 현대에 이르러서는 피자와 파스타 등 많은 이탈리아 요리가 널리 퍼지게 되었다.\n",
       "</p>\n",
       "<p id=\"cook\">\n",
       "    전통적인 요리법이나 양식은 상당한 차이가 있지만, 이탈리아 요리는 다른 국가의 요리 문화에서 다양한 영감을 줄 만큼 다양하고 혁신적인 것으로 평가되고 있다. 각 지방마다 고유의 특색이 있어 그 양식도 다양하지만 크게 북부와 남부로 나눌 수 있다. 다른 나라와 국경을 맞대고 있던 북부 지방은 산업화되어 경제적으로 풍족하고 농업이 발달해 쌀이 풍부해 유제품이 다양한 반면 경제적으로 침체되었던 남부 지방은 올리브와 토마토, 모차렐라 치즈가 유명하고 특별히 해산물을 활용한 요리가 많다. 식재료와 치즈 등의 차이는 파스타의 종류와 소스와 수프 등도 다름을 의미한다.\n",
       "</p>\n",
       "<a href=\"01.html\">1페이지 바로가기</a>\n",
       "<a href=\"02.html\">2페이지 바로가기</a>\n",
       "<a href=\"03.html\">3페이지 바로가기</a>\n",
       "<a href=\"04.html\">4페이지 바로가기</a>\n",
       "</body>\n",
       "</html>"
      ]
     },
     "execution_count": 162,
     "metadata": {},
     "output_type": "execute_result"
    }
   ],
   "source": [
    "soup"
   ]
  },
  {
   "cell_type": "code",
   "execution_count": 166,
   "metadata": {},
   "outputs": [
    {
     "name": "stdout",
     "output_type": "stream",
     "text": [
      "[<p>온세상이 떨릴듯</p>, <p class=\"blue\">두근거리고 <span>익숙한 듯 편안해</span></p>, <p>네가 느껴져</p>, <p class=\"blue\">오래된 친구같아</p>]\n",
      "4\n",
      "--------------------------------------------------\n",
      "<p>온세상이 떨릴듯</p>\n"
     ]
    }
   ],
   "source": [
    "# 후손 - 토글 안에 모든 태그(띄어쓰기)\n",
    "p_tag_list = soup.select(\"div#winter p\")\n",
    "p_tag = soup.select_one(\"div#winter p\")\n",
    "\n",
    "print(p_tag_list)\n",
    "print(len(p_tag_list))\n",
    "print('-'*50)\n",
    "print(p_tag)"
   ]
  },
  {
   "cell_type": "code",
   "execution_count": 167,
   "metadata": {},
   "outputs": [
    {
     "name": "stdout",
     "output_type": "stream",
     "text": [
      "[<p>온세상이 떨릴듯</p>, <p class=\"blue\">두근거리고 <span>익숙한 듯 편안해</span></p>]\n",
      "2\n",
      "--------------------------------------------------\n",
      "<p>온세상이 떨릴듯</p>\n"
     ]
    }
   ],
   "source": [
    "# 자식 - 바로 밑에 포함되는 태그(>)\n",
    "child_p_list = soup.select(\"div#winter > p\")\n",
    "child_p = soup.select_one(\"div#winter > p\")\n",
    "\n",
    "print(child_p_list)\n",
    "print(len(child_p_list))\n",
    "print('-'*50)\n",
    "print(child_p)"
   ]
  },
  {
   "cell_type": "markdown",
   "metadata": {},
   "source": [
    "## 2. css선택자로 태그 갖고오기 "
   ]
  },
  {
   "cell_type": "markdown",
   "metadata": {},
   "source": [
    "### 2.1 id 셀렉터로 태그 갖고오기 \n",
    "- div태그가 여러개 이니깐 id로 원하는 div태그만 갖고올 수 있음 "
   ]
  },
  {
   "cell_type": "markdown",
   "metadata": {},
   "source": [
    "### 2.2 class 셀렉터로 태그 갖고오기 "
   ]
  },
  {
   "cell_type": "markdown",
   "metadata": {},
   "source": [
    "### 2.2.1 div_list에서 select와 selec_one으로 class=blue인 li태그 갖고오기 "
   ]
  },
  {
   "cell_type": "markdown",
   "metadata": {},
   "source": [
    "### 2.2.2 div_tag에서 select와 selec_one으로 class=blue인 li태그 갖고오기 "
   ]
  },
  {
   "cell_type": "markdown",
   "metadata": {},
   "source": [
    "### 2.4 후손 셀렉터로 태그 갖고오기 "
   ]
  },
  {
   "cell_type": "markdown",
   "metadata": {},
   "source": [
    "### 2.5 자식 셀렉터로 태그 갖고오기 "
   ]
  }
 ],
 "metadata": {
  "kernelspec": {
   "display_name": "study",
   "language": "python",
   "name": "python3"
  },
  "language_info": {
   "codemirror_mode": {
    "name": "ipython",
    "version": 3
   },
   "file_extension": ".py",
   "mimetype": "text/x-python",
   "name": "python",
   "nbconvert_exporter": "python",
   "pygments_lexer": "ipython3",
   "version": "3.9.12"
  }
 },
 "nbformat": 4,
 "nbformat_minor": 2
}
