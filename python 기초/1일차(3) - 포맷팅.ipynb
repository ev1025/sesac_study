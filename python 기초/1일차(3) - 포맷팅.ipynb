{
 "cells": [
  {
   "cell_type": "markdown",
   "metadata": {},
   "source": [
    "## 포맷팅"
   ]
  },
  {
   "cell_type": "markdown",
   "metadata": {},
   "source": [
    "### %"
   ]
  },
  {
   "cell_type": "code",
   "execution_count": 1,
   "metadata": {},
   "outputs": [
    {
     "name": "stdout",
     "output_type": "stream",
     "text": [
      "내 이름은 홍길동이고 4살이고 원주율은 3.14입니다.\n"
     ]
    }
   ],
   "source": [
    "# 작성 순서대로 포맷에 맞춰서 입력됨\n",
    "print(\"내 이름은 %s이고 %d살이고 원주율은 %.2f입니다.\" % (\"홍길동\",4, 3.14))"
   ]
  },
  {
   "cell_type": "markdown",
   "metadata": {},
   "source": [
    "### Format"
   ]
  },
  {
   "cell_type": "code",
   "execution_count": 2,
   "metadata": {},
   "outputs": [
    {
     "name": "stdout",
     "output_type": "stream",
     "text": [
      "내 이름은 홍길동이고 나이는 24살이고 키는 171.1입니다.\n",
      "나의 단짝 고길동은 홍길동보다 키가 1.26cm 큽니다.\n",
      "1등은 길길동, 2등은 고길동 3등은 홍길동입니다.\n",
      "나의 단짝은 {홍길동}입니다.\n"
     ]
    }
   ],
   "source": [
    "# 별다른 설정 없으면 순서대로 들어감\n",
    "print(\"내 이름은 {}이고 나이는 {}살이고 키는 {}입니다.\".format(\"홍길동\",24,171.1))\n",
    "\n",
    "#변수 설정\n",
    "print(\"나의 단짝 {b}은 {a}보다 키가 {c:.2f}cm 큽니다.\".format(a=\"홍길동\",b=\"고길동\",c=1.256))\n",
    "\n",
    "#입력 숫자 순서로 순서 인덱스\n",
    "print(\"1등은 {2}, 2등은 {1} 3등은 {0}입니다.\".format(\"홍길동\",\"고길동\",\"길길동\"))\n",
    "\n",
    "# {}표시 해주고 싶을 때(이스케이프 문자)\n",
    "print(\"나의 단짝은 {{{}}}입니다.\".format(\"홍길동\"))"
   ]
  },
  {
   "cell_type": "code",
   "execution_count": 3,
   "metadata": {},
   "outputs": [
    {
     "name": "stdout",
     "output_type": "stream",
     "text": [
      "이름은 홍길동, 나이는20, 키는 171.1입니다.\n"
     ]
    }
   ],
   "source": [
    "print(\"이름은 {}, 나이는{}, 키는 {}입니다.\".format(\"홍길동\",20,171.1))"
   ]
  },
  {
   "cell_type": "markdown",
   "metadata": {},
   "source": [
    "### f-string"
   ]
  },
  {
   "cell_type": "code",
   "execution_count": 4,
   "metadata": {},
   "outputs": [
    {
     "name": "stdout",
     "output_type": "stream",
     "text": [
      "수학수업을 듣는 학생 수는 총 20명이고 평균 점수는84.5입니다.\n"
     ]
    }
   ],
   "source": [
    "math = \"수학\"\n",
    "student = 20\n",
    "score = 84.51\n",
    "print(f\"{math}수업을 듣는 학생 수는 총 {student}명이고 평균 점수는{score:.1f}입니다.\")"
   ]
  },
  {
   "cell_type": "code",
   "execution_count": 5,
   "metadata": {},
   "outputs": [
    {
     "name": "stdout",
     "output_type": "stream",
     "text": [
      "이름은 홍길동, 나이는 20, 키는 171.1입니다.\n"
     ]
    }
   ],
   "source": [
    "name = \"홍길동\"\n",
    "age = 20\n",
    "height = 171.12\n",
    "\n",
    "print(f\"이름은 {name}, 나이는 {age}, 키는 {height:.1f}입니다.\")"
   ]
  },
  {
   "cell_type": "markdown",
   "metadata": {},
   "source": [
    "## 키워드, 식별자, 변수, 상수, 리터럴\n"
   ]
  },
  {
   "cell_type": "code",
   "execution_count": 6,
   "metadata": {},
   "outputs": [
    {
     "name": "stdout",
     "output_type": "stream",
     "text": [
      "정수 리터럴 100\n",
      "문자 리터럴 This is Python\n",
      "불 리터럴 True\n",
      "특수 리터럴 None\n"
     ]
    }
   ],
   "source": [
    "integer_literal = 100\n",
    "print(\"정수 리터럴\", integer_literal)\n",
    "\n",
    "strings_literal = \"This is Python\"\n",
    "print(\"문자 리터럴\", strings_literal)\n",
    "\n",
    "bool_literal = (1==True)\n",
    "print(\"불 리터럴\", bool_literal)\n",
    "\n",
    "special_literal = None\n",
    "print(\"특수 리터럴\", special_literal)"
   ]
  },
  {
   "cell_type": "code",
   "execution_count": 7,
   "metadata": {},
   "outputs": [
    {
     "name": "stdout",
     "output_type": "stream",
     "text": [
      "C:\\name\n",
      "C:\\name\n"
     ]
    }
   ],
   "source": [
    "s1 = r'C:\\name'\n",
    "s2 = 'C:\\\\name'\n",
    "\n",
    "print(s1)\n",
    "print(s2)"
   ]
  },
  {
   "cell_type": "code",
   "execution_count": 8,
   "metadata": {},
   "outputs": [
    {
     "data": {
      "text/plain": [
       "'Hello, World!\\nHello, World!\\nPython Programing\\n'"
      ]
     },
     "execution_count": 8,
     "metadata": {},
     "output_type": "execute_result"
    }
   ],
   "source": [
    "\"\"\"Hello, World!\n",
    "Hello, World!\n",
    "Python Programing\n",
    "\"\"\""
   ]
  },
  {
   "cell_type": "code",
   "execution_count": 9,
   "metadata": {},
   "outputs": [
    {
     "name": "stdout",
     "output_type": "stream",
     "text": [
      "hello world!\n"
     ]
    }
   ],
   "source": [
    "var1 = \"hello\"\n",
    "var2 = \"world!\"\n",
    "print(var1, var2)"
   ]
  },
  {
   "cell_type": "code",
   "execution_count": 10,
   "metadata": {},
   "outputs": [
    {
     "data": {
      "text/plain": [
       "'안녕하세요.\\n오늘은 파이썬 수업을 하고 있습니다.\\n즐거운 시간이 될 것 같아요!'"
      ]
     },
     "execution_count": 10,
     "metadata": {},
     "output_type": "execute_result"
    }
   ],
   "source": [
    "\"\"\"안녕하세요.\n",
    "오늘은 파이썬 수업을 하고 있습니다.\n",
    "즐거운 시간이 될 것 같아요!\"\"\""
   ]
  },
  {
   "cell_type": "code",
   "execution_count": 11,
   "metadata": {},
   "outputs": [
    {
     "data": {
      "text/plain": [
       "'\"안녕하세요\".\\n\\'오늘\\'은 파이썬 수업을 하고 있습니다.\\n즐거운 시간이 될 것 같아요! \\n'"
      ]
     },
     "execution_count": 11,
     "metadata": {},
     "output_type": "execute_result"
    }
   ],
   "source": [
    "\"\"\"\"안녕하세요\".\n",
    "'오늘'은 파이썬 수업을 하고 있습니다.\n",
    "즐거운 시간이 될 것 같아요! \n",
    "\"\"\""
   ]
  }
 ],
 "metadata": {
  "kernelspec": {
   "display_name": "study",
   "language": "python",
   "name": "python3"
  },
  "language_info": {
   "codemirror_mode": {
    "name": "ipython",
    "version": 3
   },
   "file_extension": ".py",
   "mimetype": "text/x-python",
   "name": "python",
   "nbconvert_exporter": "python",
   "pygments_lexer": "ipython3",
   "version": "3.9.12"
  }
 },
 "nbformat": 4,
 "nbformat_minor": 2
}
