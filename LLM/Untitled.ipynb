{
 "cells": [
  {
   "cell_type": "code",
   "execution_count": 9,
   "id": "67db6e4f-ce99-4115-9822-bae6e69cfc7d",
   "metadata": {},
   "outputs": [
    {
     "data": {
      "text/plain": [
       "Document(metadata={'source': 'https://www.card-gorilla.com/card/detail/5', 'title': 'GS칼텍스 신한카드Dream 100 | 카드고릴라', 'description': 'GS칼텍스 100원/L 할인, 버스,지하철,택시 3~7% 할인, 놀이공원 30~50% 할인', 'language': 'en'}, page_content=' GS칼텍스 신한카드Dream 100 | 카드고릴라\\n\\n\\n\\n\\n\\n\\n\\n ')"
      ]
     },
     "execution_count": 9,
     "metadata": {},
     "output_type": "execute_result"
    }
   ],
   "source": [
    "from langchain.document_loaders import WebBaseLoader\n",
    "loader = WebBaseLoader(\"https://www.card-gorilla.com/card/detail/5\")\n",
    "\n",
    "# 브라우저 우회 접속\n",
    "loader.requests_kwargs = {'headers' : {'User-Agent' : 'Mozilla/5.0'}}\n",
    "# 한글 인코딩\n",
    "loader.encoding = 'utf-8'\n",
    "\n",
    "docs = loader.load()\n",
    "docs[0]"
   ]
  },
  {
   "cell_type": "code",
   "execution_count": 11,
   "id": "d165745b-07d6-4b0c-9f2d-588e4b2941f4",
   "metadata": {},
   "outputs": [
    {
     "ename": "ImportError",
     "evalue": "cannot import name 'BeautifulSoup4' from 'bs4' (C:\\Users\\ENVY\\anaconda3\\envs\\study\\lib\\site-packages\\bs4\\__init__.py)",
     "output_type": "error",
     "traceback": [
      "\u001b[1;31m---------------------------------------------------------------------------\u001b[0m",
      "\u001b[1;31mImportError\u001b[0m                               Traceback (most recent call last)",
      "Cell \u001b[1;32mIn[11], line 1\u001b[0m\n\u001b[1;32m----> 1\u001b[0m \u001b[38;5;28;01mfrom\u001b[39;00m\u001b[38;5;250m \u001b[39m\u001b[38;5;21;01mbs4\u001b[39;00m\u001b[38;5;250m \u001b[39m\u001b[38;5;28;01mimport\u001b[39;00m BeautifulSoup4 \n",
      "\u001b[1;31mImportError\u001b[0m: cannot import name 'BeautifulSoup4' from 'bs4' (C:\\Users\\ENVY\\anaconda3\\envs\\study\\lib\\site-packages\\bs4\\__init__.py)"
     ]
    }
   ],
   "source": [
    "from bs4 import BeautifulSoup4 "
   ]
  }
 ],
 "metadata": {
  "kernelspec": {
   "display_name": "Python 3.8 (study)",
   "language": "python",
   "name": "study"
  },
  "language_info": {
   "codemirror_mode": {
    "name": "ipython",
    "version": 3
   },
   "file_extension": ".py",
   "mimetype": "text/x-python",
   "name": "python",
   "nbconvert_exporter": "python",
   "pygments_lexer": "ipython3",
   "version": "3.8.20"
  }
 },
 "nbformat": 4,
 "nbformat_minor": 5
}
