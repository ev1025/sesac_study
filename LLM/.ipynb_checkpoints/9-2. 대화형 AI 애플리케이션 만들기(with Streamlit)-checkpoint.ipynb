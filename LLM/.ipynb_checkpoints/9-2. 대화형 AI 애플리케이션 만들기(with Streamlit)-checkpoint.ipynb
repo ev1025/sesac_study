{
 "cells": [
  {
   "cell_type": "markdown",
   "metadata": {},
   "source": [
    "## GPT API와 Streamlit을 활용하여 이전 대화 내용을 기억하는 대화형 AI 애플리케이션을 만들어보자~!\n",
    "- 이전 대화를 메모리로 관리하는 클래스를 활용해보자\n",
    "- 이를 적용한 애플리케이션을 만들고 streamlit으로 구동시켜보자"
   ]
  },
  {
   "cell_type": "code",
   "execution_count": 1,
   "metadata": {},
   "outputs": [
    {
     "name": "stdout",
     "output_type": "stream",
     "text": [
      "Requirement already satisfied: streamlit in c:\\users\\jae_4\\anaconda3\\envs\\study\\lib\\site-packages (1.37.1)\n",
      "Collecting streamlit\n",
      "  Downloading streamlit-1.42.1-py2.py3-none-any.whl.metadata (8.9 kB)\n",
      "Requirement already satisfied: altair<6,>=4.0 in c:\\users\\jae_4\\anaconda3\\envs\\study\\lib\\site-packages (from streamlit) (5.0.1)\n",
      "Requirement already satisfied: blinker<2,>=1.0.0 in c:\\users\\jae_4\\anaconda3\\envs\\study\\lib\\site-packages (from streamlit) (1.6.2)\n",
      "Requirement already satisfied: cachetools<6,>=4.0 in c:\\users\\jae_4\\anaconda3\\envs\\study\\lib\\site-packages (from streamlit) (5.3.3)\n",
      "Requirement already satisfied: click<9,>=7.0 in c:\\users\\jae_4\\anaconda3\\envs\\study\\lib\\site-packages (from streamlit) (8.1.7)\n",
      "Requirement already satisfied: numpy<3,>=1.23 in c:\\users\\jae_4\\anaconda3\\envs\\study\\lib\\site-packages (from streamlit) (1.26.4)\n",
      "Requirement already satisfied: packaging<25,>=20 in c:\\users\\jae_4\\appdata\\roaming\\python\\python312\\site-packages (from streamlit) (24.2)\n",
      "Requirement already satisfied: pandas<3,>=1.4.0 in c:\\users\\jae_4\\anaconda3\\envs\\study\\lib\\site-packages (from streamlit) (2.2.2)\n",
      "Requirement already satisfied: pillow<12,>=7.1.0 in c:\\users\\jae_4\\anaconda3\\envs\\study\\lib\\site-packages (from streamlit) (10.4.0)\n",
      "Requirement already satisfied: protobuf<6,>=3.20 in c:\\users\\jae_4\\anaconda3\\envs\\study\\lib\\site-packages (from streamlit) (5.29.3)\n",
      "Requirement already satisfied: pyarrow>=7.0 in c:\\users\\jae_4\\anaconda3\\envs\\study\\lib\\site-packages (from streamlit) (16.1.0)\n",
      "Requirement already satisfied: requests<3,>=2.27 in c:\\users\\jae_4\\anaconda3\\envs\\study\\lib\\site-packages (from streamlit) (2.32.3)\n",
      "Requirement already satisfied: rich<14,>=10.14.0 in c:\\users\\jae_4\\anaconda3\\envs\\study\\lib\\site-packages (from streamlit) (13.7.1)\n",
      "Requirement already satisfied: tenacity<10,>=8.1.0 in c:\\users\\jae_4\\anaconda3\\envs\\study\\lib\\site-packages (from streamlit) (8.2.3)\n",
      "Requirement already satisfied: toml<2,>=0.10.1 in c:\\users\\jae_4\\anaconda3\\envs\\study\\lib\\site-packages (from streamlit) (0.10.2)\n",
      "Requirement already satisfied: typing-extensions<5,>=4.4.0 in c:\\users\\jae_4\\anaconda3\\envs\\study\\lib\\site-packages (from streamlit) (4.12.2)\n",
      "Requirement already satisfied: watchdog<7,>=2.1.5 in c:\\users\\jae_4\\anaconda3\\envs\\study\\lib\\site-packages (from streamlit) (4.0.1)\n",
      "Requirement already satisfied: gitpython!=3.1.19,<4,>=3.0.7 in c:\\users\\jae_4\\anaconda3\\envs\\study\\lib\\site-packages (from streamlit) (3.1.43)\n",
      "Requirement already satisfied: pydeck<1,>=0.8.0b4 in c:\\users\\jae_4\\anaconda3\\envs\\study\\lib\\site-packages (from streamlit) (0.8.0)\n",
      "Requirement already satisfied: tornado<7,>=6.0.3 in c:\\users\\jae_4\\appdata\\roaming\\python\\python312\\site-packages (from streamlit) (6.4.1)\n",
      "Requirement already satisfied: jinja2 in c:\\users\\jae_4\\anaconda3\\envs\\study\\lib\\site-packages (from altair<6,>=4.0->streamlit) (3.1.4)\n",
      "Requirement already satisfied: jsonschema>=3.0 in c:\\users\\jae_4\\anaconda3\\envs\\study\\lib\\site-packages (from altair<6,>=4.0->streamlit) (4.23.0)\n",
      "Requirement already satisfied: toolz in c:\\users\\jae_4\\anaconda3\\envs\\study\\lib\\site-packages (from altair<6,>=4.0->streamlit) (0.12.0)\n",
      "Requirement already satisfied: colorama in c:\\users\\jae_4\\appdata\\roaming\\python\\python312\\site-packages (from click<9,>=7.0->streamlit) (0.4.6)\n",
      "Requirement already satisfied: gitdb<5,>=4.0.1 in c:\\users\\jae_4\\anaconda3\\envs\\study\\lib\\site-packages (from gitpython!=3.1.19,<4,>=3.0.7->streamlit) (4.0.7)\n",
      "Requirement already satisfied: python-dateutil>=2.8.2 in c:\\users\\jae_4\\appdata\\roaming\\python\\python312\\site-packages (from pandas<3,>=1.4.0->streamlit) (2.9.0.post0)\n",
      "Requirement already satisfied: pytz>=2020.1 in c:\\users\\jae_4\\anaconda3\\envs\\study\\lib\\site-packages (from pandas<3,>=1.4.0->streamlit) (2024.1)\n",
      "Requirement already satisfied: tzdata>=2022.7 in c:\\users\\jae_4\\anaconda3\\envs\\study\\lib\\site-packages (from pandas<3,>=1.4.0->streamlit) (2023.3)\n",
      "Requirement already satisfied: charset-normalizer<4,>=2 in c:\\users\\jae_4\\anaconda3\\envs\\study\\lib\\site-packages (from requests<3,>=2.27->streamlit) (3.3.2)\n",
      "Requirement already satisfied: idna<4,>=2.5 in c:\\users\\jae_4\\anaconda3\\envs\\study\\lib\\site-packages (from requests<3,>=2.27->streamlit) (3.7)\n",
      "Requirement already satisfied: urllib3<3,>=1.21.1 in c:\\users\\jae_4\\anaconda3\\envs\\study\\lib\\site-packages (from requests<3,>=2.27->streamlit) (2.2.3)\n",
      "Requirement already satisfied: certifi>=2017.4.17 in c:\\users\\jae_4\\anaconda3\\envs\\study\\lib\\site-packages (from requests<3,>=2.27->streamlit) (2024.8.30)\n",
      "Requirement already satisfied: markdown-it-py>=2.2.0 in c:\\users\\jae_4\\anaconda3\\envs\\study\\lib\\site-packages (from rich<14,>=10.14.0->streamlit) (2.2.0)\n",
      "Requirement already satisfied: pygments<3.0.0,>=2.13.0 in c:\\users\\jae_4\\appdata\\roaming\\python\\python312\\site-packages (from rich<14,>=10.14.0->streamlit) (2.18.0)\n",
      "Requirement already satisfied: smmap<5,>=3.0.1 in c:\\users\\jae_4\\anaconda3\\envs\\study\\lib\\site-packages (from gitdb<5,>=4.0.1->gitpython!=3.1.19,<4,>=3.0.7->streamlit) (4.0.0)\n",
      "Requirement already satisfied: MarkupSafe>=2.0 in c:\\users\\jae_4\\anaconda3\\envs\\study\\lib\\site-packages (from jinja2->altair<6,>=4.0->streamlit) (2.1.3)\n",
      "Requirement already satisfied: attrs>=22.2.0 in c:\\users\\jae_4\\anaconda3\\envs\\study\\lib\\site-packages (from jsonschema>=3.0->altair<6,>=4.0->streamlit) (24.3.0)\n",
      "Requirement already satisfied: jsonschema-specifications>=2023.03.6 in c:\\users\\jae_4\\anaconda3\\envs\\study\\lib\\site-packages (from jsonschema>=3.0->altair<6,>=4.0->streamlit) (2023.7.1)\n",
      "Requirement already satisfied: referencing>=0.28.4 in c:\\users\\jae_4\\anaconda3\\envs\\study\\lib\\site-packages (from jsonschema>=3.0->altair<6,>=4.0->streamlit) (0.30.2)\n",
      "Requirement already satisfied: rpds-py>=0.7.1 in c:\\users\\jae_4\\anaconda3\\envs\\study\\lib\\site-packages (from jsonschema>=3.0->altair<6,>=4.0->streamlit) (0.10.6)\n",
      "Requirement already satisfied: mdurl~=0.1 in c:\\users\\jae_4\\anaconda3\\envs\\study\\lib\\site-packages (from markdown-it-py>=2.2.0->rich<14,>=10.14.0->streamlit) (0.1.0)\n",
      "Requirement already satisfied: six>=1.5 in c:\\users\\jae_4\\appdata\\roaming\\python\\python312\\site-packages (from python-dateutil>=2.8.2->pandas<3,>=1.4.0->streamlit) (1.16.0)\n",
      "Downloading streamlit-1.42.1-py2.py3-none-any.whl (9.6 MB)\n",
      "   ---------------------------------------- 0.0/9.6 MB ? eta -:--:--\n",
      "   --------------------- ------------------ 5.2/9.6 MB 29.0 MB/s eta 0:00:01\n",
      "   ---------------------------------------- 9.6/9.6 MB 27.0 MB/s eta 0:00:00\n",
      "Installing collected packages: streamlit\n",
      "  Attempting uninstall: streamlit\n",
      "    Found existing installation: streamlit 1.37.1\n",
      "    Uninstalling streamlit-1.37.1:\n",
      "      Successfully uninstalled streamlit-1.37.1\n",
      "Successfully installed streamlit-1.42.1\n"
     ]
    }
   ],
   "source": [
    "!pip install -U streamlit"
   ]
  },
  {
   "cell_type": "code",
   "execution_count": 5,
   "metadata": {},
   "outputs": [
    {
     "name": "stdout",
     "output_type": "stream",
     "text": [
      "Collecting python-decouple\n",
      "  Downloading python_decouple-3.8-py3-none-any.whl.metadata (14 kB)\n",
      "Downloading python_decouple-3.8-py3-none-any.whl (9.9 kB)\n",
      "Installing collected packages: python-decouple\n",
      "Successfully installed python-decouple-3.8\n"
     ]
    }
   ],
   "source": [
    "# API키, DB 자격증명 및 환경변수와 같은 구성 설정을 안전하게 관리해주는 패키지\n",
    "!pip install python-decouple"
   ]
  },
  {
   "cell_type": "markdown",
   "metadata": {},
   "source": [
    "- 이전 실습들에는 여러 셀을 사용할 수 있어서 getpass를 사용했지만 Streamlit을 동작시킬 때는 하나의 셀에 모든 코드가 들어간 py파일로 동작시켜야하기 때문에 api-key가 보일 수 밖에 없음\n",
    "- 이를 방지하기 위해 Streamlit에서 지원하는 비밀 관리 기능(secrets)을 활용해보자"
   ]
  },
  {
   "cell_type": "markdown",
   "metadata": {},
   "source": [
    "**%%writefile : 해당 셀을 py파일처럼 사용하는 코드**"
   ]
  },
  {
   "cell_type": "code",
   "execution_count": 19,
   "metadata": {},
   "outputs": [
    {
     "name": "stdout",
     "output_type": "stream",
     "text": [
      "Overwriting module/myChatApp.py\n"
     ]
    }
   ],
   "source": [
    "%%writefile module/myChatApp.py\n",
    "\n",
    "import streamlit as st\n",
    "from langchain_openai import ChatOpenAI\n",
    "from langchain.prompts import PromptTemplate\n",
    "from langchain.memory import ConversationBufferMemory\n",
    "from langchain.chains import LLMChain\n",
    "from openai import OpenAI\n",
    "\n",
    "#\n",
    "chat_model = ChatOpenAI(model_name='gpt-3.5-turbo',\n",
    "                        api_key = st.secrets[\"OPENAI_API_KEY\"],\n",
    "                        temperature = 0.5\n",
    ")\n",
    "\n",
    "prompt = PromptTemplate(input_variables = [\"chat_history\", \"question\"],\n",
    "                        template = \"\"\"You are a AI assistant.\n",
    "                                      You are currently haing a conversation with a human.\n",
    "                                      Answer the Question.\n",
    "                                      chat_history : {chat_history},\n",
    "                                      Human : {question},\n",
    "                                      AI assistant : \n",
    "                                      \"\"\"\n",
    "                       )\n",
    "\n",
    "# 일반적인 코드에서는 memory객체를 생성하면 대화 내용들을 자동으로 기억하지만 \n",
    "# streamlit에서는 웹에서 요청, 답을 수행하기 때문에 따로 지정해두지 않으면 다 초기화 됨\n",
    "\n",
    "# session_state : 딕셔너리와 유사한 구조로 모든 자료형 및 객체를 지정할 수 있고 []외에 .으로도 key에 접근 가능\n",
    "#                  앱을 재실행해도 사용자 입력이나 계산결과 등 변수의 상태를 지속적으로 관리해야 할 때 사용함\n",
    "\n",
    "\n",
    "# 처음부터 지정하지 않고 not in을 쓰는 이유는 코드 재실행 시 지정된 값이 초기화 되는 것을 방지하기 위함\n",
    "if \"pre_memory\" not in st.session_state:\n",
    "    st.session_state.pre_memory = ConversationBufferMemory(memory_key=\"chat_history\",\n",
    "                                                           return_messages=True\n",
    "                                                          )\n",
    "\n",
    "llm_chain = LLMChain(llm=chat_model,\n",
    "                     prompt=my_prompt,\n",
    "                     memory=st.session_state.pre_memory # CBMemory객체가 입력 됨\n",
    "                    )\n",
    "\n",
    "# LLM에 요청하고 응답받을 수 있는 chat형태로 messages를 관리\n",
    "if \"messages\" not in st.session_state:\n",
    "    st.session_state_messages = [\n",
    "        {\"role\" : \"assistant\", \"content\" : \"안녕하세요 저는 AI Assistant입니다.\"}\n",
    "    ]\n",
    "\n",
    "# ------------------------ 웹표시 부분 -----------------------------------\n",
    "st.title(\"나의 작고 소중한 GPT 챗봇😊\")\n",
    "\n",
    "# 반복문으로 session_state.messages에 있는 모든 대화 기록에 접근\n",
    "for message in st.session_state.messages:\n",
    "    # chat_message : 메세지의 발신자 role(assistant, user)에 따라 UI를 구분하여 출력\n",
    "    #                assistant, user는 디폴트로 설정되어 있으며 다른 role을 추가하려면 html 코드 작성이 필요\n",
    "    with st.chat_message(message[\"role\"]):\n",
    "        st.write(message[\"content\"])\n",
    "\n",
    "# chat_input : 채팅메세지 입력 UI가 생성되며 사용자가 입력한 텍스트를 받아오는 함수\n",
    "user_prompt = st.chat_input()\n",
    "\n",
    "# 사용자가 텍스트를 입력한다면!\n",
    "if user_prompt is not None:\n",
    "    st.session_state.message.append({\"role\" : \"user\", \"content\" : user_prompt})\n",
    "    with st.chat_message(\"user\"):  # user형태로 메세지 창 UI 출력\n",
    "        st.write(user_prompt)      # 사용자가 입력한 질문 출력\n",
    "\n",
    "# 마지막 메세지의 role이 assistant가 아니라면 새로운 답변을 생성하고 session_state에 추가\n",
    "# (assistant가 본인의 응답에도 계속 대답하는 자문자답을 방지하기 위함)\n",
    "if st.session_state.messages[-1][\"role\"] != \"assistant\" :\n",
    "    # assistant 메세지 UI 생성\n",
    "    with st.chat_message(\"assistant\") :\n",
    "        # \n",
    "        with st.spinner(\"Loading..\") :\n",
    "            try :\n",
    "                ai_response = llm_chain.predict(question=user_prompt)\n",
    "                st.write(ai_response)\n",
    "                # 모델의 응답도 세션의 messages에 추가하여 관리\n",
    "                st.session_state.messages.append({\"role\" : \"assistant\", \"content\" : ai_response})\n",
    "            except Exception as e:\n",
    "                st.error(f\"LLM 에러 발생 : {e}\")\n",
    "\n",
    "                 \n",
    "#------------------------------------------------------------------------\n"
   ]
  },
  {
   "cell_type": "code",
   "execution_count": null,
   "metadata": {},
   "outputs": [],
   "source": []
  }
 ],
 "metadata": {
  "kernelspec": {
   "display_name": "Python [conda env:study]",
   "language": "python",
   "name": "conda-env-study-py"
  },
  "language_info": {
   "codemirror_mode": {
    "name": "ipython",
    "version": 3
   },
   "file_extension": ".py",
   "mimetype": "text/x-python",
   "name": "python",
   "nbconvert_exporter": "python",
   "pygments_lexer": "ipython3",
   "version": "3.8.20"
  }
 },
 "nbformat": 4,
 "nbformat_minor": 4
}
