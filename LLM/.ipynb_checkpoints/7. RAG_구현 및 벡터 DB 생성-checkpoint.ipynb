{
 "cells": [
  {
   "cell_type": "markdown",
   "id": "27357037-0e59-4dc4-af05-877f906762b3",
   "metadata": {},
   "source": [
    "## RAG를 구성하고 Chroma벡터 DB를 활용하여 질의하고 응답을 비교해보자!\n",
    "- Chroma DB 공식 페이지 : https://www.trychroma.com/"
   ]
  },
  {
   "cell_type": "code",
   "execution_count": 4,
   "id": "d8564d76-3623-4db5-b32d-cc373b1e5ac1",
   "metadata": {},
   "outputs": [],
   "source": [
    "from openai import OpenAI\n",
    "from getpass import getpass\n",
    "import re\n",
    "import numpy as np\n",
    "from langchain.document_loaders import PyPDFLoader\n",
    "from langchain.text_splitter import RecursiveCharacterTextSplitter"
   ]
  },
  {
   "cell_type": "code",
   "execution_count": 7,
   "id": "66aae096-563e-4df3-a3ef-c149d987d73c",
   "metadata": {},
   "outputs": [
    {
     "name": "stdin",
     "output_type": "stream",
     "text": [
      "OpenAI API Key: ········\n"
     ]
    }
   ],
   "source": [
    "MY_API_KEY = getpass.getpass(\"OpenAI API Key:\")"
   ]
  },
  {
   "cell_type": "code",
   "execution_count": 9,
   "id": "86c5e11a-4b74-4c93-8f6b-6d9b58d2bf01",
   "metadata": {},
   "outputs": [],
   "source": [
    "client = OpenAI(api_key = MY_API_KEY)"
   ]
  },
  {
   "cell_type": "code",
   "execution_count": 11,
   "id": "939ed99e-e09a-43f0-a6bd-036369376957",
   "metadata": {},
   "outputs": [
    {
     "name": "stdout",
     "output_type": "stream",
     "text": [
      "기술평가는 특정 기술이나 제품의 성능, 품질, 안전성, 신뢰성 등을 평가하는 과정을 말합니다. 이를 통해 해당 기술이나 제품의 우수성과 개선이 필요한 부분을 파악할 수 있습니다. 주로 실험, 시험, 분석 등의 방법을 사용하여 기술적인 측면을 평가하게 됩니다.\n"
     ]
    }
   ],
   "source": [
    "completion = client.chat.completions.create(model=\"gpt-3.5-turbo\",\n",
    "                                            messages = [{'role':'user', 'content':'기술평가가 뭐야?'}],\n",
    "                                            temperature = 0\n",
    "                                           )\n",
    "print(completion.choices[0].message.content)"
   ]
  },
  {
   "cell_type": "markdown",
   "id": "38a2cc1d-068f-4a02-8c5e-e9f94484dfe6",
   "metadata": {},
   "source": [
    "### RAG구조를 활용한 질의\n",
    "\n",
    "#### 1) 참조 데이터 로드 및 청킹"
   ]
  },
  {
   "cell_type": "code",
   "execution_count": 13,
   "id": "1eaa42dc-d9a8-4285-823a-d70d5d37ee8b",
   "metadata": {},
   "outputs": [],
   "source": [
    "loaders = [PyPDFLoader(\"data/기술보증기금과 한국경제.pdf\"),\n",
    "           PyPDFLoader(\"data/기술보증기금 주요업무.pdf\")\n",
    "          ]"
   ]
  },
  {
   "cell_type": "code",
   "execution_count": 15,
   "id": "1b7e74f9-4430-4d34-8fe7-67821e42c7d0",
   "metadata": {},
   "outputs": [],
   "source": [
    "# Recursive splitter 객체 생성\n",
    "pdf_splitter = RecursiveCharacterTextSplitter(chunk_size = 1000,\n",
    "                                              chunk_overlap = 50\n",
    "                                             )"
   ]
  },
  {
   "cell_type": "code",
   "execution_count": 17,
   "id": "0464729c-da10-4db3-859f-8d5a80d7fdbd",
   "metadata": {},
   "outputs": [
    {
     "name": "stdout",
     "output_type": "stream",
     "text": [
      "청크 개수 : 13\n"
     ]
    },
    {
     "data": {
      "text/plain": [
       "[Document(metadata={'source': 'data/기술보증기금과 한국경제.pdf', 'page': 0}, page_content='페이지 1 / 5 \\n \\n기술보증기금과 한국경제 \\n \\nI. 기술보증기금 개요  \\n1. 설립근거 : 기술보증기금법 \\n \\n- 설립목적(존재이유) \\n✓ 기술보증기금을 설립하여 기술보증제도를 정착·발전시킴으로써 신 기술사업에 대한 자금의 \\n공급을 원활하게 하고 나아가 국민 경제의 발전에 이바지함을 목적으로 함(기술보증기금법1\\n조) \\n✓ 설립 : 담보능력이 미약한 기업의 채무를 보증하게 하여 기업에 대한 자금 융통을 원활하게 하기 \\n위하여 기술보증기금을 설립(법 12조) \\n✓ 기금의 재원 : 정부 출연금의 예산은 중소벤처기업부 소관으로 함 \\n \\n☞ 기술보증기금은  \\n✓ 기술력은 우수하지만 담보 부족한 중소기업의 \\n✓ 기술성과 사업성 평가를 통해 기술보증을 지원하며, \\n✓ 기술평가, 벤처이노비즈기업  인증, 중소기업 창업지원 등의 업무 수행 \\n \\n2. 주요개념1 \\n \\n업  무 내  용 \\n기술보증 신기술사업자가 부담하는 금전 채무 보증.( 신용부족-담보부족 해결) \\n \\n금융회사 등으로부터 자금 대출을 받음으로써 금융회사 등에 대하여 부담하는 금전 채무를 \\n기술보증기금이 기술보증서로 보증 \\n 신기술사업자 - 기술을 개발하거나 이를 응용하여 사업화하는 중소기업(「중소기업기본법」에 \\n따른 중소기업) 및 대통령령으로 정하는 기업 \\n- \"기업\"이란 사업을 하는 개인 및 법인 \\n신용보증 상시 사용하는 종업원이 1천명 이하이고 총자산액이 1천억원 이하인 기업이 부담하는 금전\\n채무 보증. \\n기술평가 해당 기술과 관련된 기술성·시장성·사업타당성 등을 종합적으로 평가하여 \\n금액·등급·의견 또는 점수 등으로 표시하는 것을 말한다 \\n* 기금은 기술평가의 객관성 및 공정성 등을 확보하기 위하여 기술평가의 \\n기준·절차·방법·종류 등에 관한 사항을 미리 정하여야 한다 \\n기술금융*** \\n  기업 재무제표 위주로 대출하는 관행에서 벗어나, 기업이 보유한 기술성과 사업성 \\n위주로 2필요한 자금을 지원하는 금융활동'),\n",
       " Document(metadata={'source': 'data/기술보증기금과 한국경제.pdf', 'page': 0}, page_content='1 기본개념을 활용하여 논지 전개 가능 함. 인강을 통하여 반복적으로 금융, 기보 업무와 연관성이 있는 개념이 설명됨 \\n2 ①기술금융은 기술개발과 혁신 등 (정책적으로는 창업, 벤처, 중소기업)기업의 기술혁신의 각각의 과정에 필요한 자금을 \\n공급하는 금융활동 \\n②기술금융의 형태는 직접금융과 간접금융으로 나타나며, 우리나라는 주로 간접금융에 의존'),\n",
       " Document(metadata={'source': 'data/기술보증기금과 한국경제.pdf', 'page': 1}, page_content='페이지 2 / 5 \\n \\n (기술과 금융이 결합된 기업금융의 한 형태) \\n \\n① 저성장, 양극화, 4차산업 혁명 시대 대비하여 한국경제의 활성화를 위해  ②중소 중견\\n기업 대출에 있어 금융회사(은행)이 기업이 보유한 기술의 가치를 평가하고 ③이를 바탕으\\n로 자금을 융통하는 것이 강조되고 있다. \\n한국 경제의 신성장 동력인 중소(벤처)기업의 경우 기술 금융지원이 매우 중요하지만, 금\\n융회사로부터 금융지원을 받기 위해서는 부동산 또는 동산 담보가 요구되는 것이 현실이다.  \\n  \\n기술금융 확대로 인한 영향(효과)은  \\n(1) 벤처, 중소 기술기업의 금융 접근성 제고 (2) 담보력 부족 벤처 중소 중견기업에 자금 \\n융통 (3)  4 차산업 활성화(기술혁신형 기업 지원) 를 통한 한국경제 신성장 동력 확보 (4) \\n금융 회사의 리스크 증가 우려가 있다 \\nIP 금융** 기업이 보유한 지식재산(IP)을 평가하여 이를 담보로 지원하는 금융활동을 말한다. 특허를 \\n담보로 이뤄지는 대출 등이 대표적 \\n보증연계투자\" -보증연계투자: 기술보증기금이 신기술사업자의 유가증권을 법 제28조의4제1항에 따라 인수\\n하는 것을 말한다.  \\n** 제28조의4제1항 : 기금은 기술보증 관계가 성립한 신기술사업자의 다음의 유가증권을 인\\n수할 수 있다.  \\n1. 주식 2. 전환사채 3. 신주인수권부사채 \\n-중소벤처기업부장관은 기금의 효율적 운영과 적정한 위험분산을 위하여 필요한 때 따로 지\\n침을 정하여 통보할 수 있다 \\n유동화회사 \\n보증(28 조 3) \\n- 유동화회사 보증: 기금은 유동화 회사가 신기술사업자의 회사채(전환사채, 신주인수권부사\\n채 포함), 대출채권을 유동화자산으로 하는 경우로서 다음에 해당하는 경우에 부담하는 채무\\n에 대하여 보증을 할 수 있다. \\n1. 유동화증권의 발행 (P-CBO) \\n2. 유동화회사에 대한 금융회사 등의 신용공여(信用供與) \\n보증 등의 \\n한도(Risk) \\n① 기금의 보증채무부담 및 재보증 총액의 한도는 기금의 기본재산과 이월이익금의 합계액'),\n",
       " Document(metadata={'source': 'data/기술보증기금과 한국경제.pdf', 'page': 1}, page_content='① 기금의 보증채무부담 및 재보증 총액의 한도는 기금의 기본재산과 이월이익금의 합계액\\n의 20배를 초과하지 아니하는 범위에서  \\n보증료 기금은 보증을 받은 기업으로부터 보증금액에 대하여 대통령령으로 정하는 바에 따라 \\n신용도 등을 고려하여 보증료를 받는다.  \\n \\nII. 한국경제와 기술보증기금 \\n⚫ 한국경제의 이해 \\n \\n \\n \\n \\n \\n \\n1. 존재이유 \\n                                           \\n③기술금융이 정책금융으로 지원되는 이유는 기술금융시장의 시장실패에 기인. 시장실패로 나타나는 역선택의 문제와 대\\n리인문제(모럴 헤저드)가 발생할 수 있음.'),\n",
       " Document(metadata={'source': 'data/기술보증기금과 한국경제.pdf', 'page': 2}, page_content=\"페이지 3 / 5 \\n \\n신기술사업에 대한 자금의 공급을 원활하게 하고 나아가 국민경제의 발전에 이바지함 \\n✓ 담보능력이 미약한 기업의 채무를 보증하게 하여 기업에 대한 자금 융통을 원활하게 하기 위하\\n여 기술보증기금 설립 \\n \\n2. (참고) 기보 역할과 과제  \\n(2019년3) 강조되는 key words \\n- 국내 최초 기술평가시스템 도입→ (기술)중소기업의 미래가치 발굴+기술금융 신시장 개척  \\n- 축적된 기술평가 역량 활용 → 기술혁신형 기업에 기술보증∙ 기술이전∙투자∙컨설팅 등 금융과 비\\n금융 사업을 함께 지원함으로써--→기업 기술경쟁력↑→ 우리경제 신성장 동력(저성장공포 극복) 창출 \\n- 환경 급변(예-성장둔화, 미-중 무역분쟁, 국가간 기술전쟁, 기술중소기업의 자금부족)에 대응 -→ 기술력 \\n있는 중소 기업이 (99-88) 양질의 일자리 창출+한국 경제 혁신성장 주도해야 \\n⚫ 기술 중소기업이 Scale-up4하도록 기술보증이 함께해야 할 것이다  \\nMission5 \\n중소∙벤처기업을 위한 기술금융과 혁신지원 활성화로 국민경제 발전에 기여 \\n \\n \\n3. 강조 point  \\n \\n                                           \\n3 2019.7월 현재 홈페이지 CEO 인사 중  \\n4 2019 년 초 정부가 '제2 벤처 붐 확산 전략'을 발표하면서 부각되고 있는 용어. 문자 그대로 기업의 규모를 \\n확대(키운다)는 뜻.. 중소기업을 (지원)하여 그 기업의 매출, 고용이 성장할 수 있도록 하는 것이며, 기보의  경우 기술 \\n중소기업에 대한 지원이 중요. 이와 관련하여 급성장한 기업의 모델로 2022 년까지 ‘유니콘 기업’(기업가치 \\n10 억USD=1 조원)20 개 만들기, 지원방법의 다양화 관련된 용어인 ‘모태펀드’ 등이 자주 언급된다, \\n5 2019.7월\"),\n",
       " Document(metadata={'source': 'data/기술보증기금과 한국경제.pdf', 'page': 3}, page_content='페이지 4 / 5 \\n \\n ✓ 기술중소(벤처)기업의 든든한 버팀목-기보. \\n✓ 기술금융의 선구자 \\n기술금융의 양과 질 \\n최근 강조점  ✓  J 노믹스의 정책방향 (중소(벤처)기업의 지원을 통한 대기업과의 격차 해소 등 \\n✓ J 노믹스 – 일자리 만들기 마중물 (OOO 금융) \\n* 중소벤처기업부로 이관되어, 중소기업, 벤처기업에 대한 금융지원 등이 강조 \\n✓ 청년 실업해소를 위한 청년창업 지원, 맞춤형 일자리 만들기 \\n✓ 제조업 르네상스 \\n✓ 기보의 역할 인식 \\n- 창업, 재창업, 벤처지원 강화 \\n- 4 차 산업 지원을 통한 창업, 맞춤형 일자리 만들기6  \\n \\nIII. 기보의 기대효과(역할) \\n \\n1. 기술중소(벤처)기업 지원을 통한 한국경제의 성장 견인 \\n- 마중물 역할 (생산적 금융) \\n \\n2030 제조업 르네상스 비전7 \\n \\n2. 기술 중소(벤처)기업의 동반자 \\n✓ 국내 경제는 저성장 고착화, 높은 실업률과 대내외 경제환경(미국과의 금리역전, G2 무역전쟁)의 \\n불확실성으로 인한 소비 위축 그리고 투자심리 부진 등으로 어려운 상황이 계속 우리의 주요 \\n고객인 중소기업의 앞 날은 여전히 어둡고 불확실한 위기상황 직면 \\n✓ 자금의 양극화로 기술 중소기업의 성장한계 극복 \\n✓ 기보가 중소기업을 위해 역할과 임무를 수행하는 것이 중요+기보의 책임 \\n \\n3. 4차 산업 혁명시대8 - 혁신과 중소기업의 새로운 도약 기회 \\n✓ 기술 중소기업은 우리 경제의 위기 극복하고, 미래 핵심요소 \\n✓ 기술 중소기업은 기술금융으로! \\n✓ 청년창업 지원에 기술금융을 집중하여 우리 경제의 대도약을 이끌어 나가야 \\n✓ 기술혁신 위한 금융, 제도, consulting 지원 \\n                                           \\n6 기보- 일자리창출 지원(굿잡보증)사업: 고용없는 성장 장기화로 인해 일자리 문제해결이 시급한 현상황을 고려하여 일자\\n리양과 질을 확대하기 위해 일자리창출 지원 프로그램(굿잡보증) 제도 운영 중'),\n",
       " Document(metadata={'source': 'data/기술보증기금과 한국경제.pdf', 'page': 3}, page_content='리양과 질을 확대하기 위해 일자리창출 지원 프로그램(굿잡보증) 제도 운영 중 \\n7 2030년까지 수출을 세계 4위로 끌어올리고 글로벌 일류상품 기업을 현재의 2배로 늘린다는 정부의 비전 (2019. 6 발표). \\n8 기보의 4차산업혁명 지원 프로그램: \\n경제구조 변화에 따라 기존산업의 성장속도가 둔화되고 있어 미래 주력산업인 신성장 분야를 적극 지원함으로, 사물인터\\n넷ㆍ인공지능 등 제4차 산업혁명을 주도할 기술ㆍ기업 육성에 목적을 두는 제도 \\n * Smart 공장 지원사업도 서술하여도 가능 \\n스마트 공장 지원사업- 양적 투입 위주의 제조업 성장방식의 한계를 극복하고, 부가가치 증대를 위해 제조업과 ITㆍ서\\n비스를 융합한 스마트 산업혁명을 주도할 기술ㆍ기업 육성에 목적을 두고 운영중인 제도'),\n",
       " Document(metadata={'source': 'data/기술보증기금과 한국경제.pdf', 'page': 4}, page_content='페이지 5 / 5 \\n \\n4. 기술혁신형 기업에 기술평가와 기술보증 지원 \\n☞기업의 기술경쟁력을 높이고, 나아가 우리 경제의 성장동력 창출의 일익을 담당하는 기술금융 \\n전문기관 \\n \\n☞ 신용보증기금은 업종제한이 없지만 기술보증기금은 기술력에 특화한 기관으로 신용이 \\n없더라도 기술력 하나만으로 보증을 지원한다는 차별점이 있음을 강조 \\n \\n5. 국내 최초 기술평가 시스템 도입, 기술금융이란 패러다임 개척 \\n✓ 세계 최고수준의 기술평가시스템인 KTRS 를 개발•시행함으로써 재무제표 위주의 평가관행을 \\n기술성과 사업성 위주로 변화시키는 선구자로서의 역할을 훌륭히 수행하였음 \\n \\nIV. 기술보증기금의 주요업무 \\n \\n① 기술보증/신용보증 \\n② 기술평가 \\n\\uf0f0 기술성·시장성·사업타당성 등을 종합 평가하여 금액·등급·의견 또는 점수 등으로 표시하는 \\n것 \\n③ 경영지도 및 기술지도 \\n④ 보증연계 투자(주식, BW, CB 인수) \\n⑤ 재보증업무 및 유동화회사 보증업무 \\n◼ 재보증을 하려는 경우에는 신용보증재단(\"원보증자\")과 계약 체결(재보증 한도액, 재보증 기\\n간, 재보증 요건 등 포함) \\n◼ 기금은 유동화회사가 신기술사업자의 회사채(전환사채, 신주인수권부사채 포함), 대출채권 \\n등을 유동화자산으로 하는 경우에 ‘유동화증권’을 발행’하거나, 금융기관이 ‘유동화증권’\\n에 신용을 공여할 때, 그 채무에 대하여 보증 할 수 있다 \\n*법 28조, 28조의 1, 28조의 2'),\n",
       " Document(metadata={'source': 'data/기술보증기금 주요업무.pdf', 'page': 0}, page_content='페이지 1 / 4 \\n \\n기술보증기금의 주요업무 \\n \\nI. 개 요 \\n- 존재이유 - 기술보증제도를 정착·발전시킴으로써 신기술사업에 대한 자금의 공급을 원활하게 하고 \\n나아가 국민경제의 발전에 이바지 \\n✓ 담보능력이 미약한 기업의 채무를 보증 & 자금 융통을 원활하게 \\n \\nII. 주요업무 \\n① 기술보증/신용보증 \\n기금은 기술혁신선도형 중소기업1 우선적 보증 지원 \\n② 기술평가 \\n기술성·시장성·사업타당성 등을 종합 평가하여 금액·등급·의견 또는 점수 등으로 표시하는 것 \\n③ 인증사업 \\n벤처기업인증 : 기술성 or  성장성이 상대적으로 높아 정부지원이 필요하다고 인정하는 기업(벤처\\n기업육성에 관한 특조법) \\n이노비즈 : 기술혁신형 중소기업 인증 \\n④ 기금은 재보증업무 및 유동화회사 보증업무, 보증연계투자 \\n◼ 재보증 : 신용보증재단(\"원보증자\")과 계약 체결 \\n◼ 유동화회사 보증 : 유동화회사가 신기술사업자의 회사채(CB,BW 등 포함), 대출채권 등을 유동\\n화자산으로 하는 경우에 ‘유동화증권’을 발행’하거나, 금융기관이 ‘유동화증권’에 신용을 공여할 \\n때, 그 채무에 대하여 보증 할 수 있다 \\n◼ 보증연계투자 : 기술보증 관계가 성립한 혁신 선도형 신기술사업자의 유가증권(주식,CB,BW) \\n인수  \\n- 기술력이 우수하고 성장 가능성이 높은 기술․창업 중소기업에 보증과 연계하여 직접 투\\n자함으로써 중소기업의 자금조달 및 재무구조 개선을 지원하고, 기금은 투자수익을 통해 \\n신규 보증여력 및 투자재원 확보  \\n⑤ 컨설팅 \\n경영지도 및 기술지도 \\n \\n \\n• 기술보증제도를 정착·발전시킴으로써 \\n• 신기술사업에 대한 자금 공급 \\n• 중소-벤처기업 지원 \\n• 기술기업의 창업-중소벤처기업 생태계 만들어  \\n• 국민경제 발전에 기여 \\n \\n \\n                                           \\n1 기술력이 있고 미래 성장 가능성이 높은 차세대 핵심기업 및 신기술의 채택이나 기술혁신으로 경쟁력을 확보하여'),\n",
       " Document(metadata={'source': 'data/기술보증기금 주요업무.pdf', 'page': 0}, page_content='기술혁신을 선도.파급하는 기업 또는 성장할 가능성이 높은 기업을 의미 \\n→ 기금의 중점지원 대상기업으로 보증심사방법 등에서 우대(보증비율 90%까지)하여 보다 손쉽게 보증지원 받을 수 \\n있는 기업'),\n",
       " Document(metadata={'source': 'data/기술보증기금 주요업무.pdf', 'page': 1}, page_content='페이지 2 / 4 \\n \\nIII. 기보의 주요 업무- \\n1. 기술보증 \\n \\n담보 부족 기업이 보유하고 있는  \\n무형의 기술을 심사,  \\n기술보증기금이 ‘기술보증서’를 발급하여 \\n금융기관 자금을 지원받을 수 있는 제도 \\n주요상품 예) 정책자금지원, IP, 청년특례 \\n \\n2. 기술금융과 기술 평가 \\n  \\n기술금융이란   \\n✓ ‘창업, R&D, 사업화 등 기술혁신 과정에서 필요한 자금을 ‘기술평가’를 통하여 공급하는 \\n기업금융의 형태로서,  \\n✓ 지원방법 및 회수조건에 따라  \\n✓ 투•융자와 보증, 출연, 복합금융 등으로 구분되며, \\n✓ 기술보증기금(기보)의 기술평가보증이 대표적인 상품이다. \\n \\n(1) 기술혁신단계와 중소기업의 성장과정 \\n \\n 창업 > R&D 투자 > 기술사업화  \\n 성장  \\n→ 성숙> 휴면기술로 기술이전 또는 M&A \\n→ 기술이전 또는 M&A \\n위기-재도전 \\n \\n(2) 기보의 단계별 맞춤형 평가•자금지원 \\n \\n기술평가는 기술금융 공급자와 수요자간 정보 비대칭성과 불확실성 해소를 위해  \\n반드시 필요한 핵심적인 사업으로서  \\n기보는 국내 최고의 기술평가 인프라를 바탕으로 \\n창업(준비) 단계부터 위기/재도전 단계에 걸친 다양한 성장단계별 기술금융상품과 연결시키는  \\n기술금융 종합지원 기관 \\n \\n 창업준비단계 도약단계 성장•성숙단계 위기•재도전단계 \\n기술\\n금융 \\n예비창업자 \\n사전보증 \\n고부가서비스프로젝트 보증 이노비즈기업 협약보증 긴급경영안정보증 \\n청년창업 특례보증 예비스타벤처기업육성 특례보증 금융기관 특별출연협약보증 경영개선지원보증 \\n특허창업 특례보증 지적재산(IP)금융지원 지적재산(IP)금융지원 프로그램공동워크아웃 기업보증 \\nR&D 개발자금 R&D 사업화 자금 R&D 사업화 자금 재창업 재기지원보증 \\n 일자리창출기업 지원   \\n 수출중소기업 우대보증   \\n기술 새싹기업 성공창업 벤처기업확인평가 기술이전•M&A 중개 중소기업건강관리 프로그램'),\n",
       " Document(metadata={'source': 'data/기술보증기금 주요업무.pdf', 'page': 2}, page_content='페이지 3 / 4 \\n \\n평가 \\n컨설\\n팅 \\n강좌 \\n밴처창업 교실 \\n창업멘토링 \\n프로그램 \\n기술가치평가  (기술이전2•거래) \\n기술평가인증  (투•융자 참고용) \\nR&D 과제의 경제성•사업성 평가 \\n기술가치평가(기술이전•거래\\n) \\n기술평가인증(투•융자 \\n참고용) \\nR&D 과제의 경제성•사업성 \\n평가 \\n \\n (3) 기술평가 \\nㆍ 협의로는 기술을 금액으로 표현하는 것이고 광의로는 기술을 금액, 등급, 의견으로 표현 하는 것으로 정의 \\n \\n \\n \\n3. 인증사업 \\n벤처 창업지원/벤처-이노비즈 인증 \\n. \\n \\n이노\\n비즈\\n인증 \\nInnovation(혁신)+ Business(기업) 합성어 \\n기술 우위를 바탕으로 경쟁력을 확보한 기술혁신형 중소기업을 지칭 ➔ 일자리, 4차산업 동\\n력 \\n- 연구 개발을 통한 기술 경쟁력 및 내실을 기준으로 선정하기에 과거 실적보다는 미래 성장성을 중\\n요시 한다는 특징  \\n- 정부에서는 기술경쟁력과 미래성장가능성을 갖춘 이노비즈기업에 기술, 자금, 판로(마케\\n팅) 등을 연계지원 \\n→ 국제경쟁력 있는 우수기업의 성장을 정책적으로 지원 \\n \\n                                           \\n2 기술이전 : 기술의 양도, 기술지도, 공동연구, 합작투자 또는 인수,합병을 통해 기술보유자로부터 그 외의업체에 \\n이전되는 것.'),\n",
       " Document(metadata={'source': 'data/기술보증기금 주요업무.pdf', 'page': 3}, page_content='페이지 4 / 4 \\n \\n4. 유동화회사보증+보증연계투자 \\n✓ 유동화회사(SPC) 보증 : \\n◼ 기금은 SPC 가 신기술사업자의 회사채(CB, BW 포함)등을 유동화 자산으로 하는 경우, \\n채무 보증 \\n◼ 유동화 증권의 원리금이 기한 내 상환되지 않거나 신용공여에 대한 보증 시 기한 내 \\n채무를 불이행한 경우, 기금이 보증인으로서 보증채무 이행 \\n \\n✓ 보증연계투자 \\n◼ 기술보증 관계가 성립한 혁신 선도형 신기술사업자의 유가증권(주식,CB,BW) 인수 \\n◼ 기술력이 우수하고 성장 가능성이 높은 기술․창업 중소기업에 보증과 연계하여 직접 \\n투자함으로써 중소기업의 자금조달 및 재무구조 개선을 지원하고,  \\n◼ 기금은 투자수익을 통해 신규 보증여력 및 투자재원 확보 \\n \\n5. 컨설팅 \\n경영합리화,생산성 향상  \\n자금지원+경영역량↑ \\n➔ 생존률↑')]"
      ]
     },
     "execution_count": 17,
     "metadata": {},
     "output_type": "execute_result"
    }
   ],
   "source": [
    "my_chunks = [] # 청크를 보관할 리스트\n",
    "\n",
    "for loader in loaders:\n",
    "    # 2개의 PDF파일에서 추출된 document 객체들을 하나의 리스트에 합쳐줌\n",
    "    my_chunks.extend(loader.load_and_split(pdf_splitter))\n",
    "\n",
    "print(\"청크 개수 :\", len(my_chunks))\n",
    "my_chunks\n",
    "# 두 PDF파일의 총 PAGE수는 9였지만 chunk_size를 1000으로 청킹을 진행한 결과 총 13개의 청크가 생성됨"
   ]
  },
  {
   "cell_type": "markdown",
   "id": "1e5a46df-e2a2-4c2f-ba9a-1b8a7ce08cda",
   "metadata": {},
   "source": [
    "### 2) 임베딩 설정"
   ]
  },
  {
   "cell_type": "code",
   "execution_count": 32,
   "id": "2c9b3b97-167f-4e25-8fce-73d341b621dc",
   "metadata": {},
   "outputs": [
    {
     "name": "stdout",
     "output_type": "stream",
     "text": [
      "Collecting langchain-chroma\n",
      "  Downloading langchain_chroma-0.1.4-py3-none-any.whl.metadata (1.6 kB)\n",
      "Collecting chromadb!=0.5.4,!=0.5.5,<0.6.0,>=0.4.0 (from langchain-chroma)\n",
      "  Downloading chromadb-0.5.23-py3-none-any.whl.metadata (6.8 kB)\n",
      "Collecting fastapi<1,>=0.95.2 (from langchain-chroma)\n",
      "  Downloading fastapi-0.115.8-py3-none-any.whl.metadata (27 kB)\n",
      "Requirement already satisfied: langchain-core<0.3,>=0.1.40 in c:\\users\\envy\\anaconda3\\envs\\study\\lib\\site-packages (from langchain-chroma) (0.2.43)\n",
      "Requirement already satisfied: numpy<2,>=1 in c:\\users\\envy\\anaconda3\\envs\\study\\lib\\site-packages (from langchain-chroma) (1.24.4)\n",
      "Collecting build>=1.0.3 (from chromadb!=0.5.4,!=0.5.5,<0.6.0,>=0.4.0->langchain-chroma)\n",
      "  Downloading build-1.2.2.post1-py3-none-any.whl.metadata (6.5 kB)\n",
      "Requirement already satisfied: pydantic>=1.9 in c:\\users\\envy\\anaconda3\\envs\\study\\lib\\site-packages (from chromadb!=0.5.4,!=0.5.5,<0.6.0,>=0.4.0->langchain-chroma) (2.10.6)\n",
      "Collecting chroma-hnswlib==0.7.6 (from chromadb!=0.5.4,!=0.5.5,<0.6.0,>=0.4.0->langchain-chroma)\n",
      "  Downloading chroma_hnswlib-0.7.6-cp38-cp38-win_amd64.whl.metadata (262 bytes)\n",
      "Collecting uvicorn>=0.18.3 (from uvicorn[standard]>=0.18.3->chromadb!=0.5.4,!=0.5.5,<0.6.0,>=0.4.0->langchain-chroma)\n",
      "  Downloading uvicorn-0.33.0-py3-none-any.whl.metadata (6.6 kB)\n",
      "Collecting posthog>=2.4.0 (from chromadb!=0.5.4,!=0.5.5,<0.6.0,>=0.4.0->langchain-chroma)\n",
      "  Downloading posthog-3.11.0-py2.py3-none-any.whl.metadata (2.9 kB)\n",
      "Requirement already satisfied: typing_extensions>=4.5.0 in c:\\users\\envy\\anaconda3\\envs\\study\\lib\\site-packages (from chromadb!=0.5.4,!=0.5.5,<0.6.0,>=0.4.0->langchain-chroma) (4.12.2)\n",
      "Collecting onnxruntime>=1.14.1 (from chromadb!=0.5.4,!=0.5.5,<0.6.0,>=0.4.0->langchain-chroma)\n",
      "  Downloading onnxruntime-1.19.2-cp38-cp38-win_amd64.whl.metadata (4.7 kB)\n",
      "Collecting opentelemetry-api>=1.2.0 (from chromadb!=0.5.4,!=0.5.5,<0.6.0,>=0.4.0->langchain-chroma)\n",
      "  Downloading opentelemetry_api-1.30.0-py3-none-any.whl.metadata (1.6 kB)\n",
      "Collecting opentelemetry-exporter-otlp-proto-grpc>=1.2.0 (from chromadb!=0.5.4,!=0.5.5,<0.6.0,>=0.4.0->langchain-chroma)\n",
      "  Downloading opentelemetry_exporter_otlp_proto_grpc-1.30.0-py3-none-any.whl.metadata (2.4 kB)\n",
      "Collecting opentelemetry-instrumentation-fastapi>=0.41b0 (from chromadb!=0.5.4,!=0.5.5,<0.6.0,>=0.4.0->langchain-chroma)\n",
      "  Downloading opentelemetry_instrumentation_fastapi-0.51b0-py3-none-any.whl.metadata (2.2 kB)\n",
      "Collecting opentelemetry-sdk>=1.2.0 (from chromadb!=0.5.4,!=0.5.5,<0.6.0,>=0.4.0->langchain-chroma)\n",
      "  Downloading opentelemetry_sdk-1.30.0-py3-none-any.whl.metadata (1.6 kB)\n",
      "Collecting tokenizers<=0.20.3,>=0.13.2 (from chromadb!=0.5.4,!=0.5.5,<0.6.0,>=0.4.0->langchain-chroma)\n",
      "  Using cached tokenizers-0.20.3-cp38-none-win_amd64.whl.metadata (6.9 kB)\n",
      "Collecting pypika>=0.48.9 (from chromadb!=0.5.4,!=0.5.5,<0.6.0,>=0.4.0->langchain-chroma)\n",
      "  Downloading PyPika-0.48.9.tar.gz (67 kB)\n",
      "  Installing build dependencies: started\n",
      "  Installing build dependencies: finished with status 'done'\n",
      "  Getting requirements to build wheel: started\n",
      "  Getting requirements to build wheel: finished with status 'done'\n",
      "  Preparing metadata (pyproject.toml): started\n",
      "  Preparing metadata (pyproject.toml): finished with status 'done'\n",
      "Requirement already satisfied: tqdm>=4.65.0 in c:\\users\\envy\\anaconda3\\envs\\study\\lib\\site-packages (from chromadb!=0.5.4,!=0.5.5,<0.6.0,>=0.4.0->langchain-chroma) (4.67.1)\n",
      "Collecting overrides>=7.3.1 (from chromadb!=0.5.4,!=0.5.5,<0.6.0,>=0.4.0->langchain-chroma)\n",
      "  Downloading overrides-7.7.0-py3-none-any.whl.metadata (5.8 kB)\n",
      "Requirement already satisfied: importlib-resources in c:\\users\\envy\\anaconda3\\envs\\study\\lib\\site-packages (from chromadb!=0.5.4,!=0.5.5,<0.6.0,>=0.4.0->langchain-chroma) (6.4.5)\n",
      "Collecting graphlib_backport>=1.0.3 (from chromadb!=0.5.4,!=0.5.5,<0.6.0,>=0.4.0->langchain-chroma)\n",
      "  Downloading graphlib_backport-1.1.0-py3-none-any.whl.metadata (4.4 kB)\n",
      "Requirement already satisfied: grpcio>=1.58.0 in c:\\users\\envy\\anaconda3\\envs\\study\\lib\\site-packages (from chromadb!=0.5.4,!=0.5.5,<0.6.0,>=0.4.0->langchain-chroma) (1.70.0)\n",
      "Collecting bcrypt>=4.0.1 (from chromadb!=0.5.4,!=0.5.5,<0.6.0,>=0.4.0->langchain-chroma)\n",
      "  Downloading bcrypt-4.2.1-cp37-abi3-win_amd64.whl.metadata (10 kB)\n",
      "Collecting typer>=0.9.0 (from chromadb!=0.5.4,!=0.5.5,<0.6.0,>=0.4.0->langchain-chroma)\n",
      "  Using cached typer-0.15.1-py3-none-any.whl.metadata (15 kB)\n",
      "Collecting kubernetes>=28.1.0 (from chromadb!=0.5.4,!=0.5.5,<0.6.0,>=0.4.0->langchain-chroma)\n",
      "  Downloading kubernetes-32.0.0-py2.py3-none-any.whl.metadata (1.5 kB)\n",
      "Requirement already satisfied: tenacity>=8.2.3 in c:\\users\\envy\\anaconda3\\envs\\study\\lib\\site-packages (from chromadb!=0.5.4,!=0.5.5,<0.6.0,>=0.4.0->langchain-chroma) (8.5.0)\n",
      "Requirement already satisfied: PyYAML>=6.0.0 in c:\\users\\envy\\anaconda3\\envs\\study\\lib\\site-packages (from chromadb!=0.5.4,!=0.5.5,<0.6.0,>=0.4.0->langchain-chroma) (6.0.2)\n",
      "Collecting mmh3>=4.0.1 (from chromadb!=0.5.4,!=0.5.5,<0.6.0,>=0.4.0->langchain-chroma)\n",
      "  Downloading mmh3-5.0.1-cp38-cp38-win_amd64.whl.metadata (14 kB)\n",
      "Requirement already satisfied: orjson>=3.9.12 in c:\\users\\envy\\anaconda3\\envs\\study\\lib\\site-packages (from chromadb!=0.5.4,!=0.5.5,<0.6.0,>=0.4.0->langchain-chroma) (3.10.15)\n",
      "Requirement already satisfied: httpx>=0.27.0 in c:\\users\\envy\\anaconda3\\envs\\study\\lib\\site-packages (from chromadb!=0.5.4,!=0.5.5,<0.6.0,>=0.4.0->langchain-chroma) (0.28.1)\n",
      "Requirement already satisfied: rich>=10.11.0 in c:\\users\\envy\\anaconda3\\envs\\study\\lib\\site-packages (from chromadb!=0.5.4,!=0.5.5,<0.6.0,>=0.4.0->langchain-chroma) (13.9.4)\n",
      "Collecting starlette<0.46.0,>=0.40.0 (from fastapi<1,>=0.95.2->langchain-chroma)\n",
      "  Downloading starlette-0.44.0-py3-none-any.whl.metadata (6.3 kB)\n",
      "Requirement already satisfied: jsonpatch<2.0,>=1.33 in c:\\users\\envy\\anaconda3\\envs\\study\\lib\\site-packages (from langchain-core<0.3,>=0.1.40->langchain-chroma) (1.33)\n",
      "Requirement already satisfied: langsmith<0.2.0,>=0.1.112 in c:\\users\\envy\\anaconda3\\envs\\study\\lib\\site-packages (from langchain-core<0.3,>=0.1.40->langchain-chroma) (0.1.147)\n",
      "Requirement already satisfied: packaging<25,>=23.2 in c:\\users\\envy\\anaconda3\\envs\\study\\lib\\site-packages (from langchain-core<0.3,>=0.1.40->langchain-chroma) (24.2)\n",
      "Collecting pyproject_hooks (from build>=1.0.3->chromadb!=0.5.4,!=0.5.5,<0.6.0,>=0.4.0->langchain-chroma)\n",
      "  Downloading pyproject_hooks-1.2.0-py3-none-any.whl.metadata (1.3 kB)\n",
      "Requirement already satisfied: colorama in c:\\users\\envy\\anaconda3\\envs\\study\\lib\\site-packages (from build>=1.0.3->chromadb!=0.5.4,!=0.5.5,<0.6.0,>=0.4.0->langchain-chroma) (0.4.6)\n",
      "Requirement already satisfied: importlib-metadata>=4.6 in c:\\users\\envy\\anaconda3\\envs\\study\\lib\\site-packages (from build>=1.0.3->chromadb!=0.5.4,!=0.5.5,<0.6.0,>=0.4.0->langchain-chroma) (8.5.0)\n",
      "Collecting tomli>=1.1.0 (from build>=1.0.3->chromadb!=0.5.4,!=0.5.5,<0.6.0,>=0.4.0->langchain-chroma)\n",
      "  Using cached tomli-2.2.1-py3-none-any.whl.metadata (10 kB)\n",
      "Requirement already satisfied: anyio in c:\\users\\envy\\anaconda3\\envs\\study\\lib\\site-packages (from httpx>=0.27.0->chromadb!=0.5.4,!=0.5.5,<0.6.0,>=0.4.0->langchain-chroma) (4.5.2)\n",
      "Requirement already satisfied: certifi in c:\\users\\envy\\anaconda3\\envs\\study\\lib\\site-packages (from httpx>=0.27.0->chromadb!=0.5.4,!=0.5.5,<0.6.0,>=0.4.0->langchain-chroma) (2025.1.31)\n",
      "Requirement already satisfied: httpcore==1.* in c:\\users\\envy\\anaconda3\\envs\\study\\lib\\site-packages (from httpx>=0.27.0->chromadb!=0.5.4,!=0.5.5,<0.6.0,>=0.4.0->langchain-chroma) (1.0.7)\n",
      "Requirement already satisfied: idna in c:\\users\\envy\\anaconda3\\envs\\study\\lib\\site-packages (from httpx>=0.27.0->chromadb!=0.5.4,!=0.5.5,<0.6.0,>=0.4.0->langchain-chroma) (3.10)\n",
      "Requirement already satisfied: h11<0.15,>=0.13 in c:\\users\\envy\\anaconda3\\envs\\study\\lib\\site-packages (from httpcore==1.*->httpx>=0.27.0->chromadb!=0.5.4,!=0.5.5,<0.6.0,>=0.4.0->langchain-chroma) (0.14.0)\n",
      "Requirement already satisfied: jsonpointer>=1.9 in c:\\users\\envy\\anaconda3\\envs\\study\\lib\\site-packages (from jsonpatch<2.0,>=1.33->langchain-core<0.3,>=0.1.40->langchain-chroma) (3.0.0)\n",
      "Requirement already satisfied: six>=1.9.0 in c:\\users\\envy\\anaconda3\\envs\\study\\lib\\site-packages (from kubernetes>=28.1.0->chromadb!=0.5.4,!=0.5.5,<0.6.0,>=0.4.0->langchain-chroma) (1.17.0)\n",
      "Requirement already satisfied: python-dateutil>=2.5.3 in c:\\users\\envy\\anaconda3\\envs\\study\\lib\\site-packages (from kubernetes>=28.1.0->chromadb!=0.5.4,!=0.5.5,<0.6.0,>=0.4.0->langchain-chroma) (2.9.0.post0)\n",
      "Requirement already satisfied: google-auth>=1.0.1 in c:\\users\\envy\\anaconda3\\envs\\study\\lib\\site-packages (from kubernetes>=28.1.0->chromadb!=0.5.4,!=0.5.5,<0.6.0,>=0.4.0->langchain-chroma) (2.38.0)\n",
      "Requirement already satisfied: websocket-client!=0.40.0,!=0.41.*,!=0.42.*,>=0.32.0 in c:\\users\\envy\\anaconda3\\envs\\study\\lib\\site-packages (from kubernetes>=28.1.0->chromadb!=0.5.4,!=0.5.5,<0.6.0,>=0.4.0->langchain-chroma) (1.8.0)\n",
      "Requirement already satisfied: requests in c:\\users\\envy\\anaconda3\\envs\\study\\lib\\site-packages (from kubernetes>=28.1.0->chromadb!=0.5.4,!=0.5.5,<0.6.0,>=0.4.0->langchain-chroma) (2.32.3)\n",
      "Collecting requests-oauthlib (from kubernetes>=28.1.0->chromadb!=0.5.4,!=0.5.5,<0.6.0,>=0.4.0->langchain-chroma)\n",
      "  Downloading requests_oauthlib-2.0.0-py2.py3-none-any.whl.metadata (11 kB)\n",
      "Collecting oauthlib>=3.2.2 (from kubernetes>=28.1.0->chromadb!=0.5.4,!=0.5.5,<0.6.0,>=0.4.0->langchain-chroma)\n",
      "  Downloading oauthlib-3.2.2-py3-none-any.whl.metadata (7.5 kB)\n",
      "Requirement already satisfied: urllib3>=1.24.2 in c:\\users\\envy\\anaconda3\\envs\\study\\lib\\site-packages (from kubernetes>=28.1.0->chromadb!=0.5.4,!=0.5.5,<0.6.0,>=0.4.0->langchain-chroma) (2.2.3)\n",
      "Collecting durationpy>=0.7 (from kubernetes>=28.1.0->chromadb!=0.5.4,!=0.5.5,<0.6.0,>=0.4.0->langchain-chroma)\n",
      "  Downloading durationpy-0.9-py3-none-any.whl.metadata (338 bytes)\n",
      "Requirement already satisfied: requests-toolbelt<2.0.0,>=1.0.0 in c:\\users\\envy\\anaconda3\\envs\\study\\lib\\site-packages (from langsmith<0.2.0,>=0.1.112->langchain-core<0.3,>=0.1.40->langchain-chroma) (1.0.0)\n",
      "Collecting coloredlogs (from onnxruntime>=1.14.1->chromadb!=0.5.4,!=0.5.5,<0.6.0,>=0.4.0->langchain-chroma)\n",
      "  Downloading coloredlogs-15.0.1-py2.py3-none-any.whl.metadata (12 kB)\n",
      "Collecting flatbuffers (from onnxruntime>=1.14.1->chromadb!=0.5.4,!=0.5.5,<0.6.0,>=0.4.0->langchain-chroma)\n",
      "  Downloading flatbuffers-25.1.24-py2.py3-none-any.whl.metadata (875 bytes)\n",
      "Requirement already satisfied: protobuf in c:\\users\\envy\\anaconda3\\envs\\study\\lib\\site-packages (from onnxruntime>=1.14.1->chromadb!=0.5.4,!=0.5.5,<0.6.0,>=0.4.0->langchain-chroma) (4.25.6)\n",
      "Collecting sympy (from onnxruntime>=1.14.1->chromadb!=0.5.4,!=0.5.5,<0.6.0,>=0.4.0->langchain-chroma)\n",
      "  Downloading sympy-1.13.3-py3-none-any.whl.metadata (12 kB)\n",
      "Collecting deprecated>=1.2.6 (from opentelemetry-api>=1.2.0->chromadb!=0.5.4,!=0.5.5,<0.6.0,>=0.4.0->langchain-chroma)\n",
      "  Downloading Deprecated-1.2.18-py2.py3-none-any.whl.metadata (5.7 kB)\n",
      "Requirement already satisfied: googleapis-common-protos~=1.52 in c:\\users\\envy\\anaconda3\\envs\\study\\lib\\site-packages (from opentelemetry-exporter-otlp-proto-grpc>=1.2.0->chromadb!=0.5.4,!=0.5.5,<0.6.0,>=0.4.0->langchain-chroma) (1.66.0)\n",
      "Collecting opentelemetry-exporter-otlp-proto-common==1.30.0 (from opentelemetry-exporter-otlp-proto-grpc>=1.2.0->chromadb!=0.5.4,!=0.5.5,<0.6.0,>=0.4.0->langchain-chroma)\n",
      "  Downloading opentelemetry_exporter_otlp_proto_common-1.30.0-py3-none-any.whl.metadata (1.9 kB)\n",
      "Collecting opentelemetry-proto==1.30.0 (from opentelemetry-exporter-otlp-proto-grpc>=1.2.0->chromadb!=0.5.4,!=0.5.5,<0.6.0,>=0.4.0->langchain-chroma)\n",
      "  Downloading opentelemetry_proto-1.30.0-py3-none-any.whl.metadata (2.4 kB)\n",
      "Collecting protobuf (from onnxruntime>=1.14.1->chromadb!=0.5.4,!=0.5.5,<0.6.0,>=0.4.0->langchain-chroma)\n",
      "  Using cached protobuf-5.29.3-cp38-cp38-win_amd64.whl.metadata (592 bytes)\n",
      "Collecting opentelemetry-instrumentation-asgi==0.51b0 (from opentelemetry-instrumentation-fastapi>=0.41b0->chromadb!=0.5.4,!=0.5.5,<0.6.0,>=0.4.0->langchain-chroma)\n",
      "  Downloading opentelemetry_instrumentation_asgi-0.51b0-py3-none-any.whl.metadata (2.1 kB)\n",
      "Collecting opentelemetry-instrumentation==0.51b0 (from opentelemetry-instrumentation-fastapi>=0.41b0->chromadb!=0.5.4,!=0.5.5,<0.6.0,>=0.4.0->langchain-chroma)\n",
      "  Downloading opentelemetry_instrumentation-0.51b0-py3-none-any.whl.metadata (6.3 kB)\n",
      "Collecting opentelemetry-semantic-conventions==0.51b0 (from opentelemetry-instrumentation-fastapi>=0.41b0->chromadb!=0.5.4,!=0.5.5,<0.6.0,>=0.4.0->langchain-chroma)\n",
      "  Downloading opentelemetry_semantic_conventions-0.51b0-py3-none-any.whl.metadata (2.5 kB)\n",
      "Collecting opentelemetry-util-http==0.51b0 (from opentelemetry-instrumentation-fastapi>=0.41b0->chromadb!=0.5.4,!=0.5.5,<0.6.0,>=0.4.0->langchain-chroma)\n",
      "  Downloading opentelemetry_util_http-0.51b0-py3-none-any.whl.metadata (2.6 kB)\n",
      "Collecting wrapt<2.0.0,>=1.0.0 (from opentelemetry-instrumentation==0.51b0->opentelemetry-instrumentation-fastapi>=0.41b0->chromadb!=0.5.4,!=0.5.5,<0.6.0,>=0.4.0->langchain-chroma)\n",
      "  Downloading wrapt-1.17.2-cp38-cp38-win_amd64.whl.metadata (6.5 kB)\n",
      "Collecting asgiref~=3.0 (from opentelemetry-instrumentation-asgi==0.51b0->opentelemetry-instrumentation-fastapi>=0.41b0->chromadb!=0.5.4,!=0.5.5,<0.6.0,>=0.4.0->langchain-chroma)\n",
      "  Downloading asgiref-3.8.1-py3-none-any.whl.metadata (9.3 kB)\n",
      "Collecting monotonic>=1.5 (from posthog>=2.4.0->chromadb!=0.5.4,!=0.5.5,<0.6.0,>=0.4.0->langchain-chroma)\n",
      "  Downloading monotonic-1.6-py2.py3-none-any.whl.metadata (1.5 kB)\n",
      "Collecting backoff>=1.10.0 (from posthog>=2.4.0->chromadb!=0.5.4,!=0.5.5,<0.6.0,>=0.4.0->langchain-chroma)\n",
      "  Downloading backoff-2.2.1-py3-none-any.whl.metadata (14 kB)\n",
      "Requirement already satisfied: annotated-types>=0.6.0 in c:\\users\\envy\\anaconda3\\envs\\study\\lib\\site-packages (from pydantic>=1.9->chromadb!=0.5.4,!=0.5.5,<0.6.0,>=0.4.0->langchain-chroma) (0.7.0)\n",
      "Requirement already satisfied: pydantic-core==2.27.2 in c:\\users\\envy\\anaconda3\\envs\\study\\lib\\site-packages (from pydantic>=1.9->chromadb!=0.5.4,!=0.5.5,<0.6.0,>=0.4.0->langchain-chroma) (2.27.2)\n",
      "Requirement already satisfied: markdown-it-py>=2.2.0 in c:\\users\\envy\\anaconda3\\envs\\study\\lib\\site-packages (from rich>=10.11.0->chromadb!=0.5.4,!=0.5.5,<0.6.0,>=0.4.0->langchain-chroma) (3.0.0)\n",
      "Requirement already satisfied: pygments<3.0.0,>=2.13.0 in c:\\users\\envy\\anaconda3\\envs\\study\\lib\\site-packages (from rich>=10.11.0->chromadb!=0.5.4,!=0.5.5,<0.6.0,>=0.4.0->langchain-chroma) (2.19.1)\n",
      "Collecting huggingface-hub<1.0,>=0.16.4 (from tokenizers<=0.20.3,>=0.13.2->chromadb!=0.5.4,!=0.5.5,<0.6.0,>=0.4.0->langchain-chroma)\n",
      "  Downloading huggingface_hub-0.28.1-py3-none-any.whl.metadata (13 kB)\n",
      "Requirement already satisfied: click>=8.0.0 in c:\\users\\envy\\anaconda3\\envs\\study\\lib\\site-packages (from typer>=0.9.0->chromadb!=0.5.4,!=0.5.5,<0.6.0,>=0.4.0->langchain-chroma) (8.1.8)\n",
      "Collecting shellingham>=1.3.0 (from typer>=0.9.0->chromadb!=0.5.4,!=0.5.5,<0.6.0,>=0.4.0->langchain-chroma)\n",
      "  Using cached shellingham-1.5.4-py2.py3-none-any.whl.metadata (3.5 kB)\n",
      "Collecting httptools>=0.6.3 (from uvicorn[standard]>=0.18.3->chromadb!=0.5.4,!=0.5.5,<0.6.0,>=0.4.0->langchain-chroma)\n",
      "  Downloading httptools-0.6.4-cp38-cp38-win_amd64.whl.metadata (3.7 kB)\n",
      "Collecting python-dotenv>=0.13 (from uvicorn[standard]>=0.18.3->chromadb!=0.5.4,!=0.5.5,<0.6.0,>=0.4.0->langchain-chroma)\n",
      "  Using cached python_dotenv-1.0.1-py3-none-any.whl.metadata (23 kB)\n",
      "Collecting watchfiles>=0.13 (from uvicorn[standard]>=0.18.3->chromadb!=0.5.4,!=0.5.5,<0.6.0,>=0.4.0->langchain-chroma)\n",
      "  Downloading watchfiles-0.24.0-cp38-none-win_amd64.whl.metadata (5.0 kB)\n",
      "Collecting websockets>=10.4 (from uvicorn[standard]>=0.18.3->chromadb!=0.5.4,!=0.5.5,<0.6.0,>=0.4.0->langchain-chroma)\n",
      "  Downloading websockets-13.1-cp38-cp38-win_amd64.whl.metadata (7.0 kB)\n",
      "Requirement already satisfied: zipp>=3.1.0 in c:\\users\\envy\\anaconda3\\envs\\study\\lib\\site-packages (from importlib-resources->chromadb!=0.5.4,!=0.5.5,<0.6.0,>=0.4.0->langchain-chroma) (3.20.2)\n",
      "Requirement already satisfied: sniffio>=1.1 in c:\\users\\envy\\anaconda3\\envs\\study\\lib\\site-packages (from anyio->httpx>=0.27.0->chromadb!=0.5.4,!=0.5.5,<0.6.0,>=0.4.0->langchain-chroma) (1.3.1)\n",
      "Requirement already satisfied: exceptiongroup>=1.0.2 in c:\\users\\envy\\anaconda3\\envs\\study\\lib\\site-packages (from anyio->httpx>=0.27.0->chromadb!=0.5.4,!=0.5.5,<0.6.0,>=0.4.0->langchain-chroma) (1.2.2)\n",
      "Requirement already satisfied: cachetools<6.0,>=2.0.0 in c:\\users\\envy\\anaconda3\\envs\\study\\lib\\site-packages (from google-auth>=1.0.1->kubernetes>=28.1.0->chromadb!=0.5.4,!=0.5.5,<0.6.0,>=0.4.0->langchain-chroma) (5.5.1)\n",
      "Requirement already satisfied: pyasn1-modules>=0.2.1 in c:\\users\\envy\\anaconda3\\envs\\study\\lib\\site-packages (from google-auth>=1.0.1->kubernetes>=28.1.0->chromadb!=0.5.4,!=0.5.5,<0.6.0,>=0.4.0->langchain-chroma) (0.4.1)\n",
      "Requirement already satisfied: rsa<5,>=3.1.4 in c:\\users\\envy\\anaconda3\\envs\\study\\lib\\site-packages (from google-auth>=1.0.1->kubernetes>=28.1.0->chromadb!=0.5.4,!=0.5.5,<0.6.0,>=0.4.0->langchain-chroma) (4.9)\n",
      "Collecting filelock (from huggingface-hub<1.0,>=0.16.4->tokenizers<=0.20.3,>=0.13.2->chromadb!=0.5.4,!=0.5.5,<0.6.0,>=0.4.0->langchain-chroma)\n",
      "  Using cached filelock-3.16.1-py3-none-any.whl.metadata (2.9 kB)\n",
      "Collecting fsspec>=2023.5.0 (from huggingface-hub<1.0,>=0.16.4->tokenizers<=0.20.3,>=0.13.2->chromadb!=0.5.4,!=0.5.5,<0.6.0,>=0.4.0->langchain-chroma)\n",
      "  Downloading fsspec-2025.2.0-py3-none-any.whl.metadata (11 kB)\n",
      "Requirement already satisfied: mdurl~=0.1 in c:\\users\\envy\\anaconda3\\envs\\study\\lib\\site-packages (from markdown-it-py>=2.2.0->rich>=10.11.0->chromadb!=0.5.4,!=0.5.5,<0.6.0,>=0.4.0->langchain-chroma) (0.1.2)\n",
      "Requirement already satisfied: charset-normalizer<4,>=2 in c:\\users\\envy\\anaconda3\\envs\\study\\lib\\site-packages (from requests->kubernetes>=28.1.0->chromadb!=0.5.4,!=0.5.5,<0.6.0,>=0.4.0->langchain-chroma) (3.4.1)\n",
      "Collecting humanfriendly>=9.1 (from coloredlogs->onnxruntime>=1.14.1->chromadb!=0.5.4,!=0.5.5,<0.6.0,>=0.4.0->langchain-chroma)\n",
      "  Downloading humanfriendly-10.0-py2.py3-none-any.whl.metadata (9.2 kB)\n",
      "Collecting mpmath<1.4,>=1.1.0 (from sympy->onnxruntime>=1.14.1->chromadb!=0.5.4,!=0.5.5,<0.6.0,>=0.4.0->langchain-chroma)\n",
      "  Using cached mpmath-1.3.0-py3-none-any.whl.metadata (8.6 kB)\n",
      "Collecting pyreadline3 (from humanfriendly>=9.1->coloredlogs->onnxruntime>=1.14.1->chromadb!=0.5.4,!=0.5.5,<0.6.0,>=0.4.0->langchain-chroma)\n",
      "  Downloading pyreadline3-3.5.4-py3-none-any.whl.metadata (4.7 kB)\n",
      "Requirement already satisfied: pyasn1<0.7.0,>=0.4.6 in c:\\users\\envy\\anaconda3\\envs\\study\\lib\\site-packages (from pyasn1-modules>=0.2.1->google-auth>=1.0.1->kubernetes>=28.1.0->chromadb!=0.5.4,!=0.5.5,<0.6.0,>=0.4.0->langchain-chroma) (0.6.1)\n",
      "Downloading langchain_chroma-0.1.4-py3-none-any.whl (10 kB)\n",
      "Downloading chromadb-0.5.23-py3-none-any.whl (628 kB)\n",
      "   ---------------------------------------- 0.0/628.3 kB ? eta -:--:--\n",
      "   --------------------------------------- 628.3/628.3 kB 22.9 MB/s eta 0:00:00\n",
      "Downloading chroma_hnswlib-0.7.6-cp38-cp38-win_amd64.whl (150 kB)\n",
      "Downloading fastapi-0.115.8-py3-none-any.whl (94 kB)\n",
      "Downloading bcrypt-4.2.1-cp37-abi3-win_amd64.whl (152 kB)\n",
      "Downloading build-1.2.2.post1-py3-none-any.whl (22 kB)\n",
      "Downloading graphlib_backport-1.1.0-py3-none-any.whl (7.1 kB)\n",
      "Downloading kubernetes-32.0.0-py2.py3-none-any.whl (2.0 MB)\n",
      "   ---------------------------------------- 0.0/2.0 MB ? eta -:--:--\n",
      "   ---------------------------------------- 2.0/2.0 MB 27.8 MB/s eta 0:00:00\n",
      "Downloading mmh3-5.0.1-cp38-cp38-win_amd64.whl (39 kB)\n",
      "Downloading onnxruntime-1.19.2-cp38-cp38-win_amd64.whl (11.1 MB)\n",
      "   ---------------------------------------- 0.0/11.1 MB ? eta -:--:--\n",
      "   ---------------------------------------- 11.1/11.1 MB 57.9 MB/s eta 0:00:00\n",
      "Downloading opentelemetry_api-1.30.0-py3-none-any.whl (64 kB)\n",
      "Downloading opentelemetry_exporter_otlp_proto_grpc-1.30.0-py3-none-any.whl (18 kB)\n",
      "Downloading opentelemetry_exporter_otlp_proto_common-1.30.0-py3-none-any.whl (18 kB)\n",
      "Downloading opentelemetry_proto-1.30.0-py3-none-any.whl (55 kB)\n",
      "Downloading opentelemetry_instrumentation_fastapi-0.51b0-py3-none-any.whl (12 kB)\n",
      "Downloading opentelemetry_instrumentation-0.51b0-py3-none-any.whl (30 kB)\n",
      "Downloading opentelemetry_instrumentation_asgi-0.51b0-py3-none-any.whl (16 kB)\n",
      "Downloading opentelemetry_semantic_conventions-0.51b0-py3-none-any.whl (177 kB)\n",
      "Downloading opentelemetry_util_http-0.51b0-py3-none-any.whl (7.3 kB)\n",
      "Downloading opentelemetry_sdk-1.30.0-py3-none-any.whl (118 kB)\n",
      "Downloading overrides-7.7.0-py3-none-any.whl (17 kB)\n",
      "Downloading posthog-3.11.0-py2.py3-none-any.whl (72 kB)\n",
      "Downloading starlette-0.44.0-py3-none-any.whl (73 kB)\n",
      "Using cached tokenizers-0.20.3-cp38-none-win_amd64.whl (2.4 MB)\n",
      "Using cached typer-0.15.1-py3-none-any.whl (44 kB)\n",
      "Downloading uvicorn-0.33.0-py3-none-any.whl (62 kB)\n",
      "Downloading backoff-2.2.1-py3-none-any.whl (15 kB)\n",
      "Downloading Deprecated-1.2.18-py2.py3-none-any.whl (10.0 kB)\n",
      "Downloading durationpy-0.9-py3-none-any.whl (3.5 kB)\n",
      "Downloading httptools-0.6.4-cp38-cp38-win_amd64.whl (89 kB)\n",
      "Downloading huggingface_hub-0.28.1-py3-none-any.whl (464 kB)\n",
      "Downloading monotonic-1.6-py2.py3-none-any.whl (8.2 kB)\n",
      "Downloading oauthlib-3.2.2-py3-none-any.whl (151 kB)\n",
      "Using cached protobuf-5.29.3-cp38-cp38-win_amd64.whl (434 kB)\n",
      "Using cached python_dotenv-1.0.1-py3-none-any.whl (19 kB)\n",
      "Using cached shellingham-1.5.4-py2.py3-none-any.whl (9.8 kB)\n",
      "Using cached tomli-2.2.1-py3-none-any.whl (14 kB)\n",
      "Downloading watchfiles-0.24.0-cp38-none-win_amd64.whl (277 kB)\n",
      "Downloading websockets-13.1-cp38-cp38-win_amd64.whl (159 kB)\n",
      "Downloading coloredlogs-15.0.1-py2.py3-none-any.whl (46 kB)\n",
      "Downloading flatbuffers-25.1.24-py2.py3-none-any.whl (30 kB)\n",
      "Downloading pyproject_hooks-1.2.0-py3-none-any.whl (10 kB)\n",
      "Downloading requests_oauthlib-2.0.0-py2.py3-none-any.whl (24 kB)\n",
      "Downloading sympy-1.13.3-py3-none-any.whl (6.2 MB)\n",
      "   ---------------------------------------- 0.0/6.2 MB ? eta -:--:--\n",
      "   ---------------------------------------- 6.2/6.2 MB 53.9 MB/s eta 0:00:00\n",
      "Downloading asgiref-3.8.1-py3-none-any.whl (23 kB)\n",
      "Downloading fsspec-2025.2.0-py3-none-any.whl (184 kB)\n",
      "Downloading humanfriendly-10.0-py2.py3-none-any.whl (86 kB)\n",
      "Using cached mpmath-1.3.0-py3-none-any.whl (536 kB)\n",
      "Downloading wrapt-1.17.2-cp38-cp38-win_amd64.whl (38 kB)\n",
      "Using cached filelock-3.16.1-py3-none-any.whl (16 kB)\n",
      "Downloading pyreadline3-3.5.4-py3-none-any.whl (83 kB)\n",
      "Building wheels for collected packages: pypika\n",
      "  Building wheel for pypika (pyproject.toml): started\n",
      "  Building wheel for pypika (pyproject.toml): finished with status 'done'\n",
      "  Created wheel for pypika: filename=PyPika-0.48.9-py2.py3-none-any.whl size=53835 sha256=73ea81ed627ced04602016151f1cf44c00d0015e04769c9d6b1449a6b19bf8b6\n",
      "  Stored in directory: c:\\users\\envy\\appdata\\local\\pip\\cache\\wheels\\54\\4a\\f8\\2803c6041841502d0d21fb2a62d401d14716dfeb2261a3a70b\n",
      "Successfully built pypika\n",
      "Installing collected packages: pypika, mpmath, monotonic, flatbuffers, durationpy, wrapt, websockets, tomli, sympy, shellingham, python-dotenv, pyreadline3, pyproject_hooks, protobuf, overrides, opentelemetry-util-http, oauthlib, mmh3, httptools, graphlib_backport, fsspec, filelock, chroma-hnswlib, bcrypt, backoff, asgiref, watchfiles, uvicorn, starlette, requests-oauthlib, posthog, opentelemetry-proto, humanfriendly, huggingface-hub, deprecated, build, typer, tokenizers, opentelemetry-exporter-otlp-proto-common, opentelemetry-api, kubernetes, fastapi, coloredlogs, opentelemetry-semantic-conventions, onnxruntime, opentelemetry-sdk, opentelemetry-instrumentation, opentelemetry-instrumentation-asgi, opentelemetry-exporter-otlp-proto-grpc, opentelemetry-instrumentation-fastapi, chromadb, langchain-chroma\n",
      "  Attempting uninstall: protobuf\n",
      "    Found existing installation: protobuf 4.25.6\n",
      "    Uninstalling protobuf-4.25.6:\n",
      "      Successfully uninstalled protobuf-4.25.6\n",
      "Successfully installed asgiref-3.8.1 backoff-2.2.1 bcrypt-4.2.1 build-1.2.2.post1 chroma-hnswlib-0.7.6 chromadb-0.5.23 coloredlogs-15.0.1 deprecated-1.2.18 durationpy-0.9 fastapi-0.115.8 filelock-3.16.1 flatbuffers-25.1.24 fsspec-2025.2.0 graphlib_backport-1.1.0 httptools-0.6.4 huggingface-hub-0.28.1 humanfriendly-10.0 kubernetes-32.0.0 langchain-chroma-0.1.4 mmh3-5.0.1 monotonic-1.6 mpmath-1.3.0 oauthlib-3.2.2 onnxruntime-1.19.2 opentelemetry-api-1.30.0 opentelemetry-exporter-otlp-proto-common-1.30.0 opentelemetry-exporter-otlp-proto-grpc-1.30.0 opentelemetry-instrumentation-0.51b0 opentelemetry-instrumentation-asgi-0.51b0 opentelemetry-instrumentation-fastapi-0.51b0 opentelemetry-proto-1.30.0 opentelemetry-sdk-1.30.0 opentelemetry-semantic-conventions-0.51b0 opentelemetry-util-http-0.51b0 overrides-7.7.0 posthog-3.11.0 protobuf-5.29.3 pypika-0.48.9 pyproject_hooks-1.2.0 pyreadline3-3.5.4 python-dotenv-1.0.1 requests-oauthlib-2.0.0 shellingham-1.5.4 starlette-0.44.0 sympy-1.13.3 tokenizers-0.20.3 tomli-2.2.1 typer-0.15.1 uvicorn-0.33.0 watchfiles-0.24.0 websockets-13.1 wrapt-1.17.2\n"
     ]
    },
    {
     "name": "stderr",
     "output_type": "stream",
     "text": [
      "ERROR: pip's dependency resolver does not currently take into account all the packages that are installed. This behaviour is the source of the following dependency conflicts.\n",
      "google-ai-generativelanguage 0.1.0 requires protobuf!=3.20.0,!=3.20.1,!=4.21.0,!=4.21.1,!=4.21.2,!=4.21.3,!=4.21.4,!=4.21.5,<5.0.0dev,>=3.19.5, but you have protobuf 5.29.3 which is incompatible.\n"
     ]
    }
   ],
   "source": [
    "!pip install langchain-chroma"
   ]
  },
  {
   "cell_type": "code",
   "execution_count": 21,
   "id": "beeb629b-d618-4dbc-b41e-b91d734563aa",
   "metadata": {},
   "outputs": [],
   "source": [
    "from langchain_chroma import Chroma # langchain에서 지원하는 chroma\n",
    "from langchain_openai import OpenAIEmbeddings # Lanhchain과 연동된 openai에서 지원하는 pre-trained Embedding모델"
   ]
  },
  {
   "cell_type": "code",
   "execution_count": 23,
   "id": "a75aac49-88f3-48aa-a229-9ab517a1284c",
   "metadata": {},
   "outputs": [],
   "source": [
    "my_embedding = OpenAIEmbeddings(model=\"text-embedding-3-small\",\n",
    "                                api_key=MY_API_KEY\n",
    "                               )"
   ]
  },
  {
   "cell_type": "code",
   "execution_count": 25,
   "id": "82408212-0d80-4420-8c63-0c16322ea7d5",
   "metadata": {},
   "outputs": [
    {
     "name": "stdout",
     "output_type": "stream",
     "text": [
      "문장 1 : 1536\n",
      "문장 2 : 1536\n",
      "차원 수 : (2, 1536)\n",
      "임베딩 값 : [0.00466674892231822, 0.00473009841516614, -0.07189749926328659, 0.018548743799328804, 0.017991267144680023, -0.032891079783439636, 0.03344855457544327, -0.022957870736718178, -0.07541128993034363, -0.03645554557442665]\n"
     ]
    }
   ],
   "source": [
    "# 임베딩 예시\n",
    "my_list = [\"오늘 눈이 너무 많이 와서 빨리 집에 가면 안 될 것 같아요.\",\"늦게까지 남아서 공부합시다^^\"]\n",
    "\n",
    "# embed_documents : 임베딩 진행(문자열이 들어있는 리스트로 입력, 임베딩 차원은 디폴트 1536차원)\n",
    "# 1536가지의 다른 의미로 만들었다\n",
    "temp_embedding = my_embedding.embed_documents(my_list)\n",
    "\n",
    "print(f\"문장 1 : {len(temp_embedding[0])}\")\n",
    "print(f\"문장 2 : {len(temp_embedding[1])}\")\n",
    "print(f\"차원 수 : {np.array(temp_embedding).shape}\")\n",
    "print(f\"임베딩 값 : {temp_embedding[0][:10]}\")"
   ]
  },
  {
   "cell_type": "markdown",
   "id": "ab4dbcbf-d5ff-4202-a1c7-8d495d4cb3e6",
   "metadata": {},
   "source": [
    "### 3) Chroma DB 생성"
   ]
  },
  {
   "cell_type": "code",
   "execution_count": 27,
   "id": "75c6809d-e61b-4f3c-a6cd-8e2936f73d66",
   "metadata": {},
   "outputs": [],
   "source": [
    "# DB생성 경로 설정\n",
    "my_directory = 'VectorStores/'\n",
    "\n",
    "# from_documents : 청킹된 문서(document객체)의 정보 및 임베딩, 경로정보로 Chroma DB 생성\n",
    "vectordb = Chroma.from_documents(documents = my_chunks,\n",
    "                                 embedding = my_embedding,\n",
    "                                 persist_directory = my_directory\n",
    "                                )"
   ]
  },
  {
   "cell_type": "markdown",
   "id": "6cc4bd17-0d62-46d0-9b9e-3cb8899e899b",
   "metadata": {},
   "source": [
    "### <span style = color:red;>한 번 생성된 DB를 불러와서 사용하기(프로그램 종료 후 다시 켰을 때)</span>\n",
    "- 프로그램 종료 후 다시 켰을때 코드를 재실행하게 되면 중첩되어져서 DB에 저장될 것이기 때문에\n",
    "- 한 번DB를 생성했다면 생성하는 코드를 다시 실행시키지 말고 생성된 DB를 불러와서 사용할 것"
   ]
  },
  {
   "cell_type": "code",
   "execution_count": 134,
   "id": "ac7ba769-288b-422d-beff-f8c757e5234f",
   "metadata": {},
   "outputs": [],
   "source": [
    "my_embedding = OpenAIEmbeddings(model='text-embedding-3-small',\n",
    "                                openai_api_key=MY_API_KEY)\n",
    "my_directory = 'VectorStores/'\n",
    "\n",
    "# 기존 생성된 db를 불러올 때는 embedding_function에 임베딩 객체 넣기\n",
    "vectordb = Chroma(persist_directory = my_directory,\n",
    "                  embedding_function=my_embedding\n",
    "                 )"
   ]
  },
  {
   "cell_type": "markdown",
   "id": "63aabf70-9c8c-4495-8aa8-10acb484950d",
   "metadata": {},
   "source": [
    "#### Chroma 클래스로 자주 사용하는 메소드\n",
    "- _collection.count : 수집된 벡터의 개수 확인\n",
    "- _collection.get : 수집된 벡터의 정보 확인\n",
    "- delete : 특정 id를 가진 벡터 삭제\n",
    "- add_documents : 여러 문서를 벡터 저장소에 추가\n",
    "- add_texts : 여러 텍스트를 벡터 저장소에 추가\n",
    "- add_images : 여러 이미지를 벡터 저장소에 추가\n",
    "- similarity_search : 유사도 계산을 통해 입력 질의에 대해 가장 유사한 문서 검색"
   ]
  },
  {
   "cell_type": "markdown",
   "id": "4ea06071-0106-4722-a245-8089524769da",
   "metadata": {},
   "source": [
    "(1) DB 정보 확인"
   ]
  },
  {
   "cell_type": "code",
   "execution_count": 30,
   "id": "ad39f56f-9734-4007-a955-f399a9903144",
   "metadata": {},
   "outputs": [
    {
     "data": {
      "text/plain": [
       "13"
      ]
     },
     "execution_count": 30,
     "metadata": {},
     "output_type": "execute_result"
    }
   ],
   "source": [
    "# 수집된 청크 개수 확인 (여러번 벡터DB 생성시 값이 걔속 누적되어 저장됨)\n",
    "vectordb._collection.count()"
   ]
  },
  {
   "cell_type": "code",
   "execution_count": 32,
   "id": "2bb7d6cd-d15d-4e63-b808-fe791eebc6d3",
   "metadata": {},
   "outputs": [
    {
     "data": {
      "text/plain": [
       "{'ids': ['e092e2dd-dc57-4457-82be-7f0dfba495d5',\n",
       "  '330f5b20-9615-4cd1-9e9e-91288a2d82bb',\n",
       "  '92fc4302-a559-4b6d-8781-90f6244fbda5',\n",
       "  '241dcd2d-59d7-410f-9964-25dd6e650c91',\n",
       "  'c56303f1-d6f5-4519-8f83-4f8b3a6669fd',\n",
       "  '8a0a6fbc-2f85-4cf1-9c7c-c7c7f0a6e41c',\n",
       "  'a4306ea0-7c54-4ea6-9179-7d01c5f0fa50',\n",
       "  '0761f438-594c-47c5-b12f-024ae737ae26',\n",
       "  '80d7263f-0eba-4243-9efa-06fbe2abc0c2',\n",
       "  '2f069604-27dc-4c49-a42b-501cb7f0fbeb',\n",
       "  'e9004e59-12b5-4a56-82b3-3b258313c530',\n",
       "  'f61f5214-c279-4864-a814-31c35c3021c8',\n",
       "  '5186305c-2854-459d-b793-97d6a63544c2'],\n",
       " 'embeddings': None,\n",
       " 'documents': ['페이지 1 / 5 \\n \\n기술보증기금과 한국경제 \\n \\nI. 기술보증기금 개요  \\n1. 설립근거 : 기술보증기금법 \\n \\n- 설립목적(존재이유) \\n✓ 기술보증기금을 설립하여 기술보증제도를 정착·발전시킴으로써 신 기술사업에 대한 자금의 \\n공급을 원활하게 하고 나아가 국민 경제의 발전에 이바지함을 목적으로 함(기술보증기금법1\\n조) \\n✓ 설립 : 담보능력이 미약한 기업의 채무를 보증하게 하여 기업에 대한 자금 융통을 원활하게 하기 \\n위하여 기술보증기금을 설립(법 12조) \\n✓ 기금의 재원 : 정부 출연금의 예산은 중소벤처기업부 소관으로 함 \\n \\n☞ 기술보증기금은  \\n✓ 기술력은 우수하지만 담보 부족한 중소기업의 \\n✓ 기술성과 사업성 평가를 통해 기술보증을 지원하며, \\n✓ 기술평가, 벤처이노비즈기업  인증, 중소기업 창업지원 등의 업무 수행 \\n \\n2. 주요개념1 \\n \\n업  무 내  용 \\n기술보증 신기술사업자가 부담하는 금전 채무 보증.( 신용부족-담보부족 해결) \\n \\n금융회사 등으로부터 자금 대출을 받음으로써 금융회사 등에 대하여 부담하는 금전 채무를 \\n기술보증기금이 기술보증서로 보증 \\n 신기술사업자 - 기술을 개발하거나 이를 응용하여 사업화하는 중소기업(「중소기업기본법」에 \\n따른 중소기업) 및 대통령령으로 정하는 기업 \\n- \"기업\"이란 사업을 하는 개인 및 법인 \\n신용보증 상시 사용하는 종업원이 1천명 이하이고 총자산액이 1천억원 이하인 기업이 부담하는 금전\\n채무 보증. \\n기술평가 해당 기술과 관련된 기술성·시장성·사업타당성 등을 종합적으로 평가하여 \\n금액·등급·의견 또는 점수 등으로 표시하는 것을 말한다 \\n* 기금은 기술평가의 객관성 및 공정성 등을 확보하기 위하여 기술평가의 \\n기준·절차·방법·종류 등에 관한 사항을 미리 정하여야 한다 \\n기술금융*** \\n  기업 재무제표 위주로 대출하는 관행에서 벗어나, 기업이 보유한 기술성과 사업성 \\n위주로 2필요한 자금을 지원하는 금융활동',\n",
       "  '1 기본개념을 활용하여 논지 전개 가능 함. 인강을 통하여 반복적으로 금융, 기보 업무와 연관성이 있는 개념이 설명됨 \\n2 ①기술금융은 기술개발과 혁신 등 (정책적으로는 창업, 벤처, 중소기업)기업의 기술혁신의 각각의 과정에 필요한 자금을 \\n공급하는 금융활동 \\n②기술금융의 형태는 직접금융과 간접금융으로 나타나며, 우리나라는 주로 간접금융에 의존',\n",
       "  '페이지 2 / 5 \\n \\n (기술과 금융이 결합된 기업금융의 한 형태) \\n \\n① 저성장, 양극화, 4차산업 혁명 시대 대비하여 한국경제의 활성화를 위해  ②중소 중견\\n기업 대출에 있어 금융회사(은행)이 기업이 보유한 기술의 가치를 평가하고 ③이를 바탕으\\n로 자금을 융통하는 것이 강조되고 있다. \\n한국 경제의 신성장 동력인 중소(벤처)기업의 경우 기술 금융지원이 매우 중요하지만, 금\\n융회사로부터 금융지원을 받기 위해서는 부동산 또는 동산 담보가 요구되는 것이 현실이다.  \\n  \\n기술금융 확대로 인한 영향(효과)은  \\n(1) 벤처, 중소 기술기업의 금융 접근성 제고 (2) 담보력 부족 벤처 중소 중견기업에 자금 \\n융통 (3)  4 차산업 활성화(기술혁신형 기업 지원) 를 통한 한국경제 신성장 동력 확보 (4) \\n금융 회사의 리스크 증가 우려가 있다 \\nIP 금융** 기업이 보유한 지식재산(IP)을 평가하여 이를 담보로 지원하는 금융활동을 말한다. 특허를 \\n담보로 이뤄지는 대출 등이 대표적 \\n보증연계투자\" -보증연계투자: 기술보증기금이 신기술사업자의 유가증권을 법 제28조의4제1항에 따라 인수\\n하는 것을 말한다.  \\n** 제28조의4제1항 : 기금은 기술보증 관계가 성립한 신기술사업자의 다음의 유가증권을 인\\n수할 수 있다.  \\n1. 주식 2. 전환사채 3. 신주인수권부사채 \\n-중소벤처기업부장관은 기금의 효율적 운영과 적정한 위험분산을 위하여 필요한 때 따로 지\\n침을 정하여 통보할 수 있다 \\n유동화회사 \\n보증(28 조 3) \\n- 유동화회사 보증: 기금은 유동화 회사가 신기술사업자의 회사채(전환사채, 신주인수권부사\\n채 포함), 대출채권을 유동화자산으로 하는 경우로서 다음에 해당하는 경우에 부담하는 채무\\n에 대하여 보증을 할 수 있다. \\n1. 유동화증권의 발행 (P-CBO) \\n2. 유동화회사에 대한 금융회사 등의 신용공여(信用供與) \\n보증 등의 \\n한도(Risk) \\n① 기금의 보증채무부담 및 재보증 총액의 한도는 기금의 기본재산과 이월이익금의 합계액',\n",
       "  '① 기금의 보증채무부담 및 재보증 총액의 한도는 기금의 기본재산과 이월이익금의 합계액\\n의 20배를 초과하지 아니하는 범위에서  \\n보증료 기금은 보증을 받은 기업으로부터 보증금액에 대하여 대통령령으로 정하는 바에 따라 \\n신용도 등을 고려하여 보증료를 받는다.  \\n \\nII. 한국경제와 기술보증기금 \\n⚫ 한국경제의 이해 \\n \\n \\n \\n \\n \\n \\n1. 존재이유 \\n                                           \\n③기술금융이 정책금융으로 지원되는 이유는 기술금융시장의 시장실패에 기인. 시장실패로 나타나는 역선택의 문제와 대\\n리인문제(모럴 헤저드)가 발생할 수 있음.',\n",
       "  \"페이지 3 / 5 \\n \\n신기술사업에 대한 자금의 공급을 원활하게 하고 나아가 국민경제의 발전에 이바지함 \\n✓ 담보능력이 미약한 기업의 채무를 보증하게 하여 기업에 대한 자금 융통을 원활하게 하기 위하\\n여 기술보증기금 설립 \\n \\n2. (참고) 기보 역할과 과제  \\n(2019년3) 강조되는 key words \\n- 국내 최초 기술평가시스템 도입→ (기술)중소기업의 미래가치 발굴+기술금융 신시장 개척  \\n- 축적된 기술평가 역량 활용 → 기술혁신형 기업에 기술보증∙ 기술이전∙투자∙컨설팅 등 금융과 비\\n금융 사업을 함께 지원함으로써--→기업 기술경쟁력↑→ 우리경제 신성장 동력(저성장공포 극복) 창출 \\n- 환경 급변(예-성장둔화, 미-중 무역분쟁, 국가간 기술전쟁, 기술중소기업의 자금부족)에 대응 -→ 기술력 \\n있는 중소 기업이 (99-88) 양질의 일자리 창출+한국 경제 혁신성장 주도해야 \\n⚫ 기술 중소기업이 Scale-up4하도록 기술보증이 함께해야 할 것이다  \\nMission5 \\n중소∙벤처기업을 위한 기술금융과 혁신지원 활성화로 국민경제 발전에 기여 \\n \\n \\n3. 강조 point  \\n \\n                                           \\n3 2019.7월 현재 홈페이지 CEO 인사 중  \\n4 2019 년 초 정부가 '제2 벤처 붐 확산 전략'을 발표하면서 부각되고 있는 용어. 문자 그대로 기업의 규모를 \\n확대(키운다)는 뜻.. 중소기업을 (지원)하여 그 기업의 매출, 고용이 성장할 수 있도록 하는 것이며, 기보의  경우 기술 \\n중소기업에 대한 지원이 중요. 이와 관련하여 급성장한 기업의 모델로 2022 년까지 ‘유니콘 기업’(기업가치 \\n10 억USD=1 조원)20 개 만들기, 지원방법의 다양화 관련된 용어인 ‘모태펀드’ 등이 자주 언급된다, \\n5 2019.7월\",\n",
       "  '페이지 4 / 5 \\n \\n ✓ 기술중소(벤처)기업의 든든한 버팀목-기보. \\n✓ 기술금융의 선구자 \\n기술금융의 양과 질 \\n최근 강조점  ✓  J 노믹스의 정책방향 (중소(벤처)기업의 지원을 통한 대기업과의 격차 해소 등 \\n✓ J 노믹스 – 일자리 만들기 마중물 (OOO 금융) \\n* 중소벤처기업부로 이관되어, 중소기업, 벤처기업에 대한 금융지원 등이 강조 \\n✓ 청년 실업해소를 위한 청년창업 지원, 맞춤형 일자리 만들기 \\n✓ 제조업 르네상스 \\n✓ 기보의 역할 인식 \\n- 창업, 재창업, 벤처지원 강화 \\n- 4 차 산업 지원을 통한 창업, 맞춤형 일자리 만들기6  \\n \\nIII. 기보의 기대효과(역할) \\n \\n1. 기술중소(벤처)기업 지원을 통한 한국경제의 성장 견인 \\n- 마중물 역할 (생산적 금융) \\n \\n2030 제조업 르네상스 비전7 \\n \\n2. 기술 중소(벤처)기업의 동반자 \\n✓ 국내 경제는 저성장 고착화, 높은 실업률과 대내외 경제환경(미국과의 금리역전, G2 무역전쟁)의 \\n불확실성으로 인한 소비 위축 그리고 투자심리 부진 등으로 어려운 상황이 계속 우리의 주요 \\n고객인 중소기업의 앞 날은 여전히 어둡고 불확실한 위기상황 직면 \\n✓ 자금의 양극화로 기술 중소기업의 성장한계 극복 \\n✓ 기보가 중소기업을 위해 역할과 임무를 수행하는 것이 중요+기보의 책임 \\n \\n3. 4차 산업 혁명시대8 - 혁신과 중소기업의 새로운 도약 기회 \\n✓ 기술 중소기업은 우리 경제의 위기 극복하고, 미래 핵심요소 \\n✓ 기술 중소기업은 기술금융으로! \\n✓ 청년창업 지원에 기술금융을 집중하여 우리 경제의 대도약을 이끌어 나가야 \\n✓ 기술혁신 위한 금융, 제도, consulting 지원 \\n                                           \\n6 기보- 일자리창출 지원(굿잡보증)사업: 고용없는 성장 장기화로 인해 일자리 문제해결이 시급한 현상황을 고려하여 일자\\n리양과 질을 확대하기 위해 일자리창출 지원 프로그램(굿잡보증) 제도 운영 중',\n",
       "  '리양과 질을 확대하기 위해 일자리창출 지원 프로그램(굿잡보증) 제도 운영 중 \\n7 2030년까지 수출을 세계 4위로 끌어올리고 글로벌 일류상품 기업을 현재의 2배로 늘린다는 정부의 비전 (2019. 6 발표). \\n8 기보의 4차산업혁명 지원 프로그램: \\n경제구조 변화에 따라 기존산업의 성장속도가 둔화되고 있어 미래 주력산업인 신성장 분야를 적극 지원함으로, 사물인터\\n넷ㆍ인공지능 등 제4차 산업혁명을 주도할 기술ㆍ기업 육성에 목적을 두는 제도 \\n * Smart 공장 지원사업도 서술하여도 가능 \\n스마트 공장 지원사업- 양적 투입 위주의 제조업 성장방식의 한계를 극복하고, 부가가치 증대를 위해 제조업과 ITㆍ서\\n비스를 융합한 스마트 산업혁명을 주도할 기술ㆍ기업 육성에 목적을 두고 운영중인 제도',\n",
       "  '페이지 5 / 5 \\n \\n4. 기술혁신형 기업에 기술평가와 기술보증 지원 \\n☞기업의 기술경쟁력을 높이고, 나아가 우리 경제의 성장동력 창출의 일익을 담당하는 기술금융 \\n전문기관 \\n \\n☞ 신용보증기금은 업종제한이 없지만 기술보증기금은 기술력에 특화한 기관으로 신용이 \\n없더라도 기술력 하나만으로 보증을 지원한다는 차별점이 있음을 강조 \\n \\n5. 국내 최초 기술평가 시스템 도입, 기술금융이란 패러다임 개척 \\n✓ 세계 최고수준의 기술평가시스템인 KTRS 를 개발•시행함으로써 재무제표 위주의 평가관행을 \\n기술성과 사업성 위주로 변화시키는 선구자로서의 역할을 훌륭히 수행하였음 \\n \\nIV. 기술보증기금의 주요업무 \\n \\n① 기술보증/신용보증 \\n② 기술평가 \\n\\uf0f0 기술성·시장성·사업타당성 등을 종합 평가하여 금액·등급·의견 또는 점수 등으로 표시하는 \\n것 \\n③ 경영지도 및 기술지도 \\n④ 보증연계 투자(주식, BW, CB 인수) \\n⑤ 재보증업무 및 유동화회사 보증업무 \\n◼ 재보증을 하려는 경우에는 신용보증재단(\"원보증자\")과 계약 체결(재보증 한도액, 재보증 기\\n간, 재보증 요건 등 포함) \\n◼ 기금은 유동화회사가 신기술사업자의 회사채(전환사채, 신주인수권부사채 포함), 대출채권 \\n등을 유동화자산으로 하는 경우에 ‘유동화증권’을 발행’하거나, 금융기관이 ‘유동화증권’\\n에 신용을 공여할 때, 그 채무에 대하여 보증 할 수 있다 \\n*법 28조, 28조의 1, 28조의 2',\n",
       "  '페이지 1 / 4 \\n \\n기술보증기금의 주요업무 \\n \\nI. 개 요 \\n- 존재이유 - 기술보증제도를 정착·발전시킴으로써 신기술사업에 대한 자금의 공급을 원활하게 하고 \\n나아가 국민경제의 발전에 이바지 \\n✓ 담보능력이 미약한 기업의 채무를 보증 & 자금 융통을 원활하게 \\n \\nII. 주요업무 \\n① 기술보증/신용보증 \\n기금은 기술혁신선도형 중소기업1 우선적 보증 지원 \\n② 기술평가 \\n기술성·시장성·사업타당성 등을 종합 평가하여 금액·등급·의견 또는 점수 등으로 표시하는 것 \\n③ 인증사업 \\n벤처기업인증 : 기술성 or  성장성이 상대적으로 높아 정부지원이 필요하다고 인정하는 기업(벤처\\n기업육성에 관한 특조법) \\n이노비즈 : 기술혁신형 중소기업 인증 \\n④ 기금은 재보증업무 및 유동화회사 보증업무, 보증연계투자 \\n◼ 재보증 : 신용보증재단(\"원보증자\")과 계약 체결 \\n◼ 유동화회사 보증 : 유동화회사가 신기술사업자의 회사채(CB,BW 등 포함), 대출채권 등을 유동\\n화자산으로 하는 경우에 ‘유동화증권’을 발행’하거나, 금융기관이 ‘유동화증권’에 신용을 공여할 \\n때, 그 채무에 대하여 보증 할 수 있다 \\n◼ 보증연계투자 : 기술보증 관계가 성립한 혁신 선도형 신기술사업자의 유가증권(주식,CB,BW) \\n인수  \\n- 기술력이 우수하고 성장 가능성이 높은 기술․창업 중소기업에 보증과 연계하여 직접 투\\n자함으로써 중소기업의 자금조달 및 재무구조 개선을 지원하고, 기금은 투자수익을 통해 \\n신규 보증여력 및 투자재원 확보  \\n⑤ 컨설팅 \\n경영지도 및 기술지도 \\n \\n \\n• 기술보증제도를 정착·발전시킴으로써 \\n• 신기술사업에 대한 자금 공급 \\n• 중소-벤처기업 지원 \\n• 기술기업의 창업-중소벤처기업 생태계 만들어  \\n• 국민경제 발전에 기여 \\n \\n \\n                                           \\n1 기술력이 있고 미래 성장 가능성이 높은 차세대 핵심기업 및 신기술의 채택이나 기술혁신으로 경쟁력을 확보하여',\n",
       "  '기술혁신을 선도.파급하는 기업 또는 성장할 가능성이 높은 기업을 의미 \\n→ 기금의 중점지원 대상기업으로 보증심사방법 등에서 우대(보증비율 90%까지)하여 보다 손쉽게 보증지원 받을 수 \\n있는 기업',\n",
       "  '페이지 2 / 4 \\n \\nIII. 기보의 주요 업무- \\n1. 기술보증 \\n \\n담보 부족 기업이 보유하고 있는  \\n무형의 기술을 심사,  \\n기술보증기금이 ‘기술보증서’를 발급하여 \\n금융기관 자금을 지원받을 수 있는 제도 \\n주요상품 예) 정책자금지원, IP, 청년특례 \\n \\n2. 기술금융과 기술 평가 \\n  \\n기술금융이란   \\n✓ ‘창업, R&D, 사업화 등 기술혁신 과정에서 필요한 자금을 ‘기술평가’를 통하여 공급하는 \\n기업금융의 형태로서,  \\n✓ 지원방법 및 회수조건에 따라  \\n✓ 투•융자와 보증, 출연, 복합금융 등으로 구분되며, \\n✓ 기술보증기금(기보)의 기술평가보증이 대표적인 상품이다. \\n \\n(1) 기술혁신단계와 중소기업의 성장과정 \\n \\n 창업 > R&D 투자 > 기술사업화  \\n 성장  \\n→ 성숙> 휴면기술로 기술이전 또는 M&A \\n→ 기술이전 또는 M&A \\n위기-재도전 \\n \\n(2) 기보의 단계별 맞춤형 평가•자금지원 \\n \\n기술평가는 기술금융 공급자와 수요자간 정보 비대칭성과 불확실성 해소를 위해  \\n반드시 필요한 핵심적인 사업으로서  \\n기보는 국내 최고의 기술평가 인프라를 바탕으로 \\n창업(준비) 단계부터 위기/재도전 단계에 걸친 다양한 성장단계별 기술금융상품과 연결시키는  \\n기술금융 종합지원 기관 \\n \\n 창업준비단계 도약단계 성장•성숙단계 위기•재도전단계 \\n기술\\n금융 \\n예비창업자 \\n사전보증 \\n고부가서비스프로젝트 보증 이노비즈기업 협약보증 긴급경영안정보증 \\n청년창업 특례보증 예비스타벤처기업육성 특례보증 금융기관 특별출연협약보증 경영개선지원보증 \\n특허창업 특례보증 지적재산(IP)금융지원 지적재산(IP)금융지원 프로그램공동워크아웃 기업보증 \\nR&D 개발자금 R&D 사업화 자금 R&D 사업화 자금 재창업 재기지원보증 \\n 일자리창출기업 지원   \\n 수출중소기업 우대보증   \\n기술 새싹기업 성공창업 벤처기업확인평가 기술이전•M&A 중개 중소기업건강관리 프로그램',\n",
       "  '페이지 3 / 4 \\n \\n평가 \\n컨설\\n팅 \\n강좌 \\n밴처창업 교실 \\n창업멘토링 \\n프로그램 \\n기술가치평가  (기술이전2•거래) \\n기술평가인증  (투•융자 참고용) \\nR&D 과제의 경제성•사업성 평가 \\n기술가치평가(기술이전•거래\\n) \\n기술평가인증(투•융자 \\n참고용) \\nR&D 과제의 경제성•사업성 \\n평가 \\n \\n (3) 기술평가 \\nㆍ 협의로는 기술을 금액으로 표현하는 것이고 광의로는 기술을 금액, 등급, 의견으로 표현 하는 것으로 정의 \\n \\n \\n \\n3. 인증사업 \\n벤처 창업지원/벤처-이노비즈 인증 \\n. \\n \\n이노\\n비즈\\n인증 \\nInnovation(혁신)+ Business(기업) 합성어 \\n기술 우위를 바탕으로 경쟁력을 확보한 기술혁신형 중소기업을 지칭 ➔ 일자리, 4차산업 동\\n력 \\n- 연구 개발을 통한 기술 경쟁력 및 내실을 기준으로 선정하기에 과거 실적보다는 미래 성장성을 중\\n요시 한다는 특징  \\n- 정부에서는 기술경쟁력과 미래성장가능성을 갖춘 이노비즈기업에 기술, 자금, 판로(마케\\n팅) 등을 연계지원 \\n→ 국제경쟁력 있는 우수기업의 성장을 정책적으로 지원 \\n \\n                                           \\n2 기술이전 : 기술의 양도, 기술지도, 공동연구, 합작투자 또는 인수,합병을 통해 기술보유자로부터 그 외의업체에 \\n이전되는 것.',\n",
       "  '페이지 4 / 4 \\n \\n4. 유동화회사보증+보증연계투자 \\n✓ 유동화회사(SPC) 보증 : \\n◼ 기금은 SPC 가 신기술사업자의 회사채(CB, BW 포함)등을 유동화 자산으로 하는 경우, \\n채무 보증 \\n◼ 유동화 증권의 원리금이 기한 내 상환되지 않거나 신용공여에 대한 보증 시 기한 내 \\n채무를 불이행한 경우, 기금이 보증인으로서 보증채무 이행 \\n \\n✓ 보증연계투자 \\n◼ 기술보증 관계가 성립한 혁신 선도형 신기술사업자의 유가증권(주식,CB,BW) 인수 \\n◼ 기술력이 우수하고 성장 가능성이 높은 기술․창업 중소기업에 보증과 연계하여 직접 \\n투자함으로써 중소기업의 자금조달 및 재무구조 개선을 지원하고,  \\n◼ 기금은 투자수익을 통해 신규 보증여력 및 투자재원 확보 \\n \\n5. 컨설팅 \\n경영합리화,생산성 향상  \\n자금지원+경영역량↑ \\n➔ 생존률↑'],\n",
       " 'uris': None,\n",
       " 'data': None,\n",
       " 'metadatas': [{'page': 0, 'source': 'data/기술보증기금과 한국경제.pdf'},\n",
       "  {'page': 0, 'source': 'data/기술보증기금과 한국경제.pdf'},\n",
       "  {'page': 1, 'source': 'data/기술보증기금과 한국경제.pdf'},\n",
       "  {'page': 1, 'source': 'data/기술보증기금과 한국경제.pdf'},\n",
       "  {'page': 2, 'source': 'data/기술보증기금과 한국경제.pdf'},\n",
       "  {'page': 3, 'source': 'data/기술보증기금과 한국경제.pdf'},\n",
       "  {'page': 3, 'source': 'data/기술보증기금과 한국경제.pdf'},\n",
       "  {'page': 4, 'source': 'data/기술보증기금과 한국경제.pdf'},\n",
       "  {'page': 0, 'source': 'data/기술보증기금 주요업무.pdf'},\n",
       "  {'page': 0, 'source': 'data/기술보증기금 주요업무.pdf'},\n",
       "  {'page': 1, 'source': 'data/기술보증기금 주요업무.pdf'},\n",
       "  {'page': 2, 'source': 'data/기술보증기금 주요업무.pdf'},\n",
       "  {'page': 3, 'source': 'data/기술보증기금 주요업무.pdf'}],\n",
       " 'included': [<IncludeEnum.documents: 'documents'>,\n",
       "  <IncludeEnum.metadatas: 'metadatas'>]}"
      ]
     },
     "execution_count": 32,
     "metadata": {},
     "output_type": "execute_result"
    }
   ],
   "source": [
    "# 수집된 청크들의 id, documents 등 정보들이 표시됨\n",
    "vectordb._collection.get()"
   ]
  },
  {
   "cell_type": "markdown",
   "id": "429c542e-3c39-41c4-a30a-4ce89c58f66f",
   "metadata": {},
   "source": [
    "(2) DB에 값 추가\n",
    "- 텍스트 추가"
   ]
  },
  {
   "cell_type": "code",
   "execution_count": 99,
   "id": "53a683ee-171e-4ec1-bf34-1592c27bb64b",
   "metadata": {},
   "outputs": [
    {
     "data": {
      "text/plain": [
       "['a7ede229-433f-418e-939b-de0c8412552a',\n",
       " '99dca6c0-2a4c-4706-9f8a-fded9cb7991d']"
      ]
     },
     "execution_count": 99,
     "metadata": {},
     "output_type": "execute_result"
    }
   ],
   "source": [
    "vectordb.add_texts(texts=[\"sample_text1\", \"sample_text2\"])\n",
    "# 추가된 텍스트에 id가 부여되며 표시됨"
   ]
  },
  {
   "cell_type": "code",
   "execution_count": 101,
   "id": "f62bd44f-b163-42b9-8155-01912ac38cbd",
   "metadata": {},
   "outputs": [
    {
     "data": {
      "text/plain": [
       "['e18f1224-3659-4855-80f7-5905c69645aa',\n",
       " '51b02a65-eeed-4a65-99b9-9ebb989e2c82',\n",
       " '2a3aa5e8-c326-4db0-b2b8-5acaba714ca3',\n",
       " '00c7d347-4565-4bbd-8bd7-aa387a33fca4',\n",
       " 'de15af2b-0455-42f7-94c1-5fbac6b6cb61',\n",
       " 'eb675a08-c877-4646-9df0-dee803521c5c',\n",
       " 'cf4ca13b-c0b5-4a6c-9265-e133a9626e91',\n",
       " 'a080c3ef-a05a-4102-a779-4fc15ecc57e3',\n",
       " '703826c1-73a1-4d3b-b8e4-13e18d95acf3',\n",
       " '20936915-8509-44f4-bd7e-b038d1979fd5',\n",
       " '9493600f-6daf-41cd-a3a7-b344404b3bf9',\n",
       " '1535d3f8-565b-4a35-9ff9-2383ce8fdddc',\n",
       " 'acb25778-05d1-4319-a407-6f0074738df2',\n",
       " 'a7ede229-433f-418e-939b-de0c8412552a',\n",
       " '99dca6c0-2a4c-4706-9f8a-fded9cb7991d']"
      ]
     },
     "execution_count": 101,
     "metadata": {},
     "output_type": "execute_result"
    }
   ],
   "source": [
    "vectordb._collection.get()['ids']"
   ]
  },
  {
   "cell_type": "markdown",
   "id": "5cbc0d10-6b36-4871-aeb0-5f2fc982eac2",
   "metadata": {},
   "source": [
    "- DB에 문서 추가하기"
   ]
  },
  {
   "cell_type": "code",
   "execution_count": 34,
   "id": "21a8780e-3e4c-4da4-95af-1071a4f5e972",
   "metadata": {},
   "outputs": [
    {
     "name": "stdout",
     "output_type": "stream",
     "text": [
      "15\n"
     ]
    }
   ],
   "source": [
    "# 새롭게 추가할 문서 2개를 로드 후 청킹\n",
    "add_loaders = [PyPDFLoader(\"data/기술보증기금 주요업무_기술보증.pdf\"),\n",
    "               PyPDFLoader(\"data/기술보증기금 주요업무_기술평가.pdf\")\n",
    "              ]\n",
    "add_chunks = []\n",
    "for loader in add_loaders:\n",
    "    add_chunks.extend(loader.load_and_split(pdf_splitter))\n",
    "print(len(add_chunks))"
   ]
  },
  {
   "cell_type": "code",
   "execution_count": 36,
   "id": "a69008ba-08e7-4d62-902b-1a787e9a3617",
   "metadata": {},
   "outputs": [
    {
     "data": {
      "text/plain": [
       "['cecbe79a-a6ce-4740-8ff0-49535351cac9',\n",
       " '59fc4d80-3d5d-4e67-b03a-5e6be3afc171',\n",
       " '72489bdb-27cb-428c-817d-42f232063ea6',\n",
       " 'ac01af58-c07d-4f49-8b82-243c1b49f143',\n",
       " '8065f569-7026-456d-be03-679bd1bbb094',\n",
       " '5be84043-11c1-4aa5-a169-226c285b7f4a',\n",
       " 'c5103ca0-e9ec-4a4f-be18-eba7a56022d1',\n",
       " '7c838738-a3da-49e5-98bb-7912a2949d07',\n",
       " '6def7c1d-34a7-4a2c-b1d0-5f6d04e25f01',\n",
       " 'e8ebbfb9-a4b9-461c-8fc4-446b588fe5b0',\n",
       " 'ebebc98c-563e-409b-ac9d-197b36a32f1e',\n",
       " '053c9806-4ca2-433f-9fde-8a54f9896a25',\n",
       " '2c54ef88-8663-4ca5-a243-93e660bc8674',\n",
       " 'eb6da131-4eed-411f-9f3a-63f2b9d0133d',\n",
       " '0d3e1d2b-aa47-433f-bff4-0299515f8328']"
      ]
     },
     "execution_count": 36,
     "metadata": {},
     "output_type": "execute_result"
    }
   ],
   "source": [
    "# 벡터 DB에 문서 추가 명령 실행\n",
    "vectordb.add_documents(documents=add_chunks)"
   ]
  },
  {
   "cell_type": "code",
   "execution_count": 38,
   "id": "b3729c6f-7d60-4ff6-9ea7-4055bb3fa9da",
   "metadata": {},
   "outputs": [
    {
     "data": {
      "text/plain": [
       "28"
      ]
     },
     "execution_count": 38,
     "metadata": {},
     "output_type": "execute_result"
    }
   ],
   "source": [
    "# 기존 문서 13개 + text 2개 + 문서 15개 = 30개\n",
    "vectordb._collection.count()"
   ]
  },
  {
   "cell_type": "markdown",
   "id": "ebdd8c96-1944-4c44-a052-abd9bfd6bb83",
   "metadata": {},
   "source": [
    "(3) DB값 삭제"
   ]
  },
  {
   "cell_type": "code",
   "execution_count": 122,
   "id": "8ee4faa5-97ae-440c-8cef-0eda89bf45a1",
   "metadata": {},
   "outputs": [
    {
     "data": {
      "text/plain": [
       "28"
      ]
     },
     "execution_count": 122,
     "metadata": {},
     "output_type": "execute_result"
    }
   ],
   "source": [
    "# text 2개 삭제\n",
    "vectordb.delete(ids=['a7ede229-433f-418e-939b-de0c8412552a',\n",
    "                     '99dca6c0-2a4c-4706-9f8a-fded9cb7991d'])\n",
    "\n",
    "vectordb._collection.count()"
   ]
  },
  {
   "cell_type": "code",
   "execution_count": 40,
   "id": "cae472ed-f66c-4041-a200-c4f194892863",
   "metadata": {},
   "outputs": [
    {
     "data": {
      "text/plain": [
       "28"
      ]
     },
     "execution_count": 40,
     "metadata": {},
     "output_type": "execute_result"
    }
   ],
   "source": [
    "# # 모든 데이터 삭제\n",
    "# vectordb.delete_collection()\n",
    "\n",
    "# 값이 없으면 레어가 뜸\n",
    "vectordb._collection.count()"
   ]
  },
  {
   "cell_type": "markdown",
   "id": "ec96c89a-e5ae-4ace-bf7c-0660bc6d4dce",
   "metadata": {},
   "source": [
    "##### 4) 유사도 검색\n",
    "- 간단한 질문에 대해 유사한 문서 검색"
   ]
  },
  {
   "cell_type": "code",
   "execution_count": 52,
   "id": "747e3e78-b26b-4e81-949a-f87fb405ffb6",
   "metadata": {},
   "outputs": [
    {
     "name": "stdout",
     "output_type": "stream",
     "text": [
      "객체 수: 3\n",
      "[Document(metadata={'page': 1, 'source': 'data/기술보증기금 주요업무_기술평가.pdf'}, page_content='페이지 2 / 6 \\n \\n (2) 기술평가3 \\n기술평가란?- 대상기술의 기술성, 시장성, 사업타당성 등을 분석하고 결과를 금액, 등급, 의견 등으로 \\n표현하는 것이다.  \\n✓ 기술평가는 기술수준 등 기술자체에 대한 평가를 표현한 용어지만, 기술과 기업(사업)간의 밀접한 관련\\n성으로 인해서 최근에는 위의 의미로 사용됨 \\n✓ 기술가치평가는 기술평가+가치평가가 결합된 용어로서, 기술적인 요소를 기반으로 시장에서의 가치를 \\n평가 하는 것을 의미 \\n \\n (3) 기술평가 유형 \\n 정 의 세부평가종류 \\n기술가치평\\n가 \\n대상 기술에 의하여 현재 시현되고 있거나 \\n장래에 시현될 기술의 가치를 평가하여 평\\n가결과를 금액으로 표시 \\n- 벤처기업 현물출자 특례대상 산업재산권  등의 평가 \\n- 기술의 담보가치를 산정하기 위한 평가 \\n- 기술이전ㆍ거래4 기준가격 산정을 위한   평가 \\n- 기술사업의 이전ㆍ양수도를 위한 평가 등  \\n기술사업 \\n타당성평가 \\n기업이 특정기술(OR 아이디어)을 사업화, \\n추진중인 기술사업의 투자 확대 시 사업의 \\n기술성 및 사업타당성 평가 \\n- 벤처기업 확인, INNO-BIZ 선정평가 \\n- 정책자금 지원 대상자 선정 위한 평가 \\n- 금융기관 등의 여신심사용 기술평가 \\n- 보증지원을 위한 평가 등  \\n종합기술평\\n가 \\n기업 보유 기술을 경영환경, 사업전망 등\\n을 종합 평가 \\n- 금융기관, 벤처캐피탈 또는 엔젤투자자 등 투자용 평가 \\n- 벤처기업의 코스닥시장 상장 위한 평가 \\n- 주식가치평가 등  \\n(4)기술평가의 범위 : 기술성, 시장성, 사업성을 종합적으로 검토 \\n① 기술성 기술의 수준, 기술의 활용성, 기술의 파급성 \\n② 시장성 시장규모 및 특성, 동업계 현황, 시장수요전망 \\n③ 사업성 경쟁력, 사업추진능력, 재무구조 등 \\n \\n                                           \\nㆍ 3 협의로는 기술을 금액으로 표현하는 것이고 광의로는  기술을 금액, 등급, 의견으로 표현 하는 것으로 정의'), Document(metadata={'page': 4, 'source': 'data/기술보증기금 주요업무_기술평가.pdf'}, page_content='페이지 5 / 6 \\n \\n및 제시 \\n \\n③ 기타 가치평가 \\n기타 기술가치평가  \\n가치평가를 통해 산정된 기술가치 금액을 담보가치, 소송가액 산정 등 다양한 용도로 활용 \\n가능  \\n콘텐츠가치평가, 주식가치평가 \\n기업이 보유한 콘텐츠 및 주식에 대한 가치평가를 실시하여 가액을 산정 \\n④기술전략 \\n컨설팅 \\n① 기술사업타당성 분석 -추진 중 기술사업에 대한 기술적ㆍ경제적 타당성 평가  \\n② 기술전략수립 지원 \\nR&D 기획지원사업 -기업이 개발하고자 하는 신기술에 대한 개발타당성ㆍ시장성ㆍ성공가능성\\n을 분석 및 평가하고,사업전략 수립 등 R&D 기획을 지원  \\nR&D 기획멘토링 -중소기업형 제품과 서비스의 융ㆍ복합을 통한 고부가가치의 시장지향적 신\\n제품ㆍ신상품 개발을 지원하여 새로운 중소기업형 비즈니스모델 발굴 및 중소기업 경쟁력 향\\n상을 촉진  \\n③ 기타 평가 \\n우수기업 선별을 위한 기술평가(인증서) \\n대한민국기술대상, WorldClass300 등 우수기술 기업 지정을 위한 선별 평가  \\n코스닥시장 상장을 위한 전문평가 \\n정부가 정하는 신성장동력산업 업종 영위기업 중 기술력과 성장성을 인정받아 상장하고자 하\\n는기업에 대한 기술평가 \\n기술관련 요건 판정을 위한 평가 등 \\n \\n3. 기술평가의 역할 \\n기업에 대한 정량화된 평가는 주로 신용평가를 통해서 이루어지고 있으나, 초기기업 또는 기술혁신형 \\n기업의 경우 신용평가등급(재무등급) 산출이 불가능하거나 낮게 산출되므로 시장에서 제대로 평가 \\n받지 못하고 있는 상황이다. \\n⚫ 죽음의 계곡 : 기업의 발전단계 마다, 기술력은 있지만, 자금의 불일치로 어려움을 겪는 현상 \\n⚫ 성실실패 : 성실한 노력 불구, 목표 달성(x). 성실실패로 인정해 재기할 수 있는 기회 \\n⚫ 청년 벤처 창업의 기회( J 노믹스 일자리 만들기) : 아이디어와 열정 \\n⚫ 중소기업 금융- 자금 수요 초과 현상이 일반화된 시장➔자금의 양극화  \\n \\n 따라서 이들 기업은 기술평가를 통해서 정보 비대칭성을 줄이면서 정책적인 지원을 위한 판단 기능으로서'), Document(metadata={'page': 3, 'source': 'data/기술보증기금 주요업무_기술평가.pdf'}, page_content='페이지 4 / 6 \\n \\n2. 기술평가의 활용방안5 \\n활용방안 주요내용 \\n①자금조달 \\n① 보증대출  \\n◼ 운전ㆍ시설자금 : 기업이 보유한 기술사업에 대한 기술평가 결과에 따라 운전ㆍ시설\\n자금 대출에 대한 보증서를 발급 \\n◼ R&D 자금 보증用 평가 : 추진중인 R&D에 대한 사업화타당성과 경제성을 평가하여 \\nR&D 소요자금에 대한 보증서를 발급 \\n◼ 기술융합기업 우대보증용 평가 \\n◼ 기술이전ㆍM&A 자금 \\n◼ 지식재산(IP) 사업화자금 \\n◼ 예비창업자 준비자금 사전보증用 평가 \\n② 기술평가 인정 대출 \\n③ 투자유치 \\n④ 정책자금 \\n②인증취득 ① 벤처기업 인증 \\n⚫ 벤처기업 확인 평가 \\n⚫ 평가대상 기술ㆍ기업의 기술ㆍ시장ㆍ사업성을 종합 평가하여 벤처기업 요건 \\n충족여부를 판정 \\n② INNO-BIZ 인증 \\n⚫ INNO-BIZ 선정 평가 \\n⚫ 평가대상 기업의 기술혁신시스템과 개별기술에 대한 평가를 통해 INNO-BIZ \\n기업요건 충족여부를 판정 \\n③ 녹색인증 \\n⚫ 녹색기술인증 평가 \\n⚫ 기술의 우수성과 녹색성(에너지ㆍ자원 활용의 효율성, 녹색성장 기여도)을 평가하여 \\n녹색기술인증 대상을 선별 \\n③기술자산 \\n활용 \\n① 현물출자 \\n벤처기업 현물출자用 산업재산권 등의 평가  \\n벤처기업에 출자되는 기술에 대한 가치평가를 통해 산정된 가액을 법원의 인가에 의해 \\n기업의 장부가액으로 인정  \\n외국인 출자用 산업재산권 등의 평가 \\n외국인이 보유한 기술을 국내 출자시, 출자되는 기술에 대한 가치평가를 통해 산정된 가액을 \\n현물출자액으로 인정 \\n기술지주회사 설립 현물출자用 산업재산권 등의 평가 \\n대학(산학협력단)이 기술지주회사 설립시, 출자되는 기술에 대한 가치평가를 통해 산정된 \\n가액을 현물출자액으로 인정 \\n \\n② 기술이전ㆍ M&A \\n기술이전ㆍ거래 참조用 평가 \\n기술 이전ㆍ거래시 당사자의 의뢰에 의해 가치 평가를 실시하고, 기술의 객관적 가치를 산정 \\n                                           \\n5 기보 홈페이지(2019. 7월 현재)')]\n"
     ]
    }
   ],
   "source": [
    "question = \"기술평가가 뭐야?\"\n",
    "\n",
    "# similarity_search : 유사도 검색 실행 함수\n",
    " # k : 반환 받고자 하는 document 객체 수 지정(청크 수)\n",
    " # (k값이 너무 크면 연관성이 떨어지는 문서까지 광범위하게 검색되어 정확성이 낮아질 수 있음)\n",
    "similar_docs = vectordb.similarity_search(question, k=3)\n",
    "\n",
    "print(\"객체 수:\", len(similar_docs))\n",
    "print(similar_docs)"
   ]
  },
  {
   "cell_type": "markdown",
   "id": "3d1daf24-7037-49cb-bd53-db3dfda9f842",
   "metadata": {},
   "source": [
    "##### 5) 또 다른 검색 방법(MMR검색(Max Marginal Relevance))\n",
    "- 사용자 쿼리에 가장 관련성이 높은 문서나 내용을 선택하지만 중복된 정보를 줄이고, 그 중에서 다양한 정보를 제공하는 것을 목표로 하는 검색 방식"
   ]
  },
  {
   "cell_type": "code",
   "execution_count": 57,
   "id": "9cdf141c-b67a-4f7c-a5d9-7ad7ad139ac1",
   "metadata": {},
   "outputs": [],
   "source": [
    "question = \"기술평가가 뭐야?\"\n",
    "\n",
    "# fetch_k : 벡터 DB에서 가져올 유사도가 높은 문서 수\n",
    "# k : 응답의 다양성을 고려하여 fetch_k 중에서 반환할 문서(fetch_k개 중에서 중복을 줄여줌)\n",
    "# lambda_mult : 0~1사이 실수 값으로 관련성과 다양성을 제어하는 파라미터 (0에 가까우면 다양성 우선, 1에 가까우면 관련성 우선)\n",
    "search_mmr = vectordb.max_marginal_relevance_search(question, \n",
    "                                                    fetch_k = 6,\n",
    "                                                    k=3,\n",
    "                                                   lambda_mult=0.5)\n",
    "# 즉, 질의와 유사도가 높은 6개의 문서를 검색 후 그 중에서 다양한 3개의 문서를 추출하는 식"
   ]
  },
  {
   "cell_type": "code",
   "execution_count": 59,
   "id": "1bcb61af-59e1-40ec-8736-2a5deef166ab",
   "metadata": {
    "scrolled": true
   },
   "outputs": [
    {
     "data": {
      "text/plain": [
       "[Document(metadata={'page': 1, 'source': 'data/기술보증기금 주요업무_기술평가.pdf'}, page_content='페이지 2 / 6 \\n \\n (2) 기술평가3 \\n기술평가란?- 대상기술의 기술성, 시장성, 사업타당성 등을 분석하고 결과를 금액, 등급, 의견 등으로 \\n표현하는 것이다.  \\n✓ 기술평가는 기술수준 등 기술자체에 대한 평가를 표현한 용어지만, 기술과 기업(사업)간의 밀접한 관련\\n성으로 인해서 최근에는 위의 의미로 사용됨 \\n✓ 기술가치평가는 기술평가+가치평가가 결합된 용어로서, 기술적인 요소를 기반으로 시장에서의 가치를 \\n평가 하는 것을 의미 \\n \\n (3) 기술평가 유형 \\n 정 의 세부평가종류 \\n기술가치평\\n가 \\n대상 기술에 의하여 현재 시현되고 있거나 \\n장래에 시현될 기술의 가치를 평가하여 평\\n가결과를 금액으로 표시 \\n- 벤처기업 현물출자 특례대상 산업재산권  등의 평가 \\n- 기술의 담보가치를 산정하기 위한 평가 \\n- 기술이전ㆍ거래4 기준가격 산정을 위한   평가 \\n- 기술사업의 이전ㆍ양수도를 위한 평가 등  \\n기술사업 \\n타당성평가 \\n기업이 특정기술(OR 아이디어)을 사업화, \\n추진중인 기술사업의 투자 확대 시 사업의 \\n기술성 및 사업타당성 평가 \\n- 벤처기업 확인, INNO-BIZ 선정평가 \\n- 정책자금 지원 대상자 선정 위한 평가 \\n- 금융기관 등의 여신심사용 기술평가 \\n- 보증지원을 위한 평가 등  \\n종합기술평\\n가 \\n기업 보유 기술을 경영환경, 사업전망 등\\n을 종합 평가 \\n- 금융기관, 벤처캐피탈 또는 엔젤투자자 등 투자용 평가 \\n- 벤처기업의 코스닥시장 상장 위한 평가 \\n- 주식가치평가 등  \\n(4)기술평가의 범위 : 기술성, 시장성, 사업성을 종합적으로 검토 \\n① 기술성 기술의 수준, 기술의 활용성, 기술의 파급성 \\n② 시장성 시장규모 및 특성, 동업계 현황, 시장수요전망 \\n③ 사업성 경쟁력, 사업추진능력, 재무구조 등 \\n \\n                                           \\nㆍ 3 협의로는 기술을 금액으로 표현하는 것이고 광의로는  기술을 금액, 등급, 의견으로 표현 하는 것으로 정의'),\n",
       " Document(metadata={'page': 3, 'source': 'data/기술보증기금 주요업무_기술평가.pdf'}, page_content='페이지 4 / 6 \\n \\n2. 기술평가의 활용방안5 \\n활용방안 주요내용 \\n①자금조달 \\n① 보증대출  \\n◼ 운전ㆍ시설자금 : 기업이 보유한 기술사업에 대한 기술평가 결과에 따라 운전ㆍ시설\\n자금 대출에 대한 보증서를 발급 \\n◼ R&D 자금 보증用 평가 : 추진중인 R&D에 대한 사업화타당성과 경제성을 평가하여 \\nR&D 소요자금에 대한 보증서를 발급 \\n◼ 기술융합기업 우대보증용 평가 \\n◼ 기술이전ㆍM&A 자금 \\n◼ 지식재산(IP) 사업화자금 \\n◼ 예비창업자 준비자금 사전보증用 평가 \\n② 기술평가 인정 대출 \\n③ 투자유치 \\n④ 정책자금 \\n②인증취득 ① 벤처기업 인증 \\n⚫ 벤처기업 확인 평가 \\n⚫ 평가대상 기술ㆍ기업의 기술ㆍ시장ㆍ사업성을 종합 평가하여 벤처기업 요건 \\n충족여부를 판정 \\n② INNO-BIZ 인증 \\n⚫ INNO-BIZ 선정 평가 \\n⚫ 평가대상 기업의 기술혁신시스템과 개별기술에 대한 평가를 통해 INNO-BIZ \\n기업요건 충족여부를 판정 \\n③ 녹색인증 \\n⚫ 녹색기술인증 평가 \\n⚫ 기술의 우수성과 녹색성(에너지ㆍ자원 활용의 효율성, 녹색성장 기여도)을 평가하여 \\n녹색기술인증 대상을 선별 \\n③기술자산 \\n활용 \\n① 현물출자 \\n벤처기업 현물출자用 산업재산권 등의 평가  \\n벤처기업에 출자되는 기술에 대한 가치평가를 통해 산정된 가액을 법원의 인가에 의해 \\n기업의 장부가액으로 인정  \\n외국인 출자用 산업재산권 등의 평가 \\n외국인이 보유한 기술을 국내 출자시, 출자되는 기술에 대한 가치평가를 통해 산정된 가액을 \\n현물출자액으로 인정 \\n기술지주회사 설립 현물출자用 산업재산권 등의 평가 \\n대학(산학협력단)이 기술지주회사 설립시, 출자되는 기술에 대한 가치평가를 통해 산정된 \\n가액을 현물출자액으로 인정 \\n \\n② 기술이전ㆍ M&A \\n기술이전ㆍ거래 참조用 평가 \\n기술 이전ㆍ거래시 당사자의 의뢰에 의해 가치 평가를 실시하고, 기술의 객관적 가치를 산정 \\n                                           \\n5 기보 홈페이지(2019. 7월 현재)'),\n",
       " Document(metadata={'page': 5, 'source': 'data/기술보증기금 주요업무_기술평가.pdf'}, page_content='(중략)  \\n 지금까지는 벤처캐피탈이 투자 결정에 영향을 미치는 요소를 추출한 뒤 설문을 통해 중요도에 대한 가중치를 도출하는 \\n연구가 일부 진행됐으나, 실제 기술평가 DB 를 활용한 계량적 선별모형 개발은 이번이 처음이다. KISM 을 적용할 경우 \\n기보의 기술평가 완료와 동시에 투자가능 확률이 산출되고 이를 투자가능 등급(Lv.1~Lv.7)으로 제시한다. \\n 이날 K 동의대 교수는 모두 발언에서 “KISM은 기보의 기술평가시스템인 KTRS(Kibo Technology Rating System)의 \\n파생모형으로 향후 다양한 의사결정지원 모형으로 확산될 수 있을 것으로 기대되며, KISM 을 기보 내부모형으로 한정짓지 \\n말고 민간부문과 협력 및 의사소통의 수단으로 활용하는 방안을 모색할 필요성”을 제안했다. (이하 생략) \\n                                           \\n6 시사오늘, 2019.6 월')]"
      ]
     },
     "execution_count": 59,
     "metadata": {},
     "output_type": "execute_result"
    }
   ],
   "source": [
    "search_mmr"
   ]
  },
  {
   "cell_type": "markdown",
   "id": "b953d157-90bc-48c2-a3be-30cef765b5f5",
   "metadata": {},
   "source": [
    "### Advanced RAG 활용\n",
    "- 현 시점에서의 RAG는 Advanced RAG까지 기본적으로 lanhchain에서 지원하고 있음\n",
    "- 여기서 더 나아간다면 Modular RAG를 사용하면 좀 더 상황에 맞게 RAG를 적용할 수 있음"
   ]
  },
  {
   "cell_type": "markdown",
   "id": "1a1db80b-1da5-484e-8888-21084701adf6",
   "metadata": {},
   "source": [
    "#### 1) asretriever 클래스 사용\n",
    "- 벡터DB 객체를 '쿼리 최적화'를 위한 효율적인 검색기로 사용할 수 있게 변환해주는 역할\n",
    "- 기존 similarity_searh에 비해 as_retriever를 사용하면 langchain생태계와 연동성이 좋아지고 쿼리를 더 정교하게 전처리하며, 유사도 검색 전후에 필터나 제약조건들이 추가로 적용될 수 있기 때문에 성이 더 좋아짐"
   ]
  },
  {
   "cell_type": "code",
   "execution_count": null,
   "id": "bf189a33-0824-4700-80dd-b33a29193f27",
   "metadata": {},
   "outputs": [],
   "source": [
    "# search_kwargs : 검색할 유사도 높은 청크의 최대 개수 지정(k값 디폴트는 4개)\n",
    "my_retriever = vectordb.as_retriever(search_kwargs={\"k\":3})"
   ]
  },
  {
   "cell_type": "code",
   "execution_count": null,
   "id": "dbb2940a-1d43-4b5a-9fa4-323844b1f25b",
   "metadata": {},
   "outputs": [],
   "source": []
  }
 ],
 "metadata": {
  "kernelspec": {
   "display_name": "Python [conda env:study]",
   "language": "python",
   "name": "conda-env-study-py"
  },
  "language_info": {
   "codemirror_mode": {
    "name": "ipython",
    "version": 3
   },
   "file_extension": ".py",
   "mimetype": "text/x-python",
   "name": "python",
   "nbconvert_exporter": "python",
   "pygments_lexer": "ipython3",
   "version": "3.8.20"
  }
 },
 "nbformat": 4,
 "nbformat_minor": 5
}
