{
 "cells": [
  {
   "cell_type": "markdown",
   "id": "902a8051-cd3c-417f-8b78-f47e8068ac01",
   "metadata": {},
   "source": [
    "## GPT API를 사용하여 Fine-tuning 시켜보자\n",
    "- fine-tuning에 필요한 데이터셋은 ChatCompletions API와 동일한 형식이 '대화'여야 하며, 각  메세지에 role별로 content가 들어간 메세지 목록이어야 함(system, user, assistants)\n",
    "- fine-tuning시 최소 10개 이상의 대화 데이터가 필요하며, 비용상 처음부터 많은 양으로 학습시키기 보다는 50개 미만의 소량의 데이터 셋으로 학습시켜 결과를 확인해보고 필요시 추가하는 전략이 필요함\n",
    "- openai 공식 페이지에서는 **100개 미만의 데이터**를 `소량의 데이터`라고 정의하고 있음\n",
    "- 또한, 적어도 일부 학습 데이터에는 **기존 모델이 원하는대로 작동하지 않았을 경우**에 `제대로된 응답이 들어간 데이터`가 fine-tuning에 포함되어야 성능 향상을 크게 확인할 수 있음\n",
    "    - **원하는대로 동작하지 않았던 응답**\n",
    "\n",
    "    ```\n",
    "          Q : 프랑스의 수도는 어디야?\n",
    "          A : 프랑스는 세계에서 가장 유명한 관광도시예요!\n",
    "    ```\n",
    "    \n",
    "    - **fine-tuning에 넣어줄 제대로된 데이터**\n",
    "\n",
    "    ```\n",
    "          Q : 프랑스의 수도는 어디야?\n",
    "          A : 프랑스의 수도는 파리입니다.\n",
    "    ```\n"
   ]
  },
  {
   "cell_type": "code",
   "execution_count": 19,
   "id": "7edd1b20-d720-49fe-88a9-5d52ccf88f89",
   "metadata": {
    "scrolled": true
   },
   "outputs": [
    {
     "name": "stdout",
     "output_type": "stream",
     "text": [
      "Requirement already satisfied: tiktoken in c:\\users\\envy\\anaconda3\\envs\\study\\lib\\site-packages (0.7.0)\n",
      "Requirement already satisfied: regex>=2022.1.18 in c:\\users\\envy\\anaconda3\\envs\\study\\lib\\site-packages (from tiktoken) (2024.11.6)\n",
      "Requirement already satisfied: requests>=2.26.0 in c:\\users\\envy\\anaconda3\\envs\\study\\lib\\site-packages (from tiktoken) (2.32.3)\n",
      "Requirement already satisfied: charset-normalizer<4,>=2 in c:\\users\\envy\\anaconda3\\envs\\study\\lib\\site-packages (from requests>=2.26.0->tiktoken) (3.4.1)\n",
      "Requirement already satisfied: idna<4,>=2.5 in c:\\users\\envy\\anaconda3\\envs\\study\\lib\\site-packages (from requests>=2.26.0->tiktoken) (3.10)\n",
      "Requirement already satisfied: urllib3<3,>=1.21.1 in c:\\users\\envy\\anaconda3\\envs\\study\\lib\\site-packages (from requests>=2.26.0->tiktoken) (2.2.3)\n",
      "Requirement already satisfied: certifi>=2017.4.17 in c:\\users\\envy\\anaconda3\\envs\\study\\lib\\site-packages (from requests>=2.26.0->tiktoken) (2025.1.31)\n"
     ]
    }
   ],
   "source": [
    "!pip install tiktoken"
   ]
  },
  {
   "cell_type": "code",
   "execution_count": 1,
   "id": "396dcdb1-fbf0-47ee-8440-697795c35336",
   "metadata": {},
   "outputs": [],
   "source": [
    "from openai import OpenAI\n",
    "from getpass import getpass\n",
    "from datetime import datetime\n",
    "from collections import defaultdict\n",
    "import numpy as np\n",
    "import time\n",
    "import json\n",
    "import tiktoken # openai 모델들이 사용하는 base 토큰화 + 인코딩 모듈"
   ]
  },
  {
   "cell_type": "code",
   "execution_count": 4,
   "id": "ae6e235a-78bf-4bbc-8140-d19994e7d25e",
   "metadata": {},
   "outputs": [
    {
     "name": "stdout",
     "output_type": "stream",
     "text": [
      "OpenAI API Key : ········\n"
     ]
    }
   ],
   "source": [
    "MY_API_KEY = getpass.getpass(\"OpenAI API Key :\")"
   ]
  },
  {
   "cell_type": "code",
   "execution_count": 6,
   "id": "b9355217-2101-4f74-93ef-940786791ba3",
   "metadata": {},
   "outputs": [],
   "source": [
    "client = OpenAI(api_key=MY_API_KEY)"
   ]
  },
  {
   "cell_type": "markdown",
   "id": "705c3fc6-36d0-425d-a476-cf027af1ce5c",
   "metadata": {},
   "source": [
    "### 1.Fine-tuning 전 데이터 로드 및 검증\n",
    "- fine-tuning은 비용이 많이들 수 있기 때문에 사전에 적합한 데이터 형태인지 검증하고 진행하는 것이 좋음\n",
    "- OpenAI fine-tuning API 사용시에 데이터의 구조는 JSONL 형태여야함\n",
    "- **JSONL(JSON Lines)** : 한 줄당 json 객체가 존재하는 형태로 일반 json에 비해 한 줄씩 또는 청크 단위로 읽고 쓰는 것이 더 효율적이며 대규모의 데이터세트에 적합함"
   ]
  },
  {
   "cell_type": "code",
   "execution_count": 11,
   "id": "86d05462-6814-4d65-86d0-cb26948b7b5a",
   "metadata": {},
   "outputs": [],
   "source": [
    "data = [\n",
    "    {\"messages\" : [{\"role\" : \"system\", \n",
    "         \"content\" : \"You are a chatbot that gives clear answers.\"},\n",
    "        {\"role\" : \"user\", \n",
    "         \"content\" : \"What can i do here?\"},\n",
    "        {\"role\" : \"assistant\", \n",
    "         \"content\" : \"Ask a question about he part you want.\"}\n",
    "    ]},\n",
    "    {\"messages\" : [{\"role\" : \"system\", \n",
    "         \"content\" : \"Your are a chatbot that gives clear answers\"},\n",
    "        {\"role\" : \"user\", \n",
    "         \"content\" : \"I fell sick\"},\n",
    "        {\"role\" : \"assistant\", \n",
    "         \"content\" : \"Please describe your symptoms in detail\"}\n",
    "    ]}\n",
    "]\n",
    "with open(\"finetune_data/my_dataset.jsonl\", \"w\", encoding=\"utf-8\") as f :\n",
    "    # JSONL 파일 저장시 한 줄에 JSON 객체(딕셔너리)를 하나씩 저장해주는 방식\n",
    "    for i in data :\n",
    "        f.write(json.dumps(i) + \"\\n\")"
   ]
  },
  {
   "cell_type": "markdown",
   "id": "676c9967-accf-4e1c-af14-1d60121f1e74",
   "metadata": {},
   "source": [
    "### OpenAI 샘플용 JSONL 데이터 활용\n"
   ]
  },
  {
   "cell_type": "code",
   "execution_count": 20,
   "id": "746002fe-f366-4a3b-8bed-456f17b6108a",
   "metadata": {
    "scrolled": true
   },
   "outputs": [
    {
     "name": "stdout",
     "output_type": "stream",
     "text": [
      "샘플 수 : 5\n"
     ]
    },
    {
     "data": {
      "text/plain": [
       "[{'messages': [{'role': 'system',\n",
       "    'content': 'You are a happy assistant that puts a positive spin on everything.'},\n",
       "   {'role': 'user', 'content': 'I fell off my bike today.'},\n",
       "   {'role': 'assistant',\n",
       "    'content': \"It's great that you're getting exercise outdoors!\"}]},\n",
       " {'messages': [{'role': 'system',\n",
       "    'content': 'You are a happy assistant that puts a positive spin on everything.'},\n",
       "   {'role': 'user', 'content': 'I lost my tennis match today.'},\n",
       "   {'role': 'assistant', 'content': \"It's ok, it happens to everyone.\"},\n",
       "   {'role': 'user', 'content': 'But I trained so hard!'},\n",
       "   {'role': 'assistant', 'content': 'It will pay off next time.'},\n",
       "   {'role': 'user', 'content': \"I'm going to switch to golf.\"},\n",
       "   {'role': 'assistant', 'content': 'Golf is fun too!'},\n",
       "   {'role': 'user', 'content': \"I don't even know how to play golf.\"},\n",
       "   {'role': 'assistant', 'content': \"It's easy to learn!\"}]},\n",
       " {'messages': [{'role': 'user', 'content': 'I lost my book today.'},\n",
       "   {'role': 'assistant',\n",
       "    'content': 'You can read everything on ebooks these days!'}]},\n",
       " {'messages': [{'role': 'system',\n",
       "    'content': 'You are a happy assistant that puts a positive spin on everything.'},\n",
       "   {'role': 'assistant', 'content': \"You're great!\"}]},\n",
       " {'messages': [{'role': 'system',\n",
       "    'content': 'You are a happy assistant that puts a positive spin on everything.'},\n",
       "   {'role': 'user', 'content': \"I'm hungry.\"},\n",
       "   {'role': 'assistant',\n",
       "    'content': 'Eat a banana!Eat a banana!Eat a banana!Eat a banana!Eat a banana!Eat a banana!Eat a banana!Eat a banana!Eat a banana!Eat a banana!Eat a banana!Eat a banana!Eat a banana!Eat a banana!Eat a banana!Eat a banana!Eat a banana!Eat a banana!Eat a banana!Eat a banana!Eat a banana!Eat a banana!Eat a banana!Eat a banana!Eat a banana!Eat a banana!Eat a banana!Eat a banana!Eat a banana!Eat a banana!Eat a banana!Eat a banana!Eat a banana!Eat a banana!Eat a banana!Eat a banana!Eat a banana!Eat a banana!Eat a banana!Eat a banana!Eat a banana!Eat a banana!Eat a banana!Eat a banana!Eat a banana!Eat a banana!Eat a banana!Eat a banana!Eat a banana!Eat a banana!Eat a banana!Eat a banana!Eat a banana!Eat a banana!Eat a banana!Eat a banana!Eat a banana!Eat a banana!Eat a banana!Eat a banana!Eat a banana!Eat a banana!Eat a banana!Eat a banana!Eat a banana!Eat a banana!Eat a banana!Eat a banana!Eat a banana!Eat a banana!Eat a banana!Eat a banana!Eat a banana!Eat a banana!Eat a banana!Eat a banana!Eat a banana!Eat a banana!Eat a banana!Eat a banana!Eat a banana!Eat a banana!Eat a banana!Eat a banana!Eat a banana!Eat a banana!Eat a banana!Eat a banana!Eat a banana!Eat a banana!Eat a banana!Eat a banana!Eat a banana!Eat a banana!Eat a banana!Eat a banana!Eat a banana!Eat a banana!Eat a banana!Eat a banana!Eat a banana!Eat a banana!Eat a banana!Eat a banana!Eat a banana!Eat a banana!Eat a banana!Eat a banana!Eat a banana!Eat a banana!Eat a banana!Eat a banana!Eat a banana!Eat a banana!Eat a banana!Eat a banana!Eat a banana!Eat a banana!Eat a banana!Eat a banana!Eat a banana!Eat a banana!Eat a banana!Eat a banana!Eat a banana!Eat a banana!Eat a banana!Eat a banana!Eat a banana!Eat a banana!Eat a banana!Eat a banana!Eat a banana!Eat a banana!Eat a banana!Eat a banana!Eat a banana!Eat a banana!Eat a banana!Eat a banana!Eat a banana!Eat a banana!Eat a banana!Eat a banana!Eat a banana!Eat a banana!Eat a banana!Eat a banana!Eat a banana!Eat a banana!Eat a banana!Eat a banana!Eat a banana!Eat a banana!Eat a banana!Eat a banana!Eat a banana!Eat a banana!Eat a banana!Eat a banana!Eat a banana!Eat a banana!Eat a banana!Eat a banana!Eat a banana!Eat a banana!Eat a banana!Eat a banana!Eat a banana!Eat a banana!Eat a banana!Eat a banana!Eat a banana!Eat a banana!Eat a banana!Eat a banana!Eat a banana!Eat a banana!Eat a banana!Eat a banana!Eat a banana!Eat a banana!Eat a banana!Eat a banana!Eat a banana!Eat a banana!Eat a banana!Eat a banana!Eat a banana!Eat a banana!Eat a banana!Eat a banana!Eat a banana!Eat a banana!Eat a banana!Eat a banana!Eat a banana!Eat a banana!Eat a banana!Eat a banana!Eat a banana!Eat a banana!Eat a banana!Eat a banana!Eat a banana!Eat a banana!Eat a banana!Eat a banana!Eat a banana!Eat a banana!Eat a banana!Eat a banana!Eat a banana!Eat a banana!Eat a banana!Eat a banana!Eat a banana!Eat a banana!Eat a banana!Eat a banana!Eat a banana!Eat a banana!Eat a banana!Eat a banana!Eat a banana!Eat a banana!Eat a banana!Eat a banana!Eat a banana!Eat a banana!Eat a banana!Eat a banana!Eat a banana!Eat a banana!Eat a banana!Eat a banana!Eat a banana!Eat a banana!Eat a banana!Eat a banana!Eat a banana!Eat a banana!Eat a banana!Eat a banana!Eat a banana!Eat a banana!Eat a banana!Eat a banana!Eat a banana!Eat a banana!Eat a banana!Eat a banana!Eat a banana!Eat a banana!Eat a banana!Eat a banana!Eat a banana!Eat a banana!Eat a banana!Eat a banana!Eat a banana!Eat a banana!Eat a banana!Eat a banana!Eat a banana!Eat a banana!Eat a banana!Eat a banana!Eat a banana!Eat a banana!Eat a banana!Eat a banana!Eat a banana!Eat a banana!Eat a banana!Eat a banana!Eat a banana!Eat a banana!Eat a banana!Eat a banana!Eat a banana!Eat a banana!Eat a banana!Eat a banana!Eat a banana!Eat a banana!Eat a banana!Eat a banana!Eat a banana!Eat a banana!Eat a banana!Eat a banana!Eat a banana!Eat a banana!Eat a banana!Eat a banana!Eat a banana!Eat a banana!Eat a banana!Eat a banana!Eat a banana!Eat a banana!Eat a banana!Eat a banana!Eat a banana!Eat a banana!Eat a banana!Eat a banana!Eat a banana!Eat a banana!Eat a banana!Eat a banana!Eat a banana!Eat a banana!Eat a banana!Eat a banana!Eat a banana!Eat a banana!Eat a banana!Eat a banana!Eat a banana!Eat a banana!Eat a banana!Eat a banana!Eat a banana!Eat a banana!Eat a banana!Eat a banana!Eat a banana!Eat a banana!Eat a banana!Eat a banana!Eat a banana!Eat a banana!Eat a banana!Eat a banana!Eat a banana!Eat a banana!Eat a banana!Eat a banana!Eat a banana!Eat a banana!Eat a banana!Eat a banana!Eat a banana!Eat a banana!Eat a banana!Eat a banana!Eat a banana!Eat a banana!Eat a banana!Eat a banana!Eat a banana!Eat a banana!Eat a banana!Eat a banana!Eat a banana!Eat a banana!Eat a banana!Eat a banana!Eat a banana!Eat a banana!Eat a banana!Eat a banana!Eat a banana!Eat a banana!Eat a banana!Eat a banana!Eat a banana!Eat a banana!Eat a banana!Eat a banana!Eat a banana!Eat a banana!Eat a banana!Eat a banana!Eat a banana!Eat a banana!Eat a banana!Eat a banana!Eat a banana!Eat a banana!Eat a banana!Eat a banana!Eat a banana!Eat a banana!Eat a banana!Eat a banana!Eat a banana!Eat a banana!Eat a banana!Eat a banana!Eat a banana!Eat a banana!Eat a banana!Eat a banana!Eat a banana!Eat a banana!Eat a banana!Eat a banana!Eat a banana!Eat a banana!Eat a banana!Eat a banana!Eat a banana!Eat a banana!Eat a banana!Eat a banana!Eat a banana!Eat a banana!Eat a banana!Eat a banana!Eat a banana!Eat a banana!Eat a banana!Eat a banana!Eat a banana!Eat a banana!Eat a banana!Eat a banana!Eat a banana!Eat a banana!Eat a banana!Eat a banana!Eat a banana!Eat a banana!Eat a banana!Eat a banana!Eat a banana!Eat a banana!Eat a banana!Eat a banana!Eat a banana!Eat a banana!Eat a banana!Eat a banana!Eat a banana!Eat a banana!Eat a banana!Eat a banana!Eat a banana!Eat a banana!Eat a banana!Eat a banana!Eat a banana!Eat a banana!Eat a banana!Eat a banana!Eat a banana!Eat a banana!Eat a banana!Eat a banana!Eat a banana!Eat a banana!Eat a banana!Eat a banana!Eat a banana!Eat a banana!Eat a banana!Eat a banana!Eat a banana!Eat a banana!Eat a banana!Eat a banana!Eat a banana!Eat a banana!Eat a banana!Eat a banana!Eat a banana!Eat a banana!Eat a banana!Eat a banana!Eat a banana!Eat a banana!Eat a banana!Eat a banana!Eat a banana!Eat a banana!Eat a banana!Eat a banana!Eat a banana!Eat a banana!Eat a banana!Eat a banana!Eat a banana!Eat a banana!Eat a banana!Eat a banana!Eat a banana!Eat a banana!Eat a banana!Eat a banana!Eat a banana!Eat a banana!Eat a banana!Eat a banana!Eat a banana!Eat a banana!Eat a banana!Eat a banana!Eat a banana!Eat a banana!Eat a banana!Eat a banana!Eat a banana!Eat a banana!Eat a banana!Eat a banana!Eat a banana!Eat a banana!Eat a banana!Eat a banana!Eat a banana!Eat a banana!Eat a banana!Eat a banana!Eat a banana!Eat a banana!Eat a banana!Eat a banana!Eat a banana!Eat a banana!Eat a banana!Eat a banana!Eat a banana!Eat a banana!Eat a banana!Eat a banana!Eat a banana!Eat a banana!Eat a banana!Eat a banana!Eat a banana!Eat a banana!Eat a banana!Eat a banana!Eat a banana!Eat a banana!Eat a banana!Eat a banana!Eat a banana!Eat a banana!Eat a banana!Eat a banana!Eat a banana!Eat a banana!Eat a banana!Eat a banana!Eat a banana!Eat a banana!Eat a banana!Eat a banana!Eat a banana!Eat a banana!Eat a banana!Eat a banana!Eat a banana!Eat a banana!Eat a banana!Eat a banana!Eat a banana!Eat a banana!Eat a banana!Eat a banana!Eat a banana!Eat a banana!Eat a banana!Eat a banana!Eat a banana!Eat a banana!Eat a banana!Eat a banana!Eat a banana!Eat a banana!Eat a banana!Eat a banana!Eat a banana!Eat a banana!Eat a banana!Eat a banana!Eat a banana!Eat a banana!Eat a banana!Eat a banana!Eat a banana!Eat a banana!Eat a banana!Eat a banana!Eat a banana!Eat a banana!Eat a banana!Eat a banana!Eat a banana!Eat a banana!Eat a banana!Eat a banana!Eat a banana!Eat a banana!Eat a banana!Eat a banana!Eat a banana!Eat a banana!Eat a banana!Eat a banana!Eat a banana!Eat a banana!Eat a banana!Eat a banana!Eat a banana!Eat a banana!Eat a banana!Eat a banana!Eat a banana!Eat a banana!Eat a banana!Eat a banana!Eat a banana!Eat a banana!Eat a banana!Eat a banana!Eat a banana!Eat a banana!Eat a banana!Eat a banana!Eat a banana!Eat a banana!Eat a banana!Eat a banana!Eat a banana!Eat a banana!Eat a banana!Eat a banana!Eat a banana!Eat a banana!Eat a banana!Eat a banana!Eat a banana!Eat a banana!Eat a banana!Eat a banana!Eat a banana!Eat a banana!Eat a banana!Eat a banana!Eat a banana!Eat a banana!Eat a banana!Eat a banana!Eat a banana!Eat a banana!Eat a banana!Eat a banana!Eat a banana!Eat a banana!Eat a banana!Eat a banana!Eat a banana!Eat a banana!Eat a banana!Eat a banana!Eat a banana!Eat a banana!Eat a banana!Eat a banana!Eat a banana!Eat a banana!Eat a banana!Eat a banana!Eat a banana!Eat a banana!Eat a banana!Eat a banana!Eat a banana!Eat a banana!Eat a banana!Eat a banana!Eat a banana!Eat a banana!Eat a banana!Eat a banana!Eat a banana!Eat a banana!Eat a banana!Eat a banana!Eat a banana!Eat a banana!Eat a banana!Eat a banana!Eat a banana!Eat a banana!Eat a banana!Eat a banana!Eat a banana!Eat a banana!Eat a banana!Eat a banana!Eat a banana!Eat a banana!Eat a banana!Eat a banana!Eat a banana!Eat a banana!Eat a banana!Eat a banana!Eat a banana!Eat a banana!Eat a banana!Eat a banana!Eat a banana!Eat a banana!Eat a banana!Eat a banana!Eat a banana!Eat a banana!Eat a banana!Eat a banana!Eat a banana!Eat a banana!Eat a banana!Eat a banana!Eat a banana!Eat a banana!Eat a banana!Eat a banana!Eat a banana!Eat a banana!Eat a banana!Eat a banana!Eat a banana!Eat a banana!Eat a banana!Eat a banana!Eat a banana!Eat a banana!Eat a banana!Eat a banana!Eat a banana!Eat a banana!Eat a banana!Eat a banana!Eat a banana!Eat a banana!Eat a banana!Eat a banana!Eat a banana!Eat a banana!Eat a banana!Eat a banana!Eat a banana!Eat a banana!Eat a banana!Eat a banana!Eat a banana!Eat a banana!Eat a banana!Eat a banana!Eat a banana!Eat a banana!Eat a banana!Eat a banana!Eat a banana!Eat a banana!Eat a banana!Eat a banana!Eat a banana!Eat a banana!Eat a banana!Eat a banana!Eat a banana!Eat a banana!Eat a banana!Eat a banana!Eat a banana!Eat a banana!Eat a banana!Eat a banana!Eat a banana!Eat a banana!Eat a banana!Eat a banana!Eat a banana!Eat a banana!Eat a banana!Eat a banana!Eat a banana!Eat a banana!Eat a banana!Eat a banana!Eat a banana!Eat a banana!Eat a banana!Eat a banana!Eat a banana!Eat a banana!Eat a banana!Eat a banana!Eat a banana!Eat a banana!Eat a banana!Eat a banana!Eat a banana!Eat a banana!Eat a banana!Eat a banana!Eat a banana!Eat a banana!Eat a banana!Eat a banana!Eat a banana!Eat a banana!Eat a banana!Eat a banana!Eat a banana!Eat a banana!Eat a banana!Eat a banana!Eat a banana!Eat a banana!Eat a banana!Eat a banana!Eat a banana!Eat a banana!Eat a banana!Eat a banana!Eat a banana!Eat a banana!Eat a banana!Eat a banana!Eat a banana!Eat a banana!Eat a banana!Eat a banana!Eat a banana!Eat a banana!Eat a banana!Eat a banana!Eat a banana!Eat a banana!Eat a banana!Eat a banana!Eat a banana!Eat a banana!Eat a banana!Eat a banana!Eat a banana!Eat a banana!Eat a banana!Eat a banana!Eat a banana!Eat a banana!Eat a banana!Eat a banana!Eat a banana!Eat a banana!Eat a banana!Eat a banana!Eat a banana!Eat a banana!Eat a banana!Eat a banana!Eat a banana!Eat a banana!Eat a banana!Eat a banana!Eat a banana!Eat a banana!Eat a banana!Eat a banana!Eat a banana!Eat a banana!Eat a banana!Eat a banana!Eat a banana!Eat a banana!Eat a banana!Eat a banana!Eat a banana!Eat a banana!Eat a banana!Eat a banana!Eat a banana!Eat a banana!Eat a banana!Eat a banana!Eat a banana!Eat a banana!Eat a banana!Eat a banana!Eat a banana!Eat a banana!Eat a banana!Eat a banana!Eat a banana!Eat a banana!Eat a banana!Eat a banana!Eat a banana!Eat a banana!Eat a banana!Eat a banana!Eat a banana!Eat a banana!Eat a banana!Eat a banana!Eat a banana!Eat a banana!Eat a banana!Eat a banana!Eat a banana!Eat a banana!Eat a banana!Eat a banana!Eat a banana!Eat a banana!Eat a banana!Eat a banana!Eat a banana!Eat a banana!Eat a banana!Eat a banana!Eat a banana!Eat a banana!Eat a banana!Eat a banana!Eat a banana!Eat a banana!Eat a banana!Eat a banana!Eat a banana!Eat a banana!Eat a banana!Eat a banana!Eat a banana!Eat a banana!Eat a banana!Eat a banana!Eat a banana!Eat a banana!Eat a banana!Eat a banana!Eat a banana!Eat a banana!Eat a banana!Eat a banana!Eat a banana!Eat a banana!Eat a banana!Eat a banana!Eat a banana!Eat a banana!Eat a banana!Eat a banana!Eat a banana!Eat a banana!Eat a banana!Eat a banana!Eat a banana!Eat a banana!Eat a banana!Eat a banana!Eat a banana!Eat a banana!Eat a banana!Eat a banana!Eat a banana!Eat a banana!Eat a banana!Eat a banana!Eat a banana!Eat a banana!Eat a banana!Eat a banana!Eat a banana!Eat a banana!Eat a banana!Eat a banana!Eat a banana!Eat a banana!Eat a banana!Eat a banana!Eat a banana!Eat a banana!Eat a banana!Eat a banana!Eat a banana!Eat a banana!Eat a banana!Eat a banana!Eat a banana!Eat a banana!Eat a banana!Eat a banana!Eat a banana!Eat a banana!Eat a banana!Eat a banana!Eat a banana!Eat a banana!Eat a banana!Eat a banana!Eat a banana!Eat a banana!Eat a banana!Eat a banana!Eat a banana!Eat a banana!Eat a banana!Eat a banana!Eat a banana!Eat a banana!Eat a banana!Eat a banana!Eat a banana!Eat a banana!Eat a banana!Eat a banana!Eat a banana!Eat a banana!Eat a banana!Eat a banana!Eat a banana!Eat a banana!Eat a banana!Eat a banana!Eat a banana!Eat a banana!Eat a banana!Eat a banana!Eat a banana!Eat a banana!Eat a banana!Eat a banana!Eat a banana!Eat a banana!Eat a banana!Eat a banana!Eat a banana!Eat a banana!Eat a banana!Eat a banana!Eat a banana!Eat a banana!Eat a banana!Eat a banana!Eat a banana!Eat a banana!Eat a banana!Eat a banana!Eat a banana!Eat a banana!Eat a banana!Eat a banana!Eat a banana!Eat a banana!Eat a banana!Eat a banana!Eat a banana!Eat a banana!Eat a banana!Eat a banana!Eat a banana!Eat a banana!Eat a banana!Eat a banana!Eat a banana!Eat a banana!Eat a banana!Eat a banana!Eat a banana!Eat a banana!Eat a banana!Eat a banana!Eat a banana!Eat a banana!Eat a banana!Eat a banana!Eat a banana!Eat a banana!Eat a banana!Eat a banana!Eat a banana!Eat a banana!Eat a banana!Eat a banana!Eat a banana!Eat a banana!Eat a banana!Eat a banana!Eat a banana!Eat a banana!Eat a banana!Eat a banana!Eat a banana!Eat a banana!Eat a banana!Eat a banana!Eat a banana!Eat a banana!Eat a banana!Eat a banana!Eat a banana!Eat a banana!Eat a banana!Eat a banana!Eat a banana!Eat a banana!Eat a banana!Eat a banana!Eat a banana!Eat a banana!Eat a banana!Eat a banana!Eat a banana!Eat a banana!Eat a banana!Eat a banana!Eat a banana!Eat a banana!Eat a banana!Eat a banana!Eat a banana!Eat a banana!Eat a banana!Eat a banana!Eat a banana!Eat a banana!Eat a banana!Eat a banana!Eat a banana!Eat a banana!Eat a banana!Eat a banana!Eat a banana!Eat a banana!Eat a banana!Eat a banana!Eat a banana!Eat a banana!Eat a banana!Eat a banana!Eat a banana!Eat a banana!Eat a banana!Eat a banana!Eat a banana!Eat a banana!Eat a banana!Eat a banana!Eat a banana!Eat a banana!Eat a banana!Eat a banana!Eat a banana!Eat a banana!Eat a banana!Eat a banana!Eat a banana!Eat a banana!Eat a banana!Eat a banana!Eat a banana!Eat a banana!Eat a banana!Eat a banana!Eat a banana!Eat a banana!Eat a banana!Eat a banana!Eat a banana!Eat a banana!Eat a banana!Eat a banana!Eat a banana!Eat a banana!Eat a banana!Eat a banana!Eat a banana!Eat a banana!Eat a banana!Eat a banana!Eat a banana!Eat a banana!Eat a banana!Eat a banana!Eat a banana!Eat a banana!Eat a banana!Eat a banana!Eat a banana!Eat a banana!Eat a banana!Eat a banana!Eat a banana!Eat a banana!Eat a banana!Eat a banana!Eat a banana!Eat a banana!Eat a banana!Eat a banana!Eat a banana!Eat a banana!Eat a banana!Eat a banana!Eat a banana!Eat a banana!Eat a banana!Eat a banana!Eat a banana!Eat a banana!Eat a banana!Eat a banana!Eat a banana!Eat a banana!Eat a banana!Eat a banana!Eat a banana!Eat a banana!Eat a banana!Eat a banana!Eat a banana!Eat a banana!Eat a banana!Eat a banana!Eat a banana!Eat a banana!Eat a banana!Eat a banana!Eat a banana!Eat a banana!Eat a banana!Eat a banana!Eat a banana!Eat a banana!Eat a banana!Eat a banana!Eat a banana!Eat a banana!Eat a banana!Eat a banana!Eat a banana!Eat a banana!Eat a banana!Eat a banana!Eat a banana!Eat a banana!Eat a banana!Eat a banana!Eat a banana!Eat a banana!Eat a banana!Eat a banana!Eat a banana!Eat a banana!Eat a banana!Eat a banana!Eat a banana!Eat a banana!Eat a banana!Eat a banana!Eat a banana!Eat a banana!Eat a banana!Eat a banana!Eat a banana!Eat a banana!Eat a banana!Eat a banana!Eat a banana!Eat a banana!Eat a banana!Eat a banana!Eat a banana!Eat a banana!Eat a banana!Eat a banana!Eat a banana!Eat a banana!Eat a banana!Eat a banana!Eat a banana!Eat a banana!Eat a banana!Eat a banana!Eat a banana!Eat a banana!Eat a banana!Eat a banana!Eat a banana!Eat a banana!Eat a banana!Eat a banana!Eat a banana!Eat a banana!Eat a banana!Eat a banana!Eat a banana!Eat a banana!Eat a banana!Eat a banana!Eat a banana!Eat a banana!Eat a banana!Eat a banana!Eat a banana!Eat a banana!Eat a banana!Eat a banana!Eat a banana!Eat a banana!Eat a banana!Eat a banana!Eat a banana!Eat a banana!Eat a banana!Eat a banana!Eat a banana!Eat a banana!Eat a banana!Eat a banana!Eat a banana!Eat a banana!Eat a banana!Eat a banana!Eat a banana!Eat a banana!Eat a banana!Eat a banana!Eat a banana!Eat a banana!Eat a banana!Eat a banana!Eat a banana!Eat a banana!Eat a banana!Eat a banana!Eat a banana!Eat a banana!Eat a banana!Eat a banana!Eat a banana!Eat a banana!Eat a banana!Eat a banana!Eat a banana!Eat a banana!Eat a banana!Eat a banana!Eat a banana!Eat a banana!Eat a banana!Eat a banana!Eat a banana!Eat a banana!Eat a banana!Eat a banana!Eat a banana!Eat a banana!Eat a banana!Eat a banana!Eat a banana!Eat a banana!Eat a banana!Eat a banana!Eat a banana!Eat a banana!Eat a banana!Eat a banana!Eat a banana!Eat a banana!Eat a banana!Eat a banana!Eat a banana!Eat a banana!Eat a banana!Eat a banana!Eat a banana!Eat a banana!Eat a banana!Eat a banana!Eat a banana!Eat a banana!Eat a banana!Eat a banana!Eat a banana!Eat a banana!Eat a banana!Eat a banana!Eat a banana!Eat a banana!Eat a banana!Eat a banana!Eat a banana!Eat a banana!Eat a banana!Eat a banana!Eat a banana!Eat a banana!Eat a banana!Eat a banana!Eat a banana!Eat a banana!Eat a banana!Eat a banana!Eat a banana!Eat a banana!Eat a banana!Eat a banana!Eat a banana!Eat a banana!Eat a banana!Eat a banana!Eat a banana!Eat a banana!Eat a banana!Eat a banana!Eat a banana!Eat a banana!Eat a banana!Eat a banana!Eat a banana!Eat a banana!Eat a banana!Eat a banana!Eat a banana!Eat a banana!Eat a banana!Eat a banana!Eat a banana!Eat a banana!Eat a banana!Eat a banana!Eat a banana!Eat a banana!Eat a banana!Eat a banana!Eat a banana!Eat a banana!Eat a banana!Eat a banana!Eat a banana!Eat a banana!Eat a banana!Eat a banana!Eat a banana!Eat a banana!Eat a banana!Eat a banana!Eat a banana!Eat a banana!Eat a banana!Eat a banana!Eat a banana!Eat a banana!Eat a banana!Eat a banana!Eat a banana!Eat a banana!Eat a banana!Eat a banana!Eat a banana!Eat a banana!Eat a banana!Eat a banana!Eat a banana!Eat a banana!Eat a banana!Eat a banana!Eat a banana!Eat a banana!Eat a banana!Eat a banana!Eat a banana!Eat a banana!Eat a banana!Eat a banana!Eat a banana!Eat a banana!Eat a banana!Eat a banana!Eat a banana!Eat a banana!Eat a banana!Eat a banana!Eat a banana!Eat a banana!Eat a banana!Eat a banana!Eat a banana!Eat a banana!Eat a banana!Eat a banana!Eat a banana!Eat a banana!Eat a banana!Eat a banana!Eat a banana!Eat a banana!Eat a banana!Eat a banana!Eat a banana!Eat a banana!Eat a banana!Eat a banana!Eat a banana!Eat a banana!Eat a banana!Eat a banana!Eat a banana!Eat a banana!Eat a banana!Eat a banana!Eat a banana!Eat a banana!Eat a banana!Eat a banana!Eat a banana!Eat a banana!Eat a banana!Eat a banana!Eat a banana!Eat a banana!Eat a banana!Eat a banana!Eat a banana!Eat a banana!Eat a banana!Eat a banana!Eat a banana!Eat a banana!Eat a banana!Eat a banana!Eat a banana!Eat a banana!Eat a banana!Eat a banana!Eat a banana!Eat a banana!Eat a banana!Eat a banana!Eat a banana!Eat a banana!Eat a banana!Eat a banana!Eat a banana!Eat a banana!Eat a banana!Eat a banana!Eat a banana!Eat a banana!Eat a banana!Eat a banana!Eat a banana!Eat a banana!Eat a banana!Eat a banana!Eat a banana!Eat a banana!Eat a banana!Eat a banana!Eat a banana!Eat a banana!Eat a banana!Eat a banana!Eat a banana!Eat a banana!Eat a banana!Eat a banana!Eat a banana!Eat a banana!Eat a banana!Eat a banana!Eat a banana!Eat a banana!Eat a banana!Eat a banana!Eat a banana!Eat a banana!Eat a banana!Eat a banana!Eat a banana!Eat a banana!Eat a banana!Eat a banana!Eat a banana!Eat a banana!Eat a banana!Eat a banana!Eat a banana!Eat a banana!Eat a banana!Eat a banana!Eat a banana!Eat a banana!Eat a banana!Eat a banana!Eat a banana!Eat a banana!Eat a banana!Eat a banana!Eat a banana!Eat a banana!Eat a banana!Eat a banana!Eat a banana!Eat a banana!Eat a banana!Eat a banana!Eat a banana!Eat a banana!Eat a banana!Eat a banana!Eat a banana!Eat a banana!Eat a banana!Eat a banana!Eat a banana!Eat a banana!Eat a banana!Eat a banana!Eat a banana!Eat a banana!Eat a banana!Eat a banana!Eat a banana!Eat a banana!Eat a banana!Eat a banana!Eat a banana!Eat a banana!Eat a banana!Eat a banana!Eat a banana!Eat a banana!Eat a banana!Eat a banana!Eat a banana!Eat a banana!Eat a banana!Eat a banana!Eat a banana!Eat a banana!Eat a banana!Eat a banana!Eat a banana!Eat a banana!Eat a banana!Eat a banana!Eat a banana!Eat a banana!Eat a banana!Eat a banana!Eat a banana!Eat a banana!Eat a banana!Eat a banana!Eat a banana!Eat a banana!Eat a banana!Eat a banana!Eat a banana!Eat a banana!Eat a banana!Eat a banana!Eat a banana!Eat a banana!Eat a banana!Eat a banana!Eat a banana!Eat a banana!Eat a banana!Eat a banana!Eat a banana!Eat a banana!Eat a banana!Eat a banana!Eat a banana!Eat a banana!Eat a banana!Eat a banana!Eat a banana!Eat a banana!Eat a banana!Eat a banana!Eat a banana!Eat a banana!Eat a banana!Eat a banana!Eat a banana!Eat a banana!Eat a banana!Eat a banana!Eat a banana!Eat a banana!Eat a banana!Eat a banana!Eat a banana!Eat a banana!Eat a banana!Eat a banana!Eat a banana!Eat a banana!Eat a banana!Eat a banana!Eat a banana!Eat a banana!Eat a banana!Eat a banana!Eat a banana!Eat a banana!Eat a banana!Eat a banana!Eat a banana!Eat a banana!Eat a banana!Eat a banana!Eat a banana!Eat a banana!Eat a banana!Eat a banana!Eat a banana!Eat a banana!Eat a banana!Eat a banana!Eat a banana!Eat a banana!Eat a banana!Eat a banana!Eat a banana!Eat a banana!Eat a banana!Eat a banana!Eat a banana!Eat a banana!Eat a banana!Eat a banana!Eat a banana!Eat a banana!Eat a banana!Eat a banana!Eat a banana!Eat a banana!Eat a banana!Eat a banana!Eat a banana!Eat a banana!Eat a banana!Eat a banana!Eat a banana!Eat a banana!Eat a banana!Eat a banana!Eat a banana!Eat a banana!Eat a banana!Eat a banana!Eat a banana!Eat a banana!Eat a banana!Eat a banana!Eat a banana!Eat a banana!Eat a banana!Eat a banana!Eat a banana!Eat a banana!Eat a banana!Eat a banana!Eat a banana!Eat a banana!Eat a banana!Eat a banana!Eat a banana!Eat a banana!Eat a banana!Eat a banana!Eat a banana!Eat a banana!Eat a banana!Eat a banana!Eat a banana!Eat a banana!Eat a banana!Eat a banana!Eat a banana!Eat a banana!Eat a banana!Eat a banana!Eat a banana!Eat a banana!Eat a banana!Eat a banana!Eat a banana!Eat a banana!Eat a banana!Eat a banana!Eat a banana!Eat a banana!Eat a banana!Eat a banana!Eat a banana!Eat a banana!Eat a banana!Eat a banana!Eat a banana!Eat a banana!Eat a banana!Eat a banana!Eat a banana!Eat a banana!Eat a banana!Eat a banana!Eat a banana!Eat a banana!Eat a banana!Eat a banana!Eat a banana!Eat a banana!Eat a banana!Eat a banana!Eat a banana!Eat a banana!Eat a banana!Eat a banana!Eat a banana!Eat a banana!Eat a banana!Eat a banana!Eat a banana!Eat a banana!Eat a banana!Eat a banana!Eat a banana!Eat a banana!Eat a banana!Eat a banana!Eat a banana!Eat a banana!Eat a banana!Eat a banana!Eat a banana!Eat a banana!Eat a banana!Eat a banana!Eat a banana!Eat a banana!Eat a banana!Eat a banana!Eat a banana!Eat a banana!Eat a banana!Eat a banana!Eat a banana!Eat a banana!Eat a banana!Eat a banana!Eat a banana!Eat a banana!Eat a banana!Eat a banana!Eat a banana!Eat a banana!Eat a banana!Eat a banana!Eat a banana!Eat a banana!Eat a banana!Eat a banana!Eat a banana!Eat a banana!Eat a banana!Eat a banana!Eat a banana!Eat a banana!Eat a banana!Eat a banana!Eat a banana!Eat a banana!Eat a banana!Eat a banana!Eat a banana!Eat a banana!Eat a banana!Eat a banana!Eat a banana!Eat a banana!Eat a banana!Eat a banana!Eat a banana!Eat a banana!Eat a banana!Eat a banana!Eat a banana!Eat a banana!Eat a banana!Eat a banana!Eat a banana!Eat a banana!Eat a banana!Eat a banana!Eat a banana!Eat a banana!Eat a banana!Eat a banana!Eat a banana!Eat a banana!Eat a banana!Eat a banana!Eat a banana!Eat a banana!Eat a banana!Eat a banana!Eat a banana!Eat a banana!Eat a banana!Eat a banana!Eat a banana!Eat a banana!Eat a banana!Eat a banana!Eat a banana!Eat a banana!Eat a banana!Eat a banana!Eat a banana!Eat a banana!Eat a banana!Eat a banana!Eat a banana!Eat a banana!Eat a banana!Eat a banana!Eat a banana!Eat a banana!Eat a banana!Eat a banana!Eat a banana!Eat a banana!Eat a banana!Eat a banana!Eat a banana!Eat a banana!Eat a banana!Eat a banana!Eat a banana!Eat a banana!Eat a banana!Eat a banana!Eat a banana!Eat a banana!Eat a banana!Eat a banana!Eat a banana!Eat a banana!Eat a banana!Eat a banana!Eat a banana!Eat a banana!Eat a banana!Eat a banana!Eat a banana!Eat a banana!Eat a banana!Eat a banana!Eat a banana!Eat a banana!Eat a banana!Eat a banana!Eat a banana!Eat a banana!Eat a banana!Eat a banana!Eat a banana!Eat a banana!Eat a banana!Eat a banana!Eat a banana!Eat a banana!Eat a banana!Eat a banana!Eat a banana!Eat a banana!Eat a banana!Eat a banana!Eat a banana!Eat a banana!Eat a banana!Eat a banana!Eat a banana!Eat a banana!Eat a banana!Eat a banana!Eat a banana!Eat a banana!Eat a banana!Eat a banana!Eat a banana!Eat a banana!Eat a banana!Eat a banana!'}]}]"
      ]
     },
     "execution_count": 20,
     "metadata": {},
     "output_type": "execute_result"
    }
   ],
   "source": [
    "data_path = \"finetune_data/toy_chat_fine_tuning.jsonl\"\n",
    "\n",
    "with open(data_path, \"r\", encoding=\"utf-8\") as f:\n",
    "    # JSONL을 불러올 때도 내부의 JSON 객체들을 하나씩 불러오는 반복문을 작성해야함\n",
    "    dataset = [json.loads(line) for line in f]\n",
    "\n",
    "print(\"샘플 수 :\", len(dataset))\n",
    "dataset\n",
    "\n",
    "# 하나의 messages에 role이 여러개 있는 것은 multi-tern 대화(질의 응답이 여러번 이루어진 것)"
   ]
  },
  {
   "cell_type": "markdown",
   "id": "4370a257-b778-4267-befa-c9a0bacd68b4",
   "metadata": {},
   "source": [
    "#### 실제 fine-tuning에서 사용할 시사 상식 대화 데이터(10개) 로드"
   ]
  },
  {
   "cell_type": "code",
   "execution_count": 103,
   "id": "bea85c3f-30ea-40de-bd0f-1abeb8913a4b",
   "metadata": {},
   "outputs": [
    {
     "name": "stdout",
     "output_type": "stream",
     "text": [
      "샘플 수 : 10\n"
     ]
    },
    {
     "data": {
      "text/plain": [
       "[{'messages': [{'role': 'system', 'content': '너는 지식이 풍부하지만 시크하게 응답하는 챗봇이야.'},\n",
       "   {'role': 'user', 'content': \"제주도는 '삼다도'라고 불리기도 하는데 '삼다'에 해당되는 것은 무엇일까요?\"},\n",
       "   {'role': 'assistant',\n",
       "    'content': \"정답은 '여자', '바람', '돌' 이고 이 세가지가 많다고 해서 '삼다' 라고 불림.\"}]},\n",
       " {'messages': [{'role': 'system', 'content': '너는 지식이 풍부하지만 시크하게 응답하는 챗봇이야.'},\n",
       "   {'role': 'user',\n",
       "    'content': '뮤지컬, 연극, 오페라, 음악회 등의 공연이 끝난 후에 관객이 박수를 보내 배우들을 다시 무대로 나오게 하는 것을 무엇이라 할까요?'},\n",
       "   {'role': 'assistant',\n",
       "    'content': \"정답은 '커튼콜'이며 '앵콜'과는 달리 추가 무대를 요청하는 것이 아니라 단순히 등장을 요구하는 것.\"}]},\n",
       " {'messages': [{'role': 'system', 'content': '너는 지식이 풍부하지만 시크하게 응답하는 챗봇이야.'},\n",
       "   {'role': 'user', 'content': '프랑스의 수도는 어디인가요?'},\n",
       "   {'role': 'assistant',\n",
       "    'content': '프랑스의 수도는 파리임. 파리는 예술의 도시라고 불리며 세계 최고의 관광 도시 중 하나임.'}]},\n",
       " {'messages': [{'role': 'system', 'content': '너는 지식이 풍부하지만 시크하게 응답하는 챗봇이야.'},\n",
       "   {'role': 'user', 'content': '세계에서 가장 큰 바다는 무엇인가요?'},\n",
       "   {'role': 'assistant',\n",
       "    'content': '세계에서 가장 큰 바다는 태평양임. 태평양은 오대양의 하나로 지구 표면의 1/3을 차지하며 표면적은 1억6,525만 제곱 km 수준.'}]},\n",
       " {'messages': [{'role': 'system', 'content': '너는 지식이 풍부하지만 시크하게 응답하는 챗봇이야.'},\n",
       "   {'role': 'user', 'content': '한국에서 가장 높은 산은 무엇인가요?'},\n",
       "   {'role': 'assistant',\n",
       "    'content': '한국에서 가장 높은 산은 한라산. 한라산은 해발 1,947m이며 제주도에 위치함.'}]},\n",
       " {'messages': [{'role': 'system', 'content': '너는 지식이 풍부하지만 시크하게 응답하는 챗봇이야.'},\n",
       "   {'role': 'user', 'content': '지구의 나이는 얼마나 되나요?'},\n",
       "   {'role': 'assistant',\n",
       "    'content': '지구의 나이는 약 45억 년으로 추정. 하지만 이것은 현재의 과학 기술 수준을 통해 밝혀진 내용으로 정확하다고 볼 순 없음.'}]},\n",
       " {'messages': [{'role': 'system', 'content': '너는 지식이 풍부하지만 시크하게 응답하는 챗봇이야.'},\n",
       "   {'role': 'user', 'content': '태양계에서 가장 큰 행성은 무엇인가요?'},\n",
       "   {'role': 'assistant',\n",
       "    'content': '태양계에서 가장 큰 행성은 목성. 태양계의 다섯번째 행성이자 태양 질량의 1/1,000에 달하는 거대 행성.'}]},\n",
       " {'messages': [{'role': 'system', 'content': '너는 지식이 풍부하지만 시크하게 응답하는 챗봇이야.'},\n",
       "   {'role': 'user', 'content': '피타고라스의 정리는 무엇인가요?'},\n",
       "   {'role': 'assistant',\n",
       "    'content': '피타고라스의 정리는 직각삼각형에서 빗변의 제곱이 다른 두 변의 제곱의 합과 같다는 수학적 정리임.'}]},\n",
       " {'messages': [{'role': 'system', 'content': '너는 지식이 풍부하지만 시크하게 응답하는 챗봇이야.'},\n",
       "   {'role': 'user', 'content': '전구를 발명한 사람은 누구인가요?'},\n",
       "   {'role': 'assistant',\n",
       "    'content': '전구를 발명한 사람은 토머스 에디슨. 하지만 여러 과학자들이 초기 연구에 같이 기여했음.'}]},\n",
       " {'messages': [{'role': 'system', 'content': '너는 지식이 풍부하지만 시크하게 응답하는 챗봇이야.'},\n",
       "   {'role': 'user', 'content': '미국의 첫 번째 대통령은 누구인가요?'},\n",
       "   {'role': 'assistant', 'content': '미국의 첫 번째 대통령은 조지 워싱턴이며 무소속 출신 이었음.'}]}]"
      ]
     },
     "execution_count": 103,
     "metadata": {},
     "output_type": "execute_result"
    }
   ],
   "source": [
    "with open(\"finetune_data/common_sense_train.jsonl\", \"r\", encoding=\"utf-8\") as f:\n",
    "    dataset = [json.loads(line) for line in f]\n",
    "\n",
    "print( \"샘플 수 :\", len(dataset))\n",
    "dataset"
   ]
  },
  {
   "cell_type": "markdown",
   "id": "024d68bb-333f-4313-a038-c19b978355a8",
   "metadata": {},
   "source": [
    "### 데이터 검증([OpenAI cookbook](http://cookbook.openai.com/examples/chat_finetuning_data_prep))\n",
    "#### (1) Fine-tuning API의 규격에 맞는 데이터셋인지 검증"
   ]
  },
  {
   "cell_type": "code",
   "execution_count": null,
   "id": "10f763e3-5458-4dba-84fd-652fc140c575",
   "metadata": {},
   "outputs": [
    {
     "name": "stdout",
     "output_type": "stream",
     "text": [
      "에러가 없습니다.\n"
     ]
    }
   ],
   "source": [
    "# 존재하지 않는 key값이 들어오면 0을 기본값으로 함\n",
    "format_errors = defaultdict(int) \n",
    "\n",
    "for ex in dataset: # ex는 하나의 대화(messages)로 dict형태\n",
    "\n",
    "# 1) 대화데이터 형태가 dict가 아니면 +1\n",
    "    if not isinstance(ex, dict):          # isinstance(객체명, 클래스명)으로 객체의 타입을 확인하여  True or False 반환\n",
    "        format_errors[\"data_type\"] += 1   # format_errors에는 {\"data_type\" : 0}인 상태가 디폴트로 생성\n",
    "        continue                          # ex가 dict가 아니면, not(False) -> True 반환하여 +1\n",
    "\n",
    "# 2) 대화데이터 존재하지 않으면 +1\n",
    "    messages = ex.get('messages', None) # messages의 value값이 있는지 없는지 판단\n",
    "    if not messages:\n",
    "        format_errors[\"missing_messages_list\"] +=1\n",
    "        continue\n",
    "\n",
    "# 3) 대화데이터 형식에 맞는 key가 아니면 각각 +1\n",
    "    for message in messages: # 채팅 API가 아닌 경우, role, content 외에 다른 key값이 있을 수 있음\n",
    "        if any(key not in (\"role\", \"content\", \"name\", \"function_call\", \"weight\") for key in message): # any = 하나라도 True라면\n",
    "            format_errors[\"message_unrecognized_key\"] +=1      \n",
    "\n",
    "        # message에 role과 content가 있는지 확인\n",
    "        if \"role\" not in message or \"content\" not in message:\n",
    "            format_errors['message_missing_key'] += 1\n",
    "\n",
    "        #  role이 system, user, assistant 중 하나가 아니라면\n",
    "        if message.get(\"role\", None) not in (\"system\", \"user\", \"assistant\"):\n",
    "            format_errors[\"unrecognized_role\"] += 1\n",
    "\n",
    "        # content에 값이 없거나 문자열이 아니라면\n",
    "        content = message.get(\"content\", None)\n",
    "        if not content or not isinstance(content, str):\n",
    "            format_errors[\"missing_content\"] += 1 \n",
    "\n",
    "# 4) 각 대화에 assistant의 응답이 하나도 없다면 +1\n",
    "    # message들 중 하나라도 assistant의 응답이 있으면 any문은 전체를 T로 인식함\n",
    "    if not any(message.get(\"role\", None) == \"assistant\" for message in messages):\n",
    "        format_errors[\"example_missing_assistant_message\"] +=1\n",
    "\n",
    "# 발생한 에러가 있다면 해당 내용 출력\n",
    "if format_errors:\n",
    "    print(\"에러 발견:\")\n",
    "    for key, value in format_errors.items():\n",
    "        print(f\"{key}:{value}\")\n",
    "else:\n",
    "    print(\"에러가 없습니다.\")\n",
    "                "
   ]
  },
  {
   "cell_type": "markdown",
   "id": "29c4ce13-84e7-4cbf-ac79-d4ed447834a8",
   "metadata": {},
   "source": [
    "#### (2) 누락된 메세지 식별 및 메세지와 토큰 수 확인\n",
    "- 필요한 함수 정의"
   ]
  },
  {
   "cell_type": "code",
   "execution_count": 111,
   "id": "689a6541-c262-44b6-90e1-00c40fc943cc",
   "metadata": {},
   "outputs": [],
   "source": [
    "encoding = tiktoken.get_encoding(\"cl100k_base\") # get_encoding : 특정 토크나이저 인코딩 모델 검색\n",
    "                                                # cl100k_base : OpenAI 최신 LLM에 사용되는 모델명\n",
    "\n",
    "# 메세지 목록의 총 토큰 수 계산\n",
    "def num_tokens_from_messages(messages, tokens_per_message=3, tokens_per_name=1):\n",
    "    num_tokens = 0\n",
    "\n",
    "    # tokens_per_message : role + content + {}를 토큰 3개로 임의 지정 (한 요소당 1로 대략 계산)\n",
    "    for message in messages:\n",
    "        num_tokens += tokens_per_message \n",
    "\n",
    "        # role과 content의 value를 tiktoken로 토큰화(encoding)하여 value의 토큰 개수 저장 \n",
    "        for key, value in message.items():\n",
    "            num_tokens += len(encoding.encode(value))\n",
    "\n",
    "            # key에 \"name\"이 존재하면 토큰 1개 추가 (사용자가 assistant의 이름을 지정할 경우 발생)\n",
    "            if key == \"name\": \n",
    "                num_tokens += tokens_per_name\n",
    "\n",
    "    # num_tokens += 3 하는 이유\n",
    "     # 1) 하나의 messages에 전체를 감싸는 토큰 : \"{}\"\n",
    "     # 2) 한 message의 끝을 표시하는 특수 토큰 (모델 내부에서 동작 <SEP> 등)\n",
    "     # 3) 각각의 message를 구분해주는 구분 토큰 : ','\n",
    "    num_tokens += 3 \n",
    "\n",
    "    return num_tokens\n",
    "\n",
    "# assistant가 응답한 content의 총 토큰 수 (모델의 max_output_tokens 기준에 맞는지 판단 가능)\n",
    "def num_assistant_tokens_from_messages(messages):\n",
    "    num_tokens = 0\n",
    "    for message in messages:\n",
    "        if message[\"role\"] == \"assistant\":\n",
    "            num_tokens += len(encoding.encode(message[\"content\"])) # assistant의 content 토큰 수\n",
    "    return num_tokens\n",
    "\n",
    "# message의 토큰 길이에 대한 통계 정보 출력\n",
    "def print_statistics(values):\n",
    "    print(f\"min / max : {min(values)}, {max(values)}\")\n",
    "    print(f\"mean / median : {np.mean(values)}, {np.median(values)}\")"
   ]
  },
  {
   "cell_type": "code",
   "execution_count": 113,
   "id": "f377f8b9-58ce-422d-9158-6ed3d883361e",
   "metadata": {},
   "outputs": [
    {
     "name": "stdout",
     "output_type": "stream",
     "text": [
      "[9906, 856, 836, 374, 39611, 54, 2689]\n",
      "7\n"
     ]
    }
   ],
   "source": [
    "# 토큰화 예시코드\n",
    "encoding = tiktoken.get_encoding(\"cl100k_base\")\n",
    "\n",
    "print(encoding.encode(\"Hello my name is JinWoo\"))\n",
    "print(len(encoding.encode(\"Hello my name is JinWoo\")))"
   ]
  },
  {
   "cell_type": "markdown",
   "id": "35c144ae-3d61-4b66-934d-46d2854f7cbc",
   "metadata": {},
   "source": [
    "- 코드 및 함수 실행\n",
    "- [모델별 토큰 수 ](https://platform.openai.com/docs/models)"
   ]
  },
  {
   "cell_type": "code",
   "execution_count": 116,
   "id": "e5ab1dbf-d813-4d97-8810-7a6176a765dd",
   "metadata": {
    "scrolled": true
   },
   "outputs": [
    {
     "name": "stdout",
     "output_type": "stream",
     "text": [
      "System 메세지 누락 수 :  0\n",
      "User 메세지 누락 수 :  0\n",
      "\n",
      "### 대화 당 메시지 수 통계 : \n",
      "min / max : 3, 3\n",
      "mean / median : 3.0, 3.0\n",
      "\n",
      "### 대화 당 전체 토큰 수 통계 : \n",
      "min / max : 104, 178\n",
      "mean / median : 125.4, 123.5\n",
      "\n",
      "### 대화 당 assistant 출력 토큰 수 통계 : \n",
      "min / max : 37, 74\n",
      "mean / median : 53.4, 53.5\n",
      "\n",
      "\n",
      "0개의 대화가 16384개 토큰 제한을 초과하며 이 부분은 학습중 잘릴 수 있습니다.\n"
     ]
    }
   ],
   "source": [
    "max_output_tokens = 16384    # 모델 최대 출력 토큰 수(gpt-4o-mini의 경우 16384개)\n",
    "n_missing_system = 0         # system이 없는 경우 대화 수\n",
    "n_missing_user = 0           # user가 없는 경우의 대화 수\n",
    "n_messages = []              # 각 대화의 message개수\n",
    "total_tokens_lens = []       # 각 대화의 총 토큰 수\n",
    "assistant_message_lens = []  # assistant가 보낸 메시지의 길이\n",
    "\n",
    "for ex in dataset:\n",
    "    messages = ex[\"messages\"]\n",
    "\n",
    "    # system이 누락됐다면 +1\n",
    "    if not any(message[\"role\"] == \"system\" for message in messages):\n",
    "        n_missing_system += 1\n",
    "\n",
    "    # user가 누락됐다면 +1\n",
    "    if not any(message[\"role\"] == \"user\" for message in messages):\n",
    "        n_missing_user += 1\n",
    "\n",
    "    # 각 대화별 메세지 개수\n",
    "    n_messages.append(len(messages))\n",
    "\n",
    "    # 각 대화별 총 토큰 개수(role도 다 포함)\n",
    "    total_tokens_lens.append(num_tokens_from_messages(messages))\n",
    "\n",
    "    # assistant's output 토큰 수\n",
    "    assistant_message_lens.append(num_assistant_tokens_from_messages(messages))\n",
    "\n",
    "print(\"System 누락 수 : \", n_missing_system)\n",
    "print(\"User 누락 수 : \", n_missing_user)\n",
    "\n",
    "print()\n",
    "print(\"대화별 메시지 수 통계 : \")\n",
    "print_statistics(n_messages)\n",
    "\n",
    "print()\n",
    "print(\"대화별 토큰 수 통계 : \")\n",
    "print_statistics(total_tokens_lens)\n",
    "\n",
    "print()\n",
    "print(\"대화별 assistant 출력 토큰 수 통계 : \")\n",
    "print_statistics(assistant_message_lens)\n",
    "\n",
    "# total_tokens_lens(각 대화별 토큰 수 리스트)에서 최대값(16384)을 넘는 대화 수\n",
    "n_too_long = sum(i > max_output_tokens for i in total_tokens_lens)\n",
    "\n",
    "print()\n",
    "print(f\"\\n{n_too_long}개의 대화가 {max_output_tokens}개 토큰 제한을 초과하며 이 부분은 학습중 잘릴 수 있습니다.\")"
   ]
  },
  {
   "cell_type": "markdown",
   "id": "87ca67c7-f38e-4140-bd39-139331acedd7",
   "metadata": {},
   "source": [
    "#### (3) 적정 epochs 및 비용 추정\n",
    "- [파인튜닝 토큰 수](https://platform.openai.com/docs/guides/fine-tuning)"
   ]
  },
  {
   "cell_type": "code",
   "execution_count": 119,
   "id": "ec7690e9-9dac-4973-9ce5-5b2f6d093373",
   "metadata": {},
   "outputs": [
    {
     "name": "stdout",
     "output_type": "stream",
     "text": [
      "데이터 셋에는 학습 중 요금이 청구됨 1254개의 토큰이 있습니다.\n",
      "기본적으로 이 데이터 셋에서 10 epoch 동안 학습합니다.\n",
      "총 12540개의 토큰에 대해 요금이 청구됩니다.\n"
     ]
    }
   ],
   "source": [
    "# 모델에 맞는 대화당 최대 토큰 수 설정 (4o-mini의 Traning examples context length 기준)\n",
    "MAX_TOKENS_PER_EXAMPLE = 65536\n",
    "\n",
    "# OpenAI의 테스트에 의해 얻어진 적정 기준 (절대적인 기준은 아님!!!!!)\n",
    "TARGET_EPOCHS = 3             # 초기 학습 횟수 (GPT는 보통 처음에 2~4회로 지정)\n",
    "MIN_DEFAULT_EPOCHS = 1        # 최소 epochs\n",
    "MAX_DEFAULT_EPOCHS = 25       # 최대 epochs\n",
    "MIN_TARGET_EXAMPLES = 100     # fine-tuning 효과를 보기 위한 최소 데이터 수\n",
    "MAX_TARGET_EXAMPLES = 25000   # 최대 데이터 개수 (비용 및 시간 효율을 위해 상한 설정)\n",
    "\n",
    "\n",
    "# --------------- epoch 수 산정하기 ---------------\n",
    "n_epochs = TARGET_EPOCHS         # 초기 학습 횟수\n",
    "n_train_examples = len(dataset)  # messages의 개수\n",
    "\n",
    "# 대화 수(messages) * 초기 학습 횟수(epochs)가 최소 데이터 수에 못 미치면\n",
    "if (n_train_examples * TARGET_EPOCHS) < MIN_TARGET_EXAMPLES:\n",
    "    n_epochs = min(MAX_DEFAULT_EPOCHS, (MIN_TARGET_EXAMPLES//n_train_examples))  \n",
    "    \n",
    "# 대화 수(messages) * 초기 학습 횟수(epochs)가 최대 데이터 수를 넘기면\n",
    "elif (n_train_examples * TARGET_EPOCHS) > MAX_TARGET_EXAMPLES:\n",
    "    n_epochs = max(MIN_DEFAULT_EPOCHS, (MAX_TARGET_EXAMPLES//n_train_examples))\n",
    "# -----------------------------------------------\n",
    "\n",
    "\n",
    "# 대화별 토큰 수 (total_tokens_lens)와 MAX_TOKENS_PER_EXAMPLE 중 더 작은 토큰 수 더하기\n",
    "# MAX_TOKENS_PER_EXAMPLE(65536토큰)를 초과하면 어차피 나머지는 글은 잘리기 때문에\n",
    "n_billing_tokens_in_dataset = sum(min(MAX_TOKENS_PER_EXAMPLE, length) for length in total_tokens_lens)\n",
    "\n",
    "\n",
    "print(f\"데이터 셋에는 학습 중 요금이 청구될 {n_billing_tokens_in_dataset}개의 토큰이 있습니다.\")\n",
    "print(f\"기본적으로 이 데이터 셋에서 {n_epochs} epochs 동안 학습합니다.\")\n",
    "print(f\"총 {n_epochs*n_billing_tokens_in_dataset}개의 토큰에 대해 요금이 청구됩니다.\")"
   ]
  },
  {
   "cell_type": "markdown",
   "id": "e1226612-85e9-48a4-88fc-7d995151bfa8",
   "metadata": {},
   "source": [
    "##### **openai storage에 파일 업로드**"
   ]
  },
  {
   "cell_type": "code",
   "execution_count": 125,
   "id": "df089756-1956-4321-984e-817c2b1b77d0",
   "metadata": {},
   "outputs": [
    {
     "data": {
      "text/plain": [
       "FileObject(id='file-AhnVfgLoBAcjauDU6JhqaC', bytes=6176, created_at=1739774316, filename='common_sense_train.jsonl', object='file', purpose='fine-tune', status='processed', status_details=None)"
      ]
     },
     "execution_count": 125,
     "metadata": {},
     "output_type": "execute_result"
    }
   ],
   "source": [
    "fine_tune_files = client.files.create(\n",
    "    file = open(\"finetune_data/common_sense_train.jsonl\", \"rb\"),  # rb를 하면 encoding이 필요 없음\n",
    "    purpose = \"fine-tune\"\n",
    ")\n",
    "fine_tune_files"
   ]
  },
  {
   "cell_type": "markdown",
   "id": "4ada9a7f-b845-40e4-9004-850d21b68218",
   "metadata": {},
   "source": [
    "### 3. Fine-tuning 작업 진행 및 결과 확인\n",
    "- 1회 작업시 기본  epochs\n",
    "    - gpt-3.5-turbo : 3epochs\n",
    "    - gpt-4o 및 4o-mini : 4epochs\n",
    "- **Fine-tuning이 완료된 모델**은 `OpenAI 서버에 저장`되며 작업에 할당된 모델 ID를 통해 액세스할 수 있음\n",
    "- **작업이 완료되지 않으면** API `요금이 부과되지 않음`"
   ]
  },
  {
   "cell_type": "markdown",
   "id": "c03a41fe-e0f3-4735-9ef8-7cc086908c1a",
   "metadata": {},
   "source": [
    "#### 작업 객체 생성 및 fine-tuning 시작 ([모델명 참조](https://platform.openai.com/docs/guides/fine-tuning))"
   ]
  },
  {
   "cell_type": "code",
   "execution_count": 134,
   "id": "2c3bea5d-50a8-4d78-af29-c6ae55f7a68d",
   "metadata": {},
   "outputs": [
    {
     "data": {
      "text/plain": [
       "FineTuningJob(id='ftjob-Ft82dD32EH1jaOumUtXOFHEv', created_at=1739774714, error=Error(code=None, message=None, param=None), fine_tuned_model=None, finished_at=None, hyperparameters=Hyperparameters(batch_size='auto', learning_rate_multiplier='auto', n_epochs='auto'), model='gpt-4o-mini-2024-07-18', object='fine_tuning.job', organization_id='org-eO0H2GRsXC2rA1ql6mCPGseH', result_files=[], seed=1754937279, status='validating_files', trained_tokens=None, training_file='file-AhnVfgLoBAcjauDU6JhqaC', validation_file=None, estimated_finish=None, integrations=[], method=Method(dpo=None, supervised=MethodSupervised(hyperparameters=MethodSupervisedHyperparameters(batch_size='auto', learning_rate_multiplier='auto', n_epochs='auto')), type='supervised'), user_provided_suffix=None)"
      ]
     },
     "execution_count": 134,
     "metadata": {},
     "output_type": "execute_result"
    }
   ],
   "source": [
    "# 파인튜닝 모델, 데이터 지정\n",
    "fine_tune_job = client.fine_tuning.jobs.create(\n",
    "    model = \"gpt-4o-mini-2024-07-18\",     # docs - Fine-tuning에 있는 모델 사용\n",
    "    training_file = fine_tune_files.id    # openai storage에 있는 파일의 id값을 지정\n",
    ")\n",
    "\n",
    "fine_tune_job"
   ]
  },
  {
   "cell_type": "markdown",
   "id": "b169ad9e-4840-4660-9c50-eaf83a83a780",
   "metadata": {},
   "source": [
    "##### 1) 작업 ID 가져오기"
   ]
  },
  {
   "cell_type": "code",
   "execution_count": 138,
   "id": "7d356a59-e875-42b0-92ea-8800f44d63c8",
   "metadata": {},
   "outputs": [
    {
     "data": {
      "text/plain": [
       "'ftjob-Ft82dD32EH1jaOumUtXOFHEv'"
      ]
     },
     "execution_count": 138,
     "metadata": {},
     "output_type": "execute_result"
    }
   ],
   "source": [
    "fine_tune_job.id"
   ]
  },
  {
   "cell_type": "markdown",
   "id": "ee1dfec0-f2c0-4a96-8e0f-d38e5d561a04",
   "metadata": {},
   "source": [
    "##### 2) 작업 ID에 따른 개별 작업 세부 사항 확인"
   ]
  },
  {
   "cell_type": "code",
   "execution_count": 151,
   "id": "a9a97aa5-a71d-4ad7-8fe2-113f9ca853fb",
   "metadata": {},
   "outputs": [
    {
     "data": {
      "text/plain": [
       "'ft:gpt-4o-mini-2024-07-18:personal::B1pKdhoJ'"
      ]
     },
     "execution_count": 151,
     "metadata": {},
     "output_type": "execute_result"
    }
   ],
   "source": [
    "# fine_tuned_model은 파인튜닝이 완료된 후 생성된 개인 모델 명칭\n",
    "client.fine_tuning.jobs.retrieve(\"ftjob-Ft82dD32EH1jaOumUtXOFHEv\").fine_tuned_model"
   ]
  },
  {
   "cell_type": "code",
   "execution_count": 153,
   "id": "96534da8-9d3a-401d-9ba8-42f7721f6c9f",
   "metadata": {},
   "outputs": [
    {
     "data": {
      "text/plain": [
       "'succeeded'"
      ]
     },
     "execution_count": 153,
     "metadata": {},
     "output_type": "execute_result"
    }
   ],
   "source": [
    "# status는 작업 상태를 표현해주며, running(동작중), validating_files(파일 검증), queued(대기),\n",
    "# succeded(성공), fialed(실패), concelled(취소됨) 중 하나로 출력 됨\n",
    "client.fine_tuning.jobs.retrieve(\"ftjob-Ft82dD32EH1jaOumUtXOFHEv\").status"
   ]
  },
  {
   "cell_type": "markdown",
   "id": "3ea595f4-f86b-404e-bcd4-2bcd3ce5e6af",
   "metadata": {},
   "source": [
    "##### 3) 작업로그, 성능 업데이트 또는 오류 메세지 같이 미세 조정 작업 중에 발생한 이벤트추척"
   ]
  },
  {
   "cell_type": "code",
   "execution_count": 162,
   "id": "0ee28981-0e9a-4130-b02a-453a622abe51",
   "metadata": {},
   "outputs": [
    {
     "data": {
      "text/plain": [
       "SyncCursorPage[FineTuningJobEvent](data=[FineTuningJobEvent(id='ftevent-299jUXCDvHjy5CVC5D5mE3AR', created_at=1739775358, level='info', message='The job has successfully completed', object='fine_tuning.job.event', data={}, type='message'), FineTuningJobEvent(id='ftevent-Um76jM4fZ87o2CJFJbrrSvgQ', created_at=1739775347, level='info', message='New fine-tuned model created', object='fine_tuning.job.event', data={}, type='message'), FineTuningJobEvent(id='ftevent-8xouGjOAIY4OoU1AlcKHDFye', created_at=1739775347, level='info', message='Checkpoint created at step 90', object='fine_tuning.job.event', data={}, type='message'), FineTuningJobEvent(id='ftevent-GZMtM7tle7Qlh5IfRaYQeO2f', created_at=1739775347, level='info', message='Checkpoint created at step 80', object='fine_tuning.job.event', data={}, type='message'), FineTuningJobEvent(id='ftevent-SwJtvZRIZAItAEYe2mJgdQPm', created_at=1739775269, level='info', message='Step 100/100: training loss=0.00', object='fine_tuning.job.event', data={'step': 100, 'train_loss': 0.0007777647697366774, 'total_steps': 100, 'train_mean_token_accuracy': 1.0}, type='metrics')], object='list', has_more=True)"
      ]
     },
     "execution_count": 162,
     "metadata": {},
     "output_type": "execute_result"
    }
   ],
   "source": [
    "# 모델, 에러 및 내용(발생시), 작업 상태, 사용된 데이터셋, 생성 및 완료 시간 등 확인 가능 (대시보드 - 파인튜닝 정보를 코드로 확인하는 것)\n",
    "client.fine_tuning.jobs.list_events(fine_tuning_job_id ='ftjob-Ft82dD32EH1jaOumUtXOFHEv',\n",
    "                                    limit =5)       # 출력 개수 제한"
   ]
  },
  {
   "cell_type": "markdown",
   "id": "baaad0a1-3a84-4a9f-9858-81ad59a161a0",
   "metadata": {},
   "source": [
    "##### 4) fine-tuning을 진행했던 전체 작업목록 출력(실행중 완료, 실패 작업들을 모두 포함)"
   ]
  },
  {
   "cell_type": "code",
   "execution_count": 165,
   "id": "c0cd3a2e-92cc-4ea7-902b-6bbad433aae5",
   "metadata": {},
   "outputs": [
    {
     "data": {
      "text/plain": [
       "SyncCursorPage[FineTuningJob](data=[FineTuningJob(id='ftjob-Ft82dD32EH1jaOumUtXOFHEv', created_at=1739774714, error=Error(code=None, message=None, param=None), fine_tuned_model='ft:gpt-4o-mini-2024-07-18:personal::B1pKdhoJ', finished_at=1739775344, hyperparameters=Hyperparameters(batch_size=1, learning_rate_multiplier=1.8, n_epochs=10), model='gpt-4o-mini-2024-07-18', object='fine_tuning.job', organization_id='org-eO0H2GRsXC2rA1ql6mCPGseH', result_files=['file-JRjJH6QMRS779HkGCf2Wpd'], seed=1754937279, status='succeeded', trained_tokens=8390, training_file='file-AhnVfgLoBAcjauDU6JhqaC', validation_file=None, estimated_finish=None, integrations=[], method=Method(dpo=None, supervised=MethodSupervised(hyperparameters=MethodSupervisedHyperparameters(batch_size=1, learning_rate_multiplier=1.8, n_epochs=10)), type='supervised'), user_provided_suffix=None)], object='list', has_more=False)"
      ]
     },
     "execution_count": 165,
     "metadata": {},
     "output_type": "execute_result"
    }
   ],
   "source": [
    "client.fine_tuning.jobs.list()     # limit 매개변수를 통해 출력 개수를 제한할 수 있음"
   ]
  },
  {
   "cell_type": "markdown",
   "id": "16d7bd33-7dc1-47b3-862c-5a5ebf6d125c",
   "metadata": {},
   "source": [
    "##### 5) jobs.list에서 전체 작업 목록에 대한 id만 확인"
   ]
  },
  {
   "cell_type": "code",
   "execution_count": 350,
   "id": "ac4ea179-8c71-4d25-99e5-13aaaed00e89",
   "metadata": {},
   "outputs": [
    {
     "data": {
      "text/plain": [
       "['ftjob-x2NOix27Qk6THUxkrQjk2I09', 'ftjob-Ft82dD32EH1jaOumUtXOFHEv']"
      ]
     },
     "execution_count": 350,
     "metadata": {},
     "output_type": "execute_result"
    }
   ],
   "source": [
    "all_job_id = [job.id for job in client.fine_tuning.jobs.list()]\n",
    "all_job_id"
   ]
  },
  {
   "cell_type": "markdown",
   "id": "39606a4b-fccc-4108-a0ae-1a82a994da28",
   "metadata": {},
   "source": [
    "##### 6) 작업취소"
   ]
  },
  {
   "cell_type": "code",
   "execution_count": null,
   "id": "83da85a6-f379-4222-aa0b-3a7db1b2b95a",
   "metadata": {},
   "outputs": [],
   "source": [
    "# # 작업이 예쌍보다 오래 걸리거나 잘못 설정된 걸 알게 되었을 경우 중간에 취소 가능\n",
    "# client.fine_tuning.jobs.cancel(\"\") # \"\"안에 모델 id 넣어주면 됨"
   ]
  },
  {
   "cell_type": "markdown",
   "id": "f29ce393-f5f4-4db1-9a58-9a3aa1d972ae",
   "metadata": {},
   "source": [
    "##### 7) 완성된 fine_tuning모델 삭제"
   ]
  },
  {
   "cell_type": "code",
   "execution_count": null,
   "id": "6106b117-f277-49a7-b70a-3b1822977e72",
   "metadata": {},
   "outputs": [],
   "source": [
    "# # 홈페이지에 있는 개인 모델 명칭을 지정\n",
    "# client.models.delete(\"\") # id 아니고 모델 명칭 넣기"
   ]
  },
  {
   "cell_type": "markdown",
   "id": "56b113cf-965a-4fbe-807e-80b22176e99d",
   "metadata": {},
   "source": [
    "#### Fine-tuning 완료된 작업 검색 (Python 코드를 사용하지 않는 수동 방식)\n",
    "- 계층구조를 사람이 보기 쉽게 출력 가능\n",
    "- !curl : 다양한 프로토콜을 사용하여 데이터를 전송하는데 널리 사용되는 명령도구로 API와 직접 상호작용하는데 유용함\n",
    "- H : HTTP 요청에 사용자 정의 header를 추가하는데 사용하는 옵션으로 header는 키-값 쌍으로 요청에 대한 추가 정보를 서버에 제공하게 됨(사용자 인증이나 컨텐츠 타입 등을 지정할 때 주로 사용함)"
   ]
  },
  {
   "cell_type": "code",
   "execution_count": 179,
   "id": "072989db-ddaf-4df4-a925-d79e75aea239",
   "metadata": {},
   "outputs": [
    {
     "name": "stdout",
     "output_type": "stream",
     "text": [
      "{\n",
      "  \"object\": \"fine_tuning.job\",\n",
      "  \"id\": \"ftjob-Ft82dD32EH1jaOumUtXOFHEv\",\n",
      "  \"model\": \"gpt-4o-mini-2024-07-18\",\n",
      "  \"created_at\": 1739774714,\n",
      "  \"finished_at\": 1739775344,\n",
      "  \"fine_tuned_model\": \"ft:gpt-4o-mini-2024-07-18:personal::B1pKdhoJ\",\n",
      "  \"organization_id\": \"org-eO0H2GRsXC2rA1ql6mCPGseH\",\n",
      "  \"result_files\": [\n",
      "    \"file-JRjJH6QMRS779HkGCf2Wpd\"\n",
      "  ],\n",
      "  \"status\": \"succeeded\",\n",
      "  \"validation_file\": null,\n",
      "  \"training_file\": \"file-AhnVfgLoBAcjauDU6JhqaC\",\n",
      "  \"hyperparameters\": {\n",
      "    \"n_epochs\": 10,\n",
      "    \"batch_size\": 1,\n",
      "    \"learning_rate_multiplier\": 1.8\n",
      "  },\n",
      "  \"trained_tokens\": 8390,\n",
      "  \"error\": {},\n",
      "  \"user_provided_suffix\": null,\n",
      "  \"seed\": 1754937279,\n",
      "  \"estimated_finish\": null,\n",
      "  \"integrations\": [],\n",
      "  \"method\": {\n",
      "    \"type\": \"supervised\",\n",
      "    \"supervised\": {\n",
      "      \"hyperparameters\": {\n",
      "        \"n_epochs\": 10,\n",
      "        \"batch_size\": 1,\n",
      "        \"learning_rate_multiplier\": 1.8\n",
      "      }\n",
      "    }\n",
      "  }\n",
      "}\n"
     ]
    },
    {
     "name": "stderr",
     "output_type": "stream",
     "text": [
      "  % Total    % Received % Xferd  Average Speed   Time    Time     Time  Current\n",
      "                                 Dload  Upload   Total   Spent    Left  Speed\n",
      "\n",
      "  0     0    0     0    0     0      0      0 --:--:-- --:--:-- --:--:--     0\n",
      "  0     0    0     0    0     0      0      0 --:--:--  0:00:01 --:--:--     0\n",
      "100   898  100   898    0     0    581      0  0:00:01  0:00:01 --:--:--   584\n"
     ]
    }
   ],
   "source": [
    "!curl https://api.openai.com/v1/fine_tuning/jobs/ftjob-Ft82dD32EH1jaOumUtXOFHEv \\\n",
    "  -H \"Authorization: Bearer $MY_API_KEY\""
   ]
  },
  {
   "cell_type": "markdown",
   "id": "c9872e87-21a6-4a39-9b3a-3ac5795c1bbe",
   "metadata": {},
   "source": [
    "### 4. Fine-tuning 완료 후 질의응답"
   ]
  },
  {
   "cell_type": "code",
   "execution_count": 205,
   "id": "97b661eb-2a94-41e9-be21-ec3936e2209d",
   "metadata": {},
   "outputs": [
    {
     "name": "stdout",
     "output_type": "stream",
     "text": [
      "우리나라의 첫 대통령은 이승만이며, 무소속 출신 이었음. 이승만은 1948년 대통령으로 선출되어 1960년까지 재임함.\n"
     ]
    }
   ],
   "source": [
    "completion = client.chat.completions.create(\n",
    "    model = \"ft:gpt-4o-mini-2024-07-18:personal::B1pKdhoJ\",\n",
    "    messages = [{\"role\" : \"user\", \"content\" : \"우리나라의 첫 대통령은 누구인가?\"}]\n",
    ")\n",
    "print(completion.choices[0].message.content)"
   ]
  },
  {
   "cell_type": "markdown",
   "id": "dd2051d7-7ee5-472a-9e6a-90821a018510",
   "metadata": {},
   "source": [
    "#### Fine-tuning 결과가 좋지 않다고 판단될 경우 대응\n",
    "**1) 데이터 부분**\n",
    "1) 데이터 수 추가\n",
    "    - 가장 효과가 확실한 방법\n",
    "2) 데이터의 균형과 다양성 고려\n",
    "    - 균형을 맞춰야 한다면 일반적으로 적은양의 고품질 데이터가 많은 양의 저품질 데이터보다 효과적\n",
    "3) 기존 데이터의 문제점 조사\n",
    "    - 원치않는 방식의 대화 데이터가 포함되어 있는지 확인(잘못된 패턴이 학습되었을 수 있음)\n",
    "    - 응답에 필요한 모든 정보가 포함되어 있는지 확인\n",
    "    - 여러 사람들이 함께 제작한 데이터라면 어느정도 일관성이 있는지 확인(패턴이 다 달라서 학습하기 힘들 수 있음)\n",
    "      \n",
    "**2) 모델 부분**\n",
    "1) 완료된 모델에 추가로 fine-tuning 진행\n",
    "    - 완료된 모델의 모델명으로 fine-tuning을 이어서 진행 가능\n",
    "2) 하이퍼파라미터 변경\n",
    "    - epochs, learning_rate를 변경 가능"
   ]
  },
  {
   "cell_type": "markdown",
   "id": "c1f4efbe-b006-46c4-b4b3-6107a3e2d4b7",
   "metadata": {},
   "source": [
    "### 5. 체크포인트(중간저장) 모델 활용하기\n",
    "- Fine-tuning 완료 시 체크포인트 모델을 활용할 수 있으며 체크포인트 모델은 학습이 최종 완료된 모델과 동일한 방식으로 사용 가능\n",
    "- 현재는 완료된 작업 총 3개의 체크포인트 모델들만 사용 가능함\n",
    "- 최종 모델의 성능이 애매하거나 수치적으로 과대적합이라고 판단된다면 이전 체크포인트 모델들을 활용할 수 있음"
   ]
  },
  {
   "cell_type": "markdown",
   "id": "ab6c5791-0a66-4f4c-9db0-aa7f69e68a0f",
   "metadata": {},
   "source": [
    "#### 1) 체크포인트 모델 확인"
   ]
  },
  {
   "cell_type": "code",
   "execution_count": 221,
   "id": "44599ec1-1238-4db7-8335-9f6a9d0ebf5c",
   "metadata": {},
   "outputs": [
    {
     "name": "stdout",
     "output_type": "stream",
     "text": [
      "{\n",
      "  \"object\": \"list\",\n",
      "  \"data\": [\n",
      "    {\n",
      "      \"object\": \"fine_tuning.job.checkpoint\",\n",
      "      \"id\": \"ftckpt_kLRZU8Ar24grT61VhnxdHjuM\",\n",
      "      \"created_at\": 1739775277,\n",
      "      \"fine_tuned_model_checkpoint\": \"ft:gpt-4o-mini-2024-07-18:personal::B1pKdhoJ\",\n",
      "      \"fine_tuning_job_id\": \"ftjob-Ft82dD32EH1jaOumUtXOFHEv\",\n",
      "      \"metrics\": {\n",
      "        \"step\": 100\n",
      "      },\n",
      "      \"step_number\": 100\n",
      "    },\n",
      "    {\n",
      "      \"object\": \"fine_tuning.job.checkpoint\",\n",
      "      \"id\": \"ftckpt_9CtBAXIlMzpaOHIlKgh7ohJC\",\n",
      "      \"created_at\": 1739775236,\n",
      "      \"fine_tuned_model_checkpoint\": \"ft:gpt-4o-mini-2024-07-18:personal::B1pKc0Ml:ckpt-step-90\",\n",
      "      \"fine_tuning_job_id\": \"ftjob-Ft82dD32EH1jaOumUtXOFHEv\",\n",
      "      \"metrics\": {\n",
      "        \"step\": 90\n",
      "      },\n",
      "      \"step_number\": 90\n",
      "    },\n",
      "    {\n",
      "      \"object\": \"fine_tuning.job.checkpoint\",\n",
      "      \"id\": \"ftckpt_CoLME0LtUsrOYygAXSlvfXi5\",\n",
      "      \"created_at\": 1739775201,\n",
      "      \"fine_tuned_model_checkpoint\": \"ft:gpt-4o-mini-2024-07-18:personal::B1pKc0Ii:ckpt-step-80\",\n",
      "      \"fine_tuning_job_id\": \"ftjob-Ft82dD32EH1jaOumUtXOFHEv\",\n",
      "      \"metrics\": {\n",
      "        \"step\": 80\n",
      "      },\n",
      "      \"step_number\": 80\n",
      "    }\n",
      "  ],\n",
      "  \"has_more\": false,\n",
      "  \"first_id\": \"ftckpt_kLRZU8Ar24grT61VhnxdHjuM\",\n",
      "  \"last_id\": \"ftckpt_CoLME0LtUsrOYygAXSlvfXi5\"\n",
      "}\n"
     ]
    },
    {
     "name": "stderr",
     "output_type": "stream",
     "text": [
      "  % Total    % Received % Xferd  Average Speed   Time    Time     Time  Current\n",
      "                                 Dload  Upload   Total   Spent    Left  Speed\n",
      "\n",
      "  0     0    0     0    0     0      0      0 --:--:-- --:--:-- --:--:--     0\n",
      "100  1252  100  1252    0     0   2419      0 --:--:-- --:--:-- --:--:--  2464\n"
     ]
    }
   ],
   "source": [
    "!curl https://api.openai.com/v1/fine_tuning/jobs/ftjob-Ft82dD32EH1jaOumUtXOFHEv/checkpoints \\\n",
    "  -H \"Authorization: Bearer $MY_API_KEY\""
   ]
  },
  {
   "cell_type": "markdown",
   "id": "750ce63b-e64a-4d80-926a-c68f833df7a1",
   "metadata": {},
   "source": [
    "#### 2) 체크포인트 모델 별 loss, mean_token_accuracy 확인"
   ]
  },
  {
   "attachments": {
    "466e007c-c380-4596-9da3-37b9f1092fdb.png": {
     "image/png": "[encoded data removed]"
    }
   },
   "cell_type": "markdown",
   "id": "77f7b812-4288-44b4-bd99-2231d7897328",
   "metadata": {},
   "source": [
    "![image.png](attachment:466e007c-c380-4596-9da3-37b9f1092fdb.png)"
   ]
  },
  {
   "cell_type": "code",
   "execution_count": null,
   "id": "e3607519-5bc7-477b-9fd9-f15521149e73",
   "metadata": {},
   "outputs": [],
   "source": [
    "# N : 데이터 개수\n",
    "# M : 데이터 당 토큰 개수, \n",
    "# y : 실제 정답 토큰의 확률 (0 또는 1),\n",
    "# y(hat) : 모델이 예측한 토큰 확률(sotfmax 적용, 0~1 사이 실수값)"
   ]
  },
  {
   "cell_type": "markdown",
   "id": "0c404dab-4e07-48fc-bebd-055371a5d64f",
   "metadata": {},
   "source": [
    "##### **epochs당 결과 확인**"
   ]
  },
  {
   "cell_type": "code",
   "execution_count": 234,
   "id": "fb41e7b6-bf1e-4c3d-ae77-ff18aa1e0dca",
   "metadata": {
    "scrolled": true
   },
   "outputs": [
    {
     "name": "stdout",
     "output_type": "stream",
     "text": [
      "{\n",
      "    \"data\": [\n",
      "        {\n",
      "            \"id\": \"ftevent-299jUXCDvHjy5CVC5D5mE3AR\",\n",
      "            \"created_at\": 1739775358,\n",
      "            \"level\": \"info\",\n",
      "            \"message\": \"The job has successfully completed\",\n",
      "            \"object\": \"fine_tuning.job.event\",\n",
      "            \"data\": {},\n",
      "            \"type\": \"message\"\n",
      "        },\n",
      "        {\n",
      "            \"id\": \"ftevent-Um76jM4fZ87o2CJFJbrrSvgQ\",\n",
      "            \"created_at\": 1739775347,\n",
      "            \"level\": \"info\",\n",
      "            \"message\": \"New fine-tuned model created\",\n",
      "            \"object\": \"fine_tuning.job.event\",\n",
      "            \"data\": {},\n",
      "            \"type\": \"message\"\n",
      "        },\n",
      "        {\n",
      "            \"id\": \"ftevent-8xouGjOAIY4OoU1AlcKHDFye\",\n",
      "            \"created_at\": 1739775347,\n",
      "            \"level\": \"info\",\n",
      "            \"message\": \"Checkpoint created at step 90\",\n",
      "            \"object\": \"fine_tuning.job.event\",\n",
      "            \"data\": {},\n",
      "            \"type\": \"message\"\n",
      "        },\n",
      "        {\n",
      "            \"id\": \"ftevent-GZMtM7tle7Qlh5IfRaYQeO2f\",\n",
      "            \"created_at\": 1739775347,\n",
      "            \"level\": \"info\",\n",
      "            \"message\": \"Checkpoint created at step 80\",\n",
      "            \"object\": \"fine_tuning.job.event\",\n",
      "            \"data\": {},\n",
      "            \"type\": \"message\"\n",
      "        },\n",
      "        {\n",
      "            \"id\": \"ftevent-SwJtvZRIZAItAEYe2mJgdQPm\",\n",
      "            \"created_at\": 1739775269,\n",
      "            \"level\": \"info\",\n",
      "            \"message\": \"Step 100/100: training loss=0.00\",\n",
      "            \"object\": \"fine_tuning.job.event\",\n",
      "            \"data\": {\n",
      "                \"step\": 100,\n",
      "                \"train_loss\": 0.0007777647697366774,\n",
      "                \"total_steps\": 100,\n",
      "                \"train_mean_token_accuracy\": 1.0\n",
      "            },\n",
      "            \"type\": \"metrics\"\n",
      "        },\n",
      "        {\n",
      "            \"id\": \"ftevent-19EmFqbvVGzwmdss65DAoG8e\",\n",
      "            \"created_at\": 1739775264,\n",
      "            \"level\": \"info\",\n",
      "            \"message\": \"Step 99/100: training loss=0.00\",\n",
      "            \"object\": \"fine_tuning.job.event\",\n",
      "            \"data\": {\n",
      "                \"step\": 99,\n",
      "                \"train_loss\": 0.0019532442092895508,\n",
      "                \"total_steps\": 100,\n",
      "                \"train_mean_token_accuracy\": 1.0\n",
      "            },\n",
      "            \"type\": \"metrics\"\n",
      "        },\n",
      "        {\n",
      "            \"id\": \"ftevent-W7w3TUyaQqu8se6T334P0Kmq\",\n",
      "            \"created_at\": 1739775264,\n",
      "            \"level\": \"info\",\n",
      "            \"message\": \"Step 98/100: training loss=0.00\",\n",
      "            \"object\": \"fine_tuning.job.event\",\n",
      "            \"data\": {\n",
      "                \"step\": 98,\n",
      "                \"train_loss\": 0.0007507617701776326,\n",
      "                \"total_steps\": 100,\n",
      "                \"train_mean_token_accuracy\": 1.0\n",
      "            },\n",
      "            \"type\": \"metrics\"\n",
      "        },\n",
      "        {\n",
      "            \"id\": \"ftevent-AokieP9d2tiHS3ocUi30MTia\",\n",
      "            \"created_at\": 1739775264,\n",
      "            \"level\": \"info\",\n",
      "            \"message\": \"Step 97/100: training loss=0.00\",\n",
      "            \"object\": \"fine_tuning.job.event\",\n",
      "            \"data\": {\n",
      "                \"step\": 97,\n",
      "                \"train_loss\": 0.0013341723242774606,\n",
      "                \"total_steps\": 100,\n",
      "                \"train_mean_token_accuracy\": 1.0\n",
      "            },\n",
      "            \"type\": \"metrics\"\n",
      "        },\n",
      "        {\n",
      "            \"id\": \"ftevent-hq0NJNnfAJgxP8tMZYkY5cTS\",\n",
      "            \"created_at\": 1739775264,\n",
      "            \"level\": \"info\",\n",
      "            \"message\": \"Step 96/100: training loss=0.00\",\n",
      "            \"object\": \"fine_tuning.job.event\",\n",
      "            \"data\": {\n",
      "                \"step\": 96,\n",
      "                \"train_loss\": 0.001115181832574308,\n",
      "                \"total_steps\": 100,\n",
      "                \"train_mean_token_accuracy\": 1.0\n",
      "            },\n",
      "            \"type\": \"metrics\"\n",
      "        },\n",
      "        {\n",
      "            \"id\": \"ftevent-gdZ5IS0SLxO1LIUgsITKYSLe\",\n",
      "            \"created_at\": 1739775264,\n",
      "            \"level\": \"info\",\n",
      "            \"message\": \"Step 95/100: training loss=0.00\",\n",
      "            \"object\": \"fine_tuning.job.event\",\n",
      "            \"data\": {\n",
      "                \"step\": 95,\n",
      "                \"train_loss\": 0.0005296071176417172,\n",
      "                \"total_steps\": 100,\n",
      "                \"train_mean_token_accuracy\": 1.0\n",
      "            },\n",
      "            \"type\": \"metrics\"\n",
      "        },\n",
      "        {\n",
      "            \"id\": \"ftevent-Ar6wWBNGCidnME0H5zxJhqNd\",\n",
      "            \"created_at\": 1739775259,\n",
      "            \"level\": \"info\",\n",
      "            \"message\": \"Step 94/100: training loss=0.00\",\n",
      "            \"object\": \"fine_tuning.job.event\",\n",
      "            \"data\": {\n",
      "                \"step\": 94,\n",
      "                \"train_loss\": 0.0016310480423271656,\n",
      "                \"total_steps\": 100,\n",
      "                \"train_mean_token_accuracy\": 1.0\n",
      "            },\n",
      "            \"type\": \"metrics\"\n",
      "        },\n",
      "        {\n",
      "            \"id\": \"ftevent-8R2iTb4yejKu8rSjBCHAwSrX\",\n",
      "            \"created_at\": 1739775259,\n",
      "            \"level\": \"info\",\n",
      "            \"message\": \"Step 93/100: training loss=0.00\",\n",
      "            \"object\": \"fine_tuning.job.event\",\n",
      "            \"data\": {\n",
      "                \"step\": 93,\n",
      "                \"train_loss\": 0.0002947648463305086,\n",
      "                \"total_steps\": 100,\n",
      "                \"train_mean_token_accuracy\": 1.0\n",
      "            },\n",
      "            \"type\": \"metrics\"\n",
      "        },\n",
      "        {\n",
      "            \"id\": \"ftevent-S85SzxGQipr23BdQPjWg0UNd\",\n",
      "            \"created_at\": 1739775259,\n",
      "            \"level\": \"info\",\n",
      "            \"message\": \"Step 92/100: training loss=0.00\",\n",
      "            \"object\": \"fine_tuning.job.event\",\n",
      "            \"data\": {\n",
      "                \"step\": 92,\n",
      "                \"train_loss\": 0.00017068552551791072,\n",
      "                \"total_steps\": 100,\n",
      "                \"train_mean_token_accuracy\": 1.0\n",
      "            },\n",
      "            \"type\": \"metrics\"\n",
      "        },\n",
      "        {\n",
      "            \"id\": \"ftevent-49zhEEBTqxckwRrO1oecNw85\",\n",
      "            \"created_at\": 1739775258,\n",
      "            \"level\": \"info\",\n",
      "            \"message\": \"Step 91/100: training loss=0.00\",\n",
      "            \"object\": \"fine_tuning.job.event\",\n",
      "            \"data\": {\n",
      "                \"step\": 91,\n",
      "                \"train_loss\": 0.0002562840818427503,\n",
      "                \"total_steps\": 100,\n",
      "                \"train_mean_token_accuracy\": 1.0\n",
      "            },\n",
      "            \"type\": \"metrics\"\n",
      "        },\n",
      "        {\n",
      "            \"id\": \"ftevent-toGYUezyvkGTOfSwPKgMxID5\",\n",
      "            \"created_at\": 1739775229,\n",
      "            \"level\": \"info\",\n",
      "            \"message\": \"Step 90/100: training loss=0.00\",\n",
      "            \"object\": \"fine_tuning.job.event\",\n",
      "            \"data\": {\n",
      "                \"step\": 90,\n",
      "                \"train_loss\": 0.0009064954938367009,\n",
      "                \"total_steps\": 100,\n",
      "                \"train_mean_token_accuracy\": 1.0\n",
      "            },\n",
      "            \"type\": \"metrics\"\n",
      "        },\n",
      "        {\n",
      "            \"id\": \"ftevent-BEcC6GWALTg5ZJ9nVBTeAT6r\",\n",
      "            \"created_at\": 1739775228,\n",
      "            \"level\": \"info\",\n",
      "            \"message\": \"Step 89/100: training loss=0.00\",\n",
      "            \"object\": \"fine_tuning.job.event\",\n",
      "            \"data\": {\n",
      "                \"step\": 89,\n",
      "                \"train_loss\": 0.00020257817232050002,\n",
      "                \"total_steps\": 100,\n",
      "                \"train_mean_token_accuracy\": 1.0\n",
      "            },\n",
      "            \"type\": \"metrics\"\n",
      "        },\n",
      "        {\n",
      "            \"id\": \"ftevent-Jn2PXng2ZeeB16EIgwl9eaDu\",\n",
      "            \"created_at\": 1739775223,\n",
      "            \"level\": \"info\",\n",
      "            \"message\": \"Step 88/100: training loss=0.00\",\n",
      "            \"object\": \"fine_tuning.job.event\",\n",
      "            \"data\": {\n",
      "                \"step\": 88,\n",
      "                \"train_loss\": 0.001939879497513175,\n",
      "                \"total_steps\": 100,\n",
      "                \"train_mean_token_accuracy\": 1.0\n",
      "            },\n",
      "            \"type\": \"metrics\"\n",
      "        },\n",
      "        {\n",
      "            \"id\": \"ftevent-SUjTXn89lfw84SQ5slREEPzY\",\n",
      "            \"created_at\": 1739775223,\n",
      "            \"level\": \"info\",\n",
      "            \"message\": \"Step 87/100: training loss=0.00\",\n",
      "            \"object\": \"fine_tuning.job.event\",\n",
      "            \"data\": {\n",
      "                \"step\": 87,\n",
      "                \"train_loss\": 0.0011422850657254457,\n",
      "                \"total_steps\": 100,\n",
      "                \"train_mean_token_accuracy\": 1.0\n",
      "            },\n",
      "            \"type\": \"metrics\"\n",
      "        },\n",
      "        {\n",
      "            \"id\": \"ftevent-TsdXaIBipd0bOLUzZe4ezSJh\",\n",
      "            \"created_at\": 1739775223,\n",
      "            \"level\": \"info\",\n",
      "            \"message\": \"Step 86/100: training loss=0.00\",\n",
      "            \"object\": \"fine_tuning.job.event\",\n",
      "            \"data\": {\n",
      "                \"step\": 86,\n",
      "                \"train_loss\": 0.00025424957857467234,\n",
      "                \"total_steps\": 100,\n",
      "                \"train_mean_token_accuracy\": 1.0\n",
      "            },\n",
      "            \"type\": \"metrics\"\n",
      "        },\n",
      "        {\n",
      "            \"id\": \"ftevent-W3Bmy3jRBvgWlnAKb8jw0WfB\",\n",
      "            \"created_at\": 1739775223,\n",
      "            \"level\": \"info\",\n",
      "            \"message\": \"Step 85/100: training loss=0.00\",\n",
      "            \"object\": \"fine_tuning.job.event\",\n",
      "            \"data\": {\n",
      "                \"step\": 85,\n",
      "                \"train_loss\": 0.0011878380319103599,\n",
      "                \"total_steps\": 100,\n",
      "                \"train_mean_token_accuracy\": 1.0\n",
      "            },\n",
      "            \"type\": \"metrics\"\n",
      "        }\n",
      "    ],\n",
      "    \"object\": \"list\",\n",
      "    \"has_more\": true\n",
      "}\n"
     ]
    }
   ],
   "source": [
    "response = client.fine_tuning.jobs.list_events(\n",
    "    fine_tuning_job_id = \"ftjob-Ft82dD32EH1jaOumUtXOFHEv\",\n",
    ")\n",
    "\n",
    "# loss는 낮아지고 train_mean_token_accuracy는 낮아지는지 확인\n",
    "# model_dump_json : 객체를 json문자열로 변환하는 함수\n",
    "print(response.model_dump_json(indent=4))"
   ]
  },
  {
   "cell_type": "markdown",
   "id": "226d7bf3-01ca-4e9d-b554-efcf6922125e",
   "metadata": {},
   "source": [
    "### 6. Fine-tuning된 모델 추가 학습 및 검증용 데이터 활용"
   ]
  },
  {
   "cell_type": "markdown",
   "id": "eea045ad-2cc9-434d-b0f0-fb35d80645c8",
   "metadata": {},
   "source": [
    "##### **추가 학습을 위한 데이터 상태 확인**"
   ]
  },
  {
   "cell_type": "code",
   "execution_count": 356,
   "id": "3a301ef1-7c12-49a3-b811-f51134b5fad5",
   "metadata": {},
   "outputs": [
    {
     "name": "stdout",
     "output_type": "stream",
     "text": [
      "샘플 수 : 10\n"
     ]
    },
    {
     "data": {
      "text/plain": [
       "[{'messages': [{'role': 'system', 'content': '너는 지식이 풍부하지만 시크하게 응답하는 챗봇이야.'},\n",
       "   {'role': 'user', 'content': '화가 바뀌어 오히려 복이 된다 라는 뜻의 사자성어는 무엇인가요?'},\n",
       "   {'role': 'assistant', 'content': \"'전화위복'\"}]},\n",
       " {'messages': [{'role': 'system', 'content': '너는 지식이 풍부하지만 시크하게 응답하는 챗봇이야.'},\n",
       "   {'role': 'user', 'content': '새끼 손가락을 지칭하는 명칭은 무엇인가요?'},\n",
       "   {'role': 'assistant', 'content': \"새끼 손가락은 '약지'이고 추가로 첫번째 손가락은 '엄지'\"}]},\n",
       " {'messages': [{'role': 'system', 'content': '너는 지식이 풍부하지만 시크하게 응답하는 챗봇이야.'},\n",
       "   {'role': 'user', 'content': '물이 끓는 온도는 몇 도인가요?'},\n",
       "   {'role': 'assistant', 'content': '물은 100도에서 끓음'}]},\n",
       " {'messages': [{'role': 'system', 'content': '너는 지식이 풍부하지만 시크하게 응답하는 챗봇이야.'},\n",
       "   {'role': 'user', 'content': '버스가 갑자기 정지하면 우리 몸이 앞으로 쏠리는 현상을 무엇이라고 하나요?'},\n",
       "   {'role': 'assistant',\n",
       "    'content': \"'관성의 법칙'이라고 하며 가만히 있는 물체는 계속 가만히 있고, 움직이는 물체는 계속 움직이려는 현상을 뜻함\"}]},\n",
       " {'messages': [{'role': 'system', 'content': '너는 지식이 풍부하지만 시크하게 응답하는 챗봇이야.'},\n",
       "   {'role': 'user', 'content': '식물이 자라는 데 필요한 세 가지 요소는 무엇인가요?'},\n",
       "   {'role': 'assistant', 'content': \"식물 성장에 필요한 세 가지 요소는 '햇빛', '물', '공기'\"}]},\n",
       " {'messages': [{'role': 'system', 'content': '너는 지식이 풍부하지만 시크하게 응답하는 챗봇이야.'},\n",
       "   {'role': 'user', 'content': '북극과 남극 사이의 직선거리는 얼마나 되나요?'},\n",
       "   {'role': 'assistant', 'content': '북극과 남극의 직선거리는 약 20,000km'}]},\n",
       " {'messages': [{'role': 'system', 'content': '너는 지식이 풍부하지만 시크하게 응답하는 챗봇이야.'},\n",
       "   {'role': 'user', 'content': '세계에서 인구가 가장 많은 나라는 어디인가요?'},\n",
       "   {'role': 'assistant', 'content': '약 14억 5천만으로 인도가 가장 많음'},\n",
       "   {'role': 'user', 'content': '그러면 두 번째로 인구가 많은 나라는 어디인가요?'},\n",
       "   {'role': 'assistant', 'content': '약 14억 2천만으로 중국이 두 번째로 많음'}]},\n",
       " {'messages': [{'role': 'system', 'content': '너는 지식이 풍부하지만 시크하게 응답하는 챗봇이야.'},\n",
       "   {'role': 'user', 'content': ''},\n",
       "   {'role': 'assistant', 'content': ''}]},\n",
       " {'messages': [{'role': 'system', 'content': '너는 지식이 풍부하지만 시크하게 응답하는 챗봇이야.'},\n",
       "   {'role': 'user', 'content': '지구 표면의 약 70%를 차지하는 것은 무엇인가요?'},\n",
       "   {'role': 'assistant', 'content': \"'바다'이며 넓이로 환산하면 약 3억 6200만 제곱키로미터\"}]},\n",
       " {'messages': [{'role': 'system', 'content': '너는 지식이 풍부하지만 시크하게 응답하는 챗봇이야.'},\n",
       "   {'role': 'user', 'content': '인류 역사상 가장 유명하다고 평가되는 탐험가는 누구인가요?'},\n",
       "   {'role': 'assistant', 'content': \"중국과 동양에 대한 자세한 정보를 전해준 '마르코 폴로'\"}]}]"
      ]
     },
     "execution_count": 356,
     "metadata": {},
     "output_type": "execute_result"
    }
   ],
   "source": [
    "with open(\"finetune_data/common_sense_train_add.jsonl\", \"r\", encoding=\"utf-8\") as f:\n",
    "    dataset = [json.loads(line) for line in f]\n",
    "\n",
    "print( \"샘플 수 :\", len(dataset))\n",
    "dataset"
   ]
  },
  {
   "cell_type": "markdown",
   "id": "63119ba7-bfd6-44bc-8a25-6661f759aeb5",
   "metadata": {},
   "source": [
    "##### **추가 학습 데이터 업로드**"
   ]
  },
  {
   "cell_type": "code",
   "execution_count": 261,
   "id": "486c7f7d-21e1-46f4-8abe-8ebe98c3a306",
   "metadata": {},
   "outputs": [
    {
     "data": {
      "text/plain": [
       "FileObject(id='file-BNV3tX7Qhka8aTWuY5PTss', bytes=5167, created_at=1739780942, filename='common_sense_train_add.jsonl', object='file', purpose='fine-tune', status='processed', status_details=None)"
      ]
     },
     "execution_count": 261,
     "metadata": {},
     "output_type": "execute_result"
    }
   ],
   "source": [
    "fine_tune_files_add = client.files.create(\n",
    "    file = open(\"finetune_data/common_sense_train_add.jsonl\", \"rb\"),  # rb를 하면 encoding이 필요 없음\n",
    "    purpose = \"fine-tune\"\n",
    ")\n",
    "fine_tune_files_add"
   ]
  },
  {
   "cell_type": "markdown",
   "id": "965cd10d-ae73-4bca-9aa8-c0b5d80ecf3c",
   "metadata": {},
   "source": [
    "##### **검증용 데이터 확인**"
   ]
  },
  {
   "cell_type": "code",
   "execution_count": 263,
   "id": "3adfd8aa-00a7-40fe-8843-4250af1a0fa3",
   "metadata": {},
   "outputs": [
    {
     "name": "stdout",
     "output_type": "stream",
     "text": [
      "샘플 수 : 5\n"
     ]
    },
    {
     "data": {
      "text/plain": [
       "[{'messages': [{'role': 'system', 'content': '너는 지식이 풍부하지만 시크하게 응답하는 챗봇이야.'},\n",
       "   {'role': 'user',\n",
       "    'content': '더운 물과 찬 물을 섞었을 때, 열 때문에 물이 상하로 바뀌는 현상을 무엇이라고 하나요?'},\n",
       "   {'role': 'assistant', 'content': \"'대류현상'\"}]},\n",
       " {'messages': [{'role': 'system', 'content': '너는 지식이 풍부하지만 시크하게 응답하는 챗봇이야.'},\n",
       "   {'role': 'user', 'content': '지구의 대기는 주로 어떤 기체로 이루어져 있나요?'},\n",
       "   {'role': 'assistant', 'content': '대부분 질소와 산소로 이루어져 있음'}]},\n",
       " {'messages': [{'role': 'system', 'content': '너는 지식이 풍부하지만 시크하게 응답하는 챗봇이야.'},\n",
       "   {'role': 'user', 'content': '이집트 문명을 상징하는 대표적인 건축물은 무엇인가요?'},\n",
       "   {'role': 'assistant', 'content': \"세계 7대 불가사의에 포함되는 '피라미드'\"}]},\n",
       " {'messages': [{'role': 'system', 'content': '너는 지식이 풍부하지만 시크하게 응답하는 챗봇이야.'},\n",
       "   {'role': 'user', 'content': '세계 최초의 인권선언은 무엇인가요?'},\n",
       "   {'role': 'assistant', 'content': \"1789년 프랑스 혁명 당시 발표된 '인간과 시민의 권리선언'\"}]},\n",
       " {'messages': [{'role': 'system', 'content': '너는 지식이 풍부하지만 시크하게 응답하는 챗봇이야.'},\n",
       "   {'role': 'user', 'content': '지구의 대륙 수는 몇 개인가요?'},\n",
       "   {'role': 'assistant',\n",
       "    'content': '아시아, 아프리카, 북아메리카, 남아메리카, 남극, 유럽, 오세아니아 로 총 7개'}]}]"
      ]
     },
     "execution_count": 263,
     "metadata": {},
     "output_type": "execute_result"
    }
   ],
   "source": [
    "with open(\"finetune_data/common_sense_val.jsonl\", \"r\", encoding=\"utf-8\") as f:\n",
    "    dataset = [json.loads(line) for line in f]\n",
    "\n",
    "print( \"샘플 수 :\", len(dataset))\n",
    "dataset"
   ]
  },
  {
   "cell_type": "markdown",
   "id": "c14b22bf-351b-4c92-a501-110c06147deb",
   "metadata": {},
   "source": [
    "##### **검증용 데이터 업로드**"
   ]
  },
  {
   "cell_type": "code",
   "execution_count": 265,
   "id": "742d5d80-fdc8-4c9a-9d68-852763caa5c1",
   "metadata": {},
   "outputs": [
    {
     "data": {
      "text/plain": [
       "FileObject(id='file-Gepgjbx8HcimGDoqEAp2Di', bytes=2513, created_at=1739781023, filename='common_sense_val.jsonl', object='file', purpose='fine-tune', status='processed', status_details=None)"
      ]
     },
     "execution_count": 265,
     "metadata": {},
     "output_type": "execute_result"
    }
   ],
   "source": [
    "fine_tune_files_val = client.files.create(\n",
    "    file = open(\"finetune_data/common_sense_val.jsonl\", \"rb\"),  # rb를 하면 encoding이 필요 없음\n",
    "    purpose = \"fine-tune\"\n",
    ")\n",
    "fine_tune_files_val"
   ]
  },
  {
   "cell_type": "markdown",
   "id": "02fc3579-b763-477b-a193-6f478835aa97",
   "metadata": {},
   "source": [
    "##### **추가 Fine-tuning 및 검증 진행**"
   ]
  },
  {
   "cell_type": "code",
   "execution_count": 281,
   "id": "b3ac483c-9e98-4d16-a359-d2200b2f335c",
   "metadata": {},
   "outputs": [
    {
     "data": {
      "text/plain": [
       "FineTuningJob(id='ftjob-x2NOix27Qk6THUxkrQjk2I09', created_at=1739781281, error=Error(code=None, message=None, param=None), fine_tuned_model=None, finished_at=None, hyperparameters=Hyperparameters(batch_size='auto', learning_rate_multiplier=0.8, n_epochs=5), model='ft:gpt-4o-mini-2024-07-18:personal::B1pKdhoJ', object='fine_tuning.job', organization_id='org-eO0H2GRsXC2rA1ql6mCPGseH', result_files=[], seed=1712883518, status='validating_files', trained_tokens=None, training_file='file-BNV3tX7Qhka8aTWuY5PTss', validation_file='file-Gepgjbx8HcimGDoqEAp2Di', estimated_finish=None, integrations=[], method=Method(dpo=None, supervised=MethodSupervised(hyperparameters=MethodSupervisedHyperparameters(batch_size='auto', learning_rate_multiplier=0.8, n_epochs=5)), type='supervised'), user_provided_suffix=None)"
      ]
     },
     "execution_count": 281,
     "metadata": {},
     "output_type": "execute_result"
    }
   ],
   "source": [
    "fine_tune_job_add = client.fine_tuning.jobs.create(\n",
    "    model = \"ft:gpt-4o-mini-2024-07-18:personal::B1pKdhoJ\", # 기존 학습된 모델\n",
    "    training_file = fine_tune_files_add.id,                 # 추가 학습 데이터 아이디\n",
    "    validation_file = fine_tune_files_val.id,               # 검증용 데이터 아이디\n",
    "    hyperparameters = {\"n_epochs\" : 5,\n",
    "                       \"learning_rate_multiplier\" : 0.8\n",
    "                      }\n",
    ")\n",
    "\n",
    "# learning_rate_multiplier(학습률)\n",
    "# GPT-3.5/4 계열 모델: 0.1 ~ 0.5\n",
    "# 데이터가 많고 Fine-Tuning 강도를 높이고 싶다면: 0.5 ~ 1.0\n",
    "# 데이터가 적거나 기존 성능을 유지하면서 미세 조정하고 싶다면: 0.05 ~ 0.2\n",
    "\n",
    "fine_tune_job_add"
   ]
  },
  {
   "cell_type": "code",
   "execution_count": 287,
   "id": "68624ad4-1124-41bc-b736-5f50307b5ef4",
   "metadata": {},
   "outputs": [
    {
     "name": "stdout",
     "output_type": "stream",
     "text": [
      "{\n",
      "  \"object\": \"list\",\n",
      "  \"data\": [\n",
      "    {\n",
      "      \"object\": \"fine_tuning.job.checkpoint\",\n",
      "      \"id\": \"ftckpt_zXpzkN4xQpDonJlFsa2bo1Uz\",\n",
      "      \"created_at\": 1739782006,\n",
      "      \"fine_tuned_model_checkpoint\": \"ft:gpt-4o-mini-2024-07-18:personal::B1r4WJeg\",\n",
      "      \"fine_tuning_job_id\": \"ftjob-x2NOix27Qk6THUxkrQjk2I09\",\n",
      "      \"metrics\": {\n",
      "        \"step\": 50\n",
      "      },\n",
      "      \"step_number\": 50\n",
      "    },\n",
      "    {\n",
      "      \"object\": \"fine_tuning.job.checkpoint\",\n",
      "      \"id\": \"ftckpt_B71vYiNa1aVM3eB9Lpwkm0ob\",\n",
      "      \"created_at\": 1739781943,\n",
      "      \"fine_tuned_model_checkpoint\": \"ft:gpt-4o-mini-2024-07-18:personal::B1r4WSHx:ckpt-step-40\",\n",
      "      \"fine_tuning_job_id\": \"ftjob-x2NOix27Qk6THUxkrQjk2I09\",\n",
      "      \"metrics\": {\n",
      "        \"step\": 40\n",
      "      },\n",
      "      \"step_number\": 40\n",
      "    },\n",
      "    {\n",
      "      \"object\": \"fine_tuning.job.checkpoint\",\n",
      "      \"id\": \"ftckpt_1mJXe0wDob76ld9wzHoK6Z7d\",\n",
      "      \"created_at\": 1739781883,\n",
      "      \"fine_tuned_model_checkpoint\": \"ft:gpt-4o-mini-2024-07-18:personal::B1r4VlJj:ckpt-step-30\",\n",
      "      \"fine_tuning_job_id\": \"ftjob-x2NOix27Qk6THUxkrQjk2I09\",\n",
      "      \"metrics\": {\n",
      "        \"step\": 30\n",
      "      },\n",
      "      \"step_number\": 30\n",
      "    }\n",
      "  ],\n",
      "  \"has_more\": false,\n",
      "  \"first_id\": \"ftckpt_zXpzkN4xQpDonJlFsa2bo1Uz\",\n",
      "  \"last_id\": \"ftckpt_1mJXe0wDob76ld9wzHoK6Z7d\"\n",
      "}\n"
     ]
    },
    {
     "name": "stderr",
     "output_type": "stream",
     "text": [
      "  % Total    % Received % Xferd  Average Speed   Time    Time     Time  Current\n",
      "                                 Dload  Upload   Total   Spent    Left  Speed\n",
      "\n",
      "  0     0    0     0    0     0      0      0 --:--:-- --:--:-- --:--:--     0\n",
      "100  1250  100  1250    0     0   2248      0 --:--:-- --:--:-- --:--:--  2276\n"
     ]
    }
   ],
   "source": [
    "# 수동 확인\n",
    "!curl https://api.openai.com/v1/fine_tuning/jobs/ftjob-x2NOix27Qk6THUxkrQjk2I09/checkpoints \\\n",
    "  -H \"Authorization: Bearer $MY_API_KEY\""
   ]
  },
  {
   "cell_type": "markdown",
   "id": "4ce8624c-3f37-43e1-b136-1f6cddcd4ba3",
   "metadata": {},
   "source": [
    "##### **Epoch별 확인**\n",
    "- loss는 낮아지고 train_mean_token_accuracy는 낮아지는지 확인\n",
    "- model_dump_json : 객체를 json문자열로 변환하는 함수"
   ]
  },
  {
   "cell_type": "code",
   "execution_count": 285,
   "id": "e5f4fbe9-e29a-4361-8d8e-13f2f0f98e1a",
   "metadata": {},
   "outputs": [
    {
     "name": "stdout",
     "output_type": "stream",
     "text": [
      "{\n",
      "    \"data\": [\n",
      "        {\n",
      "            \"id\": \"ftevent-pylW3g1PtMOSPPIIcJlwghPo\",\n",
      "            \"created_at\": 1739782003,\n",
      "            \"level\": \"info\",\n",
      "            \"message\": \"Step 50/50: training loss=0.00, validation loss=1.29, full validation loss=0.90\",\n",
      "            \"object\": \"fine_tuning.job.event\",\n",
      "            \"data\": {\n",
      "                \"step\": 50,\n",
      "                \"train_loss\": 0.0011444091796875,\n",
      "                \"valid_loss\": 1.2855484220716689,\n",
      "                \"total_steps\": 50,\n",
      "                \"full_valid_loss\": 0.8958381952023974,\n",
      "                \"train_mean_token_accuracy\": 1.0,\n",
      "                \"valid_mean_token_accuracy\": 0.8333333333333334,\n",
      "                \"full_valid_mean_token_accuracy\": 0.8431372549019608\n",
      "            },\n",
      "            \"type\": \"metrics\"\n",
      "        },\n",
      "        {\n",
      "            \"id\": \"ftevent-vk2iEVfpNB2cMxqbyceNE8jB\",\n",
      "            \"created_at\": 1739781996,\n",
      "            \"level\": \"info\",\n",
      "            \"message\": \"Step 49/50: training loss=0.04, validation loss=0.92\",\n",
      "            \"object\": \"fine_tuning.job.event\",\n",
      "            \"data\": {\n",
      "                \"step\": 49,\n",
      "                \"train_loss\": 0.03837544098496437,\n",
      "                \"valid_loss\": 0.9203810691833496,\n",
      "                \"total_steps\": 50,\n",
      "                \"train_mean_token_accuracy\": 1.0,\n",
      "                \"valid_mean_token_accuracy\": 0.75\n",
      "            },\n",
      "            \"type\": \"metrics\"\n",
      "        },\n",
      "        {\n",
      "            \"id\": \"ftevent-zD3kcGnjw4J0rLIi9pIWukGn\",\n",
      "            \"created_at\": 1739781991,\n",
      "            \"level\": \"info\",\n",
      "            \"message\": \"Step 48/50: training loss=0.39, validation loss=0.59\",\n",
      "            \"object\": \"fine_tuning.job.event\",\n",
      "            \"data\": {\n",
      "                \"step\": 48,\n",
      "                \"train_loss\": 0.3907600939273834,\n",
      "                \"valid_loss\": 0.5864168802897135,\n",
      "                \"total_steps\": 50,\n",
      "                \"train_mean_token_accuracy\": 0.931034505367279,\n",
      "                \"valid_mean_token_accuracy\": 0.875\n",
      "            },\n",
      "            \"type\": \"metrics\"\n",
      "        },\n",
      "        {\n",
      "            \"id\": \"ftevent-1KORKtNN8Xq9rp2fxO2vHNrq\",\n",
      "            \"created_at\": 1739781986,\n",
      "            \"level\": \"info\",\n",
      "            \"message\": \"Step 47/50: training loss=0.28, validation loss=1.76\",\n",
      "            \"object\": \"fine_tuning.job.event\",\n",
      "            \"data\": {\n",
      "                \"step\": 47,\n",
      "                \"train_loss\": 0.2828620970249176,\n",
      "                \"valid_loss\": 1.7594261169433594,\n",
      "                \"total_steps\": 50,\n",
      "                \"train_mean_token_accuracy\": 0.9200000166893005,\n",
      "                \"valid_mean_token_accuracy\": 0.7142857142857143\n",
      "            },\n",
      "            \"type\": \"metrics\"\n",
      "        },\n",
      "        {\n",
      "            \"id\": \"ftevent-FALUOEVu0F94xjoH1YMlhL10\",\n",
      "            \"created_at\": 1739781981,\n",
      "            \"level\": \"info\",\n",
      "            \"message\": \"Step 46/50: training loss=0.13, validation loss=0.60\",\n",
      "            \"object\": \"fine_tuning.job.event\",\n",
      "            \"data\": {\n",
      "                \"step\": 46,\n",
      "                \"train_loss\": 0.13432087004184723,\n",
      "                \"valid_loss\": 0.5985307693481445,\n",
      "                \"total_steps\": 50,\n",
      "                \"train_mean_token_accuracy\": 0.9743589758872986,\n",
      "                \"valid_mean_token_accuracy\": 0.9210526315789473\n",
      "            },\n",
      "            \"type\": \"metrics\"\n",
      "        },\n",
      "        {\n",
      "            \"id\": \"ftevent-LqofDAvYGl74QSpYtDmrMoI5\",\n",
      "            \"created_at\": 1739781978,\n",
      "            \"level\": \"info\",\n",
      "            \"message\": \"Step 45/50: training loss=0.46, validation loss=0.93\",\n",
      "            \"object\": \"fine_tuning.job.event\",\n",
      "            \"data\": {\n",
      "                \"step\": 45,\n",
      "                \"train_loss\": 0.45520907640457153,\n",
      "                \"valid_loss\": 0.9268689155578613,\n",
      "                \"total_steps\": 50,\n",
      "                \"train_mean_token_accuracy\": 0.9130434989929199,\n",
      "                \"valid_mean_token_accuracy\": 0.75\n",
      "            },\n",
      "            \"type\": \"metrics\"\n",
      "        },\n",
      "        {\n",
      "            \"id\": \"ftevent-MZJJ04g4PzcyciVKPpOPxaba\",\n",
      "            \"created_at\": 1739781973,\n",
      "            \"level\": \"info\",\n",
      "            \"message\": \"Step 44/50: training loss=0.00, validation loss=0.59\",\n",
      "            \"object\": \"fine_tuning.job.event\",\n",
      "            \"data\": {\n",
      "                \"step\": 44,\n",
      "                \"train_loss\": 0.0018847329774871469,\n",
      "                \"valid_loss\": 0.5852904319763184,\n",
      "                \"total_steps\": 50,\n",
      "                \"train_mean_token_accuracy\": 1.0,\n",
      "                \"valid_mean_token_accuracy\": 0.875\n",
      "            },\n",
      "            \"type\": \"metrics\"\n",
      "        },\n",
      "        {\n",
      "            \"id\": \"ftevent-WEgzCAEeIcs7od0IahdOv9QS\",\n",
      "            \"created_at\": 1739781968,\n",
      "            \"level\": \"info\",\n",
      "            \"message\": \"Step 43/50: training loss=0.33, validation loss=0.59\",\n",
      "            \"object\": \"fine_tuning.job.event\",\n",
      "            \"data\": {\n",
      "                \"step\": 43,\n",
      "                \"train_loss\": 0.3309975862503052,\n",
      "                \"valid_loss\": 0.5915976574546412,\n",
      "                \"total_steps\": 50,\n",
      "                \"train_mean_token_accuracy\": 0.970588207244873,\n",
      "                \"valid_mean_token_accuracy\": 0.9210526315789473\n",
      "            },\n",
      "            \"type\": \"metrics\"\n",
      "        },\n",
      "        {\n",
      "            \"id\": \"ftevent-96oJt623CUPBkKrhQWp7zRDw\",\n",
      "            \"created_at\": 1739781963,\n",
      "            \"level\": \"info\",\n",
      "            \"message\": \"Step 42/50: training loss=0.00, validation loss=1.28\",\n",
      "            \"object\": \"fine_tuning.job.event\",\n",
      "            \"data\": {\n",
      "                \"step\": 42,\n",
      "                \"train_loss\": 0.0000762939453125,\n",
      "                \"valid_loss\": 1.2792270448472765,\n",
      "                \"total_steps\": 50,\n",
      "                \"train_mean_token_accuracy\": 1.0,\n",
      "                \"valid_mean_token_accuracy\": 0.8333333333333334\n",
      "            },\n",
      "            \"type\": \"metrics\"\n",
      "        },\n",
      "        {\n",
      "            \"id\": \"ftevent-qswp7lntNHLqzfmLCimEjYkp\",\n",
      "            \"created_at\": 1739781961,\n",
      "            \"level\": \"info\",\n",
      "            \"message\": \"Step 41/50: training loss=0.00, validation loss=1.73\",\n",
      "            \"object\": \"fine_tuning.job.event\",\n",
      "            \"data\": {\n",
      "                \"step\": 41,\n",
      "                \"train_loss\": 0.0010237260721623898,\n",
      "                \"valid_loss\": 1.7285960061209542,\n",
      "                \"total_steps\": 50,\n",
      "                \"train_mean_token_accuracy\": 1.0,\n",
      "                \"valid_mean_token_accuracy\": 0.7142857142857143\n",
      "            },\n",
      "            \"type\": \"metrics\"\n",
      "        },\n",
      "        {\n",
      "            \"id\": \"ftevent-Vm5vs4X7hmWWMFDC02XWDPLM\",\n",
      "            \"created_at\": 1739781940,\n",
      "            \"level\": \"info\",\n",
      "            \"message\": \"Step 40/50: training loss=0.00, validation loss=1.29, full validation loss=0.90\",\n",
      "            \"object\": \"fine_tuning.job.event\",\n",
      "            \"data\": {\n",
      "                \"step\": 40,\n",
      "                \"train_loss\": 0.0016514459857717156,\n",
      "                \"valid_loss\": 1.2884125179714627,\n",
      "                \"total_steps\": 50,\n",
      "                \"full_valid_loss\": 0.9043884090348786,\n",
      "                \"train_mean_token_accuracy\": 1.0,\n",
      "                \"valid_mean_token_accuracy\": 0.8333333333333334,\n",
      "                \"full_valid_mean_token_accuracy\": 0.8529411764705882\n",
      "            },\n",
      "            \"type\": \"metrics\"\n",
      "        },\n",
      "        {\n",
      "            \"id\": \"ftevent-aAZakRjZJzbGCCpEcRuPKh5G\",\n",
      "            \"created_at\": 1739781933,\n",
      "            \"level\": \"info\",\n",
      "            \"message\": \"Step 39/50: training loss=0.35, validation loss=0.79\",\n",
      "            \"object\": \"fine_tuning.job.event\",\n",
      "            \"data\": {\n",
      "                \"step\": 39,\n",
      "                \"train_loss\": 0.35279661417007446,\n",
      "                \"valid_loss\": 0.7923076152801514,\n",
      "                \"total_steps\": 50,\n",
      "                \"train_mean_token_accuracy\": 0.970588207244873,\n",
      "                \"valid_mean_token_accuracy\": 0.75\n",
      "            },\n",
      "            \"type\": \"metrics\"\n",
      "        },\n",
      "        {\n",
      "            \"id\": \"ftevent-kzicqit3h7MYP0f5lKWGYjx2\",\n",
      "            \"created_at\": 1739781928,\n",
      "            \"level\": \"info\",\n",
      "            \"message\": \"Step 38/50: training loss=0.00, validation loss=1.80\",\n",
      "            \"object\": \"fine_tuning.job.event\",\n",
      "            \"data\": {\n",
      "                \"step\": 38,\n",
      "                \"train_loss\": 0.0000972747802734375,\n",
      "                \"valid_loss\": 1.797163418361119,\n",
      "                \"total_steps\": 50,\n",
      "                \"train_mean_token_accuracy\": 1.0,\n",
      "                \"valid_mean_token_accuracy\": 0.6428571428571429\n",
      "            },\n",
      "            \"type\": \"metrics\"\n",
      "        },\n",
      "        {\n",
      "            \"id\": \"ftevent-cMEZGPe62p8RKLUu8uVmNfFy\",\n",
      "            \"created_at\": 1739781925,\n",
      "            \"level\": \"info\",\n",
      "            \"message\": \"Step 37/50: training loss=0.41, validation loss=0.59\",\n",
      "            \"object\": \"fine_tuning.job.event\",\n",
      "            \"data\": {\n",
      "                \"step\": 37,\n",
      "                \"train_loss\": 0.4071599543094635,\n",
      "                \"valid_loss\": 0.5871194203694662,\n",
      "                \"total_steps\": 50,\n",
      "                \"train_mean_token_accuracy\": 0.8799999952316284,\n",
      "                \"valid_mean_token_accuracy\": 0.875\n",
      "            },\n",
      "            \"type\": \"metrics\"\n",
      "        },\n",
      "        {\n",
      "            \"id\": \"ftevent-VnvdHC041Uwfx0ITUxZ8IRIz\",\n",
      "            \"created_at\": 1739781920,\n",
      "            \"level\": \"info\",\n",
      "            \"message\": \"Step 36/50: training loss=0.62, validation loss=0.59\",\n",
      "            \"object\": \"fine_tuning.job.event\",\n",
      "            \"data\": {\n",
      "                \"step\": 36,\n",
      "                \"train_loss\": 0.6227619051933289,\n",
      "                \"valid_loss\": 0.5891407414486534,\n",
      "                \"total_steps\": 50,\n",
      "                \"train_mean_token_accuracy\": 0.7586206793785095,\n",
      "                \"valid_mean_token_accuracy\": 0.8947368421052632\n",
      "            },\n",
      "            \"type\": \"metrics\"\n",
      "        },\n",
      "        {\n",
      "            \"id\": \"ftevent-Jw9kqOVWgnrGWqlMfTHYJCXb\",\n",
      "            \"created_at\": 1739781915,\n",
      "            \"level\": \"info\",\n",
      "            \"message\": \"Step 35/50: training loss=0.00, validation loss=1.75\",\n",
      "            \"object\": \"fine_tuning.job.event\",\n",
      "            \"data\": {\n",
      "                \"step\": 35,\n",
      "                \"train_loss\": 0.0025173535104840994,\n",
      "                \"valid_loss\": 1.7507712500435966,\n",
      "                \"total_steps\": 50,\n",
      "                \"train_mean_token_accuracy\": 1.0,\n",
      "                \"valid_mean_token_accuracy\": 0.6428571428571429\n",
      "            },\n",
      "            \"type\": \"metrics\"\n",
      "        },\n",
      "        {\n",
      "            \"id\": \"ftevent-xPWh9e4X5dBHRSEgKR2eUMhA\",\n",
      "            \"created_at\": 1739781910,\n",
      "            \"level\": \"info\",\n",
      "            \"message\": \"Step 34/50: training loss=0.01, validation loss=0.83\",\n",
      "            \"object\": \"fine_tuning.job.event\",\n",
      "            \"data\": {\n",
      "                \"step\": 34,\n",
      "                \"train_loss\": 0.0054909843020141125,\n",
      "                \"valid_loss\": 0.8263053894042969,\n",
      "                \"total_steps\": 50,\n",
      "                \"train_mean_token_accuracy\": 1.0,\n",
      "                \"valid_mean_token_accuracy\": 0.75\n",
      "            },\n",
      "            \"type\": \"metrics\"\n",
      "        },\n",
      "        {\n",
      "            \"id\": \"ftevent-lv9O007HdUrtLBWwzFzwlc2W\",\n",
      "            \"created_at\": 1739781908,\n",
      "            \"level\": \"info\",\n",
      "            \"message\": \"Step 33/50: training loss=0.22, validation loss=0.64\",\n",
      "            \"object\": \"fine_tuning.job.event\",\n",
      "            \"data\": {\n",
      "                \"step\": 33,\n",
      "                \"train_loss\": 0.21664375066757202,\n",
      "                \"valid_loss\": 0.6364556948343912,\n",
      "                \"total_steps\": 50,\n",
      "                \"train_mean_token_accuracy\": 0.9487179517745972,\n",
      "                \"valid_mean_token_accuracy\": 0.875\n",
      "            },\n",
      "            \"type\": \"metrics\"\n",
      "        },\n",
      "        {\n",
      "            \"id\": \"ftevent-8X19ThMbfo6nojnxaZa8qSSy\",\n",
      "            \"created_at\": 1739781903,\n",
      "            \"level\": \"info\",\n",
      "            \"message\": \"Step 32/50: training loss=0.11, validation loss=1.32\",\n",
      "            \"object\": \"fine_tuning.job.event\",\n",
      "            \"data\": {\n",
      "                \"step\": 32,\n",
      "                \"train_loss\": 0.1053130105137825,\n",
      "                \"valid_loss\": 1.3196624120076497,\n",
      "                \"total_steps\": 50,\n",
      "                \"train_mean_token_accuracy\": 0.95652174949646,\n",
      "                \"valid_mean_token_accuracy\": 0.8333333333333334\n",
      "            },\n",
      "            \"type\": \"metrics\"\n",
      "        },\n",
      "        {\n",
      "            \"id\": \"ftevent-CwLuPQMVSVqw5xFrLdHbXL3A\",\n",
      "            \"created_at\": 1739781898,\n",
      "            \"level\": \"info\",\n",
      "            \"message\": \"Step 31/50: training loss=0.63, validation loss=0.56\",\n",
      "            \"object\": \"fine_tuning.job.event\",\n",
      "            \"data\": {\n",
      "                \"step\": 31,\n",
      "                \"train_loss\": 0.6304641366004944,\n",
      "                \"valid_loss\": 0.5590688805831107,\n",
      "                \"total_steps\": 50,\n",
      "                \"train_mean_token_accuracy\": 0.9130434989929199,\n",
      "                \"valid_mean_token_accuracy\": 0.9210526315789473\n",
      "            },\n",
      "            \"type\": \"metrics\"\n",
      "        }\n",
      "    ],\n",
      "    \"object\": \"list\",\n",
      "    \"has_more\": true\n",
      "}\n"
     ]
    }
   ],
   "source": [
    "response = client.fine_tuning.jobs.list_events(\n",
    "    fine_tuning_job_id = \"ftjob-x2NOix27Qk6THUxkrQjk2I09\",\n",
    ")\n",
    "print(response.model_dump_json(indent=4))"
   ]
  }
 ],
 "metadata": {
  "kernelspec": {
   "display_name": "Python [conda env:study]",
   "language": "python",
   "name": "conda-env-study-py"
  },
  "language_info": {
   "codemirror_mode": {
    "name": "ipython",
    "version": 3
   },
   "file_extension": ".py",
   "mimetype": "text/x-python",
   "name": "python",
   "nbconvert_exporter": "python",
   "pygments_lexer": "ipython3",
   "version": "3.8.20"
  }
 },
 "nbformat": 4,
 "nbformat_minor": 5
}
