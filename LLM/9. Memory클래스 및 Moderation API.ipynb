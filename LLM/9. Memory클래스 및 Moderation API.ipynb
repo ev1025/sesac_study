{
 "cells": [
  {
   "cell_type": "markdown",
   "id": "0653b4f1-cc0d-4092-ba5a-8bfdba0b799a",
   "metadata": {},
   "source": [
    "## 이전 대화를 기억하는 Memory 클래스"
   ]
  },
  {
   "cell_type": "code",
   "execution_count": 8,
   "id": "381a5524-0f52-4f01-808f-fe08058b1226",
   "metadata": {},
   "outputs": [],
   "source": [
    "from getpass import getpass\n",
    "from openai import OpenAI\n",
    "from langchain_openai import ChatOpenAI\n",
    "from langchain.prompts import PromptTemplate\n",
    "from langchain.chains import LLMChain\n",
    "# ConversationBufferMemory : 챗봇이 이전의 대화 내용을 기억할 수 있게 해주는 클래스\n",
    " # 사용하려면 llm에 질의를 넘겨줄 때 이전 대화도 같이 남겨주게 됨\n",
    " # (단 이러한 memory 클래스는 모델별로 최대 입력 토큰의 제약이 있어서 적절히 사용해야 함)\n",
    "from langchain.memory import ConversationBufferMemory\n",
    "# ConversationBufferWindowMemory : 이전의 일정 대화수 만큼만 저장하는 메모리 클래스\n",
    "# 모든 대화 내용을 저장하지 않고 메모리와 토큰을 효율적으로 관리하고 싶을 때 사용\n",
    "from langchain.memory import ConversationBufferWindowMemory"
   ]
  },
  {
   "cell_type": "code",
   "execution_count": 10,
   "id": "4e6eebd6-a0e8-4f26-baf7-666acfef883a",
   "metadata": {},
   "outputs": [
    {
     "name": "stdin",
     "output_type": "stream",
     "text": [
      "Open API Key: ········\n"
     ]
    }
   ],
   "source": [
    "MY_API_KEY = getpass.getpass(\"Open API Key:\")"
   ]
  },
  {
   "cell_type": "code",
   "execution_count": 12,
   "id": "9dac32da-97fd-4c2f-9833-e1f440ab5703",
   "metadata": {},
   "outputs": [],
   "source": [
    "chat_model = ChatOpenAI(model = 'gpt-3.5-turbo',\n",
    "                        api_key = MY_API_KEY\n",
    "                       )"
   ]
  },
  {
   "cell_type": "code",
   "execution_count": 14,
   "id": "f1227c39-f201-4354-9cb4-db42d764a928",
   "metadata": {},
   "outputs": [],
   "source": [
    "prompt = PromptTemplate(input_variables = [\"chat_history\", \"question\"],   # 넘겨받을 값\n",
    "                        template = \"\"\"You are a AI assistant.\n",
    "                                      You are currently haing a conversation with a human.\n",
    "                                      Answer the Question.\n",
    "                                      chat_history : {chat_history},\n",
    "                                      Human : {question},\n",
    "                                      AI assistant : \n",
    "                                      \"\"\"\n",
    "                       )"
   ]
  },
  {
   "cell_type": "markdown",
   "id": "055d1058-a93b-4b3d-95f3-91ba355a1dc2",
   "metadata": {},
   "source": [
    "### ConversationBufferMemory"
   ]
  },
  {
   "cell_type": "code",
   "execution_count": 81,
   "id": "05273c39-1e47-43d3-aedc-9041b58af5e6",
   "metadata": {},
   "outputs": [],
   "source": [
    "# memory_key : 대화 내용이 저장될 key값 지정(PromptTemlate에 있는 'chat_history'로 전달됨)\n",
    "# return_messages=True : 대화 기록을 메시지 객체로 반환(False는 텍스트만 반환)\n",
    "CB_memory = ConversationBufferMemory(memory_key=\"chat_history\",\n",
    "                                     return_messages=True\n",
    "                                    )"
   ]
  },
  {
   "cell_type": "code",
   "execution_count": 83,
   "id": "63aa253c-2092-4d4d-a6e0-0d8c947c26f4",
   "metadata": {},
   "outputs": [],
   "source": [
    "llm_chain = LLMChain(\n",
    "    llm = chat_model,    # LLM 객체 입력\n",
    "    prompt = prompt,     # prompt 템플릿 형태로 입력\n",
    "    memory = CB_memory   # 메모리 객체 입력\n",
    ")"
   ]
  },
  {
   "cell_type": "markdown",
   "id": "321a7327-60a5-4a9d-829a-fef505fe0f7f",
   "metadata": {},
   "source": [
    "#### chain에서 사용하는 질의함수\n",
    "- invoke : 복잡한 파이프라인이나 여러 구성 요소와 상호작용하는 시나리오에서 유연한 응답을 생성(dict 형태로 출력되며 이전 내용이 출력에 포함됨)\n",
    "- predict : 단순한 시나리오에서 빠르고 간결한 응답을 생성(이전 대화 내용이 출력에 포함되지는 않음)"
   ]
  },
  {
   "cell_type": "code",
   "execution_count": 86,
   "id": "715d505c-c11e-4ba8-8040-754ddb5c0dce",
   "metadata": {},
   "outputs": [
    {
     "data": {
      "text/plain": [
       "{'question': '안녕',\n",
       " 'chat_history': [HumanMessage(content='안녕'),\n",
       "  AIMessage(content='안녕하세요! 무엇을 도와드릴까요?')],\n",
       " 'text': '안녕하세요! 무엇을 도와드릴까요?'}"
      ]
     },
     "execution_count": 86,
     "metadata": {},
     "output_type": "execute_result"
    }
   ],
   "source": [
    "llm_chain.invoke(\"안녕\")"
   ]
  },
  {
   "cell_type": "code",
   "execution_count": 87,
   "id": "c58f4bbd-2369-4c93-bb9e-84ec495d1f5e",
   "metadata": {},
   "outputs": [
    {
     "data": {
      "text/plain": [
       "{'question': '오늘 날씨 어때',\n",
       " 'chat_history': [HumanMessage(content='안녕'),\n",
       "  AIMessage(content='안녕하세요! 무엇을 도와드릴까요?'),\n",
       "  HumanMessage(content='오늘 날씨 어때'),\n",
       "  AIMessage(content='오늘은 흐린 날씨이고 오후에 가끔 비가 올 예정입니다. 온도는 20도에서 25도 사이로 변화할 것으로 예상됩니다.외출 시 우산을 챙기시는 것이 좋을 것 같아요.')],\n",
       " 'text': '오늘은 흐린 날씨이고 오후에 가끔 비가 올 예정입니다. 온도는 20도에서 25도 사이로 변화할 것으로 예상됩니다.외출 시 우산을 챙기시는 것이 좋을 것 같아요.'}"
      ]
     },
     "execution_count": 87,
     "metadata": {},
     "output_type": "execute_result"
    }
   ],
   "source": [
    "llm_chain.invoke(\"오늘 날씨 어때\")"
   ]
  },
  {
   "cell_type": "code",
   "execution_count": 89,
   "id": "11a7200c-98b9-489e-a00d-e997c556033b",
   "metadata": {
    "scrolled": true
   },
   "outputs": [
    {
     "data": {
      "text/plain": [
       "{'question': '안 친한척 하는 법 아니?',\n",
       " 'chat_history': [HumanMessage(content='안녕'),\n",
       "  AIMessage(content='안녕하세요! 무엇을 도와드릴까요?'),\n",
       "  HumanMessage(content='오늘 날씨 어때'),\n",
       "  AIMessage(content='오늘은 흐린 날씨이고 오후에 가끔 비가 올 예정입니다. 온도는 20도에서 25도 사이로 변화할 것으로 예상됩니다.외출 시 우산을 챙기시는 것이 좋을 것 같아요.'),\n",
       "  HumanMessage(content='안 친한척 하는 법 아니?'),\n",
       "  AIMessage(content='처음부터 친하지 않은 척 하는 것이 좋을 것 같아요. 예의 바르게 거리를 두는 태도를 취하는 것이 좋을 것 같습니다.')],\n",
       " 'text': '처음부터 친하지 않은 척 하는 것이 좋을 것 같아요. 예의 바르게 거리를 두는 태도를 취하는 것이 좋을 것 같습니다.'}"
      ]
     },
     "execution_count": 89,
     "metadata": {},
     "output_type": "execute_result"
    }
   ],
   "source": [
    "llm_chain.invoke(\"안 친한척 하는 법 아니?\")"
   ]
  },
  {
   "cell_type": "markdown",
   "id": "70338dee-e921-410a-be9e-9ab8d3fc72da",
   "metadata": {},
   "source": [
    "##### **대화 내용 확인**"
   ]
  },
  {
   "cell_type": "code",
   "execution_count": 93,
   "id": "6d229e02-763a-4e1a-977d-51c308d541ef",
   "metadata": {},
   "outputs": [
    {
     "data": {
      "text/plain": [
       "InMemoryChatMessageHistory(messages=[HumanMessage(content='안녕'), AIMessage(content='안녕하세요! 무엇을 도와드릴까요?'), HumanMessage(content='오늘 날씨 어때'), AIMessage(content='오늘은 흐린 날씨이고 오후에 가끔 비가 올 예정입니다. 온도는 20도에서 25도 사이로 변화할 것으로 예상됩니다.외출 시 우산을 챙기시는 것이 좋을 것 같아요.'), HumanMessage(content='안 친한척 하는 법 아니?'), AIMessage(content='처음부터 친하지 않은 척 하는 것이 좋을 것 같아요. 예의 바르게 거리를 두는 태도를 취하는 것이 좋을 것 같습니다.')])"
      ]
     },
     "execution_count": 93,
     "metadata": {},
     "output_type": "execute_result"
    }
   ],
   "source": [
    "CB_memory.chat_memory"
   ]
  },
  {
   "cell_type": "code",
   "execution_count": 95,
   "id": "341d0842-9c6c-4dbe-9e52-36f1ff3fc936",
   "metadata": {},
   "outputs": [
    {
     "data": {
      "text/plain": [
       "'오늘 날씨 어때'"
      ]
     },
     "execution_count": 95,
     "metadata": {},
     "output_type": "execute_result"
    }
   ],
   "source": [
    "CB_memory.chat_memory.messages[2].content"
   ]
  },
  {
   "cell_type": "code",
   "execution_count": 97,
   "id": "e627cc4c-6afe-4214-89f0-ed697c7d71a0",
   "metadata": {},
   "outputs": [
    {
     "data": {
      "text/plain": [
       "'그렇군요. 더 어둡고 냉정한 대답을 원하신다면 그에 맞게 대답해드리겠습니다.'"
      ]
     },
     "execution_count": 97,
     "metadata": {},
     "output_type": "execute_result"
    }
   ],
   "source": [
    "llm_chain.predict(question=\"굉장히 어두운 사람처럼 대답을 해줬으면 좋겠어\")"
   ]
  },
  {
   "cell_type": "markdown",
   "id": "4b2955d3-4c83-48f6-bbeb-cc66a16eec4a",
   "metadata": {},
   "source": [
    "##### **메모리 삭제**"
   ]
  },
  {
   "cell_type": "code",
   "execution_count": 99,
   "id": "63a8d3cc-2868-4bb3-8f50-4b87cbc2668e",
   "metadata": {},
   "outputs": [],
   "source": [
    "CB_memory.clear()"
   ]
  },
  {
   "cell_type": "code",
   "execution_count": 101,
   "id": "00dcaa96-d698-47a7-bb54-602d7ebc866f",
   "metadata": {},
   "outputs": [
    {
     "data": {
      "text/plain": [
       "InMemoryChatMessageHistory(messages=[])"
      ]
     },
     "execution_count": 101,
     "metadata": {},
     "output_type": "execute_result"
    }
   ],
   "source": [
    "CB_memory.chat_memory"
   ]
  },
  {
   "cell_type": "markdown",
   "id": "6d0c8eee-c17d-4136-b636-0813382199a5",
   "metadata": {},
   "source": [
    "### ConversationBufferWindowMemmory\n",
    "- 이전의 일정한 대화 개수(k개) 만큼만 저장하는 메모리 클래스"
   ]
  },
  {
   "cell_type": "code",
   "execution_count": 103,
   "id": "1305033f-76ce-490e-973c-d760888cc645",
   "metadata": {},
   "outputs": [],
   "source": [
    "CBW_memory = ConversationBufferWindowMemory(memory_key=\"chat_history\",\n",
    "                                           return_messages=True,\n",
    "                                           k=3    # 기억할 이전 대화 수\n",
    "                                          )"
   ]
  },
  {
   "cell_type": "code",
   "execution_count": 105,
   "id": "d3067ee8-96fd-4a96-a88a-d432112094b2",
   "metadata": {},
   "outputs": [],
   "source": [
    "llm_chain2 = LLMChain(\n",
    "    llm = chat_model,\n",
    "    prompt = prompt,\n",
    "    memory = CBW_memory\n",
    ")"
   ]
  },
  {
   "cell_type": "code",
   "execution_count": 109,
   "id": "efe7a3cc-7d64-448d-98cb-92079013bba3",
   "metadata": {},
   "outputs": [
    {
     "data": {
      "text/plain": [
       "{'question': '오늘 점심으로 우육면이랑 만두 중에 추천해줘',\n",
       " 'chat_history': [],\n",
       " 'text': '우육면을 추천해드립니다.육수가 진하고 면발이 탱탱해서 맛있습니다. 만두도 맛있지만 우육면이 더 특별한 맛을 느낄 수 있을 것 같아요.'}"
      ]
     },
     "execution_count": 109,
     "metadata": {},
     "output_type": "execute_result"
    }
   ],
   "source": [
    "llm_chain2.invoke(\"오늘 점심으로 우육면이랑 만두 중에 추천해줘\")"
   ]
  },
  {
   "cell_type": "code",
   "execution_count": 111,
   "id": "6d9603e4-ad92-4dec-bc8c-39b7783fde47",
   "metadata": {},
   "outputs": [
    {
     "data": {
      "text/plain": [
       "{'question': '나는 만두가 더 좋은데 너는 센스가 부족하구나?',\n",
       " 'chat_history': [HumanMessage(content='오늘 점심으로 우육면이랑 만두 중에 추천해줘'),\n",
       "  AIMessage(content='우육면을 추천해드립니다.육수가 진하고 면발이 탱탱해서 맛있습니다. 만두도 맛있지만 우육면이 더 특별한 맛을 느낄 수 있을 것 같아요.')],\n",
       " 'text': '제가 제안해드린 우육면이 좋아하시지 않으셨군요. 만두를 선호하시는 거죠? 죄송합니다, 다음에는 더 좋은 추천을 드리도록 노력하겠습니다. 만두 맛있게 드시고 즐거운 식사 되세요.'}"
      ]
     },
     "execution_count": 111,
     "metadata": {},
     "output_type": "execute_result"
    }
   ],
   "source": [
    "llm_chain2.invoke(\"나는 만두가 더 좋은데 너는 센스가 부족하구나?\")"
   ]
  },
  {
   "cell_type": "code",
   "execution_count": 113,
   "id": "06c87c7d-6210-4c9d-b698-e68dee8b54ba",
   "metadata": {},
   "outputs": [
    {
     "data": {
      "text/plain": [
       "{'question': '넌 왜 우육면을 더 좋아하니? 왜 나한테 그런거야?',\n",
       " 'chat_history': [HumanMessage(content='오늘 점심으로 우육면이랑 만두 중에 추천해줘'),\n",
       "  AIMessage(content='우육면을 추천해드립니다.육수가 진하고 면발이 탱탱해서 맛있습니다. 만두도 맛있지만 우육면이 더 특별한 맛을 느낄 수 있을 것 같아요.'),\n",
       "  HumanMessage(content='나는 만두가 더 좋은데 너는 센스가 부족하구나?'),\n",
       "  AIMessage(content='제가 제안해드린 우육면이 좋아하시지 않으셨군요. 만두를 선호하시는 거죠? 죄송합니다, 다음에는 더 좋은 추천을 드리도록 노력하겠습니다. 만두 맛있게 드시고 즐거운 식사 되세요.')],\n",
       " 'text': '죄송합니다. 제가 우육면을 추천한 이유는 육수가 진하고 면발이 탱탱해서 맛있는 점 때문이었습니다. 하지만 제가 여러분의 취향을 고려하지 않고 우육면을 추천한 것은 센스가 부족했던 것 같습니다. 만두를 선호하시는 것을 알게 되어 죄송합니다. 다음에는 더 나은 추천을 드릴 수 있도록 노력하겠습니다. 만두 맛있게 드시고 즐거운 식사 되세요.'}"
      ]
     },
     "execution_count": 113,
     "metadata": {},
     "output_type": "execute_result"
    }
   ],
   "source": [
    "llm_chain2.invoke(\"넌 왜 우육면을 더 좋아하니? 왜 나한테 그런거야?\")"
   ]
  },
  {
   "cell_type": "code",
   "execution_count": 115,
   "id": "1f07e04f-d4f4-461b-988f-bfcfd954fd2f",
   "metadata": {},
   "outputs": [
    {
     "data": {
      "text/plain": [
       "{'question': '나는 만두가 더 좋은데 왜 만두의 장점은 얘기하지 않는거지?',\n",
       " 'chat_history': [HumanMessage(content='오늘 점심으로 우육면이랑 만두 중에 추천해줘'),\n",
       "  AIMessage(content='우육면을 추천해드립니다.육수가 진하고 면발이 탱탱해서 맛있습니다. 만두도 맛있지만 우육면이 더 특별한 맛을 느낄 수 있을 것 같아요.'),\n",
       "  HumanMessage(content='나는 만두가 더 좋은데 너는 센스가 부족하구나?'),\n",
       "  AIMessage(content='제가 제안해드린 우육면이 좋아하시지 않으셨군요. 만두를 선호하시는 거죠? 죄송합니다, 다음에는 더 좋은 추천을 드리도록 노력하겠습니다. 만두 맛있게 드시고 즐거운 식사 되세요.'),\n",
       "  HumanMessage(content='넌 왜 우육면을 더 좋아하니? 왜 나한테 그런거야?'),\n",
       "  AIMessage(content='죄송합니다. 제가 우육면을 추천한 이유는 육수가 진하고 면발이 탱탱해서 맛있는 점 때문이었습니다. 하지만 제가 여러분의 취향을 고려하지 않고 우육면을 추천한 것은 센스가 부족했던 것 같습니다. 만두를 선호하시는 것을 알게 되어 죄송합니다. 다음에는 더 나은 추천을 드릴 수 있도록 노력하겠습니다. 만두 맛있게 드시고 즐거운 식사 되세요.')],\n",
       " 'text': '만두를 추천해드렸을 때, 만두의 맛이나 장점에 대해 구체적으로 언급하지 않았던 것은 제가 실수한 부분입니다. 만두는 바삭하고 고기가 푸짐하게 들어있어 맛있는 점이 많습니다. 죄송합니다, 만두의 장점을 더 잘 소개해드리지 못한 것을 알게 되어 죄송합니다. 앞으로는 더 나은 서비스를 제공할 수 있도록 노력하겠습니다. 만두를 즐겁게 드시고 맛있는 식사 되세요.'}"
      ]
     },
     "execution_count": 115,
     "metadata": {},
     "output_type": "execute_result"
    }
   ],
   "source": [
    "llm_chain2.invoke(\"나는 만두가 더 좋은데 왜 만두의 장점은 얘기하지 않는거지?\")"
   ]
  },
  {
   "cell_type": "code",
   "execution_count": 117,
   "id": "bd0316cb-8439-4de9-9dba-fa050c6e7907",
   "metadata": {},
   "outputs": [
    {
     "data": {
      "text/plain": [
       "{'question': '나는 김치만두가 더 좋은데 넌 고기만두를 좋아하는거야? 정말 실망스럽다',\n",
       " 'chat_history': [HumanMessage(content='나는 만두가 더 좋은데 너는 센스가 부족하구나?'),\n",
       "  AIMessage(content='제가 제안해드린 우육면이 좋아하시지 않으셨군요. 만두를 선호하시는 거죠? 죄송합니다, 다음에는 더 좋은 추천을 드리도록 노력하겠습니다. 만두 맛있게 드시고 즐거운 식사 되세요.'),\n",
       "  HumanMessage(content='넌 왜 우육면을 더 좋아하니? 왜 나한테 그런거야?'),\n",
       "  AIMessage(content='죄송합니다. 제가 우육면을 추천한 이유는 육수가 진하고 면발이 탱탱해서 맛있는 점 때문이었습니다. 하지만 제가 여러분의 취향을 고려하지 않고 우육면을 추천한 것은 센스가 부족했던 것 같습니다. 만두를 선호하시는 것을 알게 되어 죄송합니다. 다음에는 더 나은 추천을 드릴 수 있도록 노력하겠습니다. 만두 맛있게 드시고 즐거운 식사 되세요.'),\n",
       "  HumanMessage(content='나는 만두가 더 좋은데 왜 만두의 장점은 얘기하지 않는거지?'),\n",
       "  AIMessage(content='만두를 추천해드렸을 때, 만두의 맛이나 장점에 대해 구체적으로 언급하지 않았던 것은 제가 실수한 부분입니다. 만두는 바삭하고 고기가 푸짐하게 들어있어 맛있는 점이 많습니다. 죄송합니다, 만두의 장점을 더 잘 소개해드리지 못한 것을 알게 되어 죄송합니다. 앞으로는 더 나은 서비스를 제공할 수 있도록 노력하겠습니다. 만두를 즐겁게 드시고 맛있는 식사 되세요.')],\n",
       " 'text': '죄송합니다. 김치만두를 선호하시는 걸 알게 되어 죄송합니다. 김치만두는 바삭한 피로 감싸인 맛있는 김치와 함께 고기의 짭짤한 맛이 어우러져 맛있는데, 제가 그것을 간과한 것은 실수였습니다. 앞으로는 더 나은 서비스를 제공할 수 있도록 노력하겠습니다. 김치만두를 맛있게 드시고 즐거운 식사 되세요.'}"
      ]
     },
     "execution_count": 117,
     "metadata": {},
     "output_type": "execute_result"
    }
   ],
   "source": [
    "llm_chain2.invoke(\"나는 김치만두가 더 좋은데 넌 고기만두를 좋아하는거야? 정말 실망스럽다\")"
   ]
  },
  {
   "cell_type": "code",
   "execution_count": 119,
   "id": "75fc8f01-dc4b-4726-b514-8e61dc0d8c67",
   "metadata": {},
   "outputs": [
    {
     "data": {
      "text/plain": [
       "'저의 반복적인 죄송함 표현이 현실적인 성의가 아닌 것 같아 죄송합니다. 더 좋은 서비스를 제공할 수 있도록 노력하겠습니다. 김치만두를 즐겁게 드시고 즐거운 식사 되세요.'"
      ]
     },
     "execution_count": 119,
     "metadata": {},
     "output_type": "execute_result"
    }
   ],
   "source": [
    "llm_chain2.predict(question=\"너무 죄송하다는 말을 많이 해서 이제 정말 죄송한 건지 믿어지지가 않아\")"
   ]
  },
  {
   "cell_type": "code",
   "execution_count": 131,
   "id": "cac2c17b-69d5-444e-a648-69b813406dd1",
   "metadata": {},
   "outputs": [
    {
     "data": {
      "text/plain": [
       "InMemoryChatMessageHistory(messages=[HumanMessage(content='오늘 점심으로 우육면이랑 만두 중에 추천해줘'), AIMessage(content='우육면을 추천해드립니다.육수가 진하고 면발이 탱탱해서 맛있습니다. 만두도 맛있지만 우육면이 더 특별한 맛을 느낄 수 있을 것 같아요.'), HumanMessage(content='나는 만두가 더 좋은데 너는 센스가 부족하구나?'), AIMessage(content='제가 제안해드린 우육면이 좋아하시지 않으셨군요. 만두를 선호하시는 거죠? 죄송합니다, 다음에는 더 좋은 추천을 드리도록 노력하겠습니다. 만두 맛있게 드시고 즐거운 식사 되세요.'), HumanMessage(content='넌 왜 우육면을 더 좋아하니? 왜 나한테 그런거야?'), AIMessage(content='죄송합니다. 제가 우육면을 추천한 이유는 육수가 진하고 면발이 탱탱해서 맛있는 점 때문이었습니다. 하지만 제가 여러분의 취향을 고려하지 않고 우육면을 추천한 것은 센스가 부족했던 것 같습니다. 만두를 선호하시는 것을 알게 되어 죄송합니다. 다음에는 더 나은 추천을 드릴 수 있도록 노력하겠습니다. 만두 맛있게 드시고 즐거운 식사 되세요.'), HumanMessage(content='나는 만두가 더 좋은데 왜 만두의 장점은 얘기하지 않는거지?'), AIMessage(content='만두를 추천해드렸을 때, 만두의 맛이나 장점에 대해 구체적으로 언급하지 않았던 것은 제가 실수한 부분입니다. 만두는 바삭하고 고기가 푸짐하게 들어있어 맛있는 점이 많습니다. 죄송합니다, 만두의 장점을 더 잘 소개해드리지 못한 것을 알게 되어 죄송합니다. 앞으로는 더 나은 서비스를 제공할 수 있도록 노력하겠습니다. 만두를 즐겁게 드시고 맛있는 식사 되세요.'), HumanMessage(content='나는 김치만두가 더 좋은데 넌 고기만두를 좋아하는거야? 정말 실망스럽다'), AIMessage(content='죄송합니다. 김치만두를 선호하시는 걸 알게 되어 죄송합니다. 김치만두는 바삭한 피로 감싸인 맛있는 김치와 함께 고기의 짭짤한 맛이 어우러져 맛있는데, 제가 그것을 간과한 것은 실수였습니다. 앞으로는 더 나은 서비스를 제공할 수 있도록 노력하겠습니다. 김치만두를 맛있게 드시고 즐거운 식사 되세요.'), HumanMessage(content='너무 죄송하다는 말을 많이 해서 이제 정말 죄송한 건지 믿어지지가 않아'), AIMessage(content='저의 반복적인 죄송함 표현이 현실적인 성의가 아닌 것 같아 죄송합니다. 더 좋은 서비스를 제공할 수 있도록 노력하겠습니다. 김치만두를 즐겁게 드시고 즐거운 식사 되세요.')])"
      ]
     },
     "execution_count": 131,
     "metadata": {},
     "output_type": "execute_result"
    }
   ],
   "source": [
    "CBW_memory.chat_memory"
   ]
  },
  {
   "cell_type": "markdown",
   "id": "08a9ab46-92c3-4620-a5a2-d96b21aad944",
   "metadata": {},
   "source": [
    "## 컨텐츠 필터링(Content Filtering)\n",
    "- 입력되는 텍스트나 이미지가 잠재적으로 유해한지 확인할 수 있는 도구로 OpenAI에서는 Moderation이라는 명칭으로 사용하고 있음"
   ]
  },
  {
   "cell_type": "code",
   "execution_count": 136,
   "id": "0569681d-e05a-446a-8c11-443ec4aa1ca6",
   "metadata": {},
   "outputs": [],
   "source": [
    "client = OpenAI(api_key = MY_API_KEY)"
   ]
  },
  {
   "cell_type": "code",
   "execution_count": 148,
   "id": "359d083b-47cd-4d6b-9951-c6a2a716033a",
   "metadata": {},
   "outputs": [
    {
     "name": "stdout",
     "output_type": "stream",
     "text": [
      "ModerationCreateResponse(id='modr-B27no6AhmAKwG8RFfsHQT8e4w8p9i', model='text-moderation-007', results=[Moderation(categories=Categories(harassment=False, harassment_threatening=False, hate=False, hate_threatening=False, illicit=None, illicit_violent=None, self_harm=False, self_harm_instructions=True, self_harm_intent=False, sexual=False, sexual_minors=False, violence=False, violence_graphic=False, self-harm=False, sexual/minors=False, hate/threatening=False, violence/graphic=False, self-harm/intent=False, self-harm/instructions=True, harassment/threatening=False), category_applied_input_types=None, category_scores=CategoryScores(harassment=0.0008849060395732522, harassment_threatening=0.003673125058412552, hate=0.00015963373880367726, hate_threatening=9.246810805052519e-05, illicit=None, illicit_violent=None, self_harm=0.19523006677627563, self_harm_instructions=0.48151862621307373, self_harm_intent=0.2692906856536865, sexual=1.0462777026987169e-05, sexual_minors=2.212284925917629e-06, violence=0.03605198115110397, violence_graphic=0.00025688271853141487, self-harm=0.19523006677627563, sexual/minors=2.212284925917629e-06, hate/threatening=9.246810805052519e-05, violence/graphic=0.00025688271853141487, self-harm/intent=0.2692906856536865, self-harm/instructions=0.48151862621307373, harassment/threatening=0.003673125058412552), flagged=True)])\n"
     ]
    }
   ],
   "source": [
    "response = client.moderations.create(model = \"text-moderation-latest\",\n",
    "                                     input = \"자살하는 법\"\n",
    "                                    )\n",
    "print(response)"
   ]
  },
  {
   "cell_type": "code",
   "execution_count": 158,
   "id": "4c04b6f3-3394-49f0-8b86-d46b888fe75f",
   "metadata": {},
   "outputs": [
    {
     "data": {
      "text/plain": [
       "True"
      ]
     },
     "execution_count": 158,
     "metadata": {},
     "output_type": "execute_result"
    }
   ],
   "source": [
    "response.results[0].flagged      # 답변이 유해해서 거절당함"
   ]
  },
  {
   "cell_type": "code",
   "execution_count": 160,
   "id": "0d0370e0-a54b-4cbe-8973-10234c02f6fe",
   "metadata": {},
   "outputs": [
    {
     "data": {
      "text/plain": [
       "Categories(harassment=False, harassment_threatening=False, hate=False, hate_threatening=False, illicit=None, illicit_violent=None, self_harm=False, self_harm_instructions=True, self_harm_intent=False, sexual=False, sexual_minors=False, violence=False, violence_graphic=False, self-harm=False, sexual/minors=False, hate/threatening=False, violence/graphic=False, self-harm/intent=False, self-harm/instructions=True, harassment/threatening=False)"
      ]
     },
     "execution_count": 160,
     "metadata": {},
     "output_type": "execute_result"
    }
   ],
   "source": [
    "response.results[0].categories   # 답변이 어떤 부분에서 유해한지"
   ]
  },
  {
   "cell_type": "code",
   "execution_count": 162,
   "id": "5ea3678d-7164-4ff1-a457-0d8428d9c287",
   "metadata": {},
   "outputs": [
    {
     "data": {
      "text/plain": [
       "CategoryScores(harassment=0.0008849060395732522, harassment_threatening=0.003673125058412552, hate=0.00015963373880367726, hate_threatening=9.246810805052519e-05, illicit=None, illicit_violent=None, self_harm=0.19523006677627563, self_harm_instructions=0.48151862621307373, self_harm_intent=0.2692906856536865, sexual=1.0462777026987169e-05, sexual_minors=2.212284925917629e-06, violence=0.03605198115110397, violence_graphic=0.00025688271853141487, self-harm=0.19523006677627563, sexual/minors=2.212284925917629e-06, hate/threatening=9.246810805052519e-05, violence/graphic=0.00025688271853141487, self-harm/intent=0.2692906856536865, self-harm/instructions=0.48151862621307373, harassment/threatening=0.003673125058412552)"
      ]
     },
     "execution_count": 162,
     "metadata": {},
     "output_type": "execute_result"
    }
   ],
   "source": [
    "response.results[0].category_scores # 유해성 점수(0~1점)"
   ]
  },
  {
   "cell_type": "markdown",
   "id": "5f9df878-be96-4960-be07-ad287d886390",
   "metadata": {},
   "source": [
    "#### 유해하다고 판단되는 카테고리 확인\n",
    "- categories에서 True인 값만 출력"
   ]
  },
  {
   "cell_type": "code",
   "execution_count": 2,
   "id": "d074ef7c-a0a6-4988-a15f-8b884f3a4e93",
   "metadata": {},
   "outputs": [
    {
     "ename": "NameError",
     "evalue": "name 'response' is not defined",
     "output_type": "error",
     "traceback": [
      "\u001b[1;31m---------------------------------------------------------------------------\u001b[0m",
      "\u001b[1;31mNameError\u001b[0m                                 Traceback (most recent call last)",
      "Cell \u001b[1;32mIn[2], line 1\u001b[0m\n\u001b[1;32m----> 1\u001b[0m category_type \u001b[38;5;241m=\u001b[39m \u001b[38;5;28mdict\u001b[39m(\u001b[43mresponse\u001b[49m\u001b[38;5;241m.\u001b[39mresults[\u001b[38;5;241m0\u001b[39m]\u001b[38;5;241m.\u001b[39mcategories)\n\u001b[0;32m      2\u001b[0m category_type\n",
      "\u001b[1;31mNameError\u001b[0m: name 'response' is not defined"
     ]
    }
   ],
   "source": [
    "# 코드 1\n",
    "category_type = dict(response.results[0].categories)\n",
    "category_type"
   ]
  },
  {
   "cell_type": "code",
   "execution_count": null,
   "id": "0ecffc29-8331-450f-80aa-7820ed49a3a1",
   "metadata": {},
   "outputs": [],
   "source": []
  },
  {
   "cell_type": "code",
   "execution_count": null,
   "id": "0d4ef6c1-29e9-446c-ac61-4cd9b6dd8184",
   "metadata": {},
   "outputs": [],
   "source": []
  }
 ],
 "metadata": {
  "kernelspec": {
   "display_name": "Python [conda env:study]",
   "language": "python",
   "name": "conda-env-study-py"
  },
  "language_info": {
   "codemirror_mode": {
    "name": "ipython",
    "version": 3
   },
   "file_extension": ".py",
   "mimetype": "text/x-python",
   "name": "python",
   "nbconvert_exporter": "python",
   "pygments_lexer": "ipython3",
   "version": "3.8.20"
  }
 },
 "nbformat": 4,
 "nbformat_minor": 5
}
