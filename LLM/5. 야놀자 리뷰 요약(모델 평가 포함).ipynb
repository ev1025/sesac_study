{
 "cells": [
  {
   "cell_type": "markdown",
   "id": "aa419276-ca7e-4cd9-b45b-55f1df176e2f",
   "metadata": {},
   "source": [
    "## 야놀자 홈페이지의 호텔 리뷰를 요약하는 모델을 만들고 성능을 향상시킨 후 평가해보자!"
   ]
  },
  {
   "cell_type": "markdown",
   "id": "d58e3683-d125-49bd-baab-a0846f4b4ffb",
   "metadata": {},
   "source": [
    "### API키 및 기본 설정"
   ]
  },
  {
   "cell_type": "code",
   "execution_count": 1,
   "id": "5c843a0a-a994-4c14-9fed-dd390457656d",
   "metadata": {},
   "outputs": [],
   "source": [
    "import os\n",
    "import json\n",
    "import numpy as np\n",
    "import seaborn as sns\n",
    "from tqdm import tqdm\n",
    "from openai import OpenAI\n",
    "from getpass import getpass"
   ]
  },
  {
   "cell_type": "code",
   "execution_count": 3,
   "id": "d83c40ea-f1cc-41a5-9d35-58cdcf939d84",
   "metadata": {},
   "outputs": [
    {
     "name": "stdin",
     "output_type": "stream",
     "text": [
      "Your API Key: ········\n"
     ]
    }
   ],
   "source": [
    "MY_API_KEY = getpass.getpass(\"Your API Key:\")"
   ]
  },
  {
   "cell_type": "code",
   "execution_count": 5,
   "id": "0355ae04-64c9-4465-aa99-d20ba9c1b2aa",
   "metadata": {},
   "outputs": [],
   "source": [
    "client = OpenAI(api_key=MY_API_KEY)"
   ]
  },
  {
   "cell_type": "markdown",
   "id": "e479af2d-9411-4c04-b3fe-388592d505fb",
   "metadata": {},
   "source": [
    "### 데이터 수집\n",
    "- 야놀자 홈페이지의 호텔/리조트 탭에서 '신라 스테이 역삼' 호텔에 대한 리뷰를 최근순으로 20 스크롤정도 크롤링한 데이터 활용"
   ]
  },
  {
   "cell_type": "markdown",
   "id": "11c29ead-6336-4df2-bfdb-3fa69f6b6257",
   "metadata": {},
   "source": [
    "### 야놀자 내의 요약은 높은 점수 : 평점 5점,  / 사용모델 :GPT4-Turbo"
   ]
  },
  {
   "cell_type": "code",
   "execution_count": 8,
   "id": "e5d797a4-9f15-462f-8284-b3b9ae433684",
   "metadata": {},
   "outputs": [
    {
     "name": "stdout",
     "output_type": "stream",
     "text": [
      "420\n"
     ]
    },
    {
     "data": {
      "text/plain": [
       "[{'review': '고민하다가 조식포함으로 결정했는데 좋은 선택이었습니다. 같이간 이들도 만족스러워했어요. 조식도 좋았고 시설, 서비스, 청결도 나무랄데가 없었네요.',\n",
       "  'stars': 5,\n",
       "  'date': '2024.06.03'},\n",
       " {'review': '커피쿠폰도 받았구 깨끗하고 교회뷰도 이뻤어요!!!', 'stars': 5, 'date': '2022.11.20'},\n",
       " {'review': '잊을수없는 추억을 남겼어요 너무너무 좋았어요\\r\\n여자친구 몰래 프로포즈를 준비하게되었는데\\r\\n프론트 체크인 도와주셨던 직원분께 양해를 구하고\\r\\n선물을 미리 맡겨주셨고 프로포즈셋팅까지 완벽하게 진행될 수 있도록 정말 많은 도움 주셨어요\\r\\n바쁘신 와중에도 제가 계획한대로 체크인도 도와주셨고 딜라이브 ott까지 챙겨주시는 섬세함에 감동받았습니다 나중에 기념일때 다시한번 꼭 방문하겠습니다 성함을 기억했어야 하는데 젊은 남직원분\\r\\n다음번 방문때 감사인사 드리겠습니다\\r\\n훌륭한 룸컨디션도 칭찬합니다',\n",
       "  'stars': 5,\n",
       "  'date': '2022.10.17'},\n",
       " {'review': '조식이 맛있어요!!다양하게 종류도 많구요 캠페인중이여서 할인도 해서 먹었는데 맛있습니다\\n직원분들 친절하고 대응도 잘해주세요',\n",
       "  'stars': 5,\n",
       "  'date': '1일 전'},\n",
       " {'review': '가족들이 간다고 해서 진짜 폭풍 검색해서 알아봐드렸는데 좋아하셔서 좋았습니다 :) 신라스테이는 어딜 가도 좋은것 같아요',\n",
       "  'stars': 5,\n",
       "  'date': '3일 전'},\n",
       " {'review': '프론트 직원분들이 친절하셔서 좋아요', 'stars': 5, 'date': '3일 전'},\n",
       " {'review': '아주좋아요오오옹오ㅗ옹', 'stars': 5, 'date': '2024.10.08'},\n",
       " {'review': '청결하고 좋습니다 특히 조식이 맛있었어요', 'stars': 5, 'date': '2024.10.08'},\n",
       " {'review': '깨끗하고 친잘하고 교통편도 편리해요\\n그래서 출장중엔 종종 이용합니다',\n",
       "  'stars': 5,\n",
       "  'date': '2024.10.08'},\n",
       " {'review': '잘자고 가요오오 ~~', 'stars': 4, 'date': '2024.10.07'}]"
      ]
     },
     "execution_count": 8,
     "metadata": {},
     "output_type": "execute_result"
    }
   ],
   "source": [
    "with open('data/ya_review_sinla.json', 'r', encoding='utf-8') as f :\n",
    "    review_list = json.load(f)\n",
    "print(len(review_list))\n",
    "review_list[:10]"
   ]
  },
  {
   "cell_type": "code",
   "execution_count": 9,
   "id": "21ce3c02-2a6d-4d41-9cf7-68cd738885e8",
   "metadata": {},
   "outputs": [
    {
     "data": {
      "text/plain": [
       "4.754761904761905"
      ]
     },
     "execution_count": 9,
     "metadata": {},
     "output_type": "execute_result"
    }
   ],
   "source": [
    "stars_list = [i['stars'] for i in review_list]\n",
    "np.mean(stars_list)"
   ]
  },
  {
   "cell_type": "code",
   "execution_count": 10,
   "id": "3bd13240-1ce7-47b1-bf07-13b94754c626",
   "metadata": {},
   "outputs": [
    {
     "data": {
      "image/png": "[encoded data removed]",
      "text/plain": [
       "<Figure size 640x480 with 1 Axes>"
      ]
     },
     "metadata": {},
     "output_type": "display_data"
    }
   ],
   "source": [
    "_ = sns.countplot(x=stars_list)"
   ]
  },
  {
   "cell_type": "code",
   "execution_count": 11,
   "id": "4cc2e556-dd2c-45f4-ae11-8f772c3e125c",
   "metadata": {},
   "outputs": [
    {
     "name": "stdout",
     "output_type": "stream",
     "text": [
      "['[REVIEW_START]고민하다가 조식포함으로 결정했는데 좋은 선택이었습니다. 같이간 이들도 만족스러워했어요. 조식도 좋았고 시설, 서비스, 청결도 나무랄데가 없었네요.[REVIEW_END]', '[REVIEW_START]커피쿠폰도 받았구 깨끗하고 교회뷰도 이뻤어요!!![REVIEW_END]', '[REVIEW_START]잊을수없는 추억을 남겼어요 너무너무 좋았어요\\r\\n여자친구 몰래 프로포즈를 준비하게되었는데\\r\\n프론트 체크인 도와주셨던 직원분께 양해를 구하고\\r\\n선물을 미리 맡겨주셨고 프로포즈셋팅까지 완벽하게 진행될 수 있도록 정말 많은 도움 주셨어요\\r\\n바쁘신 와중에도 제가 계획한대로 체크인도 도와주셨고 딜라이브 ott까지 챙겨주시는 섬세함에 감동받았습니다 나중에 기념일때 다시한번 꼭 방문하겠습니다 성함을 기억했어야 하는데 젊은 남직원분\\r\\n다음번 방문때 감사인사 드리겠습니다\\r\\n훌륭한 룸컨디션도 칭찬합니다[REVIEW_END]']\n"
     ]
    }
   ],
   "source": [
    "# llM 학습이 잘 되도록 리뷰 시작과 끝 부분을 표시해줌\n",
    "# 5점인 것과 아닌 것으로 나눔\n",
    "reviews_high, reviews_low = [], []\n",
    "\n",
    "for i in review_list:\n",
    "    if i['stars'] ==5:\n",
    "        reviews_high.append('[REVIEW_START]' + i['review'] + '[REVIEW_END]')\n",
    "    else:\n",
    "        reviews_low.append('[REVIEW_START]' + i['review'] + '[REVIEW_END]')\n",
    "print(reviews_high[:3])"
   ]
  },
  {
   "cell_type": "code",
   "execution_count": 13,
   "id": "19951986-81a4-48dc-a1e7-29b03d482e49",
   "metadata": {},
   "outputs": [
    {
     "name": "stdout",
     "output_type": "stream",
     "text": [
      "[REVIEW_START]고민하다가 조식포함으로 결정했는데 좋은 선택이었습니다. 같이간 이들도 만족스러워했어요. 조식도 좋았고 시설, 서비스, 청결도 나무랄데가 없었네요.[REVIEW_END]\n",
      "[REVIEW_START]커피쿠폰도 받았구 깨끗하고 교회뷰도 이뻤어요!!![REVIEW_END]\n",
      "[REVIEW_START]잊을수없는 추억을 남겼어요 너무너무 좋았어요\n",
      "여자친구 몰래 프로포즈를 준비하게되었는데\n",
      "프론트 체크인 도와주셨던 직원분께 양해를 구하고\n",
      "선물을 미리 맡겨주셨고 프로포즈셋팅까지 완벽하게 진행될 수 있도록 정말 많은 도움 주셨어요\n",
      "바쁘신 와중에도 제가 계획한대로 체크인도 도와주셨고 딜라이브 ott까지 챙겨주시는 섬세함에 감동받았습니다 나중에 기념일때 다시한번 꼭 방문하겠습니다 성함을 기억했어야 하는데 젊은 남직원분\n",
      "다음번 방문때 감사인사 드리겠습니다\n",
      "훌륭한 룸컨디션도 칭찬합니다[REVIEW_END]\n",
      "[REVIEW_START]조식이 맛있어요!!다양하게 종류도 많구요 캠페\n"
     ]
    }
   ],
   "source": [
    "review_high_text = '\\n'.join(reviews_high)\n",
    "review_low_text = '\\n'.join(reviews_low)\n",
    "print(review_high_text[:500])"
   ]
  },
  {
   "cell_type": "markdown",
   "id": "520bc044-52d0-48a5-a3b4-6ce7cc17342d",
   "metadata": {},
   "source": [
    "#### 각 전처리 단계를 하나의 함수로 작성\n",
    "- 야놀자 홈페이지의 후기 요약 기간이 최근 6개월이므로 동일한 조건으로 데이터를 가공"
   ]
  },
  {
   "cell_type": "code",
   "execution_count": 17,
   "id": "68ac7ae8-99e4-4726-aed0-7b63d6beb714",
   "metadata": {},
   "outputs": [
    {
     "data": {
      "text/plain": [
       "datetime.datetime(2025, 2, 5, 16, 39, 47, 208670)"
      ]
     },
     "execution_count": 17,
     "metadata": {},
     "output_type": "execute_result"
    }
   ],
   "source": [
    "import datetime\n",
    "from dateutil import parser\n",
    "# dateutil : 다양한 형식의 날짜와 시간 문자열을 파싱하고 시간대 정보를 처리하는 모듈\n",
    "# prser : 문자열에서 날짜와 시간 정보를 자동으로 인식하고 추출하는 함수\n",
    "\n",
    "datetime.datetime.now()"
   ]
  },
  {
   "cell_type": "code",
   "execution_count": 19,
   "id": "0dcc6f79-c968-4c9c-982e-45bbff00ebdc",
   "metadata": {},
   "outputs": [
    {
     "data": {
      "text/plain": [
       "datetime.datetime(2024, 8, 21, 16, 39, 47, 442338)"
      ]
     },
     "execution_count": 19,
     "metadata": {},
     "output_type": "execute_result"
    }
   ],
   "source": [
    "# 6개월 전 날짜 및 일시 구하기\n",
    "# timedelta : 두 날짜 또는 시간간의 차이를 나타내는 함수\n",
    "# weeks, days, hours, minutes, seconds가 있음\n",
    "datetime.datetime.now() - datetime.timedelta(weeks=24)"
   ]
  },
  {
   "cell_type": "code",
   "execution_count": 162,
   "id": "9eba6313-b26c-4fb1-b59a-3b47a489b571",
   "metadata": {},
   "outputs": [
    {
     "name": "stdout",
     "output_type": "stream",
     "text": [
      "47\n"
     ]
    },
    {
     "data": {
      "text/plain": [
       "('[REVIEW_START]조식이 맛있어요!!다양하게 종류도 많구요 캠페인중이여서 할인도 해서 먹었는데 맛있습니다\\n직원분들 친절하고 대응도 잘해주세요[REVIEW_END]\\n[REVIEW_START]가족들이 간다고 해서 진짜 폭풍 검색해서 알아봐드렸는데 좋아하셔서 좋았습니다 :) 신라스테이는 어딜 가도 좋은것 같아요[REVIEW_END]\\n[REVIEW_START]프론트 직원분들이 친절하셔서 좋아요[REVIEW_END]\\n[REVIEW_START]아주좋아요오오옹오ㅗ옹[REVIEW_END]\\n[REVIEW_START]청결하고 좋습니다 특히 조식이 맛있었어요[REVIEW_END]\\n[REVIEW_START]깨끗하고 친잘하고 교통편도 편리해요\\n그래서 출장중엔 종종 이용합니다[REVIEW_END]\\n[REVIEW_START]서울오면 항상들려요~[REVIEW_END]\\n[REVIEW_START]잘 아용하였습니다![REVIEW_END]\\n[REVIEW_START]편안하게 잘 쉬다 갑니다.[REVIEW_END]\\n[REVIEW_START]조식도 맛있고 주차도 편리하고 좋았습니다^^[REVIEW_END]\\n[REVIEW_START]처음 가보았는데 도시에 있어도 소음이 심하지도 않고 객실은 대체적으로 청결하고 좋았습니다[REVIEW_END]\\n[REVIEW_START]병원 방문으로 강남에 갔다가 쉴 곳이 필요해 데이유즈로 이용했습니다. 전체적으로 룸 컨디션은 5성급 호텔과 비슷한 수준으로 훌륭했고, 인근에 식당과 카페가 많이 있어 위치도 좋습니다. \\n무엇보다 넓은 지하주차장을 가지고 있어, 어딜 가나 주차 스트레스가 심한 강남에서 편히 쉬다 갈 수 있었습니다.[REVIEW_END]\\n[REVIEW_START]시설이 깨끗하고 편리하게 이용함[REVIEW_END]\\n[REVIEW_START]친절 하고 깨끗해요[REVIEW_END]\\n[REVIEW_START]지방에 사는데 아이병원때문에 1박을 해야해서 \\n고민하다 신라스테이를 살펴보게되었어요 \\n저렴하지만 아이와 조식도 먹을수 있고 무엇보다 \\n깨끗한 숙소를 잡아야해서 안전빵으로 \\n신라스테이를 예약후 방문했습니다\\n친절하신 직원분덕분에 안내를 잘 받았었고\\n쾌적한 온도와 습도로 잘 쉬었습니다\\n건물뒤편에 술집이나 식사할만한곳이 꽤 있었어요\\n또 올라가게 된다면 재방문의사 있습니다^^[REVIEW_END]\\n[REVIEW_START]청결도 좋구요 특히 직원분들이 친절하세요[REVIEW_END]\\n[REVIEW_START]신라스테이 역삼 추천합니다 ![REVIEW_END]\\n[REVIEW_START]기본적으로 위생이 너무 좋아서, 아이와 함께 하기 안심이 되었어요. 그리고 요청 사항 있을때 객실에서 전화로 부탁드리면 정말 빨리 대응해주셔서 감사했구요. 아침에 조식도 너무 맛있어서 평소 먹던 양 보다 3배로 먹었던 것 같아요. 게다가 미니바, 헬스장도 무료 이용되어서 너무 좋았어요! 객실이 고층이어서 뷰도 좋았구요^^ 다음에 또 근처에 가게 되면, 또 이용할거같아요![REVIEW_END]\\n[REVIEW_START]신랑이랑 명절 마지막날 가서 잘 쉬다 왔어요~[REVIEW_END]\\n[REVIEW_START]깨끗하게 관리된 객실 컨디션 및 조식도 비교적 다양하게 준비되어 있습니다.\\n대로 변쪽의 객실은 차량  등의 소음이 일부 유입될 수 있습니다.[REVIEW_END]\\n[REVIEW_START]잘 쉬다갑니다\\n대체로 괜춘[REVIEW_END]\\n[REVIEW_START]침구 말고는 솔직히 아침에 쿵쿵쿵쿵쿵 일정한 소리때문에 잠을 설쳤습니다 \\n딱 일곱시간 숙박으로 머물렀는데 또 오고 싶은 마음은 없습니드[REVIEW_END]\\n[REVIEW_START]객실이 아늑하고 좋았고 조식도 맛있었습니다. 직원분들이 친절해서 편하게 쉬다왔습니다[REVIEW_END]\\n[REVIEW_START]아주 쾌적하고 편리합니다\\n추천[REVIEW_END]\\n[REVIEW_START]편하게 쉬고 왔습니다![REVIEW_END]\\n[REVIEW_START]에어컨이 고장나서 방 바꿔주셨어요.[REVIEW_END]\\n[REVIEW_START]여행왔는데 숙소도 쾌적하고 조용해서 잘 쉬고 갔습니다\\n조식도 맛있고 다만 지하철역과 거리가 조금 있긴 하지만\\n이정도는 괜찮습니다 직원분들도 친절하시고 다음에도 이용하려구요![REVIEW_END]\\n[REVIEW_START]늘 처음온것같은 청결함,조식의 정갈하고 맛나는 음식들 감사히 잘있다 왔어요[REVIEW_END]\\n[REVIEW_START]침구도 깨끗하고 역시 신라이름이 멋지게느껴지는 숙소였습니다[REVIEW_END]\\n[REVIEW_START]신라스테이가 다른 곳보다 제일 괜찮은 것 같아요[REVIEW_END]\\n[REVIEW_START]타월에 다른사람 머리카락이 있어서 좀그랬다는거빼면 다 괜찮았네요[REVIEW_END]\\n[REVIEW_START]도보방문으로 예약했으나 차량으로 방문하게 되어 주차하고?체크인하면서 말씀드렸더니 주차비 5천원 결제하시면 된다고 하셔서 결제하고 편하게 하룻밤 잘 묵었네요\\n뷰는 도로뷰라 그저 그랬고 조식은 깔끔하니 맛났어요.[REVIEW_END]\\n[REVIEW_START]너무 깨끗하고 좋아요[REVIEW_END]\\n[REVIEW_START]너무 깨끗하고 좋아요[REVIEW_END]\\n[REVIEW_START]정말 좋았습니다. 직원분들도 친절하시고 편안한 하룻밤 묵고 갑니다.[REVIEW_END]\\n[REVIEW_START]잘쉬다가가갑니다아ㅡ[REVIEW_END]\\n[REVIEW_START]늘 이용하지만 친절하고 깨끗해요[REVIEW_END]\\n[REVIEW_START]늘 이용하지만 친절하고 깨끗해요[REVIEW_END]\\n[REVIEW_START]주차편하고 강남에서 가격대비 성능비 괜찮아요[REVIEW_END]\\n[REVIEW_START]편히 잘 쉬고 갑니다[REVIEW_END]\\n[REVIEW_START]편안하게 잘쉬다가 갑니다[REVIEW_END]\\n[REVIEW_START]깨끗하고 편안했어요 좋아요[REVIEW_END]\\n[REVIEW_START]매우 깨끗하고 침구가 너무 편해서 힐링 잘하고 왔습니다![REVIEW_END]\\n[REVIEW_START]쾌적했습니다!!!!!!!!![REVIEW_END]\\n[REVIEW_START]미지근한 물이 있고 화장실이 깨끗해요[REVIEW_END]\\n[REVIEW_START]잘쉬다가갑니다 규ㅛ굿[REVIEW_END]\\n[REVIEW_START]가깝고좋아요 그냥 편하게오기좋아요호텔이라[REVIEW_END]',\n",
       " '[REVIEW_START]잘자고 가요오오 ~~[REVIEW_END]\\n[REVIEW_START]일단 주차 편리하고 객실도 깔끔했습니다. 다만 처음 객실 들어갔을 때 먼지냄새(?) 같은 냄새가 나서 환기를 시켰더니 금방 나아졌습니다.[REVIEW_END]\\n[REVIEW_START]편하게 놀고 쉬고 왔어요[REVIEW_END]\\n[REVIEW_START]처음보다는 시설이 많이 노후화된 것 같아요~\\n그래도 제일 깔끔하고 좋은 것 같아요.[REVIEW_END]\\n[REVIEW_START]1박으로 머물렀는데, 주차연장해 주셔서 좋았어요. 객실도 청결해서 가족과 머물기 좋았습니다. 객실배정을 상층으로 요청했는데 예약이 돼 있어서 어렵다고 한 점과 맞은편 건물 신축으로 뷰가 안나오는게 살짝 아쉬웠던 점이나 대체로 잘 머물렀습니다[REVIEW_END]\\n[REVIEW_START]역삼점은 처음인데 너무 실망 \\n침구는 누렇고 냄새나고 욕실은 샤워줄 검은물때 \\n다시 역삼은 안갈듯요 로비 객실 냄새도 ㅜㅜ\\n일층 엘베앞 세탁물을 보니 ㅜㅜ그럴만도 하겠다 불쾌했음[REVIEW_END]\\n[REVIEW_START]침구가 너무 좋았어요! 객실도 깨끗했어요. 욕실에 연식이 오래돼서 생긴 타일사이 검정부분만 좀 처리해주세요 그리고 호텔직원분들은 오전 여성직원분은 너무너무 친절하셨고 오후 남성분도 괜찮았는데 새벽애에혼자계시는 안경쓰신 남성 호텔리어분의 친절도는 잘 모르겠어요 ...! 조식은 환경과 인테리어, 다양성은 좋았으나 맛이 그저그래서 다음에 또 먹지는않을것같아요. 무엇보다 침구와 객실의 청결도가 마음에들었습니다 :][REVIEW_END]')"
      ]
     },
     "execution_count": 162,
     "metadata": {},
     "output_type": "execute_result"
    }
   ],
   "source": [
    "def preprocessing_reviews(path='data/ya_review_sinla.json'):\n",
    "    # 후기 파일 불러오기\n",
    "    with open(path, 'r', encoding='utf-8') as f :\n",
    "        review_list = json.load(f)\n",
    "\n",
    "    # 5점인 후기, 아닌 후기로 나눌 리스트\n",
    "    reviews_high, reviews_low = [], []\n",
    "\n",
    "    # 6개월 이내 데이터 분별을 위한 코드\n",
    "    current_date = datetime.datetime.now()\n",
    "    date_boundary = current_date - datetime.timedelta(weeks=24)\n",
    "\n",
    "    for i in review_list:\n",
    "        # 년월일 형식이 아닌 경우, 예외처리 필요\n",
    "        review_date_str =i['date']\n",
    "        try:\n",
    "            # parse : 문자열로 적혀진 날짜를 날짜 타입으로 변경\n",
    "            review_date = parser.parse(review_date_str)\n",
    "\n",
    "        # 년월일형식이 아닌 값들\n",
    "        except (ValueError, TypeError) :\n",
    "            # 어차피 날짜 안 쓰고, 6개월 이내 리뷰가 맞으니까 오늘 날짜로 바꿔버려\n",
    "            review_date =  current_date\n",
    "\n",
    "            # 해당 리뷰 날짜가 6개월 전보다 작다면 그냥 넘어감\n",
    "        if review_date < date_boundary:\n",
    "            continue\n",
    "\n",
    "        # 각 REVIEW별 START지점, END지점 표시\n",
    "        if i['stars'] ==5:\n",
    "            reviews_high.append('[REVIEW_START]' + i['review'] + '[REVIEW_END]')\n",
    "        else:\n",
    "            reviews_low.append('[REVIEW_START]' + i['review'] + '[REVIEW_END]')\n",
    "\n",
    "    # 각 REVIEW 하나의 문자열로 변경 \n",
    "    review_high_text = '\\n'.join(reviews_high)\n",
    "    review_low_text = '\\n'.join(reviews_low)\n",
    "\n",
    "    return review_high_text, review_low_text"
   ]
  },
  {
   "cell_type": "markdown",
   "id": "e343246d-4dc0-4cb4-b9a6-7cf4d30f0c16",
   "metadata": {},
   "source": [
    "### 리뷰 문장 요약을 위한 Baseline 모델 개발\n",
    "- base모델(gpt-3.5-turbo)가 야놀자 후기 요약 문장(gpt-4-turbo 모델 사용)에 근접하게 성능을 향상시 보는 것이 우리의 목표!!"
   ]
  },
  {
   "cell_type": "code",
   "execution_count": 27,
   "id": "da170c96-2642-4639-b266-682a775bbfcc",
   "metadata": {},
   "outputs": [
    {
     "data": {
      "text/plain": [
       "'[REVIEW_START]고민하다가 조식포함으로 결정했는데 좋은 선택이었습니다. 같이간 이들도 만족스러워했어요. 조식도 좋았고 시설, 서비스, 청결도 나무랄데가 없었네요.[REVIEW_END]\\n[REVIEW_START]커피쿠폰도 받았구 깨끗하고 교회뷰도 이뻤어요!!![REVIEW_END]\\n[REVIEW_START]잊을수없는 추억을 남겼어요 너무너무 좋았어요\\r\\n여자친구 몰래 프로포즈를 준비하게되었는데\\r\\n프론트 체크인 도와주셨던 직원분께 양해를 구하고\\r\\n선물을 미리 맡겨주셨고 프로포즈셋팅까지 완벽하게 진행될 수 있도록 정말 많은 도움 주셨어요\\r\\n바쁘신 와중에도 제가 계획한대로 체크인도 도와주셨고 딜라이브 ott까지 챙겨주시는 섬세함에 감동받았습니다 나중에 기념일때 다시한번 꼭 방문하겠습니다 성함을 기억했어야 하는데 젊은 남직원분\\r\\n다음번 방문때 감사인사 드리겠습니다\\r\\n훌륭한 룸컨디션도 칭찬합니다[REVIEW_END]\\n[REVIEW_START]조식이 맛있어요!!다양하게 종류도 많구요 캠페'"
      ]
     },
     "execution_count": 27,
     "metadata": {},
     "output_type": "execute_result"
    }
   ],
   "source": [
    "reviews, _ = preprocessing_reviews()\n",
    "reviews[:500]"
   ]
  },
  {
   "cell_type": "code",
   "execution_count": 29,
   "id": "a969967f-fd62-4972-ae70-a0a6decb500e",
   "metadata": {},
   "outputs": [],
   "source": [
    "PROMPT_BASELINE = \"아래 숙소 리뷰를 5문장 내로 요약해줘:\""
   ]
  },
  {
   "cell_type": "code",
   "execution_count": 31,
   "id": "44c9d742-d450-452f-90d4-85ab051ae825",
   "metadata": {},
   "outputs": [],
   "source": [
    "# llM호출하여 요약하는 함수\n",
    "def summarize(reviews, prompt, temperature=0, model='gpt-3.5-turbo'):\n",
    "    prompt = prompt + '\\n\\n' + reviews\n",
    "\n",
    "    completion = client.chat.completions.create(model = model,\n",
    "                                                messages = [{'role' : 'user',\n",
    "                                                            'content':prompt}],\n",
    "                                                temperature = temperature\n",
    "                                               )\n",
    "    return completion"
   ]
  },
  {
   "cell_type": "markdown",
   "id": "61d31068-d735-4895-8942-c7a6e0ea298e",
   "metadata": {},
   "source": [
    "#### 모델별 요약 결과"
   ]
  },
  {
   "cell_type": "code",
   "execution_count": 34,
   "id": "ea9dedb6-17fb-4b07-9ca0-47e5da9b8a50",
   "metadata": {},
   "outputs": [
    {
     "name": "stdout",
     "output_type": "stream",
     "text": [
      "조식포함으로 결정한 숙소는 시설, 서비스, 청결도 모두 만족스러웠고, 깨끗하고 교회뷰도 이쁘다. 프로포즈를 준비한 손님에게도 섬세한 서비스를 제공해줬다. 위치가 좋고 조식이 맛있어서 가족들이 만족해했다. 프론트 직원들이 친절하고, 깨끗하고 친절한 숙소에서 편안하게 쉬었다.\n"
     ]
    }
   ],
   "source": [
    "# gpt-3.5\n",
    "print(summarize(reviews, PROMPT_BASELINE, model='gpt-3.5-turbo').choices[0].message.content)"
   ]
  },
  {
   "cell_type": "code",
   "execution_count": 35,
   "id": "d35e10d5-b908-4e79-a6a3-72122a91f9a7",
   "metadata": {},
   "outputs": [
    {
     "data": {
      "text/plain": [
       "'청결하고 쾌적한 환경을 제공하며, 친절한 직원 서비스가 돋보입니다.\\n조식은 다양한 메뉴와 맛으로 손님들에게 호평을 받으며, 주차 시설도 편리하게 마련되어 있습니다.\\n객실은 아늑하고 고급스러운 분위기를 연출하며, 일부 객실에서는 도로 소음이 발생할 수 있습니다.\\n접근성과 주변 식당, 카페가 다양해 이용객의 편의성이 높습니다. 전반적으로 가성비가 우수하고, 재방문 의사가 있는 곳입니다.'"
      ]
     },
     "execution_count": 35,
     "metadata": {},
     "output_type": "execute_result"
    }
   ],
   "source": [
    "# gpt-4-turbo\n",
    "summary_gpt4_turbo = \"\"\"청결하고 쾌적한 환경을 제공하며, 친절한 직원 서비스가 돋보입니다.\n",
    "조식은 다양한 메뉴와 맛으로 손님들에게 호평을 받으며, 주차 시설도 편리하게 마련되어 있습니다.\n",
    "객실은 아늑하고 고급스러운 분위기를 연출하며, 일부 객실에서는 도로 소음이 발생할 수 있습니다.\n",
    "접근성과 주변 식당, 카페가 다양해 이용객의 편의성이 높습니다. 전반적으로 가성비가 우수하고, 재방문 의사가 있는 곳입니다.\"\"\"\n",
    "summary_gpt4_turbo"
   ]
  },
  {
   "cell_type": "markdown",
   "id": "42331014-4398-444d-abbf-ecffec09f47c",
   "metadata": {},
   "source": [
    "### 모델 평가 함수 선언"
   ]
  },
  {
   "cell_type": "markdown",
   "id": "efa6d691-58fe-458d-84ab-cfe4b27a2aa3",
   "metadata": {},
   "source": [
    "#### 평가 기준 설정\n",
    "- MT-bench 논문 기반 Pairwise Comparision 방식 적용\n",
    "    - LLM 기반 품질 비교 평가\n",
    "    - gpt-4o를 활용하여 2개 모델(3.5-turbo, 4-turbo)의 요약 결과를 비교하여 평가를 해보자\n",
    "#### 평가를 위한 스크립트 및 모델 실행 함수 코드 작성\n",
    "- 기존 MT-bench의 논문의 프롬프트에서 우리의 task에 맞게 일부만 수정해서 활용"
   ]
  },
  {
   "cell_type": "code",
   "execution_count": 38,
   "id": "4651ec0a-f9f0-4106-8587-c5f33777237c",
   "metadata": {},
   "outputs": [],
   "source": [
    "# 2개 모델이 요약한 내용을 비교평가하는 함수(리뷰내용, 첫 번쨰 모델 응답, 두 번째 모델 응답)\n",
    "def pairwise_eval(reviews, answer_a, answer_b):\n",
    "    eval_prompt = f\"\"\"[System]\n",
    "    Please act as an impartial judge and evaluate the quality of the Korean summaries provided by two\n",
    "    AI assistants to the set of user reviews on accommodations displayed below. You should choose the assistant that\n",
    "    follows the user’s instructions and answers the user’s question better. Your evaluation\n",
    "    should consider factors such as the helpfulness, relevance, accuracy, depth, creativity,\n",
    "    and level of detail of their responses. Begin your evaluation by comparing the two\n",
    "    responses and provide a short explanation. Avoid any position biases and ensure that the\n",
    "    order in which the responses were presented does not influence your decision. Do not allow\n",
    "    the length of the responses to influence your evaluation. Do not favor certain names of\n",
    "    the assistants. Be as objective as possible. After providing your explanation, output your\n",
    "    final verdict by strictly following this format: \"[[A]]\" if assistant A is better, \"[[B]]\"\n",
    "    if assistant B is better, and \"[[C]]\" for a tie.\n",
    "    Say Korean\n",
    "\n",
    "    [User Reviews]\n",
    "    {reviews}\n",
    "    [The Start of Assistant A’s Answer]\n",
    "    {answer_a}\n",
    "    [The End of Assistant A’s Answer]\n",
    "    [The Start of Assistant B’s Answer]\n",
    "    {answer_b}\n",
    "    [The End of Assistant B’s Answer]\"\"\"\n",
    "\n",
    "    completion = client.chat.completions.create(model = 'gpt-4o',\n",
    "                                                messages = [{'role':'user',\n",
    "                                                             'content':eval_prompt}],\n",
    "                                                temperature = 0\n",
    "                                               )\n",
    "    return completion\n",
    "    "
   ]
  },
  {
   "cell_type": "markdown",
   "id": "17939306-c749-4022-b761-8ddb7165478f",
   "metadata": {},
   "source": [
    "#### base모델(3.5-turbo)과 gpt-4-turbo모델 하나씩 응답에 대해 시범 평가"
   ]
  },
  {
   "cell_type": "code",
   "execution_count": 40,
   "id": "0b8acbaf-2095-4949-ba37-5994fe0c9001",
   "metadata": {},
   "outputs": [],
   "source": [
    "answer_a = summarize(reviews, PROMPT_BASELINE, model='gpt-3.5-turbo').choices[0].message.content"
   ]
  },
  {
   "cell_type": "code",
   "execution_count": 41,
   "id": "8227527d-e39d-4682-a553-fbe188f3cfd1",
   "metadata": {},
   "outputs": [],
   "source": [
    "answer_b = summary_gpt4_turbo"
   ]
  },
  {
   "cell_type": "code",
   "execution_count": 42,
   "id": "e13b202f-d90b-41cb-9642-a001a6ef904e",
   "metadata": {},
   "outputs": [
    {
     "name": "stdout",
     "output_type": "stream",
     "text": [
      "Assistant A의 답변은 특정 리뷰의 세부 사항을 강조하며, 조식, 시설, 서비스, 청결도, 직원의 친절함 등을 언급하고 있습니다. 특히, 프로포즈를 준비한 손님에 대한 구체적인 사례를 포함하여 개인적인 경험을 강조하고 있습니다. 이는 리뷰의 구체적인 사례를 잘 반영하고 있으며, 사용자에게 특정한 경험을 전달하는 데 효과적입니다.\n",
      "\n",
      "반면, Assistant B의 답변은 전반적인 요약을 제공하며, 청결, 친절한 서비스, 조식의 다양성, 주차 시설, 객실의 아늑함, 접근성, 가성비 등을 언급하고 있습니다. 이 답변은 전반적인 요약을 통해 다양한 측면을 포괄적으로 다루고 있으며, 일반적인 정보를 제공하는 데 중점을 두고 있습니다.\n",
      "\n",
      "두 답변 모두 리뷰의 주요 포인트를 잘 반영하고 있지만, Assistant A는 특정한 경험을 강조하여 사용자에게 더 구체적인 정보를 제공하고 있습니다. 반면, Assistant B는 전반적인 요약을 통해 다양한 측면을 포괄적으로 다루고 있습니다. 따라서, 사용자에게 구체적인 경험을 전달하는 데 있어 Assistant A의 답변이 더 효과적이라고 판단됩니다.\n",
      "\n",
      "[[A]]\n"
     ]
    }
   ],
   "source": [
    "# 평가 함수 실행(pairwise 함수를 호출하여 두 모델의 응답에 대해 gpt-4o모델이 평가함)\n",
    "print(pairwise_eval(reviews, answer_a, summary_gpt4_turbo).choices[0].message.content)"
   ]
  },
  {
   "cell_type": "markdown",
   "id": "0e1d21b7-6081-4585-979e-e0e95a488140",
   "metadata": {},
   "source": [
    "### 메인 평가 진행\n",
    "- 모델 고도화 업시 가장 기본적인 base모델과 gpt-4의 성능을 여러번 비교 평가해보자!\n",
    "- 실무에서는 다양한 데이터군을 많은 횟수로 평가하지만 지금은 그렇게 하기 힘들기 때문에 temperature를 높여서 다양한 응답을 10개 마들어서 평가를 진행해보자.\n",
    "- 경험삼 50~100번 정도의 평가를 진행해보면 좋겠지만 시간과 비용의 문제로 10번만 진행"
   ]
  },
  {
   "cell_type": "code",
   "execution_count": 44,
   "id": "8d53bf07-0039-44f3-bb3c-c92df50a8892",
   "metadata": {},
   "outputs": [],
   "source": [
    "summaries_baseline = [summarize(reviews, PROMPT_BASELINE, temperature = 0.8).choices[0].message.content for _ in range(10)]"
   ]
  },
  {
   "cell_type": "code",
   "execution_count": 45,
   "id": "8ec62ed5-a869-4613-831f-1672803d75e0",
   "metadata": {},
   "outputs": [
    {
     "data": {
      "text/plain": [
       "['조식포함으로 예약한 숙소는 조식이 맛있고 좋은 서비스, 시설, 청결함을 자랑합니다. 다양한 종류의 조식과 커피쿠폰, 깨끗한 시설, 교회 뷰로 만족스러운 숙박이었어요.다음 방문에도 기대됩니다.',\n",
       " '조식 포함으로 예약한 숙소는 조식도 맛있고 시설, 서비스, 청결도 모두 훌륭했고, 커피쿠폰도 받아 기쁘게 지내다가 갔어요. 그리고 불편한 점이 없었던 깔끔하고 편안한 숙박을 했습니다. 위치도 좋고, 주차도 편리하며 직원분들도 친절하고 침구도 편안했어요. 이런 호텔이면 항상 이용하고 싶어요.',\n",
       " '조식포함으로 결정한 좋은 선택이었고, 조식, 시설, 서비스, 청결 모두 만족스러운 숙소였습니다. 깨끗하고 교회뷰도 이쁘고, 추억을 남기기에 잊을 수 없는 지내이었네요. 다양하고 맛있는 조식, 친절한 직원들, 청결한 객실 등 다양한 요소가 만족스러웠습니다. 또한, 위치도 좋고 가격대비 성능도 좋았음을 언급하며, 다음 방문을 기대하고 있습니다. 위치도 좋고, 청결하고, 친절한 서비스를 제공하는 호텔로 추천합니다.',\n",
       " '조식포함으로 결정하여 만족한 숙소. 깨끗하고 시설, 서비스, 청결도 모두 좋았음. 완벽한 프로포즈 서비스를 받고 감동을 남긴 숙소. 깨끗하고 맛있는 조식이 특징. 교회뷰도 이쁘고 커피쿠폰도 제공받음.',\n",
       " '1. 조식포함으로 결정한 숙소는 시설, 서비스, 청결도 모두 만족스러웠고, 같이간 이들도 만족스러웠다.\\n2. 깨끗하고 교회뷰가 이쁜 숙소였고 커피쿠폰도 받았다.\\n3. 프로포즈를 준비했는데 직원들이 많은 도움을 주었고, 다음번 방문 의사가 있다.\\n4. 조식이 맛있고 다양하며, 직원들이 친절하였다. \\n5. 깨끗하고 친절한 숙소로 출장 시 자주 이용한다.',\n",
       " '조식 포함으로 예약한 숙소는 조식이 훌륭하고 시설, 서비스, 청결도 모두 우수하다. 또 다른 리뷰에서는 직원의 도움으로 뜻밖의 프로포즈를 완벽히 준비할 수 있었고, 숙박 시설과 조식이 매우 만족스러웠다고 언급했다. 그 외에도 시설이 깨끗하고 직원이 친절하며 교통편이 좋다는 긍정적인 리뷰가 많이 있었다.',\n",
       " '1. 조식포함으로 예약한 숙소는 좋은 선택이었고, 시설, 서비스, 청결도 모두 훌륭했다.\\n2. 깨끗하고 교회뷰를 즐길 수 있는 좋은 숙소이었고, 커피쿠폰도 제공받았다.\\n3. 프로포즈를 준비하는 고객에게 친절한 서비스를 제공했던 숙소에서 잊을 수 없는 추억을 만들었다.\\n4. 조식이 맛있고, 직원들이 친절한 서비스를 제공하는 신라스테이 역삼은 가족들에게 좋은 선택이었다.\\n5. 교통편이 편리하고, 출장을 위해 이용하기 좋은 신라스테이 역삼을 자주 이용한다.',\n",
       " '조식포함으로 결정한 것은 좋은 선택이었고, 조식도 만족스럽고 시설, 서비스, 청결도 모두 완벽했어요. 커피쿠폰받고 깨끗하고 교회뷰도 이쁘고, 추억을 남기기에 아주 즐거웠고 직원분들이 매우 친절하셨어요! 룸 컨디션, 조식, 주차 편리함, 청결도 등 모두 만족스러웠습니다. 위치도 좋고, 편리해서 출장시 종종 이용하는 곳이고, 아이와 함께 머물기에 안전하고 깨끗한 숙소를 찾는다면 신라스테이는 안전한 선택이 될 것 같습니다.',\n",
       " '조식포함으로 선택하면 좋은 서비스와 시설, 청결도를 만족스럽게 느낄 수 있는 숙소. 깨끗하고 교회 뷰도 이쁘며, 직원들의 섬세한 서비스가 기억에 남음. 종류와 맛 모두 좋은 조식을 즐길 수 있고, 가격 대비 성능이 좋은 강남 숙소로 추천. 위치도 편리하고 조용한 환경에서 편안하게 쉬기에 좋음.',\n",
       " '조식포함으로 예약한 숙소는 좋은 선택이었고, 조식도 맛있었으며 시설, 서비스, 청결도 모두 만족스러운 곳이었음. 깨끗하고 교회뷰도 이쁘고, 직원분들의 친절한 응대와 섬세한 서비스로 잊지 못할 추억을 만들었음. 위치가 좋아 교통편도 편리하고, 가족이 만족했고 침대도 편안하며 조식이 맛있었음. 프론트 직원분들이 친절하고 시설이 깨끗하며 조용하고 편안하게 쉬다갈 수 있는 좋은 숙소였음.']"
      ]
     },
     "execution_count": 45,
     "metadata": {},
     "output_type": "execute_result"
    }
   ],
   "source": [
    "summaries_baseline"
   ]
  },
  {
   "cell_type": "code",
   "execution_count": 46,
   "id": "c7b90ca4-dfc3-43e7-83e0-a51c8ef1404c",
   "metadata": {},
   "outputs": [
    {
     "data": {
      "text/plain": [
       "10"
      ]
     },
     "execution_count": 46,
     "metadata": {},
     "output_type": "execute_result"
    }
   ],
   "source": [
    "len(summaries_baseline)"
   ]
  },
  {
   "cell_type": "code",
   "execution_count": 47,
   "id": "c39146f8-a2e0-401a-ba83-e381e2568230",
   "metadata": {},
   "outputs": [
    {
     "data": {
      "text/plain": [
       "10"
      ]
     },
     "execution_count": 47,
     "metadata": {},
     "output_type": "execute_result"
    }
   ],
   "source": [
    "# gpt-4 모델의 결과는 같은 것을 사용\n",
    "summaries_gpt4 = [summary_gpt4_turbo for _ in range(10)]\n",
    "len(summaries_gpt4)"
   ]
  },
  {
   "cell_type": "code",
   "execution_count": 48,
   "id": "b2c3e72f-cf79-4bef-83be-1912a027cbc6",
   "metadata": {},
   "outputs": [],
   "source": [
    "def pairwise_eval_batch(reviews, answer_a, answer_b):\n",
    "    a_cnt, b_cnt, c_cnt = 0,0,0 # 승리, 패배, 무승부  \n",
    "\n",
    "    for i in tqdm(range(len(answer_a)):\n",
    "        completion = pairwise_eval(reviews,answer_a[i],answer_b[i])\n",
    "\n",
    "        # 평가 결과 텍스트\n",
    "        result_text = completion.choices[0].message.content\n",
    "\n",
    "        # A모델이 더 잘했다, B모델이 더 잘했다, C는 무승부\n",
    "        if '[[A]]' in result_text:\n",
    "            a_cnt +=1\n",
    "        elif '[[B]]' in result_text:\n",
    "            b_cnt +=1\n",
    "        elif '[[C]]' in result_text:\n",
    "            c_cnt +=1\n",
    "        else:\n",
    "            print('망했다')\n",
    "            \n",
    "    return a_cnt, b_cnt, c_cnt\n",
    "    "
   ]
  },
  {
   "cell_type": "code",
   "execution_count": 49,
   "id": "9cb5f294-9371-4d76-bcd9-26def849dc59",
   "metadata": {},
   "outputs": [
    {
     "name": "stderr",
     "output_type": "stream",
     "text": [
      "100%|██████████████████████████████████████████████████████████████████████████████████| 10/10 [02:53<00:00, 17.38s/it]"
     ]
    },
    {
     "name": "stdout",
     "output_type": "stream",
     "text": [
      "wins : 6, loses : 4, ties : 0\n"
     ]
    },
    {
     "name": "stderr",
     "output_type": "stream",
     "text": [
      "\n"
     ]
    }
   ],
   "source": [
    "wins, loses, ties = pairwise_eval_batch(reviews, summaries_baseline, summaries_gpt4)\n",
    "print(f\"wins : {wins}, loses : {loses}, ties : {ties}\")"
   ]
  },
  {
   "cell_type": "markdown",
   "id": "8fb5770f-172f-4764-8067-b9e2bbf2de8a",
   "metadata": {},
   "source": [
    "### 모델 고도화\n",
    "#### 1. 프롬프트 엔지니어링\n",
    "- 페르소나 및 조건 명시\n",
    "  "
   ]
  },
  {
   "cell_type": "code",
   "execution_count": 54,
   "id": "1d3cf07c-1170-43c8-805c-c72414795812",
   "metadata": {},
   "outputs": [
    {
     "name": "stderr",
     "output_type": "stream",
     "text": [
      "100%|██████████████████████████████████████████████████████████████████████████████████| 10/10 [00:40<00:00,  4.06s/it]\n"
     ]
    }
   ],
   "source": [
    "prompt = \"\"\" 당신은 문장 요약 전문가입니다. 사용자 숙소 리뷰들이 주어졌을 때 이를 요약하는 것이 당신의 목표입니다.\n",
    "\n",
    "요약 결과는 다음 조건들을 충족해야 합니다.\n",
    "1. 모든 문장은 항상 존댓말로 끝나야 합니다.\n",
    "2. 숙소에 대해 소개하는 톤앤매너로 작성해주세요.\n",
    " 2-1. 좋은 리뷰 요약 예시\n",
    "    a) 전반적으로 좋은 숙소였고 방음도 괜찮았다는 평입니다.\n",
    "    b) 재방문 예정이라는 평들이 존재합니다.\n",
    "\n",
    " 2-2. 나쁜 리뷰 요약 예시\n",
    "    a) 좋은 숙소, 방음도 괜찮음.\n",
    "    b) 재방문 예정.\n",
    "\n",
    "3. 요약 결과는 최소 4문장 이상 최대 7문장 이내로 작성해주세요.\n",
    "\n",
    "아래 숙소 리뷰들에 대해 요약해주세요:\n",
    "\"\"\"\n",
    "# 변경한 프롬프트를 넣어 gpt-3.5 모델로 10번의 요약을 실행\n",
    "summaries_opti1 = [summarize(reviews, prompt, temperature=0.8).choices[0].message.content for _ in tqdm(range(10))]"
   ]
  },
  {
   "cell_type": "code",
   "execution_count": 55,
   "id": "7270603b-ee42-470f-9ba0-dcfc98f2c607",
   "metadata": {},
   "outputs": [
    {
     "data": {
      "text/plain": [
       "['전반적으로 좋은 리뷰들이 많았습니다. \\n- 객실 청결과 시설이 좋았고, 조식도 맛있었다고 합니다.\\n- 특히, 고객들이 가격 대비 만족하고 친절한 직원들에 대해 언급했습니다.\\n- 다만, 몇몇의 아쉬운 점은 주차 요금이 발생하거나 지하철과의 거리가 조금 멀어서 불편감을 느꼈다고 합니다.\\n- 하지만 대체적으로 높은 만족도를 느낀다는 평가를 받았습니다. 이용 후 다시 방문할 의사가 있는 리뷰들도 많아요.',\n",
       " '고민할 필요 없이 조식포함으로 선택하면 좋은 선택입니다. 전반적으로 시설, 서비스, 청결도 등에서 나무랄 데가 없네요. 커피쿠폰도 받아서 깨끗하고 교회뷰도 이쁘다는 리뷰가 있네요. 또한, 여자친구를 위한 감동적인 프로포즈 이벤트를 개최한 뒤 섬세한 서비스로 고객을 감동시킨 내용도 있습니다. 룸컨디션도 훌륭하다는 평가와 조식이 맛있고 직원들이 친절하다는 좋은 평가도 있습니다. 전반적으로 청결하고 깨끗하며 친절한 서비스로 모든 이용객들의 만족을 이끌어냅니다.',\n",
       " '1. 조식포함으로 결정하여 좋은 선택이었고, 같이간 이들도 만족스러워하셨어요.\\n2. 깨끗하고 교회 뷰도 이쁘다고 하셨어요.\\n3. \"잊을수 없는 추억을 남겼어요\"라며 여자친구 몰래 프로포즈를 준비했는데, 직원분들이 세심한 배려를 해주셔서 많은 도움을 받았다고 칭찬하셨어요.\\n4. 조식이 맛있고, 다양한 종류와 할인 혜택이 있어서 매우 만족하셨다고 소개되었어요.\\n5. 병원 방문 후 이용해 좋은 곳이라는 후기도 있었고, 부모님도 편안하게 묵고 가셨다는 소식이 있었습니다.',\n",
       " '신라스테이는 항상 좋아하는 곳입니다. 조식도 맛있고 시설도 깨끗하며, 직원들도 친절합니다. 위치가 좋고 편리하며, 주차도 편리한 장점이 있습니다. 전반적으로 만족스럽고, 편안하고 깔끔한 환경에서 휴식을 취할 수 있는 곳입니다. 추억에 남는 좋은 순간을 보내고 갑니다. 또 다시 방문할 의사가 있습니다.',\n",
       " '1. 조식포함으로 고민하다가 결정했는데, 좋은 선택이었습니다. 조식도 좋았고 시설, 서비스, 청결도 나무랄데가 없었습니다.\\n2. 잊을수없는 추억을 남겨서 너무 좋았어요. 프론트 직원분들이 체크인 도와주시고 너무 친절하셨습니다. 룸컨디션도 훌륭했어요.\\n3. 조식이 맛있어요!! 다양하게 종류도 많고 캠페인중이여서 할인도 해서 맛있습니다. 직원분들 친절하고 대응도 잘해주세요.\\n4. 역삼지점 장점은 가성비가 좋고 시설도 깨끗하다는 것이었습니다. 조식도 맛있고, 주변 식당도 많아서 좋았다고 합니다.\\n5. 깨끗하고 편리하게 이용한 숙소로, 특히 침구와 조식에 대한 좋은 평가를 받았습니다. 위치도 좋았다고 하네요.',\n",
       " '좋은 리뷰가 많은 신라스테이입니다. 조식포함으로 예약한 고객들도 만족스러워했고, 시설, 서비스, 청결도 모두 나무랄데가 없다고 합니다. 다양한 종류와 맛있는 조식, 깨끗한 객실, 친절한 직원들이 인상깊었고, 프로포즈를 준비하는 고객과 같이간 이들 모두 너무너무 만족한 추억을 남긴 곳입니다. 추천합니다!',\n",
       " '여러 리뷰들을 요약하면, 숙소는 깨끗하고 친절한 직원들이 있는 곳으로, 조식이 맛있고 시설이 훌륭하다는 평이 많이 있습니다. 또한, 위치가 편리하고 주변 편의시설도 좋다는 언급이 많이 있습니다. 주차장이 넓고 조용한 환경에서 편안하게 묵을 수 있는 곳이라는 기대가 높아 보입니다. 다만, 일부 리뷰에서는 소음 문제나 방음이 조금 아쉬웠다는 언급도 있습니다. 전체적으로는 신라스테이가 항상 좋은 호텔로 평가받고 있습니다.',\n",
       " '맛있는 조식과 편안한 시설로 만족스러운  숙박이었습니다. 커플이나 가족 모두에게 적합한 곳입니다. 청결하고 친절한 서비스도 인상적이었어요. 주차도 편리하고 교통편이 좋아 다음에도 방문할 의사가 있습니다. 또한, 직원분들의 섬세한 배려에 감동 받았고, 깔끔한 객실 컨디션과 맛있는 조식이 인상적이었습니다. 다음 방문을 기대하며 좋은 시간을 보내다가 갑니다.',\n",
       " '숙소는 깨끗하고 친절한 서비스로 만족스럽다. 조식이 맛있고 시설, 서비스, 청결도 모두 훌륭하다. 커피쿠폰, 교회뷰 등 좋은 요소들이 있었다. 프로포즈를 준비하던 손님은 직원의 섬세한 도움에 만족했다. 다양하고 맛있는 조식, 친절한 직원들이 인상적이었다. 교통편이 편리하며, 청결하고 친절한 서비스가 좋다. 쾌적한 숙박이었고, 즐거운 시간을 보내고 갔다. 위치가 좋고 서비스 훌륭한 호텔이다.료.产品：日常对话-韩语',\n",
       " '신라스테이는 조식포함으로 선택한 것이 좋은 선택이었고, 친구들도 만족스러워했어요. 조식은 맛있고, 시설, 서비스, 청결도 모두 훌륭했습니다. 커피쿠폰도 받았고 교회뷰도 이쁘게 감상할 수 있었어요. 또한, 한 숙박에 잊을 수 없는 추억을 만들었는데, 프로포즈를 준비하는데 특별한 도움을 받았고, 바쁜 와중에도 섬세한 서비스로 감동을 받았다고 칭찬을 해주었어요. 그리고 조식이 맛있고, 직원들의 친절한 대응에 대해 언급해주었어요. 위치가 편리하고 청결하며 교통편도 편리해서 출장 중에 종종 이용한다고 언급했습니다. 전반적으로 편안하고 만족스러운 숙박 경험을 한 것으로 보입니다.']"
      ]
     },
     "execution_count": 55,
     "metadata": {},
     "output_type": "execute_result"
    }
   ],
   "source": [
    "summaries_opti1"
   ]
  },
  {
   "cell_type": "code",
   "execution_count": 56,
   "id": "e55fb815-f21c-40be-8470-f03c098a5ce9",
   "metadata": {},
   "outputs": [
    {
     "name": "stderr",
     "output_type": "stream",
     "text": [
      "100%|██████████████████████████████████████████████████████████████████████████████████| 10/10 [03:00<00:00, 18.03s/it]"
     ]
    },
    {
     "name": "stdout",
     "output_type": "stream",
     "text": [
      "Wins:6, Loses :3, Ties : 1\n"
     ]
    },
    {
     "name": "stderr",
     "output_type": "stream",
     "text": [
      "\n"
     ]
    }
   ],
   "source": [
    "wins, loses, ties = pairwise_eval_batch(reviews, summaries_opti1, summaries_gpt4)\n",
    "print(f\"Wins:{wins}, Loses :{loses}, Ties : {ties}\")"
   ]
  },
  {
   "cell_type": "markdown",
   "id": "5e323c18-6141-4197-b9fc-005fae6ab6f9",
   "metadata": {},
   "source": [
    "#### 2. 입력 데이터 품질 향상\n",
    "- 실제 숙소에 대한 정보가 포함되어 있지 않은 단순하고 짧은 리뷰들 필터링 ex) 좋았어요, 굳굳굳 등"
   ]
  },
  {
   "cell_type": "code",
   "execution_count": 164,
   "id": "76cf8eae-f224-4690-b946-bb00d9eb7e55",
   "metadata": {},
   "outputs": [
    {
     "name": "stdout",
     "output_type": "stream",
     "text": [
      "필더링 된 리뷰 : 아주좋아요오오옹오ㅗ옹\n",
      "필더링 된 리뷰 : 잘자고 가요오오 ~~\n",
      "필더링 된 리뷰 : 서울오면 항상들려요~\n",
      "필더링 된 리뷰 : 잘 아용하였습니다!\n",
      "필더링 된 리뷰 : 편하게 놀고 쉬고 왔어요\n",
      "필더링 된 리뷰 : 편안하게 잘 쉬다 갑니다.\n",
      "필더링 된 리뷰 : 친절 하고 깨끗해요\n",
      "필더링 된 리뷰 : 잘 쉬다갑니다\n",
      "대체로 괜춘\n",
      "필더링 된 리뷰 : 편하게 쉬고 왔습니다!\n",
      "필더링 된 리뷰 : 너무 깨끗하고 좋아요\n",
      "필더링 된 리뷰 : 너무 깨끗하고 좋아요\n",
      "필더링 된 리뷰 : 잘쉬다가가갑니다아ㅡ\n",
      "필더링 된 리뷰 : 편히 잘 쉬고 갑니다\n",
      "필더링 된 리뷰 : 편안하게 잘쉬다가 갑니다\n",
      "필더링 된 리뷰 : 깨끗하고 편안했어요 좋아요\n",
      "필더링 된 리뷰 : 잘쉬다가갑니다 규ㅛ굿\n",
      "15자 미만 리뷰 개수 : 16\n",
      "필터링 되고 남은 높은 평점 리뷰 개수 :  33\n"
     ]
    },
    {
     "data": {
      "text/plain": [
       "('[REVIEW_START]조식이 맛있어요!!다양하게 종류도 많구요 캠페인중이여서 할인도 해서 먹었는데 맛있습니다\\n직원분들 친절하고 대응도 잘해주세요[REVIEW_END]\\n[REVIEW_START]가족들이 간다고 해서 진짜 폭풍 검색해서 알아봐드렸는데 좋아하셔서 좋았습니다 :) 신라스테이는 어딜 가도 좋은것 같아요[REVIEW_END]\\n[REVIEW_START]프론트 직원분들이 친절하셔서 좋아요[REVIEW_END]\\n[REVIEW_START]청결하고 좋습니다 특히 조식이 맛있었어요[REVIEW_END]\\n[REVIEW_START]깨끗하고 친잘하고 교통편도 편리해요\\n그래서 출장중엔 종종 이용합니다[REVIEW_END]\\n[REVIEW_START]조식도 맛있고 주차도 편리하고 좋았습니다^^[REVIEW_END]\\n[REVIEW_START]처음 가보았는데 도시에 있어도 소음이 심하지도 않고 객실은 대체적으로 청결하고 좋았습니다[REVIEW_END]\\n[REVIEW_START]병원 방문으로 강남에 갔다가 쉴 곳이 필요해 데이유즈로 이용했습니다. 전체적으로 룸 컨디션은 5성급 호텔과 비슷한 수준으로 훌륭했고, 인근에 식당과 카페가 많이 있어 위치도 좋습니다. \\n무엇보다 넓은 지하주차장을 가지고 있어, 어딜 가나 주차 스트레스가 심한 강남에서 편히 쉬다 갈 수 있었습니다.[REVIEW_END]\\n[REVIEW_START]시설이 깨끗하고 편리하게 이용함[REVIEW_END]\\n[REVIEW_START]지방에 사는데 아이병원때문에 1박을 해야해서 \\n고민하다 신라스테이를 살펴보게되었어요 \\n저렴하지만 아이와 조식도 먹을수 있고 무엇보다 \\n깨끗한 숙소를 잡아야해서 안전빵으로 \\n신라스테이를 예약후 방문했습니다\\n친절하신 직원분덕분에 안내를 잘 받았었고\\n쾌적한 온도와 습도로 잘 쉬었습니다\\n건물뒤편에 술집이나 식사할만한곳이 꽤 있었어요\\n또 올라가게 된다면 재방문의사 있습니다^^[REVIEW_END]\\n[REVIEW_START]청결도 좋구요 특히 직원분들이 친절하세요[REVIEW_END]\\n[REVIEW_START]신라스테이 역삼 추천합니다 ![REVIEW_END]\\n[REVIEW_START]기본적으로 위생이 너무 좋아서, 아이와 함께 하기 안심이 되었어요. 그리고 요청 사항 있을때 객실에서 전화로 부탁드리면 정말 빨리 대응해주셔서 감사했구요. 아침에 조식도 너무 맛있어서 평소 먹던 양 보다 3배로 먹었던 것 같아요. 게다가 미니바, 헬스장도 무료 이용되어서 너무 좋았어요! 객실이 고층이어서 뷰도 좋았구요^^ 다음에 또 근처에 가게 되면, 또 이용할거같아요![REVIEW_END]\\n[REVIEW_START]신랑이랑 명절 마지막날 가서 잘 쉬다 왔어요~[REVIEW_END]\\n[REVIEW_START]깨끗하게 관리된 객실 컨디션 및 조식도 비교적 다양하게 준비되어 있습니다.\\n대로 변쪽의 객실은 차량  등의 소음이 일부 유입될 수 있습니다.[REVIEW_END]\\n[REVIEW_START]침구 말고는 솔직히 아침에 쿵쿵쿵쿵쿵 일정한 소리때문에 잠을 설쳤습니다 \\n딱 일곱시간 숙박으로 머물렀는데 또 오고 싶은 마음은 없습니드[REVIEW_END]\\n[REVIEW_START]객실이 아늑하고 좋았고 조식도 맛있었습니다. 직원분들이 친절해서 편하게 쉬다왔습니다[REVIEW_END]\\n[REVIEW_START]아주 쾌적하고 편리합니다\\n추천[REVIEW_END]\\n[REVIEW_START]에어컨이 고장나서 방 바꿔주셨어요.[REVIEW_END]\\n[REVIEW_START]여행왔는데 숙소도 쾌적하고 조용해서 잘 쉬고 갔습니다\\n조식도 맛있고 다만 지하철역과 거리가 조금 있긴 하지만\\n이정도는 괜찮습니다 직원분들도 친절하시고 다음에도 이용하려구요![REVIEW_END]\\n[REVIEW_START]늘 처음온것같은 청결함,조식의 정갈하고 맛나는 음식들 감사히 잘있다 왔어요[REVIEW_END]\\n[REVIEW_START]침구도 깨끗하고 역시 신라이름이 멋지게느껴지는 숙소였습니다[REVIEW_END]\\n[REVIEW_START]신라스테이가 다른 곳보다 제일 괜찮은 것 같아요[REVIEW_END]\\n[REVIEW_START]타월에 다른사람 머리카락이 있어서 좀그랬다는거빼면 다 괜찮았네요[REVIEW_END]\\n[REVIEW_START]도보방문으로 예약했으나 차량으로 방문하게 되어 주차하고?체크인하면서 말씀드렸더니 주차비 5천원 결제하시면 된다고 하셔서 결제하고 편하게 하룻밤 잘 묵었네요\\n뷰는 도로뷰라 그저 그랬고 조식은 깔끔하니 맛났어요.[REVIEW_END]\\n[REVIEW_START]정말 좋았습니다. 직원분들도 친절하시고 편안한 하룻밤 묵고 갑니다.[REVIEW_END]\\n[REVIEW_START]늘 이용하지만 친절하고 깨끗해요[REVIEW_END]\\n[REVIEW_START]늘 이용하지만 친절하고 깨끗해요[REVIEW_END]\\n[REVIEW_START]주차편하고 강남에서 가격대비 성능비 괜찮아요[REVIEW_END]\\n[REVIEW_START]매우 깨끗하고 침구가 너무 편해서 힐링 잘하고 왔습니다![REVIEW_END]\\n[REVIEW_START]쾌적했습니다!!!!!!!!![REVIEW_END]\\n[REVIEW_START]미지근한 물이 있고 화장실이 깨끗해요[REVIEW_END]\\n[REVIEW_START]가깝고좋아요 그냥 편하게오기좋아요호텔이라[REVIEW_END]',\n",
       " '[REVIEW_START]일단 주차 편리하고 객실도 깔끔했습니다. 다만 처음 객실 들어갔을 때 먼지냄새(?) 같은 냄새가 나서 환기를 시켰더니 금방 나아졌습니다.[REVIEW_END]\\n[REVIEW_START]처음보다는 시설이 많이 노후화된 것 같아요~\\n그래도 제일 깔끔하고 좋은 것 같아요.[REVIEW_END]\\n[REVIEW_START]1박으로 머물렀는데, 주차연장해 주셔서 좋았어요. 객실도 청결해서 가족과 머물기 좋았습니다. 객실배정을 상층으로 요청했는데 예약이 돼 있어서 어렵다고 한 점과 맞은편 건물 신축으로 뷰가 안나오는게 살짝 아쉬웠던 점이나 대체로 잘 머물렀습니다[REVIEW_END]\\n[REVIEW_START]역삼점은 처음인데 너무 실망 \\n침구는 누렇고 냄새나고 욕실은 샤워줄 검은물때 \\n다시 역삼은 안갈듯요 로비 객실 냄새도 ㅜㅜ\\n일층 엘베앞 세탁물을 보니 ㅜㅜ그럴만도 하겠다 불쾌했음[REVIEW_END]\\n[REVIEW_START]침구가 너무 좋았어요! 객실도 깨끗했어요. 욕실에 연식이 오래돼서 생긴 타일사이 검정부분만 좀 처리해주세요 그리고 호텔직원분들은 오전 여성직원분은 너무너무 친절하셨고 오후 남성분도 괜찮았는데 새벽애에혼자계시는 안경쓰신 남성 호텔리어분의 친절도는 잘 모르겠어요 ...! 조식은 환경과 인테리어, 다양성은 좋았으나 맛이 그저그래서 다음에 또 먹지는않을것같아요. 무엇보다 침구와 객실의 청결도가 마음에들었습니다 :][REVIEW_END]')"
      ]
     },
     "execution_count": 164,
     "metadata": {},
     "output_type": "execute_result"
    }
   ],
   "source": [
    "# 전처리 함수에 일부 코드 추가\n",
    " # 1) 일정 리뷰 길이 미만인 것들을 필터링하며 실제 리뷰와 개수까지 출력\n",
    " # 2) 남은 양질의 리뷰 개수 출력시기\n",
    "def preprocessing_reviews(path='data/ya_review_sinla.json'):\n",
    "    # 후기 파일 불러오기\n",
    "    with open(path, 'r', encoding='utf-8') as f :\n",
    "        review_list = json.load(f)\n",
    "\n",
    "    # 5점인 후기, 아닌 후기로 나눌 리스트\n",
    "    reviews_high, reviews_low = [], []\n",
    "\n",
    "    # 6개월 이내 데이터 분별을 위한 코드\n",
    "    current_date = datetime.datetime.now()\n",
    "    date_boundary = current_date - datetime.timedelta(weeks=24)\n",
    "\n",
    "    # =========== 수정된 코드  ==================\n",
    "    filtered_cnt = 0 # 필터링된 리뷰 개수    \n",
    "    # ==========================================\n",
    "\n",
    "    for i in review_list:\n",
    "        # 년월일 형식이 아닌 경우, 예외처리 필요\n",
    "        review_date_str =i['date']\n",
    "        try:\n",
    "            # parse : 문자열로 적혀진 날짜를 날짜 타입으로 변경\n",
    "            review_date = parser.parse(review_date_str)\n",
    "\n",
    "        # 년월일형식이 아닌 값들\n",
    "        except (ValueError, TypeError) :\n",
    "            # 어차피 날짜 안 쓰고, 6개월 이내 리뷰가 맞으니까 오늘 날짜로 바꿔버려\n",
    "            review_date =  current_date\n",
    "\n",
    "            # 해당 리뷰 날짜가 6개월 전보다 작다면 그냥 넘어감\n",
    "        if review_date < date_boundary:\n",
    "            continue\n",
    "        \n",
    "        # =========== 수정된 코드  ==================\n",
    "        if len(i['review']) < 15: # 글자 수 20개 이하는 스킵\n",
    "            filtered_cnt +=1\n",
    "            print(f\"필더링 된 리뷰 : {i['review']}\")\n",
    "            continue\n",
    "        # ==========================================\n",
    "    \n",
    "        # 각 REVIEW별 START지점, END지점 표시\n",
    "        if i['stars'] ==5:\n",
    "            reviews_high.append('[REVIEW_START]' + i['review'] + '[REVIEW_END]')\n",
    "        else:\n",
    "            reviews_low.append('[REVIEW_START]' + i['review'] + '[REVIEW_END]')\n",
    "\n",
    "        \n",
    "    # =========== 수정된 코드  ==================\n",
    "    reviews_high = reviews_high[:min(len(reviews_high), 50)] # 최대 리뷰 50개까지 사용\n",
    "    reviews_low = reviews_low[:min(len(reviews_low), 50)]    # gpt3.5는 토큰이 적어서 입,출력이 많으면 응답이 짤릴 가능성이 있음\n",
    "\n",
    "    print(\"15자 미만 리뷰 개수 :\", filtered_cnt)\n",
    "    print(\"필터링 되고 남은 높은 평점 리뷰 개수 : \", len(reviews_high))\n",
    "    # ==========================================\n",
    "        \n",
    "\n",
    "    # 각 REVIEW 하나의 문자열로 변경 \n",
    "    review_high_text = '\\n'.join(reviews_high)\n",
    "    review_low_text = '\\n'.join(reviews_low)\n",
    "\n",
    "    return review_high_text, review_low_text"
   ]
  },
  {
   "cell_type": "code",
   "execution_count": 60,
   "id": "f2a98e5e-6e3c-4eb4-908b-6335ecccc665",
   "metadata": {},
   "outputs": [
    {
     "name": "stdout",
     "output_type": "stream",
     "text": [
      "필더링 된 리뷰 : 아주좋아요오오옹오ㅗ옹\n",
      "필더링 된 리뷰 : 잘자고 가요오오 ~~\n",
      "필더링 된 리뷰 : 서울오면 항상들려요~\n",
      "필더링 된 리뷰 : 잘 아용하였습니다!\n",
      "필더링 된 리뷰 : 편하게 놀고 쉬고 왔어요\n",
      "필더링 된 리뷰 : 편안하게 잘 쉬다 갑니다.\n",
      "필더링 된 리뷰 : 친절 하고 깨끗해요\n",
      "필더링 된 리뷰 : 잘 쉬다갑니다\n",
      "대체로 괜춘\n",
      "필더링 된 리뷰 : 편하게 쉬고 왔습니다!\n",
      "필더링 된 리뷰 : 너무 깨끗하고 좋아요\n",
      "필더링 된 리뷰 : 너무 깨끗하고 좋아요\n",
      "필더링 된 리뷰 : 잘쉬다가가갑니다아ㅡ\n",
      "필더링 된 리뷰 : 편히 잘 쉬고 갑니다\n",
      "필더링 된 리뷰 : 편안하게 잘쉬다가 갑니다\n",
      "필더링 된 리뷰 : 깨끗하고 편안했어요 좋아요\n",
      "필더링 된 리뷰 : 잘쉬다가갑니다 규ㅛ굿\n",
      "필더링 된 리뷰 : 침구가 깔끔해서 좋아요\n",
      "필더링 된 리뷰 : 으ㅡ어저저둬야아차안\n",
      "필더링 된 리뷰 : 편안하게 잘쉬다왔습니다.\n",
      "필더링 된 리뷰 : 좋라요돟러ㅛ도로럿ㅍㅇ덜셮\n",
      "필더링 된 리뷰 : 항상 자주 애용합니다 ㅎㅎ\n",
      "필더링 된 리뷰 : 너무 깨끗하고 편해요\n",
      "필더링 된 리뷰 : 가성비 호텔,,,,,\n",
      "필더링 된 리뷰 : 좋아용ㅎㅎㅎㅎㅎㅎㅎ\n",
      "필더링 된 리뷰 : 깨끗하고 친절하고 좋아요\n",
      "필더링 된 리뷰 : 깨끗하고 친절하고 좋아요\n",
      "필더링 된 리뷰 : 위치랑 모든게 편리해요\n",
      "필더링 된 리뷰 : 훌륭해요 너무깨끗해요\n",
      "필더링 된 리뷰 : 좋아요 . 가격이 착해요\n",
      "필더링 된 리뷰 : 좋았습니다 자주올것같아여\n",
      "필더링 된 리뷰 : 항상 이용하고있습니다 ㅎㅎ\n",
      "필더링 된 리뷰 : 깔끔하고 청결합니다\n",
      "필더링 된 리뷰 : 조앗ㄹ어여!!굳굳굳\n",
      "필더링 된 리뷰 : 깔끔하고좋았어요 ㅎㅎ\n",
      "필더링 된 리뷰 : .,.,....,,\n",
      "필더링 된 리뷰 : 감사합니다. 감사합니다.\n",
      "필더링 된 리뷰 : 깨끗합니다~~~~~~~~~\n",
      "필더링 된 리뷰 : 침대가 조금 작았어요\n",
      "필더링 된 리뷰 : 상당히 좋았습니다.\n",
      "필더링 된 리뷰 : 항상 좋은 곳 추천합니다.\n",
      "필더링 된 리뷰 : 너무친절해요 깨끗해요\n",
      "필더링 된 리뷰 : 즐겁게 쉴 수 있었습니다.\n",
      "필더링 된 리뷰 : 친절하고 잘해주십니다\n",
      "필더링 된 리뷰 : 깨긋하고 편리하고 친절해요\n",
      "필더링 된 리뷰 : 편하게 쉬다가 갑니다\n",
      "필더링 된 리뷰 : 친절하고 편리해요\n",
      "필더링 된 리뷰 : 친절하고 편리해요\n",
      "필더링 된 리뷰 : 친절하고 편리해요\n",
      "필더링 된 리뷰 : 좋앗습니다\n",
      "필더링 된 리뷰 : 좋앗습니다\n",
      "필더링 된 리뷰 : 너무 잘 쉬다 갔습니다.\n",
      "필더링 된 리뷰 : 너무만족스러고 좋았습니다!\n",
      "필더링 된 리뷰 : 편하고 좋습니다\n",
      "필더링 된 리뷰 : 편리하고 친절해요\n",
      "필더링 된 리뷰 : 친절하고\n",
      "깨끗하고 좋아요\n",
      "필더링 된 리뷰 : 좋은시간보냈습니다\n",
      "필더링 된 리뷰 : 잘 머물다갑니다\n",
      "필더링 된 리뷰 : 항상 좋은 곳 추천합니다.\n",
      "필더링 된 리뷰 : 너무좋어요\n",
      "필더링 된 리뷰 : 깔끔하고 좋았습니다\n",
      "필더링 된 리뷰 : 호텔이 깨끗합니다\n",
      "필더링 된 리뷰 : 항상 너무 좋아요^^\n",
      "필더링 된 리뷰 : 친절해요ㅎㅎ\n",
      "필더링 된 리뷰 : 좋았습니다\n",
      "필더링 된 리뷰 : 편하게 잘 쉬었어요👍🏻👍🏻\n",
      "필더링 된 리뷰 : 좋앗습니다\n",
      "필더링 된 리뷰 : 최고의 숙소!\n",
      "필더링 된 리뷰 : 감사합니다!\n",
      "필더링 된 리뷰 : 깔끔해서 쉬기 좋아요\n",
      "필더링 된 리뷰 : 정말좋았습니다 편하고\n",
      "필더링 된 리뷰 : 항상애용하는 호텔입니다\n",
      "필더링 된 리뷰 : 가성비 조아여\n",
      "필더링 된 리뷰 : 편안하고 위치가 좋음\n",
      "필더링 된 리뷰 : 조용하고 좋아요\n",
      "필더링 된 리뷰 : 아주 좋아요\n",
      "필더링 된 리뷰 : 잘 쉬다 갔습니다~\n",
      "필더링 된 리뷰 : 위치가 좋아요\n",
      "필더링 된 리뷰 : 주차 비용 말고는 다좋음\n",
      "필더링 된 리뷰 : 친절하시고 좋았습니다\n",
      "필더링 된 리뷰 : 훌륭합니다\n",
      "필더링 된 리뷰 : 잘 사용하고 갑니다\n",
      "필더링 된 리뷰 : 깨끗하고좋아요\n",
      "필더링 된 리뷰 : 매번가지만 대만족\n",
      "필더링 된 리뷰 : 깨끗하거 편리함\n",
      "필더링 된 리뷰 : 편하고 조아요\n",
      "필더링 된 리뷰 : 편하게 잘 쉬었습니다\n",
      "필더링 된 리뷰 : 좋았습니다\n",
      "필더링 된 리뷰 : 무난하고 좋아요\n",
      "필더링 된 리뷰 : 괜찮었어요\n",
      "필더링 된 리뷰 : 편했습니다\n",
      "필더링 된 리뷰 : 친절하고 특가도 좋았습니다\n",
      "필더링 된 리뷰 : 푹 쉬다가 갑니다\n",
      "필더링 된 리뷰 : 잘쉬고갑니다\n",
      "필더링 된 리뷰 : 늘 찾는곳입니다\n",
      "필더링 된 리뷰 : 좋아요 아침도 좋앗어요\n",
      "필더링 된 리뷰 : 깨끗하고 너무 좋았습니다\n",
      "필더링 된 리뷰 : 좋았습니더\n",
      "필더링 된 리뷰 : 좋네요!!!\n",
      "필더링 된 리뷰 : 항상 좋습니다!\n",
      "필더링 된 리뷰 : 좋습니다 좋아요\n",
      "필더링 된 리뷰 : 잘 쉬다 갑니다\n",
      "필더링 된 리뷰 : 호캉스하기 좋았어요\n",
      "필더링 된 리뷰 : 만족하고 갑니다 굿굿\n",
      "필더링 된 리뷰 : 늘좋습니다\n",
      "필더링 된 리뷰 : 너무 만족합니다\n",
      "필더링 된 리뷰 : 만족스러웠습니다!\n",
      "필더링 된 리뷰 : 친절하고 깔끔했습니다!\n",
      "필더링 된 리뷰 : 잘 쉬다 갑니다....\n",
      "필더링 된 리뷰 : 아주 잘 지내다가요\n",
      "필더링 된 리뷰 : 잘쉬었어요\n",
      "필더링 된 리뷰 : 너무 좋았습니다👍\n",
      "필더링 된 리뷰 : 너무 좋아요\n",
      "필더링 된 리뷰 : 좋았습니다.\n",
      "필더링 된 리뷰 : 잘이용했습니다\n",
      "필더링 된 리뷰 : 항상 좋은 곳\n",
      "필더링 된 리뷰 : 조식최고.엄청친절요\n",
      "필더링 된 리뷰 : 깔끔하고편하게쉬다가요\n",
      "필더링 된 리뷰 : 깨끗하고 조용해요\n",
      "필더링 된 리뷰 : 항상 좋은 곳\n",
      "필더링 된 리뷰 : 역시 좋습니다.\n",
      "필더링 된 리뷰 : 너무 깨끗하고 좋아요\n",
      "필더링 된 리뷰 : 잘 읶다갑니다\n",
      "필더링 된 리뷰 : 깨끗해요 친절해요\n",
      "필더링 된 리뷰 : 친절하고 깨끗해요\n",
      "필더링 된 리뷰 : 잘 쉬다갑니다\n",
      "필더링 된 리뷰 : 좋네요 역시\n",
      "필더링 된 리뷰 : 쾌적했습니다\n",
      "필더링 된 리뷰 : 자주 이용합니다\n",
      "필더링 된 리뷰 : 깔끔하고 좋았어요\n",
      "필더링 된 리뷰 : 깨끗하고 친절해요\n",
      "필더링 된 리뷰 : .,.,.\n",
      "필더링 된 리뷰 : 항상만족해요 ㅎㅎ\n",
      "필더링 된 리뷰 : 시설 좋고 깨끗합니다\n",
      "필더링 된 리뷰 : 편히 쉬다갑니다\n",
      "필더링 된 리뷰 : 괜찮았어요\n",
      "필더링 된 리뷰 : 깔끔해요.\n",
      "필더링 된 리뷰 : thank you\n",
      "필더링 된 리뷰 : 매우 만족스럽습니다\n",
      "필더링 된 리뷰 : 조용하고 오래있을수있러요\n",
      "필더링 된 리뷰 : 잘쉬다 갑니다\n",
      "필더링 된 리뷰 : 깨끗하고 접근성도 좋아요\n",
      "필더링 된 리뷰 : 잘 쉬었어요\n",
      "필더링 된 리뷰 : 저녁 음식이 좋습니다.\n",
      "필더링 된 리뷰 : 괜찮구 시설도 좋았어요\n",
      "필더링 된 리뷰 : 깔끔하게 잘 쉬다 갑니다\n",
      "필더링 된 리뷰 : 매우 좋았읍니다\n",
      "필더링 된 리뷰 : 깔끔하고 좋았어요\n",
      "필더링 된 리뷰 : 헝상 숙박 하는곳\n",
      "필더링 된 리뷰 : 늘 좋은 곳 입니다.\n",
      "필더링 된 리뷰 : 굿이에욥,\n",
      "필더링 된 리뷰 : 친절하시고 좋았어요\n",
      "필더링 된 리뷰 : 굿잡이에여\n",
      "필더링 된 리뷰 : 항상 좋은 곳\n",
      "필더링 된 리뷰 : 아주좋아요 굿\n",
      "필더링 된 리뷰 : 지내기에 괜찮았습니다\n",
      "필더링 된 리뷰 : 너무좋아요\n",
      "필더링 된 리뷰 : 매번 이용합니다\n",
      "필더링 된 리뷰 : 친절해요 자주애용해요\n",
      "필더링 된 리뷰 : 늘 애용해요\n",
      "필더링 된 리뷰 : 너무 좋아요\n",
      "필더링 된 리뷰 : 좋았어요!!\n",
      "필더링 된 리뷰 : 조식이 너무 맛있었음\n",
      "필더링 된 리뷰 : 깨끗합니다\n",
      "필더링 된 리뷰 : 깔끔하고 편안합니다\n",
      "필더링 된 리뷰 : 좋아요… 조식도 맛있어요~\n",
      "필더링 된 리뷰 : 깔끔하고 좋아요\n",
      "필더링 된 리뷰 : 깔끔 편리 최고의숙소\n",
      "필더링 된 리뷰 : 항상 좋은 곳 입니다.\n",
      "필더링 된 리뷰 : 좋아요!!\n",
      "필더링 된 리뷰 : 잘쉬다가 갑니다\n",
      "필더링 된 리뷰 : 너무좋았슴돠\n",
      "15자 미만 리뷰 개수 : 171\n",
      "필터링 되고 남은 높은 평점 리뷰 개수 :  50\n"
     ]
    }
   ],
   "source": [
    "# 변경된 전처리 함수로 데이터 전처리\n",
    "reviews, _ = preprocessing_reviews('data/ya_review_sinla.json')\n",
    "\n",
    "# 두번째 고도화\n",
    "summaries_opti2 = [summarize(reviews, prompt, temperature = 0.8).choices[0].message.content for _ in range(10)]"
   ]
  },
  {
   "cell_type": "code",
   "execution_count": 62,
   "id": "b1d0050b-be37-4c25-8577-0406e8ccac42",
   "metadata": {},
   "outputs": [
    {
     "data": {
      "text/plain": [
       "['좋은 선택이었던 조식포함 숙소, 시설, 서비스, 청결도 완벽했습니다. 깨끗하고 교회뷰도 이쁘고 프로포즈 도와주셔서 감사한 추억이었습니다. 직원분들의 섬세한 배려와 청결한 객실, 맛있는 조식은 특히 인상적이었어요. 직원분들의 친절한 서비스와 깔끔한 시설이 좋았고, 위치도 편리하여 재방문 의사가 있습니다. 호텔 전체적으로 깨끗하고 아늑한 객실, 맛있는 조식, 친절한 직원분들이 좋았습니다.',\n",
       " '1. 조식포함으로 결정한 결정은 좋은 선택이었고, 같이간 이들도 만족스러워했습니다. 조식도 좋았고 시설, 서비스, 청결도 나무랄데가 없었습니다.\\n2. 추억을 남기기 위해 프로포즈를 준비한 손님은 프론트 직원분의 친절한 도움으로 완벽한 프로포즈를 성공적으로 진행할 수 있었습니다. 섬세한 서비스에 감동받았고, 다음 방문 시에도 기념일을 함께 보내려고 합니다.\\n3. 조식이 맛있고 다양한 종류로 제공되어 할인을 받아 먹었는데 맛있었습니다. 직원분들은 친절하고 대응도 잘해주셨습니다.\\n4. 가족들이 만족했다는 신라스테이는 어디를 가도 좋다는 선호도를 보여주었습니다. 프론트 직원분들의 친절함도 좋았습니다.',\n",
       " '전반적으로 좋은 선택이었던 숙소로, 조식포함으로 결정한 것이 만족스러웠습니다. 친절한 직원과 깨끗한 시설, 그리고 맛있는 조식이 인상적이었습니다. 또한, 프로포즈를 준비한 손님에 대한 세심한 배려로 잊을 수 없는 추억을 만들어주었습니다. 룸 컨디션도 훌륭하며, 다음 방문을 고려하고 있습니다. 이 외에도 조용하고 깨끗한 숙소로, 가격 대비 성능이 좋다는 평가를 받고 있습니다. 시설이 깔끔하고 편리하며, 조식이 맛있는 등 다양한 이유로 만족스러운 숙박 경험을 제공했습니다.',\n",
       " '- 조식포함으로 결정한 것은 좋은 선택이었습니다. 같이간 이들도 만족스러워했어요. 조식도 좋았고 시설, 서비스, 청결도 나무랄데가 없었네요.\\n- 너무 좋아서 잊을 수 없는 추억을 남겼습니다. 프론트 체크인 도와주신 직원분께 감사의 말씀을 전하고 신라스테이를 강력 추천합니다.\\n- 조식이 맛있고 다양하게 준비되어 있어 할인까지 받았습니다. 직원분들도 친절하고 대응도 잘해주셨습니다.\\n- 룸 컨디션은 5성급 호텔과 비슷한 수준이었고 주차 스트레스 없이 편안히 머물 수 있었습니다. 위치도 좋아서 추천할 만합니다.',\n",
       " '- 조식포함으로 결정한 것은 좋은 선택이었고, 같이간 이들도 만족스러워했습니다. 시설, 서비스, 청결도 모두 나무랄데가 없었습니다.\\n- 프로포즈를 준비한 손님은 프론트 직원분의 도움으로 잊을 수 없는 추억을 만들었고, 섬세한 서비스에 감동받았습니다. 룸 컨디션도 칭찬했습니다.\\n- 조식이 다양하고 맛있었으며, 직원분들의 친절한 대응도 좋았습니다.\\n- 룸 컨디션은 5성급 호텔 수준이며, 주변 식당과 카페가 많아 위치도 좋았습니다. 넓은 지하주차장으로 주차 스트레스 없이 편안한 휴식을 즐길 수 있었습니다.',\n",
       " '신라스테이에서는 조식포함으로 좋은 선택이었어요. 시설, 서비스, 청결도 모두 나무랄게 없었고, 커피쿠폰도 받았어요. 룸컨디션도 훌륭하고, 직원분들의 섬세한 서비스로 잊지 못할 추억을 만들었습니다. 조식은 맛있고 다양하게 준비되어 있었으며, 가격대비 성능도 괜찮았어요. 숙소 뒤에는 식당가들이 많아서 가볍게 밥 먹기도 좋았고, 조식도 꼭 먹을만한 구성이었습니다. 객실은 깨끗하고 조용해서 편안하게 묵을 수 있었어요.',\n",
       " '- 조식포함으로 결정한 것이 좋은 선택이었고, 같이간 이들도 만족스러워했습니다. 조식은 좋았고 시설, 서비스, 청결도 모두 나무랄데가 없었습니다.\\n- 프론트 체크인 도와주신 직원분 덕분에 잊을 수 없는 추억을 만들 수 있었고, 프로포즈도 완벽하게 진행될 수 있었습니다. 룸컨디션도 훌륭했습니다. 재방문 의사가 있는 훌륭한 숙소였습니다.\\n- 조식이 맛있고 다양하며, 할인 캠페인으로 먹었을 때 매우 만족스러웠습니다. 직원분들은 친절하고 대응도 빨랐습니다.\\n- 위치가 좋고 룸 컨디션은 5성급 호텔과 비슷한 수준으로 훌륭합니다. 주차 스트레스 없이 편안히 쉬다 갈 수 있는 좋은 숙소입니다.\\n- 객실은 청결하고 조식도 다양하게 준비되어 있습니다. 다만 일부 소음이 유입될 수 있는 점이 아쉬웠습니다.',\n",
       " '이 숙소는 조식 포함을 선택한 것이 좋은 선택이었고, 함께 간 이들도 만족스러워 했습니다. 시설, 서비스, 청결도 모두 나무랄 데가 없었습니다. 프론트 직원분들이 친절하셔서 좋았고, 청결하고 좋은 룸 컨디션도 칭찬받았습니다. 또한, 조식이 맛있고 다양하게 종류도 많아서 할인까지 받아 먹었다는 평이 있습니다. 그리고 가까운 지하철역과 거리가 조금 있지만, 객실은 청결하고 조용해서 잘 쉬고 갔다는 후기도 있습니다. 최종적으로, 이 숙소는 깔끔하고 시설이 훌륭하며 청결하고 조식도 맛있어서 만족스러운 숙박이었다는 평들이 있었습니다.',\n",
       " '- 조식포함으로 결정했는데, 좋은 선택이었고 같이간 이들도 만족스러워했어요. 조식도 좋았고 시설, 서비스, 청결도 나무랄데가 없었네요.\\n- 커피쿠폰도 받았구 깨끗하고 교회뷰도 이뻤어요!\\n- 프론트 체크인 도와주셨던 직원분께 양해를 구하고 선물을 미리 맡겨주셨고 프로포즈셋팅까지 완벽하게 진행될 수 있도록 정말 많은 도움 주셨어요. 나중에 기념일때 다시한번 꼭 방문하겠습니다.\\n- 조식이 맛있어요!! 직원분들 친절하고 대응도 잘해주세요. 위치도 편리하고 가족 여행에 적합합니다.',\n",
       " '- 조식포함으로 결정한 것은 좋은 선택이었고, 같이간 이들도 만족스러워했습니다. 조식도 좋았고 시설, 서비스, 청결도 모두 나무랄데가 없었습니다.\\n- 프로포즈를 준비하던 손님에 대한 프론트 직원의 섬세한 도움으로 잊을 수 없는 추억을 만들었습니다. 섬세한 서비스와 칭찬할 만한 룸 컨디션을 경험했습니다.\\n- 조식이 맛있고 다양하며, 직원들은 친절하고 대응도 잘해줍니다. 편리한 주차시설과 교통편도 좋았습니다.\\n- 위치가 좋고 룸 컨디션도 훌륭했으며, 주차 스트레스를 덜어주는 넓은 지하주차장이 좋았습니다. 종종 출장 때 이용하고 싶은 숙소였습니다.']"
      ]
     },
     "execution_count": 62,
     "metadata": {},
     "output_type": "execute_result"
    }
   ],
   "source": [
    "summaries_opti2"
   ]
  },
  {
   "cell_type": "code",
   "execution_count": 63,
   "id": "cd4d4eda-e7b7-4843-8853-2040c617aca1",
   "metadata": {},
   "outputs": [
    {
     "name": "stderr",
     "output_type": "stream",
     "text": [
      "100%|██████████████████████████████████████████████████████████████████████████████████| 10/10 [01:32<00:00,  9.30s/it]"
     ]
    },
    {
     "name": "stdout",
     "output_type": "stream",
     "text": [
      "Wins:10, Loses :0, Ties : 0\n"
     ]
    },
    {
     "name": "stderr",
     "output_type": "stream",
     "text": [
      "\n"
     ]
    }
   ],
   "source": [
    "wins, loses, ties = pairwise_eval_batch(reviews, summaries_opti2, summaries_gpt4)\n",
    "print(f\"Wins:{wins}, Loses :{loses}, Ties : {ties}\")"
   ]
  },
  {
   "cell_type": "markdown",
   "id": "65a55647-e7a7-4418-9385-9858c8a97b58",
   "metadata": {},
   "source": [
    "- 입력 데이터 중에서 요약에 크게 도움이 되지 않는 데이터들을 줄여주는 것만으로도 큰 성능 향상을 볼수 있음\n",
    "- 그러나 입력된 데이터의 절대적인 개수가 적기 때문에 현재로서는 좋은 모델이라고 섣부르게 판단할 수 없음(실무에서는 더 많은 케이스와 다양한 데이터로 테스트를 해야 함)"
   ]
  },
  {
   "cell_type": "markdown",
   "id": "95efdd8b-f86e-4c7f-9ba2-66b769fda8e0",
   "metadata": {},
   "source": [
    "### 3.Few-Show learning\n",
    "- few-show은 질의-응답 쌍의 예시를 들어줘야 하는데 새로운 숙소의 리뷰와 그 요약을 예시로 넣어주자"
   ]
  },
  {
   "cell_type": "code",
   "execution_count": 168,
   "id": "1cafab03-2fec-40f2-a330-c46285ce89d8",
   "metadata": {},
   "outputs": [
    {
     "name": "stdout",
     "output_type": "stream",
     "text": [
      "필더링 된 리뷰 : 침구류가 아주 좋네요\n",
      "필더링 된 리뷰 : 주변 활용도가 높습니다\n",
      "필더링 된 리뷰 : 가갹대비 편리하고 좋아요\n",
      "필더링 된 리뷰 : 편안하게 잘 사용했습니다.\n",
      "필더링 된 리뷰 : 깔끔하고 뷰가 좋아요~\n",
      "필더링 된 리뷰 : 깨끗해서 기분좋게이용했어요\n",
      "필더링 된 리뷰 : 위치좋고 편안합니다!\n",
      "필더링 된 리뷰 : 괜찮았습니다 감사합니다\n",
      "필더링 된 리뷰 : 너무 깨끗하고 좋습니다~\n",
      "필더링 된 리뷰 : 접근성이 좋았습니다\n",
      "필더링 된 리뷰 : 만족하고 푹 쉬다 갑니다\n",
      "필더링 된 리뷰 : 올때마다 또 오고싶어요\n",
      "필더링 된 리뷰 : 시간대 선택이 좋으네요\n",
      "필더링 된 리뷰 : 시간과 예약이 편리해요\n",
      "15자 미만 리뷰 개수 : 14\n",
      "필터링 되고 남은 높은 평점 리뷰 개수 :  31\n"
     ]
    }
   ],
   "source": [
    "# 요약 예시를 위해 글래드 강남 호텔의 리뷰를 불러와서 전처리 진행\n",
    "reviews_1shot, _ = preprocessing_reviews('data/ya_review_glad.json')\n",
    "\n",
    "summary_1shot = summarize(reviews_1show, prompt, temperature=0, model='gpt-4-turbo').choices[0].message.content"
   ]
  },
  {
   "cell_type": "markdown",
   "id": "c8e0daef-e1ce-47bb-bf07-85e0001f7d3e",
   "metadata": {},
   "source": [
    "##### 1show에 설명까지 너무 길면 성능이 오히려 감소한다는 걸 보여줌"
   ]
  },
  {
   "cell_type": "code",
   "execution_count": 169,
   "id": "d41720c8-622b-46c4-ab05-23a13219fff8",
   "metadata": {},
   "outputs": [],
   "source": [
    "prompt_1shot = f\"\"\" 당신은 문장 요약 전문가입니다. 사용자 숙소 리뷰들이 주어졌을 때 이를 요약하는 것이 당신의 목표입니다.\n",
    "\n",
    "요약 결과는 다음 조건들을 충족해야 합니다.\n",
    "1. 모든 문장은 항상 존댓말로 끝나야 합니다.\n",
    "2. 숙소에 대해 소개하는 톤앤매너로 작성해주세요.\n",
    " 2-1. 좋은 리뷰 요약 예시\n",
    "    a) 전반적으로 좋은 숙소였고 방음도 괜찮았다는 평입니다.\n",
    "    b) 재방문 예정이라는 평들이 존재합니다.\n",
    "\n",
    " 2-2. 나쁜 리뷰 요약 예시\n",
    "    a) 좋은 숙소, 방음도 괜찮음.\n",
    "    b) 재방문 예정.\n",
    "\n",
    "3. 요약 결과는 최소 4문장 이상 최대 7문장 이내로 작성해주세요.\n",
    "\n",
    "\n",
    "[예시 리뷰들] :\n",
    "{reviews_1shot}\n",
    "\n",
    "[예시 요약 결과] :\n",
    "{summary_1shot}\n",
    "\n",
    "아래 숙소 리뷰들에 대해 요약해주세요:\n",
    "\"\"\"\n",
    "\n",
    "summaries_opti3 = [summarize(reviews, prompt_1shot, temperature = 0.8).choices[0].message.content for _ in range(10)]"
   ]
  },
  {
   "cell_type": "code",
   "execution_count": 170,
   "id": "c8142370-2e05-472e-af40-752f552948f4",
   "metadata": {},
   "outputs": [
    {
     "name": "stderr",
     "output_type": "stream",
     "text": [
      "100%|██████████████████████████████████████████████████████████████████████████████████| 10/10 [01:16<00:00,  7.66s/it]"
     ]
    },
    {
     "name": "stdout",
     "output_type": "stream",
     "text": [
      "Wins:3, Loses :7, Ties : 0\n"
     ]
    },
    {
     "name": "stderr",
     "output_type": "stream",
     "text": [
      "\n"
     ]
    }
   ],
   "source": [
    "wins, loses, ties = pairwise_eval_batch(reviews, summaries_opti3, summaries_gpt4)\n",
    "print(f\"Wins:{wins}, Loses :{loses}, Ties : {ties}\")"
   ]
  },
  {
   "cell_type": "markdown",
   "id": "e95d361a-5c28-4dd9-b5b7-036456c32cad",
   "metadata": {},
   "source": [
    "##### 1shot을 하는 대신 프롬프트를 줄여주는 게 더 좋을 수 있다는 예시"
   ]
  },
  {
   "cell_type": "code",
   "execution_count": 171,
   "id": "7f9bb066-ab46-49fd-bb50-4c1c715dfbd5",
   "metadata": {},
   "outputs": [],
   "source": [
    "prompt_1shot_ver2 = f\"\"\" 당신은 문장 요약 전문가입니다. 사용자 숙소 리뷰들이 주어졌을 때 이를 요약하는 것이 당신의 목표입니다.\n",
    "요약 결과는 최소 4문장 이상 최대 7문장 이내로 작성해주세요.\n",
    "\n",
    "다음은 참고할 리뷰들과 그에 대한 요약 예시입니다.\n",
    "\n",
    "[예시 리뷰들] :\n",
    "{reviews_1shot}\n",
    "\n",
    "[예시 요약 결과] :\n",
    "{summary_1shot}\n",
    "\n",
    "아래 숙소 리뷰들에 대해 요약해주세요:\n",
    "\"\"\"\n",
    "\n",
    "summaries_opti4 = [summarize(reviews, prompt_1shot_ver2, temperature = 0.8).choices[0].message.content for _ in range(10)]"
   ]
  },
  {
   "cell_type": "code",
   "execution_count": 172,
   "id": "5b9c853b-2ce0-46e4-b119-162e777c6f5f",
   "metadata": {},
   "outputs": [
    {
     "name": "stderr",
     "output_type": "stream",
     "text": [
      "100%|██████████████████████████████████████████████████████████████████████████████████| 10/10 [01:19<00:00,  7.93s/it]"
     ]
    },
    {
     "name": "stdout",
     "output_type": "stream",
     "text": [
      "Wins:7, Loses :3, Ties : 0\n"
     ]
    },
    {
     "name": "stderr",
     "output_type": "stream",
     "text": [
      "\n"
     ]
    }
   ],
   "source": [
    "wins, loses, ties = pairwise_eval_batch(reviews, summaries_opti4, summaries_gpt4)\n",
    "print(f\"Wins:{wins}, Loses :{loses}, Ties : {ties}\")"
   ]
  },
  {
   "cell_type": "code",
   "execution_count": 173,
   "id": "757c71ec-953d-4833-ad2b-5116d9df8d3e",
   "metadata": {},
   "outputs": [
    {
     "name": "stdout",
     "output_type": "stream",
     "text": [
      "필더링 된 리뷰 : 깨끗하고 청결해서 좋았어요\n",
      "필더링 된 리뷰 : 주차편하고좋아요~~~\n",
      "필더링 된 리뷰 : 깨끗하고 조용해요.\n",
      "필더링 된 리뷰 : 생각보다 방이 좁았어요\n",
      "필더링 된 리뷰 : 깔끔하고 가성비 좋아요\n",
      "필더링 된 리뷰 : 침구류가 좋고 깨끗해요\n",
      "15자 미만 리뷰 개수 : 6\n",
      "필터링 되고 남은 높은 평점 리뷰 개수 :  20\n"
     ]
    }
   ],
   "source": [
    "# 요약 예시를 위해 in9 호텔의 리뷰를 불러와서 전처리 진행\n",
    "reviews_2shot, _ = preprocessing_reviews('data/ya_review_in9.json')\n",
    "\n",
    "summary_2shot = summarize(reviews_2shot, prompt_1shot_ver2, temperature=0, model='gpt-4-turbo').choices[0].message.content"
   ]
  },
  {
   "cell_type": "code",
   "execution_count": 174,
   "id": "f2867164-8d03-43d7-b4bd-68f2ccd8e786",
   "metadata": {},
   "outputs": [],
   "source": [
    "prompt_2shot = f\"\"\" 당신은 문장 요약 전문가입니다. 사용자 숙소 리뷰들이 주어졌을 때 이를 요약하는 것이 당신의 목표입니다.\n",
    "요약 결과는 최소 4문장 이상 최대 7문장 이내로 작성해주세요.\n",
    "\n",
    "다음은 참고할 리뷰들과 그에 대한 요약 예시입니다.\n",
    "\n",
    "[예시 리뷰들 1] :\n",
    "{reviews_1shot}\n",
    "\n",
    "[예시 요약 결과 1] :\n",
    "{summary_1shot}\n",
    "\n",
    "[예시 리뷰들 2] :\n",
    "{reviews_2shot}\n",
    "\n",
    "[예시 요약 결과 2] :\n",
    "{summary_2shot}\n",
    "\n",
    "아래 숙소 리뷰들에 대해 요약해주세요:\n",
    "\"\"\"\n",
    "\n",
    "summaries_opti5 = [summarize(reviews, prompt_2shot, temperature = 0.8).choices[0].message.content for _ in range(10)]"
   ]
  },
  {
   "cell_type": "code",
   "execution_count": 175,
   "id": "30625cad-07f2-4cee-96f3-2341b8b2472b",
   "metadata": {},
   "outputs": [
    {
     "name": "stderr",
     "output_type": "stream",
     "text": [
      "100%|██████████████████████████████████████████████████████████████████████████████████| 10/10 [01:41<00:00, 10.11s/it]"
     ]
    },
    {
     "name": "stdout",
     "output_type": "stream",
     "text": [
      "Wins:8, Loses :2, Ties : 0\n"
     ]
    },
    {
     "name": "stderr",
     "output_type": "stream",
     "text": [
      "\n"
     ]
    }
   ],
   "source": [
    "wins, loses, ties = pairwise_eval_batch(reviews, summaries_opti5, summaries_gpt4)\n",
    "print(f\"Wins:{wins}, Loses :{loses}, Ties : {ties}\")"
   ]
  },
  {
   "cell_type": "markdown",
   "id": "74e7d93d-e637-436a-9262-3a2b8a34f880",
   "metadata": {},
   "source": [
    "## two-show, 평가 횟수 20번, 가장 wins가 높은 결과 코드 캡쳐"
   ]
  },
  {
   "cell_type": "code",
   "execution_count": null,
   "id": "c4b3b2f1-0f11-4712-9ac8-ccc7b649d95a",
   "metadata": {},
   "outputs": [],
   "source": [
    "prompt_2shot = f\"\"\" 당신은 문장 요약 전문가입니다. 사용자 숙소 리뷰들이 주어졌을 때 이를 요약하는 것이 당신의 목표입니다.\n",
    "요약 결과는 최소 4문장 이상 최대 7문장 이내로 작성해주세요.\n",
    "\n",
    "다음은 참고할 리뷰들과 그에 대한 요약 예시입니다.\n",
    "\n",
    "[예시 리뷰들 1] :\n",
    "{reviews_1shot}\n",
    "\n",
    "[예시 요약 결과 1] :\n",
    "{summary_1shot}\n",
    "\n",
    "[예시 리뷰들 2] :\n",
    "{reviews_2shot}\n",
    "\n",
    "[예시 요약 결과 2] :\n",
    "{summary_2shot}\n",
    "\n",
    "아래 숙소 리뷰들에 대해 요약해주세요:\n",
    "\"\"\"\n",
    "\n",
    "summaries_opti6 = [summarize(reviews, prompt_2shot, temperature = 0.8).choices[0].message.content for _ in range(20)]\n",
    "summaries_gpt4_20 = [summary_gpt4_turbo for _ in range(20)]\n",
    "\n",
    "wins, loses, ties = pairwise_eval_batch(reviews, summaries_opti5, summaries_gpt4_20)\n",
    "print(f\"Wins:{wins}, Loses :{loses}, Ties : {ties}\")"
   ]
  }
 ],
 "metadata": {
  "kernelspec": {
   "display_name": "Python [conda env:study]",
   "language": "python",
   "name": "conda-env-study-py"
  },
  "language_info": {
   "codemirror_mode": {
    "name": "ipython",
    "version": 3
   },
   "file_extension": ".py",
   "mimetype": "text/x-python",
   "name": "python",
   "nbconvert_exporter": "python",
   "pygments_lexer": "ipython3",
   "version": "3.8.20"
  }
 },
 "nbformat": 4,
 "nbformat_minor": 5
}
