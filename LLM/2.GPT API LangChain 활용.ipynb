{
 "cells": [
  {
   "cell_type": "markdown",
   "id": "89833bdc-e56b-4780-9baf-e65dd7c437fe",
   "metadata": {},
   "source": [
    "## LangChain 라이브러리를 활용해보자"
   ]
  },
  {
   "cell_type": "markdown",
   "id": "ac248cf3-60a6-4a93-83a6-6af6d0ed197e",
   "metadata": {},
   "source": [
    "### LangChain(2022.10)\n",
    "- 자연어처리(NLP)와 사전 학습된 LLM모델을 사용하여 다양한 응용프로그램을 구축할 수 있게 해주는 라이브럴(설계 및 배포 기능까지 지원함)\n",
    "- 데이터베이스, API, 외부서비스 등과 통합을 지원하는 인터페이스 제공(openai외에도 Antropic, Hugging Face, Google등 다양한 기업들의 LLM과 연동됨)\n",
    "- RAG 구현을 위한 기본적인 인터페이스와 임베딩, Advanced RAG 등의 기능을 제공\n",
    "- ALMessage, UserMessage, SystemMessage 등의 클래스로 대화 메세지를 처리하고 관리함\n",
    "- 공식 페이지 : http//www.langchain.com/\n",
    "- langchain docs 페이지 : http://python.langchain.com/v0.2/docs/introduction/"
   ]
  },
  {
   "cell_type": "code",
   "execution_count": null,
   "id": "9db23f2e-59fa-4244-82fd-a13ef160b986",
   "metadata": {
    "scrolled": true
   },
   "outputs": [],
   "source": [
    "# !pip install langchain"
   ]
  },
  {
   "cell_type": "code",
   "execution_count": null,
   "id": "ef73eefa-346f-4283-92c8-b0fb401b751d",
   "metadata": {},
   "outputs": [],
   "source": [
    "# # 랭체인과 오픈ai의 gpt 결합 기능 제공\n",
    "# !pip install langchain-openai"
   ]
  },
  {
   "cell_type": "code",
   "execution_count": null,
   "id": "b461fd56-d202-4e82-abeb-2859ee71fc96",
   "metadata": {},
   "outputs": [],
   "source": [
    "# # Langchain 생태계를 확장하고 기본 기능을 보완하는 다양한 도구의 통합을 제공\n",
    "# !pip install langchain_community"
   ]
  },
  {
   "cell_type": "markdown",
   "id": "48ff249d-fce2-4369-a784-a5f86f3e804e",
   "metadata": {},
   "source": [
    "### 모델 로드 및 질의"
   ]
  },
  {
   "cell_type": "code",
   "execution_count": 1,
   "id": "eeb6d85a-ddc6-4960-bd00-9143c05f9eef",
   "metadata": {},
   "outputs": [],
   "source": [
    "from langchain_openai import ChatOpenAI\n",
    "from getpass import getpass"
   ]
  },
  {
   "cell_type": "code",
   "execution_count": 15,
   "id": "0f1cdf94-14ec-480f-a5b4-3e8cd7b2a9e6",
   "metadata": {},
   "outputs": [
    {
     "name": "stdin",
     "output_type": "stream",
     "text": [
      "OpenAI API KEY: ········\n"
     ]
    }
   ],
   "source": [
    "MY_API_KEY = getpass.getpass(\"OpenAI API KEY:\")"
   ]
  },
  {
   "cell_type": "code",
   "execution_count": 17,
   "id": "de438ee3-d7ba-4a4b-9d2a-e154250a0190",
   "metadata": {},
   "outputs": [
    {
     "data": {
      "text/plain": [
       "ChatOpenAI(client=<openai.resources.chat.completions.Completions object at 0x0000015FAB5F4340>, async_client=<openai.resources.chat.completions.AsyncCompletions object at 0x0000015FAB609DC0>, root_client=<openai.OpenAI object at 0x0000015FAA745550>, root_async_client=<openai.AsyncOpenAI object at 0x0000015FAB5F46A0>, openai_api_key=SecretStr('**********'), openai_proxy='')"
      ]
     },
     "execution_count": 17,
     "metadata": {},
     "output_type": "execute_result"
    }
   ],
   "source": [
    "chat_model = ChatOpenAI(model=\"gpt-3.5-turbo\",\n",
    "                       api_key = MY_API_KEY,\n",
    "                       )\n",
    "chat_model"
   ]
  },
  {
   "cell_type": "code",
   "execution_count": 21,
   "id": "99b14bc1-7eba-43db-b240-46b0eaba023b",
   "metadata": {},
   "outputs": [
    {
     "data": {
      "text/plain": [
       "langchain_openai.chat_models.base.ChatOpenAI"
      ]
     },
     "execution_count": 21,
     "metadata": {},
     "output_type": "execute_result"
    }
   ],
   "source": [
    "type(chat_model)"
   ]
  },
  {
   "cell_type": "code",
   "execution_count": 23,
   "id": "fa7e4047-13e3-4493-979e-e3abd06818b3",
   "metadata": {},
   "outputs": [],
   "source": [
    "question = \"도전적인 스포츠는?\"\n",
    "answer = chat_model.invoke(question) # invoke : Langchain에서 언어 모델의 응답결과를 반환해주는 함수"
   ]
  },
  {
   "cell_type": "code",
   "execution_count": 24,
   "id": "02dcbf71-5f19-4426-a42b-3e5ecbf6fbba",
   "metadata": {},
   "outputs": [
    {
     "name": "stdout",
     "output_type": "stream",
     "text": [
      "질의 : 도전적인 스포츠는?\n",
      "응답 : 등산, 서핑, 스카이다이빙, 스노보딩, 스쿼시 같은 스포츠는 도전적이며 스릴 넘치는 활동이다. 또한 막대 헬스, 크로스핏, 무도 등의 운동도 도전적이며 극한의 체력과 인내력을 요구한다.\n"
     ]
    }
   ],
   "source": [
    "print(f\"질의 : {question}\")\n",
    "print(f\"응답 : {answer.content}\")"
   ]
  },
  {
   "cell_type": "markdown",
   "id": "78dddf17-dc3a-428b-9c40-b7f950e0aeef",
   "metadata": {},
   "source": [
    "### 프롬프트 템플릿 활용\n",
    "- 규격화된 템플릿을 활용하여 좀 더 체계적인 구성으로 질의가 가능\n",
    "- 모듈화, 코드 재사용성, 일관성(버전관리 및 테스트) 향상"
   ]
  },
  {
   "cell_type": "code",
   "execution_count": 26,
   "id": "777c6dde-f64a-451c-9f3e-88eead5ad304",
   "metadata": {},
   "outputs": [],
   "source": [
    "from langchain.prompts import PromptTemplate"
   ]
  },
  {
   "cell_type": "code",
   "execution_count": 27,
   "id": "049aadab-a5fc-4cc8-a79d-42dec4ff9ae8",
   "metadata": {},
   "outputs": [
    {
     "name": "stdout",
     "output_type": "stream",
     "text": [
      "직업 중에서 도전적인 직업은/는?\n"
     ]
    }
   ],
   "source": [
    "# from_template : 문자열 포메팅을 기본적으로 활용하여 템플릿을 설정해주는 함수\n",
    "pt = PromptTemplate.from_template(\"{context} 중에서 {topic}은/는?\")\n",
    "\n",
    "# 템플릿 내부에 들어갈 문자열 각각 지정\n",
    "prompt = pt.format(context=\"직업\",\n",
    "                   topic = \"도전적인 직업\"\n",
    "                  )\n",
    " \n",
    "print(prompt)"
   ]
  },
  {
   "cell_type": "code",
   "execution_count": 28,
   "id": "6ab890e3-4265-47bc-a260-9fc3196e7e08",
   "metadata": {},
   "outputs": [],
   "source": [
    "# PromptTemplate을 활용하여 질의에 맞는 응답을 생성하고 출력하는 사용자 정의 함수 선언\n",
    "def get_answer(context, topic):\n",
    "    pt = PromptTemplate.from_template(\"{context} 중에서 {topic}은/는?\")\n",
    "    prompt = pt.format(context=context,\n",
    "                       topic = topic\n",
    "                      )\n",
    "\n",
    "    # 위에서 작성한 템플릿으로 모델에 질의\n",
    "    answer = chat_model.invoke(prompt)\n",
    "    \n",
    "    return {\"질의\" :prompt, \"응답\" : answer.content.strip()}\n",
    "    "
   ]
  },
  {
   "cell_type": "code",
   "execution_count": 34,
   "id": "1b93e14d-774c-49ab-af4c-253c8c6d45ad",
   "metadata": {},
   "outputs": [
    {
     "name": "stdout",
     "output_type": "stream",
     "text": [
      "{'질의': '직업 중에서 윤리적인 직업은/는?', '응답': '의사, 간호사, 교사, 법률가, 사회복지사, 언론인, 환경보호단체 활동가와 같은 직업들이 윤리적인 직업으로 평가될 수 있습니다. 이들 직업은 사회적 책임과 윤리적 가치를 중요시하며, 다른 사람들의 안전과 복지를 위해 노력하는 역할을 수행합니다.'}\n"
     ]
    }
   ],
   "source": [
    "print(get_answer('직업', '윤리적인 직업'))"
   ]
  },
  {
   "cell_type": "code",
   "execution_count": 38,
   "id": "589a111d-dd50-4933-9788-4281cb46f449",
   "metadata": {},
   "outputs": [
    {
     "name": "stdout",
     "output_type": "stream",
     "text": [
      "질의 : 방금 너가 응답한 직업의 종류를 모두 알려줘\n",
      "응답 : 네가 방금 언급한 직업은 의사와 간호사입니다.\n"
     ]
    }
   ],
   "source": [
    "# 이전 질문을 조금은 기억 하긴 함\n",
    "question = \"방금 너가 응답한 직업의 종류를 모두 알려줘\"\n",
    "answer = chat_model.invoke(question) # invoke : Langchain에서 언어 모델의 응답결과를 반환해주는 함수\n",
    "print(f\"질의 : {question}\")\n",
    "print(f\"응답 : {answer.content}\")"
   ]
  },
  {
   "cell_type": "code",
   "execution_count": null,
   "id": "d4d8a986-79f7-4cce-b167-43e987d5ef23",
   "metadata": {},
   "outputs": [],
   "source": []
  }
 ],
 "metadata": {
  "kernelspec": {
   "display_name": "Python [conda env:study]",
   "language": "python",
   "name": "conda-env-study-py"
  },
  "language_info": {
   "codemirror_mode": {
    "name": "ipython",
    "version": 3
   },
   "file_extension": ".py",
   "mimetype": "text/x-python",
   "name": "python",
   "nbconvert_exporter": "python",
   "pygments_lexer": "ipython3",
   "version": "3.8.20"
  }
 },
 "nbformat": 4,
 "nbformat_minor": 5
}
