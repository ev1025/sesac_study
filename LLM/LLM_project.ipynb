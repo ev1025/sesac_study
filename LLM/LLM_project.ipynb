{
 "cells": [
  {
   "cell_type": "markdown",
   "metadata": {},
   "source": [
    "### 크롤링"
   ]
  },
  {
   "cell_type": "code",
   "execution_count": 1,
   "metadata": {},
   "outputs": [],
   "source": [
    "from bs4 import BeautifulSoup\n",
    "import requests\n",
    "import json\n",
    "from tqdm import tqdm"
   ]
  },
  {
   "cell_type": "code",
   "execution_count": 2,
   "metadata": {},
   "outputs": [
    {
     "name": "stderr",
     "output_type": "stream",
     "text": [
      "100%|██████████| 1005/1005 [00:00<?, ?it/s]\n",
      " 50%|█████     | 1/2 [00:39<00:39, 39.70s/it]"
     ]
    },
    {
     "name": "stdout",
     "output_type": "stream",
     "text": [
      "신용카드 769개 완료\n"
     ]
    },
    {
     "name": "stderr",
     "output_type": "stream",
     "text": [
      "100%|██████████| 429/429 [00:00<?, ?it/s]\n",
      "100%|██████████| 2/2 [00:53<00:00, 26.62s/it]"
     ]
    },
    {
     "name": "stdout",
     "output_type": "stream",
     "text": [
      "체크카드 352개 완료\n"
     ]
    },
    {
     "name": "stderr",
     "output_type": "stream",
     "text": [
      "\n"
     ]
    }
   ],
   "source": [
    "# 단종카드 제거를 위해 카드 넘버 추출\n",
    "card_category = {'CRD': 1005,\n",
    "                 'CHK': 429}\n",
    "headers = {\"User-Agent\": \"Mozilla/5.0\"}\n",
    "\n",
    "# 카드 종류(key), 카드 개수(value)로 돌리기\n",
    "for cat,num in tqdm(card_category.items()):\n",
    "    # 신용카드인 경우, 카드 페이지 번호 추출\n",
    "    if cat == 'CRD':\n",
    "        url = f'https://api.card-gorilla.com:8080/v1/cards?p=1&perPage={num}&cate={cat}'\n",
    "        response = requests.get(url, headers=headers)\n",
    "        crd_num_json = response.json()\n",
    "\n",
    "        crd_num_list = [int(i.get('cid')) for i in tqdm(crd_num_json.get('data')) if i.get('is_discon')==False]\n",
    "\n",
    "        print(f'신용카드 {len(crd_num_list)}개 완료')\n",
    "    \n",
    "    # 체크카드인 경우, 카드 페이지 번호 추출\n",
    "    elif cat == 'CHK':\n",
    "        url = f'https://api.card-gorilla.com:8080/v1/cards?p=1&perPage={num}&cate={cat}'\n",
    "        response = requests.get(url, headers=headers)\n",
    "        chk_num_json = response.json()\n",
    "        \n",
    "        chk_num_list = [int(i.get('cid')) for i in tqdm(chk_num_json.get('data')) if i.get('is_discon')==False]\n",
    "\n",
    "        print(f'체크카드 {len(chk_num_list)}개 완료')\n",
    "\n",
    "page_list = crd_num_list+chk_num_list"
   ]
  },
  {
   "cell_type": "code",
   "execution_count": null,
   "metadata": {},
   "outputs": [],
   "source": [
    "# # 카드 정보 넣을 딕셔너리\n",
    "# all_card = {}\n",
    "\n",
    "# # 전체 카드 번호\n",
    "# page_list = crd_num_list+chk_num_list\n",
    "\n",
    "# # 카드 번호 하나씩 크롤링 시작\n",
    "# for page_num in tqdm(page_list):\n",
    "#     response = requests.get(f'https://api.card-gorilla.com:8080/v1/cards/{page_num}')\n",
    "\n",
    "#     # 정상적 응답 아니면 넘어가기\n",
    "#     if response.status_code !=200:\n",
    "#         continue\n",
    "    \n",
    "#     json_soup = response.json()\n",
    "    \n",
    "#     # 카드 이름\n",
    "#     card_name = json_soup.get('name')\n",
    "#     all_card[card_name] = []\n",
    "\n",
    "#     # 카드사 이름\n",
    "#     all_card[card_name].append({'카드사' : json_soup.get('corp').get('name')})\n",
    "\n",
    "#     # 신용인지 체크인지\n",
    "#     all_card[card_name].append({'종류' :  '신용카드' if json_soup.get('cate')=='CRD' else '체크카드'})\n",
    "\n",
    "#     # 해외 결제 여부\n",
    "#     forreign_val = json_soup.get('brand')\n",
    "#     all_card[card_name].append({'해외' : [ forreign_val[num].get('name') for num in range(len(forreign_val))]})\n",
    "\n",
    "#     # 주요 혜택\n",
    "#     benefit_dict = {}\n",
    "#     for num in range(len(json_soup.get('key_benefit'))):\n",
    "#         benefit_temp = json_soup.get('key_benefit')[num]\n",
    "#         benefit_content = benefit_temp.get('info')\n",
    "#         benefit_dict[benefit_temp.get('title')] = BeautifulSoup(benefit_content, 'html.parser').get_text(separator=' ', strip=True)\n",
    "#     all_card[card_name].append({'혜택' : benefit_dict})\n",
    "\n",
    "#     # 프로모션이 있는 경우 저장\n",
    "#     if json_soup.get('pr_container'):\n",
    "#         all_card[card_name].append({'프로모션' : BeautifulSoup(json_soup.get('pr_container'), 'html.parser').get_text(separator=' ', strip=True)})\n",
    "#     else:\n",
    "#         all_card[card_name].append({'프로모션' : '없음'})\n",
    "\n",
    "#     # 연회비, 연회비 상세 추출(html이 아닌 경우 무시하고 진행됨)\n",
    "#     if json_soup.get('annual_fee_basic') and json_soup.get('annual_fee_detail'):\n",
    "#         all_card[card_name].append({'연회비': json_soup.get('annual_fee_basic'),\n",
    "#                                                 '연회비 상세': BeautifulSoup(json_soup.get('annual_fee_detail'), 'html.parser').get_text(separator=' ', strip=True)})"
   ]
  },
  {
   "cell_type": "code",
   "execution_count": null,
   "metadata": {},
   "outputs": [],
   "source": [
    "# with open('jinwoo_card.json', 'w', encoding='utf-8') as f:\n",
    "#     json.dump(all_card, f, ensure_ascii=False, indent=4)"
   ]
  },
  {
   "cell_type": "code",
   "execution_count": null,
   "metadata": {},
   "outputs": [],
   "source": [
    "# with open('jinwoo_card.json', 'r', encoding='utf-8') as f:\n",
    "#     all_card = json.load(f)"
   ]
  },
  {
   "cell_type": "code",
   "execution_count": null,
   "metadata": {},
   "outputs": [
    {
     "name": "stderr",
     "output_type": "stream",
     "text": [
      "  0%|          | 0/1121 [00:00<?, ?it/s]"
     ]
    },
    {
     "name": "stderr",
     "output_type": "stream",
     "text": [
      "C:\\Users\\ENVY\\AppData\\Local\\Temp\\ipykernel_15156\\3206640859.py:32: MarkupResemblesLocatorWarning: The input looks more like a filename than markup. You may want to open this file and pass the filehandle into Beautiful Soup.\n",
      "  benefit_dict[benefit_temp.get('title')] = BeautifulSoup(benefit_content, 'html.parser').get_text(separator=' ', strip=True)\n",
      " 65%|██████▍   | 724/1121 [01:36<00:46,  8.45it/s]C:\\Users\\ENVY\\AppData\\Local\\Temp\\ipykernel_15156\\3206640859.py:44: MarkupResemblesLocatorWarning: The input looks more like a filename than markup. You may want to open this file and pass the filehandle into Beautiful Soup.\n",
      "  card_fee = f\"'연회비': {json_soup.get('annual_fee_basic')},'연회비 상세': {BeautifulSoup(json_soup.get('annual_fee_detail'), 'html.parser').get_text(separator=' ', strip=True)}\" + \"</END CARD>\"\n",
      "100%|██████████| 1121/1121 [02:21<00:00,  7.89it/s]\n"
     ]
    }
   ],
   "source": [
    "# 카드 정보 넣을 딕셔너리\n",
    "all_card_list = []\n",
    "\n",
    "# 카드 번호 하나씩 크롤링 시작\n",
    "for page_num in tqdm(page_list):\n",
    "    response = requests.get(f'https://api.card-gorilla.com:8080/v1/cards/{page_num}')\n",
    "\n",
    "    # 정상적 응답 아니면 넘어가기\n",
    "    if response.status_code !=200:\n",
    "        continue\n",
    "    \n",
    "    json_soup = response.json()\n",
    "    \n",
    "    # 카드 이름\n",
    "    card_name = f\"카드 이름 : {json_soup.get('name')}\"\n",
    "    \n",
    "    # 카드사 이름\n",
    "    card_cat = f\"카드사 : {json_soup.get('corp').get('name')}\"\n",
    "\n",
    "    # 신용인지 체크인지\n",
    "    crd_chk = f\"카드 종류 :  {'신용카드' if json_soup.get('cate')=='CRD' else '체크카드'}\"\n",
    "\n",
    "    # 해외 결제 여부\n",
    "    forreign_val = json_soup.get('brand')\n",
    "    card_for = f\" 해외 : {[forreign_val[num].get('name') for num in range(len(forreign_val))]}\"\n",
    "\n",
    "    # 주요 혜택\n",
    "    benefit_dict = {}\n",
    "    for num in range(len(json_soup.get('key_benefit'))):\n",
    "        benefit_temp = json_soup.get('key_benefit')[num]\n",
    "        benefit_content = benefit_temp.get('comment')\n",
    "        benefit_dict[benefit_temp.get('title')] = BeautifulSoup(benefit_content, 'html.parser').get_text(separator=' ', strip=True)\n",
    "\n",
    "    card_benefit = f\"혜택 : {benefit_dict}\"\n",
    "\n",
    "    # 프로모션이 있는 경우 저장\n",
    "    if json_soup.get('pr_container'):\n",
    "        card_promotion = f\"프로모션 : {BeautifulSoup(json_soup.get('pr_container'), 'html.parser').get_text(separator=' ', strip=True)}\"\n",
    "    else:\n",
    "        card_promotion = f\"프로모션 : 없음\"\n",
    "\n",
    "    # 연회비, 연회비 상세 추출(html이 아닌 경우 무시하고 진행됨)\n",
    "    if json_soup.get('annual_fee_basic') and json_soup.get('annual_fee_detail'):\n",
    "        card_fee = f\"'연회비': {json_soup.get('annual_fee_basic')},'연회비 상세': {BeautifulSoup(json_soup.get('annual_fee_detail'), 'html.parser').get_text(separator=' ', strip=True)}\" + \"</END CARD>\"\n",
    "    \n",
    "    all_card_list.append(card_name + card_cat + crd_chk + card_for + card_benefit + card_promotion +card_fee)\n",
    "\n",
    "        "
   ]
  },
  {
   "cell_type": "code",
   "execution_count": 31,
   "metadata": {},
   "outputs": [],
   "source": [
    "all_text = ''.join(all_card_list)"
   ]
  },
  {
   "cell_type": "markdown",
   "metadata": {},
   "source": [
    "### 청킹"
   ]
  },
  {
   "cell_type": "code",
   "execution_count": null,
   "metadata": {},
   "outputs": [],
   "source": [
    "# from langchain.text_splitter import RecursiveCharacterTextSplitter\n",
    "\n",
    "# chunk_size = 1500    # 하나의 청크의 글자 수(200~1500) 일반적인 문서에서는 작게, 기술문서는 크게\n",
    "# chunk_overlap = 0   # 인접 텍스트에서 중복으로 포함될 문자 수\n",
    "\n",
    "# r_splitter = RecursiveCharacterTextSplitter(\n",
    "#     chunk_size=chunk_size,\n",
    "#     chunk_overlap = chunk_overlap\n",
    "# )\n",
    "\n",
    "# texts = r_splitter.split_text(all_text)\n",
    "# texts"
   ]
  },
  {
   "cell_type": "code",
   "execution_count": 40,
   "metadata": {},
   "outputs": [],
   "source": [
    "from langchain.text_splitter import RecursiveCharacterTextSplitter\n",
    "from langchain_chroma import Chroma # langchain에서 지원하는 chroma\n",
    "from langchain_openai import OpenAIEmbeddings # Lanhchain과 연동된 openai에서 지원하는 pre-trained Embedding모델\n",
    "from langchain.schema import Document\n",
    "from getpass import getpass "
   ]
  },
  {
   "cell_type": "code",
   "execution_count": 41,
   "metadata": {},
   "outputs": [],
   "source": [
    "MY_API_KEY = getpass(\"OpenAI API Key:\")\n"
   ]
  },
  {
   "cell_type": "code",
   "execution_count": 51,
   "metadata": {},
   "outputs": [],
   "source": [
    "chunk_size = 1500    # 하나의 청크의 글자 수(200~1500) 일반적인 문서에서는 작게, 기술문서는 크게\n",
    "chunk_overlap = 0   # 인접 텍스트에서 중복으로 포함될 문자 수\n",
    "\n",
    "r_splitter = RecursiveCharacterTextSplitter(\n",
    "    chunk_size=chunk_size,\n",
    "    chunk_overlap = chunk_overlap\n",
    ")\n",
    "\n",
    "texts = r_splitter.split_text(all_text)\n",
    "\n",
    "my_chunk = [Document(page_content=text) for text in texts]"
   ]
  },
  {
   "cell_type": "code",
   "execution_count": 56,
   "metadata": {},
   "outputs": [],
   "source": [
    "my_embedding = OpenAIEmbeddings(model=\"text-embedding-3-large\",\n",
    "                                api_key=MY_API_KEY\n",
    "                               )\n",
    "\n",
    "temp_embedding = my_embedding.embed_documents(texts)"
   ]
  },
  {
   "cell_type": "code",
   "execution_count": 52,
   "metadata": {},
   "outputs": [],
   "source": [
    "vectordb = Chroma.from_documents(documents = my_chunk,\n",
    "                                 embedding = my_embedding,\n",
    "                                )"
   ]
  },
  {
   "cell_type": "code",
   "execution_count": 63,
   "metadata": {},
   "outputs": [],
   "source": [
    "from langchain.chains import RetrievalQA\n",
    "# Langchain 클래스들과 통합이 용이한 대화 전용 모델인 chatOpenAI 사용\n",
    "from langchain_openai import ChatOpenAI\n",
    "\n",
    "chat_model = ChatOpenAI(model = \"gpt-3.5-turbo\",\n",
    "                        api_key = MY_API_KEY\n",
    "                       )\n",
    "\n",
    "my_retriever = vectordb.as_retriever(search_kwargs={\"k\":3})\n",
    "\n",
    "# from_chain_type = RetrievalQA객체 성성 및 세부사항 설정\n",
    "R_QA1 = RetrievalQA.from_chain_type(llm = chat_model,              # LLM모델 지정\n",
    "                                #    chain_type = \"refine\",          # 답변을 위해 청크들이 결합되는 타입 지정\n",
    "                                    # stuff(default) : 검색된 청크들의 내용을 간단하게 결합하여 답변 생성\n",
    "                                    # map_reduce : 청크를 각각 처리 후 개별 결과를 결합하여 답변 생성 (문서 규모가 클 때)\n",
    "                                    # refine : 이전 청크의 처리 결과를 다음 청크에 반영하여 지속적으로 응답을 개선한 후 답변 생성\n",
    "                                    # map_rerank : 각 문서를 개별 평가하여 관련성을 점수화한 후, 가장 높은 문서를 선택하여 답변 생성\n",
    "                                   retriever = my_retriever,       # 검색기 지정(우리는 DB까지 포함)\n",
    "                                   return_source_documents = True) # 어떤 문설르 참조했는지 출력"
   ]
  },
  {
   "cell_type": "code",
   "execution_count": 64,
   "metadata": {},
   "outputs": [
    {
     "data": {
      "text/plain": [
       "'30대에게 교통비가 부족한 경우 후불교통카드를 발급받는 것이 도움이 될 수 있습니다. 후불교통카드는 교통비를 미리 충전하지 않고 사용한 후에 나중에 한꺼번에 정산하는 형태의 카드입니다. 이를 통해 교통비를 편리하게 결제하고 관리할 수 있습니다.'"
      ]
     },
     "execution_count": 64,
     "metadata": {},
     "output_type": "execute_result"
    }
   ],
   "source": [
    "question = \"교통비가 부족한 30대에게 필요한 카드\"\n",
    "llm_response = R_QA1.invoke(question)\n",
    "llm_response.get('result')"
   ]
  },
  {
   "cell_type": "code",
   "execution_count": null,
   "metadata": {},
   "outputs": [],
   "source": [
    "from langchain_cohere import CohereRerank\n",
    "from langchain.retrievers import ContextualCompressionRetriever\n",
    "# JhWAU7cwOysjZmLvYN1gdp9Ym3LFko55MSJthQ4U\n",
    "COHERE_API_KEY = getpass(\"Cohere API KEY :\")"
   ]
  },
  {
   "cell_type": "code",
   "execution_count": 67,
   "metadata": {},
   "outputs": [],
   "source": [
    "my_rerank = CohereRerank(cohere_api_key = COHERE_API_KEY,\n",
    "                         model = \"rerank-v3.5\" # cohere지원 reranking모델\n",
    "                        )\n",
    "\n",
    "compression_retriever = ContextualCompressionRetriever(base_compressor = my_rerank,\n",
    "                                                       base_retriever = my_retriever\n",
    "                                                      )\n",
    "\n",
    "R_QA2 = RetrievalQA.from_chain_type(llm=chat_model,\n",
    "                                    chain_type = \"refine\",\n",
    "                                    #문맥 압축검색기로 변환하여 설정\n",
    "                                    retriever = compression_retriever\n",
    "                                   )"
   ]
  },
  {
   "cell_type": "code",
   "execution_count": 69,
   "metadata": {},
   "outputs": [
    {
     "name": "stdout",
     "output_type": "stream",
     "text": [
      "해외여행을 자주 다니는 30대 여성이 쓰기 좋은 카드는 \"하나멤버스 Mega 체크카드\"입니다. 이 카드는 VISA를 사용할 수 있어 해외에서도 편리하게 이용할 수 있습니다. 또한, 요식/마트/백화점/온라인 쇼핑/주유/병원에서 이용 시 멤버십포인트를 적립할 수 있고, SKT/KT/LGU+ 자동이체 시에도 적립이 가능합니다. 해외에서도 이용 가능하며 다양한 혜택을 받을 수 있는 이 카드가 해외여행을 자주 다니는 여성에게 적합할 것입니다.\n",
      "CPU times: total: 93.8 ms\n",
      "Wall time: 7.56 s\n"
     ]
    }
   ],
   "source": [
    "%%time\n",
    "question = \"30대 해외여행을 많이 가는 여자가 쓰기 좋은 카드는?\"\n",
    "print(R_QA2.invoke(question).get('result'))"
   ]
  },
  {
   "cell_type": "code",
   "execution_count": null,
   "metadata": {},
   "outputs": [],
   "source": []
  }
 ],
 "metadata": {
  "kernelspec": {
   "display_name": "study",
   "language": "python",
   "name": "python3"
  },
  "language_info": {
   "codemirror_mode": {
    "name": "ipython",
    "version": 3
   },
   "file_extension": ".py",
   "mimetype": "text/x-python",
   "name": "python",
   "nbconvert_exporter": "python",
   "pygments_lexer": "ipython3",
   "version": "3.8.20"
  }
 },
 "nbformat": 4,
 "nbformat_minor": 2
}
