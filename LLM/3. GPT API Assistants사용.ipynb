{
 "cells": [
  {
   "cell_type": "markdown",
   "id": "bb922c48-56f8-4091-9407-1c758632e314",
   "metadata": {},
   "source": [
    "## OpenAI에서 지원하는 Assistants API를 활용하여 PPT파일을 생성해보자!\n",
    "- Assistants : 대화 및 파일 생성, 코드 명령 수행, 데이터 검색 및 추출 등 특정 task에 특화되어 학습된 자연어 기반 생성형 인공지능 API\n",
    "- OpenAI의 일반적인 Chat API처럼 대화형 서비스도 제공하지만 특정 작업에 특화하여 지원하거나 자동화에 중점을 둠으로써 챗봇, 가상비서, 자동응답 시스템 개발 등 필요한 작업에 포커스를 맞춰 활용 가능"
   ]
  },
  {
   "cell_type": "markdown",
   "id": "93e97640-4086-436b-8bfd-d07d9d3ba018",
   "metadata": {},
   "source": [
    "### OpenAI API Key 설정"
   ]
  },
  {
   "cell_type": "code",
   "execution_count": 1,
   "id": "8902ff7b-7e8e-486a-9e31-138c93c7a9da",
   "metadata": {},
   "outputs": [],
   "source": [
    "from openai import OpenAI\n",
    "from getpass import getpass\n",
    "import time"
   ]
  },
  {
   "cell_type": "code",
   "execution_count": 4,
   "id": "6e2c1755-8010-4cd3-be76-ec49dcff1051",
   "metadata": {},
   "outputs": [
    {
     "name": "stdin",
     "output_type": "stream",
     "text": [
      "OpenAI API Key: ········\n"
     ]
    }
   ],
   "source": [
    "MY_API_KEY = getpass.getpass(\"OpenAI API Key:\")"
   ]
  },
  {
   "cell_type": "code",
   "execution_count": 6,
   "id": "e54b2d1b-bd74-441a-a898-ede1cf5c1402",
   "metadata": {},
   "outputs": [],
   "source": [
    "client = OpenAI(api_key=MY_API_KEY)"
   ]
  },
  {
   "cell_type": "markdown",
   "id": "bd5a66e5-44e3-490c-99b3-8b1128a77d08",
   "metadata": {},
   "source": [
    "### 2. 어시스턴트, 스레드, 메세지 갱체 생성\n",
    "- 스레드(thread) : 프로세스 내에서 실행되는 가장 작은 실행 단위로 현재 실습에서는 어시스턴트와 사용자간 채팅 세션(꽁간)을 하나의 스레드로 지정하여 진행\n",
    "- 메세지(message) : 스레드 내의 통신 단위\n",
    "\n",
    "1. 어시스턴트 세부사항 정의\n",
    "2. 어시스턴트 객체 생성\n",
    "3. 스레드 및 메세지 객체 생성\n",
    "4. 스레드 실행(대화 시작 및 요구사항 요청)"
   ]
  },
  {
   "cell_type": "markdown",
   "id": "fb1b6616-207d-484d-956f-6d9b9007eba0",
   "metadata": {},
   "source": [
    "### 1) 어시스턴트 세부사항 정의"
   ]
  },
  {
   "cell_type": "code",
   "execution_count": 10,
   "id": "ccde7fe9-1c57-4018-a287-48c6a9a946e7",
   "metadata": {},
   "outputs": [],
   "source": [
    "# 어시스턴트의 역할을 정의(role에서 system과 유사한 기능)\n",
    "assistant_instruction = \"\"\"등산에 관련된 PowerPoint 파일을 만들어야 해. 너는 등산 전문가이자 PowerPoint 전문가야.\n",
    "전체적인 PPT의 글꼴은 알아보기 쉬운 분명한 한글 글꼴로 해줘.\n",
    "페이지 별로 제목의 글씨 크기는 40point 내외, 내용은 20point 정도로 설정해줘.\n",
    "슬라이드는 3개 만들어줘.\"\"\"\n",
    "\n",
    "# 원하는 요청을 작성\n",
    "prompt_user = \"\"\"입문자 및 초보 등산가에게 강의하기 위한 프레젠테이션 자료를 만들어줘.\n",
    "초급,중급,고급 수준별 적절한 등산 횟수, 산 높이, 기본적인 스트레칭 동작, 등산화 추천 등에 대한 설명을 포함하는 프레젠테이션을 만들어줘.\n",
    "페이지 구성이 깔끔하고 내용은 구체적으로 작성해주면 좋겠어. 바로 작성해줘 화이팅~!\"\"\""
   ]
  },
  {
   "cell_type": "markdown",
   "id": "02df2175-e454-45cb-aa52-5d82776f64cd",
   "metadata": {},
   "source": [
    "### 2) 어시스턴트 객체 생성"
   ]
  },
  {
   "cell_type": "code",
   "execution_count": 13,
   "id": "bf0cb780-d616-4a70-8b1f-fa0b6dcc52bb",
   "metadata": {},
   "outputs": [],
   "source": [
    "assistant = client.beta.assistants.create(name = \"My assistant\",\n",
    "                                           instructions = assistant_instruction,\n",
    "                                           # 현재 tools에 사용 가능한 타입은 code_interpreter, function, file_search 등이 있음\n",
    "                                           tools = [{\"type\":\"code_interpreter\"}],\n",
    "                                           model = \"gpt-4o\"\n",
    "                                          )\n",
    "\n",
    "# code_interpreter : 모델이 코드를 실행하여 계산, 데이터분석 파일 조작 등의 작업을 수행\n",
    "# function : 특정 작업을 구현할 수 있는 사용자정의함수를 호출하여 작업 수행\n",
    "# file_search : 사전 구성된 환경에서 파일을 검색하고 가져와 특정 작업 수행"
   ]
  },
  {
   "cell_type": "code",
   "execution_count": 14,
   "id": "3a4214b4-7b83-499a-bde1-fedbd26c6f68",
   "metadata": {},
   "outputs": [
    {
     "data": {
      "text/plain": [
       "Assistant(id='asst_fIG5ktJxitsxxFZCCUb8xcpY', created_at=1738636378, description=None, instructions='등산에 관련된 PowerPoint 파일을 만들어야 해. 너는 등산 전문가이자 PowerPoint 전문가야.\\n전체적인 PPT의 글꼴은 알아보기 쉬운 분명한 한글 글꼴로 해줘.\\n페이지 별로 제목의 글씨 크기는 40point 내외, 내용은 20point 정도로 설정해줘.\\n슬라이드는 3개 만들어줘.', metadata={}, model='gpt-4o', name='My assistant', object='assistant', tools=[CodeInterpreterTool(type='code_interpreter')], response_format='auto', temperature=1.0, tool_resources=ToolResources(code_interpreter=ToolResourcesCodeInterpreter(file_ids=[]), file_search=None), top_p=1.0, reasoning_effort=None)"
      ]
     },
     "execution_count": 14,
     "metadata": {},
     "output_type": "execute_result"
    }
   ],
   "source": [
    "assistant"
   ]
  },
  {
   "cell_type": "markdown",
   "id": "9cc37c2a-cee2-4ed6-bade-ad7f65bb0354",
   "metadata": {},
   "source": [
    "### 3) 스레드 및 메세지 객체 생성"
   ]
  },
  {
   "cell_type": "code",
   "execution_count": 18,
   "id": "edf5c845-408c-44c6-b0f4-920e2b6ad639",
   "metadata": {},
   "outputs": [],
   "source": [
    "# 스레드 객체 생성\n",
    "# 대화를 시작하면 스레드가 생성되며 대하 중 교환되는 모든 메세지는 동일한 스레드에서 진행됨\n",
    "thread = client.beta.threads.create()\n",
    "\n",
    "#메세지 객체 생성\n",
    " # 메세지는 상ㅇ자의 질의, 명령과 같은 텍스트 뿐만 아니라 파일 등 모든 컨텐츠가 포함\n",
    " # 메세지는 스레드 내의 통신 단위이므로 위에서 생성한 스레드 id값을 입력\n",
    "message = client.beta.threads.messages.create(thread_id = thread.id,\n",
    "                                              role = \"user\",\n",
    "                                              content=prompt_user\n",
    "                                             )"
   ]
  },
  {
   "cell_type": "code",
   "execution_count": 19,
   "id": "bd3a3631-1900-463b-bf4f-3e4497511f67",
   "metadata": {
    "scrolled": true
   },
   "outputs": [
    {
     "name": "stdout",
     "output_type": "stream",
     "text": [
      "Thread(id='thread_jtIttaYLFuxq4BEtc3ei2bmN', created_at=1738636379, metadata={}, object='thread', tool_resources=ToolResources(code_interpreter=None, file_search=None))\n"
     ]
    }
   ],
   "source": [
    "print(thread)"
   ]
  },
  {
   "cell_type": "code",
   "execution_count": 22,
   "id": "8be95669-680f-43fa-876b-e7444410a48b",
   "metadata": {},
   "outputs": [
    {
     "name": "stdout",
     "output_type": "stream",
     "text": [
      "Message(id='msg_5hqqyzklQi3aI0YikzRTL56p', assistant_id=None, attachments=[], completed_at=None, content=[TextContentBlock(text=Text(annotations=[], value='입문자 및 초보 등산가에게 강의하기 위한 프레젠테이션 자료를 만들어줘.\\n초급,중급,고급 수준별 적절한 등산 횟수, 산 높이, 기본적인 스트레칭 동작, 등산화 추천 등에 대한 설명을 포함하는 프레젠테이션을 만들어줘.\\n페이지 구성이 깔끔하고 내용은 구체적으로 작성해주면 좋겠어. 바로 작성해줘 화이팅~!'), type='text')], created_at=1738636379, incomplete_at=None, incomplete_details=None, metadata={}, object='thread.message', role='user', run_id=None, status=None, thread_id='thread_jtIttaYLFuxq4BEtc3ei2bmN')\n"
     ]
    }
   ],
   "source": [
    "print(message)"
   ]
  },
  {
   "cell_type": "markdown",
   "id": "c4081b1e-8d69-4f2f-8abb-4430a5c37e8c",
   "metadata": {},
   "source": [
    "### 4) 스레드 실행(때화 시작 및 요구사항 요청)\n",
    "- 위에 설정된 정보로 역할 설정 및 원하는 작업 요청하는 단계"
   ]
  },
  {
   "cell_type": "code",
   "execution_count": 33,
   "id": "5c2a2a56-05d7-47ff-a392-1904f202a1a1",
   "metadata": {},
   "outputs": [],
   "source": [
    "# 스레드 실행(실행하면 llM으로 사용자의 요청이 넘어감)\n",
    "# 스레드는 사용자가 요청을 입력했을 때 시작되고 모델의 응답이 끝나면 종료됨\n",
    "run = client.beta.threads.runs.create(thread_id = thread.id,\n",
    "                                      assistant_id = assistant.id\n",
    "                                     )"
   ]
  },
  {
   "cell_type": "code",
   "execution_count": 36,
   "id": "d01ac091-112b-43cc-ad15-07cbea9bcb7d",
   "metadata": {},
   "outputs": [
    {
     "data": {
      "text/plain": [
       "Run(id='run_IBiFvwPGo2DfLyGMGNfTfUgM', assistant_id='asst_fIG5ktJxitsxxFZCCUb8xcpY', cancelled_at=None, completed_at=None, created_at=1738636821, expires_at=1738637421, failed_at=None, incomplete_details=None, instructions='등산에 관련된 PowerPoint 파일을 만들어야 해. 너는 등산 전문가이자 PowerPoint 전문가야.\\n전체적인 PPT의 글꼴은 알아보기 쉬운 분명한 한글 글꼴로 해줘.\\n페이지 별로 제목의 글씨 크기는 40point 내외, 내용은 20point 정도로 설정해줘.\\n슬라이드는 3개 만들어줘.', last_error=None, max_completion_tokens=None, max_prompt_tokens=None, metadata={}, model='gpt-4o', object='thread.run', parallel_tool_calls=True, required_action=None, response_format='auto', started_at=None, status='queued', thread_id='thread_jtIttaYLFuxq4BEtc3ei2bmN', tool_choice='auto', tools=[CodeInterpreterTool(type='code_interpreter')], truncation_strategy=TruncationStrategy(type='auto', last_messages=None), usage=None, temperature=1.0, top_p=1.0, tool_resources={}, reasoning_effort=None)"
      ]
     },
     "execution_count": 36,
     "metadata": {},
     "output_type": "execute_result"
    }
   ],
   "source": [
    "run"
   ]
  },
  {
   "cell_type": "markdown",
   "id": "a33d1c2e-cc10-44d1-b578-148cf10718b5",
   "metadata": {},
   "source": [
    "- 스레드를 실행시킨다고 설정해 둔 모든 요청과 응답이 즉각적으로 이루어지지는 않음\n",
    "- 생성 모델이 사용자의 요청을 이닞하고 결과물을 생성하기 위해서는 어느 정도의 시간이 필요함(복잡하고 어려운 요청일수록 더 시간이 오래 걸릴 수 있음)"
   ]
  },
  {
   "cell_type": "markdown",
   "id": "b948c2b6-47aa-401a-af76-e4f153476ee6",
   "metadata": {},
   "source": [
    "###ASSISTANTS 응답 진행 상황 확인 코드###\n",
    "- 작업을 완료하는 데 충분한 시간이 흘렀다면 실행 완료가 뜨고 실행중이라면 실행되고 있는 과정이 체크되도록 코드 작성"
   ]
  },
  {
   "cell_type": "code",
   "execution_count": 39,
   "id": "579502b8-5c1b-4b04-9fdd-ce5d80bd013f",
   "metadata": {},
   "outputs": [
    {
     "name": "stdout",
     "output_type": "stream",
     "text": [
      "in_progress\n",
      "작업 완료!\n"
     ]
    }
   ],
   "source": [
    "while True:\n",
    "    # retrieve : 특정 스레드의 실행 상태나 실행 후 결과를 검색하는데 활용하는 함수\n",
    "    run_retrieve = client.beta.threads.runs.retrieve(thread_id = thread.id,\n",
    "                                                    run_id = run.id\n",
    "                                                   )\n",
    "    # 실행 완료인 경우\n",
    "     # status는 inprogress, completed, failed로 출력될 수 있음\n",
    "    if run_retrieve.status == \"completed\":\n",
    "        print(\"작업 완료!\")\n",
    "        break\n",
    "    # 작업이 실행중 또는 실패인 경우\n",
    "    else:\n",
    "        print(run_retrieve.status)\n",
    "        time.sleep(3)"
   ]
  },
  {
   "cell_type": "code",
   "execution_count": 41,
   "id": "2a085330-a9bd-4174-b73a-2f8702618f3e",
   "metadata": {},
   "outputs": [
    {
     "data": {
      "text/plain": [
       "SyncCursorPage[Message](data=[Message(id='msg_joDl6ERETBqAPtYuu6VJCTiY', assistant_id='asst_fIG5ktJxitsxxFZCCUb8xcpY', attachments=[Attachment(file_id='file-JmFyxEmTC5qtLpbqkq7Dzm', tools=[CodeInterpreterTool(type='code_interpreter')])], completed_at=None, content=[TextContentBlock(text=Text(annotations=[FilePathAnnotation(end_index=116, file_path=FilePath(file_id='file-JmFyxEmTC5qtLpbqkq7Dzm'), start_index=74, text='sandbox:/mnt/data/Hiking_Presentation.pptx', type='file_path')], value='프레젠테이션 자료가 완성되었습니다. 아래 링크를 통해 다운로드하실 수 있습니다:\\n\\n[등산 입문자를 위한 프레젠테이션 자료 다운로드](sandbox:/mnt/data/Hiking_Presentation.pptx) \\n\\n필요한 경우 내용 추가나 수정 요청해 주세요!'), type='text')], created_at=1738636822, incomplete_at=None, incomplete_details=None, metadata={}, object='thread.message', role='assistant', run_id='run_IBiFvwPGo2DfLyGMGNfTfUgM', status=None, thread_id='thread_jtIttaYLFuxq4BEtc3ei2bmN'), Message(id='msg_Yer5SgD3G7oBKVMtsEdxMR2z', assistant_id='asst_fIG5ktJxitsxxFZCCUb8xcpY', attachments=[Attachment(file_id='file-77Wrav8pjDb2DJZM7KCguL', tools=[CodeInterpreterTool(type='code_interpreter')])], completed_at=None, content=[TextContentBlock(text=Text(annotations=[FilePathAnnotation(end_index=116, file_path=FilePath(file_id='file-77Wrav8pjDb2DJZM7KCguL'), start_index=74, text='sandbox:/mnt/data/Hiking_Presentation.pptx', type='file_path')], value='프레젠테이션 자료가 완성되었습니다. 아래 링크를 통해 다운로드하실 수 있습니다:\\n\\n[등산 입문자를 위한 프레젠테이션 자료 다운로드](sandbox:/mnt/data/Hiking_Presentation.pptx) \\n\\n필요한 경우 내용 추가나 수정 요청해 주세요!'), type='text')], created_at=1738636407, incomplete_at=None, incomplete_details=None, metadata={}, object='thread.message', role='assistant', run_id='run_TT7X2Zn0Ivryuy0smhSVvRUH', status=None, thread_id='thread_jtIttaYLFuxq4BEtc3ei2bmN'), Message(id='msg_12cBYQYJdCOl5IEveyHJ0Xgr', assistant_id='asst_fIG5ktJxitsxxFZCCUb8xcpY', attachments=[], completed_at=None, content=[TextContentBlock(text=Text(annotations=[], value='아래의 내용을 포함해서 PowerPoint 프레젠테이션을 제작해 보겠습니다. 각 슬라이드의 주제와 세부 내용을 다음과 같이 구성하려고 합니다.\\n\\n### 슬라이드 1: 등산 개요\\n- **제목**: 등산 개요\\n- **내용**:\\n  - 등산의 장점\\n  - 자연 속에서의 건강 유지\\n  - 정신적 및 신체적 도전 제공\\n\\n### 슬라이드 2: 수준별 등산 계획\\n- **제목**: 수준별 등산 계획\\n- **내용**:\\n  - 초급: 매주 1회, 산 높이 500m 이하\\n  - 중급: 매주 1-2회, 산 높이 500-1,000m\\n  - 고급: 매주 2회 이상, 산 높이 1,000m 이상\\n  - 권장 스트레칭:\\n    - 다리 근육 풀기\\n    - 어깨와 허리 유연성 향상\\n\\n### 슬라이드 3: 등산화 및 장비 추천\\n- **제목**: 등산화 및 장비 추천\\n- **내용**:\\n  - 초급: 가벼운 트레킹화\\n  - 중급: 견고한 등산화\\n  - 고급: 방수 및 강한 내구성 등산화\\n  - 추가 장비:\\n    - 등산용 스틱, 보호용 양말, 모자 및 자외선 차단제\\n\\n이 구성을 바탕으로 PPT를 제작하여 공유해드리겠습니다.'), type='text')], created_at=1738636388, incomplete_at=None, incomplete_details=None, metadata={}, object='thread.message', role='assistant', run_id='run_TT7X2Zn0Ivryuy0smhSVvRUH', status=None, thread_id='thread_jtIttaYLFuxq4BEtc3ei2bmN'), Message(id='msg_5hqqyzklQi3aI0YikzRTL56p', assistant_id=None, attachments=[], completed_at=None, content=[TextContentBlock(text=Text(annotations=[], value='입문자 및 초보 등산가에게 강의하기 위한 프레젠테이션 자료를 만들어줘.\\n초급,중급,고급 수준별 적절한 등산 횟수, 산 높이, 기본적인 스트레칭 동작, 등산화 추천 등에 대한 설명을 포함하는 프레젠테이션을 만들어줘.\\n페이지 구성이 깔끔하고 내용은 구체적으로 작성해주면 좋겠어. 바로 작성해줘 화이팅~!'), type='text')], created_at=1738636379, incomplete_at=None, incomplete_details=None, metadata={}, object='thread.message', role='user', run_id=None, status=None, thread_id='thread_jtIttaYLFuxq4BEtc3ei2bmN')], object='list', first_id='msg_joDl6ERETBqAPtYuu6VJCTiY', last_id='msg_5hqqyzklQi3aI0YikzRTL56p', has_more=False)"
      ]
     },
     "execution_count": 41,
     "metadata": {},
     "output_type": "execute_result"
    }
   ],
   "source": [
    "# messages.list : 특정 스레드의 메세지에 대한 정보와 그 목록을 보여주는 함수\n",
    "messages = client.beta.threads.messages.list(thread_id = thread.id)\n",
    "messages\n",
    "\n",
    "# 맨 아래부터 사용자의 요청 메세지와 그에 대한 모델의 응답 메세지가 순차적으로 출력되고 있음"
   ]
  },
  {
   "cell_type": "code",
   "execution_count": 49,
   "id": "2e6bc223-33ce-41a6-92a3-d08581903505",
   "metadata": {},
   "outputs": [
    {
     "data": {
      "text/plain": [
       "Message(id='msg_12cBYQYJdCOl5IEveyHJ0Xgr', assistant_id='asst_fIG5ktJxitsxxFZCCUb8xcpY', attachments=[], completed_at=None, content=[TextContentBlock(text=Text(annotations=[], value='아래의 내용을 포함해서 PowerPoint 프레젠테이션을 제작해 보겠습니다. 각 슬라이드의 주제와 세부 내용을 다음과 같이 구성하려고 합니다.\\n\\n### 슬라이드 1: 등산 개요\\n- **제목**: 등산 개요\\n- **내용**:\\n  - 등산의 장점\\n  - 자연 속에서의 건강 유지\\n  - 정신적 및 신체적 도전 제공\\n\\n### 슬라이드 2: 수준별 등산 계획\\n- **제목**: 수준별 등산 계획\\n- **내용**:\\n  - 초급: 매주 1회, 산 높이 500m 이하\\n  - 중급: 매주 1-2회, 산 높이 500-1,000m\\n  - 고급: 매주 2회 이상, 산 높이 1,000m 이상\\n  - 권장 스트레칭:\\n    - 다리 근육 풀기\\n    - 어깨와 허리 유연성 향상\\n\\n### 슬라이드 3: 등산화 및 장비 추천\\n- **제목**: 등산화 및 장비 추천\\n- **내용**:\\n  - 초급: 가벼운 트레킹화\\n  - 중급: 견고한 등산화\\n  - 고급: 방수 및 강한 내구성 등산화\\n  - 추가 장비:\\n    - 등산용 스틱, 보호용 양말, 모자 및 자외선 차단제\\n\\n이 구성을 바탕으로 PPT를 제작하여 공유해드리겠습니다.'), type='text')], created_at=1738636388, incomplete_at=None, incomplete_details=None, metadata={}, object='thread.message', role='assistant', run_id='run_TT7X2Zn0Ivryuy0smhSVvRUH', status=None, thread_id='thread_jtIttaYLFuxq4BEtc3ei2bmN')"
      ]
     },
     "execution_count": 49,
     "metadata": {},
     "output_type": "execute_result"
    }
   ],
   "source": [
    "messages.data[-2]"
   ]
  },
  {
   "cell_type": "code",
   "execution_count": 51,
   "id": "20ddc18b-fe2e-4bd1-a2e6-fd7333fe87a4",
   "metadata": {},
   "outputs": [
    {
     "data": {
      "text/plain": [
       "Text(annotations=[FilePathAnnotation(end_index=116, file_path=FilePath(file_id='file-JmFyxEmTC5qtLpbqkq7Dzm'), start_index=74, text='sandbox:/mnt/data/Hiking_Presentation.pptx', type='file_path')], value='프레젠테이션 자료가 완성되었습니다. 아래 링크를 통해 다운로드하실 수 있습니다:\\n\\n[등산 입문자를 위한 프레젠테이션 자료 다운로드](sandbox:/mnt/data/Hiking_Presentation.pptx) \\n\\n필요한 경우 내용 추가나 수정 요청해 주세요!')"
      ]
     },
     "execution_count": 51,
     "metadata": {},
     "output_type": "execute_result"
    }
   ],
   "source": [
    "messages.data[0].content[0].text"
   ]
  },
  {
   "cell_type": "code",
   "execution_count": 53,
   "id": "9eb1e25e-3627-423d-bde2-117c6302eee0",
   "metadata": {},
   "outputs": [
    {
     "data": {
      "text/plain": [
       "[FilePathAnnotation(end_index=116, file_path=FilePath(file_id='file-JmFyxEmTC5qtLpbqkq7Dzm'), start_index=74, text='sandbox:/mnt/data/Hiking_Presentation.pptx', type='file_path')]"
      ]
     },
     "execution_count": 53,
     "metadata": {},
     "output_type": "execute_result"
    }
   ],
   "source": [
    "# annotations : 메세지 유형(텍스트, 이미지, 비디오, 각종파일)에 대한 정보가 담겨져 있음\n",
    "messages.data[0].content[0].text.annotations"
   ]
  },
  {
   "cell_type": "markdown",
   "id": "01509a93-77d0-4b35-af83-cf37dea19518",
   "metadata": {},
   "source": [
    "### annotations가 비어있는 경우의 원인\n",
    " - 생성 모델이 결과물을 전부 생성하기 전에 코드를 실행한경우\n",
    " - 필요한 데이터가 메세지에 포함되지 않았을 경우(파일 미첨부, 애매한 지시 등)\n",
    " - API호출에 문제가 있거나 잘못된 thread_id를 사용하여 올바른 데이터를 가져오지 못한 경우"
   ]
  },
  {
   "cell_type": "code",
   "execution_count": 67,
   "id": "309a589f-fb78-4921-b715-af37a65812d5",
   "metadata": {},
   "outputs": [],
   "source": [
    "# 생성한 파일의 정보 추출\n",
    "\n",
    "# 메세지를 통해 받은 정보 중 생성한 파일(PPT)의 file_id 값을 변수에 저장\n",
    "file_id_path = messages.data[0].content[0].text.annotations[0].file_path.file_id\n",
    "\n",
    "# retrieve_content : file_id 값을 통해 생성된 파일의 내용들을 검색해 가져오는 함수\n",
    "file_contents = client.files.with_raw_response.retrieve_content(file_id_path)"
   ]
  },
  {
   "cell_type": "code",
   "execution_count": 69,
   "id": "1a63d862-a8ba-4334-9fe6-628e0799d722",
   "metadata": {},
   "outputs": [],
   "source": [
    "# result 폴더에 파일 저장\n",
    "with open(\"result/PPT_001.pptx\", \"wb\") as f :\n",
    "    # 메세지에서 가져온 파일의 내용을 바탕으로 실제 생성할 파일 컨텐츠 기기\n",
    "    f.write(file_contents.content)"
   ]
  },
  {
   "cell_type": "markdown",
   "id": "6f7f9fa7-0941-4bea-ae94-218f91e18352",
   "metadata": {},
   "source": [
    "### 생성 파일 정보 및 어시스턴트 삭제(메모리 끊기)"
   ]
  },
  {
   "cell_type": "code",
   "execution_count": 78,
   "id": "a85cf56d-2113-436a-97ca-d037cda592d2",
   "metadata": {},
   "outputs": [
    {
     "data": {
      "text/plain": [
       "AssistantDeleted(id='asst_fIG5ktJxitsxxFZCCUb8xcpY', deleted=True, object='assistant.deleted')"
      ]
     },
     "execution_count": 78,
     "metadata": {},
     "output_type": "execute_result"
    }
   ],
   "source": [
    "client.files.delete(file_id_path)\n",
    "client.beta.assistants.delete(assistant.id)"
   ]
  },
  {
   "cell_type": "markdown",
   "id": "71daa82f-926e-4ed0-9dc0-7a791f62c525",
   "metadata": {},
   "source": [
    "### 정리\n",
    "- 간단한 요청이었기에 결과물의 퀄리티가 높지는 않았찌만 우리가 요청한 내용들이 잘 반영되어 있음\n",
    "- assistants API를 사용하면 일반 대화형 모델로 하기 힘든 파일 제작 등과 같은 특정 task의 결과물을 얻을 수 있음"
   ]
  }
 ],
 "metadata": {
  "kernelspec": {
   "display_name": "Python [conda env:study]",
   "language": "python",
   "name": "conda-env-study-py"
  },
  "language_info": {
   "codemirror_mode": {
    "name": "ipython",
    "version": 3
   },
   "file_extension": ".py",
   "mimetype": "text/x-python",
   "name": "python",
   "nbconvert_exporter": "python",
   "pygments_lexer": "ipython3",
   "version": "3.8.20"
  }
 },
 "nbformat": 4,
 "nbformat_minor": 5
}
