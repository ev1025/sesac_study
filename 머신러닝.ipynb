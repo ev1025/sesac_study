{
 "cells": [
  {
   "cell_type": "markdown",
   "metadata": {},
   "source": [
    "과적합 : 오차 값이 너무 작아서 모두 맞추는 것    \n",
    "Lasso, Ridge - 오차값을 늘려 과적합을 방지   \n",
    "L1 규제 - Lasso - 가중치를 0으로 만듬   \n",
    "L2 규제 - Ridge - 가중치를 0에 가깝게 만듬   \n",
    "\n",
    "RMSE 값은 -로 나오므로 기본적으로 ROOT(-) 추가   "
   ]
  },
  {
   "cell_type": "markdown",
   "metadata": {},
   "source": [
    "로지스틱 회귀(Odds)   \n",
    "성공확률이 p일 때 실패 대비 성공 확률 p/(1-p)    \n",
    "odds값이 크면 성공확률이 크다.    \n",
    "odss값이 작으면 성공확률이 작다.\n",
    "특정 값이 들어갔을 때 확률을 반환한다 = 로짓 변환   \n",
    "확률 : 동전을 10번 던져서 앞면이 나올 확률(0.5)   \n",
    "우도(경험에 의한 확률값) : 실제로 던졌는데 앞면이 나온 확률(7번 나왔으면 0.7)    \n",
    "최대 우도 추정(Maximum Likelihood Estimation) - 확률값을 곱하면 계속 작아지므로 우도에는 log해서 계산(log(AB) = logA+logB)    \n"
   ]
  },
  {
   "cell_type": "markdown",
   "metadata": {},
   "source": [
    "트리모델 : 분할 변수를 정하고, 분할점을 지정하여 가장 불순도가 낮은 값을 선택하는 과정   \n",
    "분할변수 : 나이       \n",
    "분할점 : 20세 이상         \n",
    "지니계수 : 불순도???         \n",
    "엔트로피, IG(정보이득이 더 큰 분할점이 최적분할점)         \n",
    "\n",
    "RF : 트리모델의 앙상블   \n",
    "Bootstrap : 복원 추출하여 다수의 train data를 만드는 것(완전히 다른 데이터가 되어 다수의 train data가 생김)     \n",
    "핵심 아이디어    \n",
    "- 다양성(부스팅),    \n",
    "- 랜덤성(random subspace : 분할변수를 랜덤하게 사용하여 보장) 다양성 증가, 과적합 방지        \n",
    "Bagging(Bosstrap Aggregating) : 각 bootstrap 샘플들로 만들어진 모델을 합치는 것     \n",
    "\n",
    "- 앙상블 : 각 모델의 결과값을 다수결이나 평균값, accuracy값, 확률값 등으로 따르는 것        \n",
    "여러가지 변수에 대해서 하나씩만 잘 맞춰도 합치면 좋은 성능을 낼 수 있다???    \n",
    "모델간의 상관관계가 낮고 최소한의 성능만 보장되어야 앙상블의 효과가 좋다     \n",
    "\n",
    "OOB(OUT OF BAG) : BAGGING을 했을 때 아예 선택되지 않을 확률      \n",
    "변수 중요도 : OOB가 발생했을 때 해당 변수의 값을 랜덤으로 섞고 error를 확인했을 때 차이가 없다면 필요 없는 변수다    \n",
    "rf에서 변수의 중요도가 높다면 전 후 oob error 차이가 크게 나타나야 된다 - permuation_importance로 측정\n",
    "\n",
    "\n"
   ]
  },
  {
   "cell_type": "markdown",
   "metadata": {},
   "source": [
    "케글 꿀팁 : 모델학습할 때 비율이 낮은 라벨에 가중치를 더 줄 것"
   ]
  },
  {
   "cell_type": "markdown",
   "metadata": {},
   "source": [
    "모델 결과 검증   \n",
    "- permutation_importance\n",
    "- PDPS\n",
    "- model.oob_score(oob에러 확인) : 데이터가 많이 없을 때 테스트 셋을 분리하지 않고 oob 데이터로 성능값을 측정하는 방법"
   ]
  },
  {
   "cell_type": "markdown",
   "metadata": {
    "vscode": {
     "languageId": "plaintext"
    }
   },
   "source": [
    "SVM(선형 분류기)     \n",
    "- 선형 분류하는 직선의 마진 최대값을 찾는 것\n",
    "- 데이터를 분류하는 최적의 직선을 찾는 법(퍼셉트론 같은거)\n",
    "- 고차원 데이터 분류에 좋은 성능을 보임\n",
    "- 전체 데이터가 아닌 마진 위에 있는 값만 구하면 됨"
   ]
  },
  {
   "cell_type": "markdown",
   "metadata": {},
   "source": [
    "PCA는 엄청 큰 고차원에서 사용해야함(30차원은 작은 거)"
   ]
  }
 ],
 "metadata": {
  "language_info": {
   "name": "python"
  }
 },
 "nbformat": 4,
 "nbformat_minor": 2
}
