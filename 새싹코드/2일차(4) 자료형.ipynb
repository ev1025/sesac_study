{
 "cells": [
  {
   "cell_type": "markdown",
   "metadata": {},
   "source": [
    "## 4-1 문자열"
   ]
  },
  {
   "cell_type": "markdown",
   "metadata": {},
   "source": [
    "### 문자열"
   ]
  },
  {
   "cell_type": "code",
   "execution_count": 2,
   "metadata": {},
   "outputs": [
    {
     "name": "stdout",
     "output_type": "stream",
     "text": [
      "127 <class 'int'>\n",
      "0 <class 'int'>\n",
      "-128 <class 'int'>\n",
      "최대값: 9223372036854775807 <class 'int'>\n",
      "최소값: -9223372036854775808 <class 'int'>\n",
      "10000000000000000000000000000000000000000001\n"
     ]
    }
   ],
   "source": [
    "import sys\n",
    "\n",
    "number1 = 127\n",
    "number2 = 0\n",
    "number3 = -128\n",
    "\n",
    "print(number1,type(number1))\n",
    "print(number2,type(number2))\n",
    "print(number3,type(number3))\n",
    "\n",
    "max = sys.maxsize\n",
    "min=-max-1\n",
    "print(\"최대값:\", max, type(max))\n",
    "print(\"최소값:\", min, type(min))\n",
    "\n",
    "x = 10000000000000000000000000000000000000000000\n",
    "x = x + 1\n",
    "print(x)"
   ]
  },
  {
   "cell_type": "code",
   "execution_count": 3,
   "metadata": {},
   "outputs": [
    {
     "name": "stdout",
     "output_type": "stream",
     "text": [
      "123.456 <class 'float'>\n",
      "-123.456 <class 'float'>\n",
      "123000.0 <class 'float'>\n",
      "-0.123456 <class 'float'>\n"
     ]
    }
   ],
   "source": [
    "float_number1 = 123.456\n",
    "float_number2 = -123.456\n",
    "print(float_number1, type(float_number1))\n",
    "print(float_number2, type(float_number2))\n",
    "\n",
    "float_number3 = 123.e3\n",
    "float_number4 = -123.456e-3\n",
    "print(float_number3,type(float_number3))\n",
    "print(float_number4, type(float_number4))"
   ]
  },
  {
   "cell_type": "code",
   "execution_count": 6,
   "metadata": {},
   "outputs": [
    {
     "data": {
      "text/plain": [
       "True"
      ]
     },
     "execution_count": 6,
     "metadata": {},
     "output_type": "execute_result"
    }
   ],
   "source": [
    "True"
   ]
  },
  {
   "cell_type": "code",
   "execution_count": 7,
   "metadata": {},
   "outputs": [
    {
     "data": {
      "text/plain": [
       "False"
      ]
     },
     "execution_count": 7,
     "metadata": {},
     "output_type": "execute_result"
    }
   ],
   "source": [
    "False"
   ]
  },
  {
   "cell_type": "code",
   "execution_count": 8,
   "metadata": {},
   "outputs": [
    {
     "data": {
      "text/plain": [
       "bool"
      ]
     },
     "execution_count": 8,
     "metadata": {},
     "output_type": "execute_result"
    }
   ],
   "source": [
    "type(True)"
   ]
  },
  {
   "cell_type": "code",
   "execution_count": 9,
   "metadata": {},
   "outputs": [
    {
     "data": {
      "text/plain": [
       "bool"
      ]
     },
     "execution_count": 9,
     "metadata": {},
     "output_type": "execute_result"
    }
   ],
   "source": [
    "type(False)"
   ]
  },
  {
   "cell_type": "code",
   "execution_count": 19,
   "metadata": {},
   "outputs": [
    {
     "name": "stdout",
     "output_type": "stream",
     "text": [
      "'' 51\n",
      "a 50\n",
      "あ 76\n",
      "ああ 78\n",
      "가 76\n",
      "가가 78\n",
      "😂 80\n"
     ]
    }
   ],
   "source": [
    "print(\"\\'\\'\", sys.getsizeof(''))\n",
    "print(\"a\",sys.getsizeof('a'))\n",
    "print(\"あ\", sys.getsizeof('あ'))\n",
    "print(\"ああ\",sys.getsizeof(\"ああ\"))\n",
    "print(\"가\", sys.getsizeof(\"가\"))\n",
    "print(\"가가\", sys.getsizeof(\"가가\"))\n",
    "print(\"😂\",sys.getsizeof(\"😂\"))\n"
   ]
  },
  {
   "cell_type": "code",
   "execution_count": 22,
   "metadata": {},
   "outputs": [
    {
     "name": "stdout",
     "output_type": "stream",
     "text": [
      "Python String! 한글\n",
      "Python String! 한글\n",
      "Python String! \"한글\"\n",
      "Python String! '한글'\n",
      "Python String! '한글'\n",
      "Python String! \"한글\"\n"
     ]
    }
   ],
   "source": [
    "str1 = 'Python String! 한글'\n",
    "str2 = \"Python String! 한글\"\n",
    "\n",
    "str5 = \"Python String! \\\"한글\\\"\"\n",
    "str6 = 'Python String! \\'한글\\''\n",
    "str7 = \"Python String! '한글'\"\n",
    "str8  ='Python String! \"한글\"'\n",
    "print(str1,str2,str5,str6,str7,str8,sep='\\n')"
   ]
  },
  {
   "cell_type": "code",
   "execution_count": 26,
   "metadata": {},
   "outputs": [
    {
     "name": "stdout",
     "output_type": "stream",
     "text": [
      "Python String! \"한글\"\n",
      "Python String! '한글'\n"
     ]
    }
   ],
   "source": [
    "print('Python String! \"한글\"')\n",
    "print(\"Python String! '한글'\")"
   ]
  },
  {
   "cell_type": "code",
   "execution_count": 27,
   "metadata": {},
   "outputs": [
    {
     "name": "stdout",
     "output_type": "stream",
     "text": [
      "5\n",
      "6\n"
     ]
    }
   ],
   "source": [
    "str1 = \"hello\"\n",
    "str2 = \"안녕하세요.\"\n",
    "print(len(str1))\n",
    "print(len(str2))"
   ]
  },
  {
   "cell_type": "code",
   "execution_count": 28,
   "metadata": {},
   "outputs": [
    {
     "name": "stdout",
     "output_type": "stream",
     "text": [
      "14\n",
      "6\n"
     ]
    }
   ],
   "source": [
    "print(len(\"Hello, Python!\"))\n",
    "print(len(\"안녕하세요.\"))"
   ]
  },
  {
   "cell_type": "code",
   "execution_count": 31,
   "metadata": {},
   "outputs": [
    {
     "name": "stdout",
     "output_type": "stream",
     "text": [
      "18\n",
      "30\n"
     ]
    }
   ],
   "source": [
    "str1 = \"Python Programming\"\n",
    "str2 = \"Leading and training space    \"\n",
    "print(len(str1),len(str2),sep=\"\\n\")"
   ]
  },
  {
   "cell_type": "code",
   "execution_count": 33,
   "metadata": {},
   "outputs": [
    {
     "name": "stdout",
     "output_type": "stream",
     "text": [
      "xxxxx\n",
      "helloworld\n",
      "ababababab\n",
      "abc defabc defabc defabc defabc def\n"
     ]
    }
   ],
   "source": [
    "print(\"x\"*5)\n",
    "print(\"hello\"+\"world\")\n",
    "print(\"ab\"*5)\n",
    "print(\"abc def\"*5)"
   ]
  },
  {
   "cell_type": "code",
   "execution_count": 34,
   "metadata": {},
   "outputs": [
    {
     "name": "stdout",
     "output_type": "stream",
     "text": [
      "HiHiHi ByeByeBye\n"
     ]
    }
   ],
   "source": [
    "print(\"Hi\"*3 +\" \" + \"Bye\"*3)"
   ]
  },
  {
   "cell_type": "code",
   "execution_count": 35,
   "metadata": {},
   "outputs": [
    {
     "name": "stdout",
     "output_type": "stream",
     "text": [
      "XXXXXXXXXXX\n"
     ]
    }
   ],
   "source": [
    "str1 = \"Programming\"\n",
    "print(\"X\"*len(str1))"
   ]
  },
  {
   "cell_type": "code",
   "execution_count": 38,
   "metadata": {},
   "outputs": [
    {
     "name": "stdout",
     "output_type": "stream",
     "text": [
      "ABABABCDCD\n"
     ]
    }
   ],
   "source": [
    "str1 = \"AB\"\n",
    "str2 = \"CD\"\n",
    "print(str1*3+str2*2)"
   ]
  },
  {
   "cell_type": "code",
   "execution_count": 55,
   "metadata": {},
   "outputs": [
    {
     "name": "stdout",
     "output_type": "stream",
     "text": [
      "hello world\n"
     ]
    }
   ],
   "source": [
    "abc = \"hello world\"\n",
    "print(abc[1:6]+abc[6]+abc[-5:])"
   ]
  },
  {
   "cell_type": "code",
   "execution_count": 65,
   "metadata": {},
   "outputs": [
    {
     "data": {
      "text/plain": [
       "' el '"
      ]
     },
     "execution_count": 65,
     "metadata": {},
     "output_type": "execute_result"
    }
   ],
   "source": [
    "abc[0:7:2]"
   ]
  },
  {
   "cell_type": "code",
   "execution_count": 67,
   "metadata": {},
   "outputs": [
    {
     "name": "stdout",
     "output_type": "stream",
     "text": [
      "h P\n",
      "lo P\n",
      "hello\n",
      "Python!\n",
      "hello Python!\n",
      "n\n",
      "hloPto!\n",
      "eoy\n"
     ]
    }
   ],
   "source": [
    "str1 = \"hello Python!\"\n",
    "\n",
    "print(str1[0], str1[6]) #h, p\n",
    "print(str1[3:7]) #lo P\n",
    "print(str1[:5]) # hello\n",
    "print(str1[6:]) # Python!\n",
    "print(str1[:]) # hello Python!\n",
    "print(str1[-2], end=\"\\n\")#n\n",
    "print(str1[::2]) #hloPto!\n",
    "print(str1[1:8:3]) # eoy"
   ]
  },
  {
   "cell_type": "code",
   "execution_count": 69,
   "metadata": {},
   "outputs": [
    {
     "data": {
      "text/plain": [
       "'hello'"
      ]
     },
     "execution_count": 69,
     "metadata": {},
     "output_type": "execute_result"
    }
   ],
   "source": [
    "\"hello world\"[:5]"
   ]
  },
  {
   "cell_type": "code",
   "execution_count": 77,
   "metadata": {},
   "outputs": [
    {
     "data": {
      "text/plain": [
       "'d!'"
      ]
     },
     "execution_count": 77,
     "metadata": {},
     "output_type": "execute_result"
    }
   ],
   "source": [
    "\"hello world!\"[-2:]"
   ]
  },
  {
   "cell_type": "code",
   "execution_count": 81,
   "metadata": {},
   "outputs": [
    {
     "data": {
      "text/plain": [
       "'Hlo ol!'"
      ]
     },
     "execution_count": 81,
     "metadata": {},
     "output_type": "execute_result"
    }
   ],
   "source": [
    "\"Hello, world!\"[::2]"
   ]
  },
  {
   "cell_type": "code",
   "execution_count": 114,
   "metadata": {},
   "outputs": [
    {
     "data": {
      "text/plain": [
       "'!nohtyP olleh'"
      ]
     },
     "execution_count": 114,
     "metadata": {},
     "output_type": "execute_result"
    }
   ],
   "source": [
    "\"hello Python!\"[::-1]\n"
   ]
  },
  {
   "cell_type": "code",
   "execution_count": 108,
   "metadata": {},
   "outputs": [
    {
     "data": {
      "text/plain": [
       "'ammingProgr'"
      ]
     },
     "execution_count": 108,
     "metadata": {},
     "output_type": "execute_result"
    }
   ],
   "source": [
    "\"Programming\"[5:] + \"Programming\"[:5]\n"
   ]
  },
  {
   "cell_type": "code",
   "execution_count": 113,
   "metadata": {},
   "outputs": [
    {
     "name": "stdout",
     "output_type": "stream",
     "text": [
      "2\n"
     ]
    }
   ],
   "source": [
    "text = \"Hello, world! Python is awesome. It is very good\"\n",
    "\n",
    "count_is = text.count(\"is\")\n",
    "print(count_is)"
   ]
  },
  {
   "cell_type": "code",
   "execution_count": 171,
   "metadata": {},
   "outputs": [
    {
     "name": "stdout",
     "output_type": "stream",
     "text": [
      "[   앞 뒤에 공백이 있습니다.   ]\n",
      "[앞 뒤에 공백이 있습니다.   ]\n",
      "[   앞 뒤에 공백이 있습니다.]\n",
      "[앞 뒤에 공백이 있습니다.]\n"
     ]
    }
   ],
   "source": [
    "str1 = \"   앞 뒤에 공백이 있습니다.   \"\n",
    "print('['+str1+']')\n",
    "print('['+ str1.lstrip() +']')\n",
    "print('['+str1.rstrip()+']')\n",
    "print('['+str1.strip()+']')"
   ]
  },
  {
   "cell_type": "code",
   "execution_count": 127,
   "metadata": {},
   "outputs": [
    {
     "name": "stdout",
     "output_type": "stream",
     "text": [
      "HELLO WORLD!\n",
      "hello world!\n"
     ]
    }
   ],
   "source": [
    "str1 = \"Hello World!\"\n",
    "\n",
    "print(str1.upper())\n",
    "print(str1.lower())"
   ]
  },
  {
   "cell_type": "code",
   "execution_count": 128,
   "metadata": {},
   "outputs": [
    {
     "name": "stdout",
     "output_type": "stream",
     "text": [
      "find\n",
      "9\n",
      "2\n",
      "-1\n",
      "index\n",
      "9\n",
      "2\n"
     ]
    },
    {
     "ename": "ValueError",
     "evalue": "substring not found",
     "output_type": "error",
     "traceback": [
      "\u001b[1;31m---------------------------------------------------------------------------\u001b[0m",
      "\u001b[1;31mValueError\u001b[0m                                Traceback (most recent call last)",
      "Input \u001b[1;32mIn [128]\u001b[0m, in \u001b[0;36m<cell line: 11>\u001b[1;34m()\u001b[0m\n\u001b[0;32m      9\u001b[0m \u001b[38;5;28mprint\u001b[39m(str1\u001b[38;5;241m.\u001b[39mindex(\u001b[38;5;124m'\u001b[39m\u001b[38;5;124mh\u001b[39m\u001b[38;5;124m'\u001b[39m))\n\u001b[0;32m     10\u001b[0m \u001b[38;5;28mprint\u001b[39m(str1\u001b[38;5;241m.\u001b[39mindex(\u001b[38;5;124m'\u001b[39m\u001b[38;5;124mllo\u001b[39m\u001b[38;5;124m'\u001b[39m))\n\u001b[1;32m---> 11\u001b[0m \u001b[38;5;28mprint\u001b[39m(\u001b[43mstr1\u001b[49m\u001b[38;5;241;43m.\u001b[39;49m\u001b[43mindex\u001b[49m\u001b[43m(\u001b[49m\u001b[38;5;124;43m'\u001b[39;49m\u001b[38;5;124;43mabc\u001b[39;49m\u001b[38;5;124;43m'\u001b[39;49m\u001b[43m)\u001b[49m)\n",
      "\u001b[1;31mValueError\u001b[0m: substring not found"
     ]
    }
   ],
   "source": [
    "str1 = \"Hello Python!\"\n",
    "\n",
    "print(\"find\")\n",
    "print(str1.find('h'))\n",
    "print(str1.find('llo'))\n",
    "print(str1.find('abc'))\n",
    "\n",
    "print('index')\n",
    "print(str1.index('h'))\n",
    "print(str1.index('llo'))\n",
    "print(str1.index('abc'))"
   ]
  },
  {
   "cell_type": "code",
   "execution_count": 137,
   "metadata": {},
   "outputs": [
    {
     "data": {
      "text/plain": [
       "'hello hello hi hi'"
      ]
     },
     "execution_count": 137,
     "metadata": {},
     "output_type": "execute_result"
    }
   ],
   "source": [
    "abc = \"hi hi hi hi\"\n",
    "abc.replace(\"hi\",\"hello\",2)"
   ]
  },
  {
   "cell_type": "code",
   "execution_count": 281,
   "metadata": {},
   "outputs": [
    {
     "name": "stdout",
     "output_type": "stream",
     "text": [
      "['a', 'b', 'c', 'd', 'e', 'f,', 'abcdef']\n",
      "['a b c d e f', ' abcdef']\n",
      "a. .b. .c. .d. .e. .f.,. .a.b.c.d.e.f\n"
     ]
    }
   ],
   "source": [
    "str1 = \"a b c d e f, abcdef\"\n",
    "print(str1.split())\n",
    "print(str1.split(\",\"))\n",
    "\n",
    "print(\".\".join(str1))"
   ]
  },
  {
   "cell_type": "code",
   "execution_count": 139,
   "metadata": {},
   "outputs": [
    {
     "data": {
      "text/plain": [
       "'hello_wolrd'"
      ]
     },
     "execution_count": 139,
     "metadata": {},
     "output_type": "execute_result"
    }
   ],
   "source": [
    "abc = [\"hello\",\"wolrd\"]\n",
    "\"_\".join(abc)"
   ]
  },
  {
   "cell_type": "markdown",
   "metadata": {},
   "source": [
    "연습문제 1번"
   ]
  },
  {
   "cell_type": "code",
   "execution_count": 4,
   "metadata": {},
   "outputs": [
    {
     "name": "stdout",
     "output_type": "stream",
     "text": [
      "i love programming\n"
     ]
    }
   ],
   "source": [
    "text = 'i love Python programming'\n",
    "text2 = text.replace('Python ','')\n",
    "print(text2)"
   ]
  },
  {
   "cell_type": "code",
   "execution_count": 9,
   "metadata": {},
   "outputs": [
    {
     "data": {
      "text/plain": [
       "'i love programming'"
      ]
     },
     "execution_count": 9,
     "metadata": {},
     "output_type": "execute_result"
    }
   ],
   "source": [
    "text = 'i love Python programming'\n",
    "find_text = \"Python\"\n",
    "start = text.find(find_text)   # Python의 인덱스\n",
    "end = start + len(find_text)+1 # programming의 시작 인덱스 / star(Python의 인덱스) + len(find_text) : Python의 숫자 + 1(Python뒤에 띄어쓰기) \n",
    "result = text[:start] + text[end:] # Python 앞의 띄어쓰기까지 + programming의 p부터 끝까지 \n",
    "result"
   ]
  },
  {
   "cell_type": "markdown",
   "metadata": {},
   "source": [
    "연습문제 2번"
   ]
  },
  {
   "cell_type": "code",
   "execution_count": 155,
   "metadata": {},
   "outputs": [
    {
     "name": "stdout",
     "output_type": "stream",
     "text": [
      "Replace-all-spaces-with-hyphens\n",
      "Replace-all-spaces-with-hyphens\n"
     ]
    }
   ],
   "source": [
    "# 공백을 - 로 바꾸기\n",
    "text = \"Replace all spaces with hyphens\"\n",
    "print(\"-\".join(text.split()))\n",
    "print(text.replace(\" \", \"-\"))\n"
   ]
  },
  {
   "cell_type": "markdown",
   "metadata": {},
   "source": [
    "연습문제 3번\n"
   ]
  },
  {
   "cell_type": "code",
   "execution_count": 162,
   "metadata": {},
   "outputs": [
    {
     "name": "stdout",
     "output_type": "stream",
     "text": [
      "2\n",
      "2\n"
     ]
    }
   ],
   "source": [
    "text = \"The more you practice, the better you become.\"\n",
    "new_text = text.lower()\n",
    "print(new_text.count('the'))\n",
    "\n",
    "# 변수 없이 바로 출력\n",
    "print(text.lower().count('the'))"
   ]
  },
  {
   "cell_type": "markdown",
   "metadata": {},
   "source": [
    "연습문제 4번"
   ]
  },
  {
   "cell_type": "code",
   "execution_count": 163,
   "metadata": {},
   "outputs": [
    {
     "name": "stdout",
     "output_type": "stream",
     "text": [
      "첫 번째 o : 1\n",
      "두 번쨰 o : 3\n"
     ]
    }
   ],
   "source": [
    "text = \"Tomorrow is a new opportunity.\"\n",
    "\n",
    "print(\"첫 번째 o :\", text.find(\"o\",1))\n",
    "print(\"두 번쨰 o :\", text.find(\"o\",2))"
   ]
  },
  {
   "cell_type": "code",
   "execution_count": 169,
   "metadata": {},
   "outputs": [
    {
     "name": "stdout",
     "output_type": "stream",
     "text": [
      "첫 번째 o : 1\n",
      "두 번째 o : 3\n"
     ]
    }
   ],
   "source": [
    "text = \"Tomorrow is a new opportunity.\"\n",
    "first_o = text.find(\"o\")\n",
    "second_o = text.find(\"o\",first_o+1)\n",
    "\n",
    "print(\"첫 번째 o :\", first_o)\n",
    "print(\"두 번째 o :\", second_o)"
   ]
  },
  {
   "cell_type": "markdown",
   "metadata": {},
   "source": [
    "## 4-2 List"
   ]
  },
  {
   "cell_type": "markdown",
   "metadata": {},
   "source": [
    "### List"
   ]
  },
  {
   "cell_type": "code",
   "execution_count": 174,
   "metadata": {},
   "outputs": [
    {
     "name": "stdout",
     "output_type": "stream",
     "text": [
      "[1, 2, 3, 4, 5]\n",
      "<class 'list'>\n"
     ]
    }
   ],
   "source": [
    "list1 = [1, 2, 3, 4, 5]\n",
    "print(list1)\n",
    "print(type(list1))"
   ]
  },
  {
   "cell_type": "code",
   "execution_count": 176,
   "metadata": {},
   "outputs": [
    {
     "name": "stdout",
     "output_type": "stream",
     "text": [
      "1\n",
      "2\n",
      "5\n"
     ]
    }
   ],
   "source": [
    "# 인덱스\n",
    "print(list1[0])\n",
    "print(list1[1])\n",
    "print(list1[4])"
   ]
  },
  {
   "cell_type": "code",
   "execution_count": 177,
   "metadata": {},
   "outputs": [
    {
     "name": "stdout",
     "output_type": "stream",
     "text": [
      "[2, 3]\n"
     ]
    }
   ],
   "source": [
    "# 슬라이싱\n",
    "print(list1[1:3])"
   ]
  },
  {
   "cell_type": "code",
   "execution_count": 180,
   "metadata": {},
   "outputs": [
    {
     "name": "stdout",
     "output_type": "stream",
     "text": [
      "<class 'list'> []\n",
      "<class 'list'> []\n",
      "<class 'list'> [1, 2, 3, 4, 5]\n",
      "<class 'list'> ['h', 'e', 'l', 'l', 'o']\n",
      "<class 'list'> [1, 2, 3, 1.1, 2.2, 'A', True, (1, 2, 3)]\n"
     ]
    }
   ],
   "source": [
    "# 빈 리스트 가능\n",
    "list1 = list()\n",
    "print(type(list1), list1)\n",
    "\n",
    "list2 = []\n",
    "print(type(list2),list2)\n",
    "\n",
    "# 리스트 만드는 법1\n",
    "list3 = [1,2,3,4,5]\n",
    "print(type(list3),list3)\n",
    "\n",
    "# 리스트 만드는 법2\n",
    "list4 = list('hello')\n",
    "print(type(list4),list4)\n",
    "\n",
    "# 리스트는 다양한 자료형을 담을 수 있음\n",
    "list5 = [1,2,3, 1.1, 2.2, 'A', True, (1,2,3)]\n",
    "print(type(list5),list5)"
   ]
  },
  {
   "cell_type": "code",
   "execution_count": 183,
   "metadata": {},
   "outputs": [
    {
     "name": "stdout",
     "output_type": "stream",
     "text": [
      "[1, 2, 3, 4, 5, 10, 20, 30, 40, 50]\n",
      "[1, 2, 3, 4, 5, 1, 2, 3, 4, 5]\n"
     ]
    }
   ],
   "source": [
    "# 리스트의 덧셈 / 곱셈\n",
    "list_1 = [1,2,3,4, 5]\n",
    "list_2 = [10,20,30,40, 50]\n",
    "\n",
    "print(list_1+list_2)\n",
    "print(list_1*2)"
   ]
  },
  {
   "cell_type": "code",
   "execution_count": 187,
   "metadata": {},
   "outputs": [
    {
     "name": "stdout",
     "output_type": "stream",
     "text": [
      "값 :  [1, 2, 3, 4, 5] 메모리 주소: 2461233995072\n",
      "변경값 :  [10, 2, 3, 4, 5] 변경 후 메모리 주소: 2461233995072\n"
     ]
    }
   ],
   "source": [
    "# 값을 변경해도 메모리 주소가 유지된다.\n",
    "list_1 = [1,2,3,4,5]\n",
    "print(\"값 : \", list_1, \"메모리 주소:\",id(list1))\n",
    "\n",
    "list_1[0]=10\n",
    "print(\"변경값 : \", list_1, \"변경 후 메모리 주소:\",id(list1))\n"
   ]
  },
  {
   "cell_type": "code",
   "execution_count": 195,
   "metadata": {},
   "outputs": [
    {
     "name": "stdout",
     "output_type": "stream",
     "text": [
      "변수의 개수 :  4\n",
      "마지막 값 :  d\n"
     ]
    }
   ],
   "source": [
    "# list의 변수 개수 len\n",
    "list_1 = [\"a\",\"b\",\"c\",\"d\"]\n",
    "print(\"변수의 개수 : \" , len(list_1))\n",
    "print(\"마지막 값 : \", list_1[len(list_1)-1]) # 인덱스는 항상 1이 작아서 -1"
   ]
  },
  {
   "cell_type": "code",
   "execution_count": 198,
   "metadata": {},
   "outputs": [
    {
     "name": "stdout",
     "output_type": "stream",
     "text": [
      "[1, 2, 3, 4, 5, 6]\n"
     ]
    }
   ],
   "source": [
    "# list에 값 추가\n",
    "list_1 = [1,2,3,4,5]\n",
    "list_1.append(6)\n",
    "print(list_1)"
   ]
  },
  {
   "cell_type": "code",
   "execution_count": 222,
   "metadata": {},
   "outputs": [
    {
     "name": "stdout",
     "output_type": "stream",
     "text": [
      "append :  [1, 2, 3, 4, [10, 20]]\n",
      "extend :  [1, 2, 3, 4, 10, 20]\n"
     ]
    }
   ],
   "source": [
    "#append는 자료형 그대로 추가\n",
    "list_1 = [1,2,3,4]\n",
    "list_2 = [10,20]\n",
    "list_1.append(list_2)\n",
    "print(\"append : \",list_1)\n",
    "\n",
    "# extend는 각각의 값 추가\n",
    "list_3 = [1,2,3,4]\n",
    "list_4 = [10,20]\n",
    "list_3.extend(list_4)\n",
    "print(\"extend : \", list_3)"
   ]
  },
  {
   "cell_type": "code",
   "execution_count": 228,
   "metadata": {},
   "outputs": [
    {
     "name": "stdout",
     "output_type": "stream",
     "text": [
      "list 안의 list는 하나의 변수 :  [10, 20]\n",
      "한 번 더 인덱싱 :  10\n"
     ]
    }
   ],
   "source": [
    "# list in list\n",
    "print(\"list 안의 list는 하나의 변수 : \", list_1[4])\n",
    "print(\"한 번 더 인덱싱 : \", list_1[4][0])"
   ]
  },
  {
   "cell_type": "code",
   "execution_count": 230,
   "metadata": {},
   "outputs": [
    {
     "data": {
      "text/plain": [
       "[1, 2, 3, 100, 4, 5]"
      ]
     },
     "execution_count": 230,
     "metadata": {},
     "output_type": "execute_result"
    }
   ],
   "source": [
    "# 리스트 중간 삽입\n",
    "# 리스트.insert('넣을 인덱스', '넣을 값')\n",
    "list_1 = [1,2,3,4,5]\n",
    "list_1.insert(3,100)\n",
    "list_1"
   ]
  },
  {
   "cell_type": "code",
   "execution_count": null,
   "metadata": {},
   "outputs": [
    {
     "name": "stdout",
     "output_type": "stream",
     "text": [
      "remove(3) :  [1, 2, 4, 5]\n",
      "pop() :  [1, 2, 4]\n",
      "pop(1) :  [1, 4]\n",
      "clear() : []\n"
     ]
    }
   ],
   "source": [
    "# 리스트 값 제거\n",
    "# remove (값 삭제)\n",
    "list_1 = [1,2,3,4,5]\n",
    "list_1.remove(3)\n",
    "print(\"remove(3) : \", list_1)\n",
    "\n",
    "# pop() 마지막 값 삭제\n",
    "list_1.pop()\n",
    "print(\"pop() : \" , list_1)\n",
    "\n",
    "# pop(1) 인덱스 1의 값 삭제\n",
    "list_1.pop(1)\n",
    "print(\"pop(1) : \", list_1)\n",
    "\n",
    "# clear(리스트 비우기)\n",
    "list_1.clear()\n",
    "print(\"clear() :\", list_1)"
   ]
  },
  {
   "cell_type": "code",
   "execution_count": 244,
   "metadata": {},
   "outputs": [
    {
     "name": "stdout",
     "output_type": "stream",
     "text": [
      "sort() : [1, 2, 3, 4, 5]\n",
      "sorted :  [1, 2, 3, 4, 5]\n",
      "after sorted() :  [4, 5, 1, 3, 2]\n",
      "다른 변수에 sorted 저장 :  [1, 2, 3, 4, 5]\n"
     ]
    }
   ],
   "source": [
    "# 리스트 정렬\n",
    "# sort : 원본이 변함, resverser=True(내림차순) / False(오름차순)\n",
    "# sorted : 원본이 변하지 않음\n",
    "list_1 = [4,5,1,3,2]\n",
    "list_1.sort()\n",
    "print(\"sort() :\", list_1)          # 원본 값이 달라짐\n",
    "\n",
    "list_1 = [4,5,1,3,2]\n",
    "print(\"sorted : \", sorted(list_1)) # sorted 할 때는 정렬됨\n",
    "print(\"after sorted() : \",list_1)  # 실제 값은 변하지 않음\n",
    "\n",
    "list_2 = sorted(list_1)            # 다른 변수에 저장\n",
    "print('다른 변수에 sorted 저장 : ', list_2) "
   ]
  },
  {
   "cell_type": "code",
   "execution_count": 247,
   "metadata": {},
   "outputs": [
    {
     "name": "stdout",
     "output_type": "stream",
     "text": [
      "lndex :  1\n",
      "in :  True\n",
      "count :  3\n"
     ]
    }
   ],
   "source": [
    "# 리스트 값 찾기\n",
    "# index(값) = 값의 인덱스\n",
    "# in 존재여부 boll\n",
    "# count(값) 값의 개수\n",
    "list_1 = [10,20,30,40,50, 50, 50]\n",
    "print(\"lndex : \", list_1.index(20)) # 20의 인덱스는?\n",
    "print(\"in : \",10 in list_1)         # 10이 존재하는가?\n",
    "print(\"count : \", list_1.count(50)) # 50의 개수는?"
   ]
  },
  {
   "cell_type": "markdown",
   "metadata": {},
   "source": [
    "연습문제1"
   ]
  },
  {
   "cell_type": "code",
   "execution_count": 248,
   "metadata": {},
   "outputs": [
    {
     "name": "stdout",
     "output_type": "stream",
     "text": [
      "['apple', 'banana', 'orange']\n"
     ]
    }
   ],
   "source": [
    "\"\"\"\n",
    " 1. append()를 사용하여'apple', 'banana', 'cherry'를 추가합니다.\n",
    " 2. 'banana'와 'cherry' 사이에 'orange'를 삽입합니다.\n",
    " 3. 리스트를알파벳순으로정렬합니다.\n",
    " 4. 정렬된리스트에서'cherry'를삭제합니다.\n",
    " 5. 최종리스트를출력하세요.\n",
    "\"\"\"\n",
    "\n",
    "fruits = []\n",
    "fruits.append('apple')    # 리스트에 값 추가\n",
    "fruits.append('banana')   # 리스트에 값 추가\n",
    "fruits.append('cherry')   # 리스트에 값 추가\n",
    "fruits.insert(2,'orange') # 원하는 위치에 값추가\n",
    "fruits.sort()             # 리스트 원본 정렬\n",
    "fruits.remove('cherry')   # 리스트에서 체리 제거\n",
    "print(fruits)"
   ]
  },
  {
   "cell_type": "code",
   "execution_count": 261,
   "metadata": {},
   "outputs": [
    {
     "name": "stdout",
     "output_type": "stream",
     "text": [
      "['apple', 'banana', 'cherry']\n",
      "['apple', 'banana', 'cherry']\n"
     ]
    }
   ],
   "source": [
    "# for문\n",
    "list11 =[]\n",
    "list22 = ['apple','banana','cherry']\n",
    "\n",
    "for i in list22:\n",
    "    list11.append(i)\n",
    "print(list11)\n",
    "\n",
    "# list comprehenshion\n",
    "list33 = [i for i in list22]\n",
    "print(list33)"
   ]
  },
  {
   "cell_type": "markdown",
   "metadata": {},
   "source": [
    "연습문제2"
   ]
  },
  {
   "cell_type": "code",
   "execution_count": 269,
   "metadata": {},
   "outputs": [
    {
     "name": "stdout",
     "output_type": "stream",
     "text": [
      "1번 sort :  [1, 2, 3, 5, 8]\n",
      "2번 insert :  [1, 2, 3, 4, 5, 8]\n",
      "3번 pop() :  [1, 2, 3, 4, 5]\n"
     ]
    }
   ],
   "source": [
    "\"\"\"\n",
    " 1. 리스트를오름차순으로정렬합니다.\n",
    " 2. 정렬된리스트에4를올바른위치에삽입합니다.\n",
    " 3. 리스트의마지막요소를삭제합니다.\n",
    " 4. 최종리스트를출력하세요.\n",
    "\"\"\"\n",
    "\n",
    "# 1번\n",
    "student_numbers =[5,3,8,1,2]\n",
    "student_numbers.sort()\n",
    "print(\"1번 sort : \", student_numbers)\n",
    "\n",
    "# 2번\n",
    "student_numbers.insert(3,4)\n",
    "print(\"2번 insert : \", student_numbers)\n",
    "\n",
    "# 3번\n",
    "# student_numbers.pop(len(student_numbers)-1)\n",
    "# student_numbers.remove(8)\n",
    "student_numbers.pop()\n",
    "print('3번 pop() : ', student_numbers)\n"
   ]
  },
  {
   "cell_type": "markdown",
   "metadata": {},
   "source": [
    "연습문제3"
   ]
  },
  {
   "cell_type": "code",
   "execution_count": 270,
   "metadata": {},
   "outputs": [
    {
     "name": "stdout",
     "output_type": "stream",
     "text": [
      "1번 len : 5\n",
      "2번 합계 10\n"
     ]
    }
   ],
   "source": [
    "\"\"\"\n",
    " 1. 리스트의길이를구하고출력하세요.\n",
    " 2. 리스트의첫번째값과리스트길이를더한값을출력하세요.\n",
    "\"\"\"\n",
    "\n",
    "# 1번\n",
    "numbers =[5,10,15,20,25]\n",
    "print(\"1번 len :\", len(numbers))\n",
    "\n",
    "# 2번\n",
    "numbers_plus = numbers[0] + len(numbers)\n",
    "print(\"2번 합계\", numbers_plus)\n"
   ]
  },
  {
   "cell_type": "markdown",
   "metadata": {},
   "source": [
    "연습문제4"
   ]
  },
  {
   "cell_type": "code",
   "execution_count": 280,
   "metadata": {},
   "outputs": [
    {
     "name": "stdout",
     "output_type": "stream",
     "text": [
      "1\n",
      "3\n"
     ]
    }
   ],
   "source": [
    "\"\"\"\n",
    " 1. 'blue'가 처음 등장하는위치(인덱스)를출력하세요.\n",
    " 2. 'yellow'가 처음 등장하는위치(인덱스)를출력하세요.\n",
    "\"\"\"\n",
    "colors = ['red','blue', 'green','yellow', 'blue']\n",
    "\n",
    "# 1번\n",
    "print(colors.index('blue',1))   # 첫 번째 blue의 인덱스 표시\n",
    "\n",
    "# 2번\n",
    "print(colors.index('yellow',1)) # 첫 번째 yellow의 인덱스 표시"
   ]
  },
  {
   "cell_type": "code",
   "execution_count": 277,
   "metadata": {},
   "outputs": [
    {
     "name": "stdout",
     "output_type": "stream",
     "text": [
      "[[10, 20], [30, 40], [50, 60]]\n"
     ]
    },
    {
     "data": {
      "text/plain": [
       "20"
      ]
     },
     "execution_count": 277,
     "metadata": {},
     "output_type": "execute_result"
    }
   ],
   "source": [
    "a = [[10,20],[30,40],[50,60]]\n",
    "print(a)\n",
    "a[0][1]"
   ]
  },
  {
   "cell_type": "code",
   "execution_count": 278,
   "metadata": {},
   "outputs": [
    {
     "name": "stdout",
     "output_type": "stream",
     "text": [
      "n!\n"
     ]
    }
   ],
   "source": [
    "str1 = \"hello Python!\"\n",
    "print(str1[-2:]) "
   ]
  },
  {
   "cell_type": "markdown",
   "metadata": {},
   "source": [
    "### 튜플(Tuple)"
   ]
  },
  {
   "cell_type": "code",
   "execution_count": 14,
   "metadata": {},
   "outputs": [
    {
     "name": "stdout",
     "output_type": "stream",
     "text": [
      "(1, 2, 3, 4, 5) <class 'tuple'>\n",
      "(6, 7, 8, 9, 10) <class 'tuple'>\n",
      "1 <class 'int'>\n",
      "10 <class 'int'>\n",
      "(1,) <class 'tuple'>\n",
      "('하나', 123, True) <class 'tuple'>\n",
      "('id', ('kim', 'lee'), (33, 25), (True, False)) <class 'tuple'>\n"
     ]
    }
   ],
   "source": [
    "tuple1 = 1,2,3,4,5\n",
    "tuple2 = (6,7,8,9,10)\n",
    "print(tuple1, type(tuple1))\n",
    "print(tuple2, type(tuple2))\n",
    "\n",
    "tuple3 = 1\n",
    "tuple4 = (10)\n",
    "print(tuple3, type(tuple3))\n",
    "print(tuple4, type(tuple4))\n",
    "\n",
    "\n",
    "tuple5 = (1,)\n",
    "print(tuple5, type(tuple5))\n",
    "\n",
    "# 다양한 자료형 가능\n",
    "tuple6 = '하나', 123, True\n",
    "tuple7 = 'id', ('kim','lee'), (33,25),(True,False)\n",
    "print(tuple6, type(tuple6))\n",
    "print(tuple7, type(tuple7))"
   ]
  },
  {
   "cell_type": "code",
   "execution_count": 15,
   "metadata": {},
   "outputs": [
    {
     "name": "stdout",
     "output_type": "stream",
     "text": [
      "개수 :  3\n",
      "**************************************************\n",
      "1 2 3 3 <class 'int'>\n",
      "(1,) <class 'tuple'>\n",
      "(2, 3) <class 'tuple'>\n",
      "**************************************************\n"
     ]
    }
   ],
   "source": [
    "tuple1 = 1,2,3\n",
    "print(\"개수 : \", str(len(tuple1)))\n",
    "print('*'*50)\n",
    "\n",
    "print(tuple1[0], tuple1[1], tuple1[2],tuple1[-1],type(tuple1[0]))\n",
    "print(tuple1[0:1], type(tuple1[0:1]))\n",
    "print(tuple1[1:3],type(tuple1[1:3]))\n",
    "print('*'*50)"
   ]
  },
  {
   "cell_type": "code",
   "execution_count": 21,
   "metadata": {},
   "outputs": [
    {
     "name": "stdout",
     "output_type": "stream",
     "text": [
      "(1, 2, 3, 4) <class 'tuple'>\n",
      "('A', 2, 3, 4)\n",
      "('A', 2, 'C', 4)\n",
      "('A', 'C', 4)\n"
     ]
    }
   ],
   "source": [
    "# 튜플 변경하는 방법\n",
    "tuple1 = 1,2,3,4\n",
    "print(tuple1, type(tuple1))\n",
    "\n",
    "# 첫 번째 값 변경\n",
    "tuple1 = ('A',)+ tuple1[1:]\n",
    "print(tuple1)\n",
    "\n",
    "# 세 번째 값 변경\n",
    "tuple1 = tuple1[:2] + ('C',) + tuple1[3:]\n",
    "print(tuple1)\n",
    "\n",
    "# 값 삭제\n",
    "tuple1 = (tuple1[0],) + tuple1[2:]\n",
    "print(tuple1)"
   ]
  },
  {
   "cell_type": "markdown",
   "metadata": {},
   "source": [
    "### 집합(set)"
   ]
  },
  {
   "cell_type": "code",
   "execution_count": 22,
   "metadata": {},
   "outputs": [
    {
     "name": "stdout",
     "output_type": "stream",
     "text": [
      "{1, 2, 3} <class 'set'>\n",
      "{10, 20, 30} <class 'set'>\n",
      "[1, 2]\n"
     ]
    }
   ],
   "source": [
    "s1 = set([1,2,3])\n",
    "s2 = {10,20,30}\n",
    "print(s1, type(s1))\n",
    "print(s2, type(s2))\n",
    "\n",
    "s1 = set([1,2,3])\n",
    "li = list(s1)\n",
    "print(li[:2])"
   ]
  },
  {
   "cell_type": "code",
   "execution_count": 31,
   "metadata": {},
   "outputs": [
    {
     "name": "stdout",
     "output_type": "stream",
     "text": [
      "s1 & s2 {4, 5, 6}\n",
      "s1.intersection(s2) {4, 5, 6}\n",
      "\n",
      "s1|s2 {1, 2, 3, 4, 5, 6, 7, 8, 9}\n",
      "s1.union(s2) {1, 2, 3, 4, 5, 6, 7, 8, 9}\n",
      "\n",
      "s1 - s2 {1, 2, 3}\n",
      "s2 - s1 {8, 9, 7}\n",
      "s1.difference(s2) {1, 2, 3}\n",
      "s2.difference(s1) {8, 9, 7}\n"
     ]
    }
   ],
   "source": [
    "s1 = set([1,2,3,4,5,6])\n",
    "s2 = set([4,5,6,7,8,9])\n",
    "\n",
    "# 교집합\n",
    "print(\"s1 & s2\", s1&s2)\n",
    "print(\"s1.intersection(s2)\", s1.intersection(s2))\n",
    "print()\n",
    "\n",
    "# 합집합\n",
    "print(\"s1|s2\", s1|s2)\n",
    "print(\"s1.union(s2)\", s1.union(s2))\n",
    "print()\n",
    "\n",
    "# 차집합\n",
    "print(\"s1 - s2\", s1 -s2)\n",
    "print(\"s2 - s1\", s2 -s1)\n",
    "print(\"s1.difference(s2)\", s1.difference(s2))\n",
    "print(\"s2.difference(s1)\", s2.difference(s1))\n"
   ]
  },
  {
   "cell_type": "code",
   "execution_count": 33,
   "metadata": {},
   "outputs": [
    {
     "name": "stdout",
     "output_type": "stream",
     "text": [
      "{1, 2, 3, 4}\n",
      "{1, 2, 3, 4, 5, 6}\n",
      "{1, 3}\n",
      "discard : {1, 2, 3}\n"
     ]
    },
    {
     "ename": "KeyError",
     "evalue": "44",
     "output_type": "error",
     "traceback": [
      "\u001b[1;31m---------------------------------------------------------------------------\u001b[0m",
      "\u001b[1;31mKeyError\u001b[0m                                  Traceback (most recent call last)",
      "Input \u001b[1;32mIn [33]\u001b[0m, in \u001b[0;36m<cell line: 20>\u001b[1;34m()\u001b[0m\n\u001b[0;32m     17\u001b[0m s1\u001b[38;5;241m.\u001b[39mdiscard(\u001b[38;5;241m44\u001b[39m)\n\u001b[0;32m     18\u001b[0m \u001b[38;5;28mprint\u001b[39m(\u001b[38;5;124m\"\u001b[39m\u001b[38;5;124mdiscard :\u001b[39m\u001b[38;5;124m\"\u001b[39m, s1)\n\u001b[1;32m---> 20\u001b[0m \u001b[43ms1\u001b[49m\u001b[38;5;241;43m.\u001b[39;49m\u001b[43mremove\u001b[49m\u001b[43m(\u001b[49m\u001b[38;5;241;43m44\u001b[39;49m\u001b[43m)\u001b[49m\n\u001b[0;32m     21\u001b[0m \u001b[38;5;28mprint\u001b[39m(\u001b[38;5;124m\"\u001b[39m\u001b[38;5;124mremove : \u001b[39m\u001b[38;5;124m\"\u001b[39m,s1\u001b[38;5;241m.\u001b[39mremove(\u001b[38;5;241m44\u001b[39m))\n",
      "\u001b[1;31mKeyError\u001b[0m: 44"
     ]
    }
   ],
   "source": [
    "# 값 추가\n",
    "s1 = set([1,2,3,])\n",
    "s1.add(4)\n",
    "print(s1)\n",
    "\n",
    "# 값 수정\n",
    "s1 = set([1,2,3,])\n",
    "s1.update([4,5,6])\n",
    "print(s1)\n",
    "\n",
    "# 값 제거\n",
    "s1 = set([1,2,3])\n",
    "s1.remove(2)\n",
    "print(s1)\n",
    "\n",
    "s1 = set([1,2,3])\n",
    "s1.discard(44) # 없는 거 지우면 에러 x\n",
    "print(\"discard :\", s1)\n",
    "\n",
    "s1.remove(44) # 없는 거 지우면 에러 o\n",
    "print(\"remove : \",s1.remove(44))\n",
    "\n"
   ]
  },
  {
   "cell_type": "markdown",
   "metadata": {},
   "source": [
    "### 딕셔너리"
   ]
  },
  {
   "cell_type": "code",
   "execution_count": 40,
   "metadata": {},
   "outputs": [
    {
     "name": "stdout",
     "output_type": "stream",
     "text": [
      "{} <class 'dict'>\n",
      "{'name': '한사람', 'age': 22, 'gender': True} <class 'dict'>\n",
      "한사람\n",
      "22\n",
      "True\n",
      "{('이름', '나이', '성별'): ('홍길동', 22, '남자')} <class 'dict'>\n",
      "('홍길동', 22)\n"
     ]
    }
   ],
   "source": [
    "dict1 = {}\n",
    "print(dict1, type(dict1))\n",
    "\n",
    "dict2 = {'name' : '한사람', 'age' :22, 'gender' : True}\n",
    "print(dict2, type(dict2))\n",
    "print(dict2['name'])\n",
    "print(dict2['age'])\n",
    "print(dict2['gender'])\n",
    "\n",
    "tuple1 = ('이름', '나이', '성별')\n",
    "dict3 = {tuple1 : ('홍길동', 22, \"남자\")}\n",
    "print(dict3, type(dict3))\n",
    "\n",
    "print(dict3[tuple1][:2])"
   ]
  },
  {
   "cell_type": "code",
   "execution_count": 68,
   "metadata": {},
   "outputs": [
    {
     "name": "stdout",
     "output_type": "stream",
     "text": [
      "{'name': '홍길동', 'age': 22, 'gender': '남자'} <class 'dict'>\n",
      "keys() 메소드 :  dict_keys(['name', 'age', 'gender'])\n",
      "values() :  dict_values(['홍길동', 22, '남자'])\n",
      "추가된 딕셔너리 확인 :  {'name': '홍길동', 'age': 22, 'gender': '남자', 'hobby': ['독서', '러닝', '취침'], 'wegiht': 85.123}\n",
      "gender\n",
      "남자\n",
      "업데이트 된 값 :  {'a': 1, 'b': 2}\n"
     ]
    }
   ],
   "source": [
    "dict1 = {'name': '홍길동', 'age' : 22, 'gender' : '남자'}\n",
    "print(dict1, type(dict1))\n",
    "\n",
    "#key\n",
    "print('keys() 메소드 : ', dict1.keys())\n",
    "\n",
    "# value\n",
    "print('values() : ', dict1.values())\n",
    "\n",
    "# 추가\n",
    "dict1['hobby'] = ['독서', '러닝', '취침']\n",
    "dict1['wegiht'] = 85.123\n",
    "print('추가된 딕셔너리 확인 : ', dict1)\n",
    "\n",
    "print(list(dict1.keys())[2])\n",
    "print(list(dict1.values())[2])\n",
    "\n",
    "# 여러개 추가\n",
    "dict2 = {}\n",
    "dict2.update({'a':1, 'b':2})\n",
    "print(\"업데이트 된 값 : \", dict2)"
   ]
  },
  {
   "cell_type": "code",
   "execution_count": 69,
   "metadata": {},
   "outputs": [
    {
     "name": "stdout",
     "output_type": "stream",
     "text": [
      "update() 메소드 {'name': '홍길동', 'age': 22, 'gender': '남자', 'hobby': ['독서', '러닝', '취침'], 'wegiht': 85.123, 'weight': 66.66, 'height': 103.3}\n",
      "수정된 딕셔너리 확인 :  {'name': '홍길동', 'age': 22, 'gender': '남자', 'hobby': ['모임', '게임', '등산'], 'wegiht': 85.123, 'weight': 66.66, 'height': 103.3}\n",
      "weight 요소 삭제 :  {'name': '홍길동', 'age': 22, 'gender': '남자', 'hobby': ['모임', '게임', '등산'], 'wegiht': 85.123, 'height': 103.3}\n",
      "딕셔너리 아이템 확인 : \n",
      " dict_items([('name', '홍길동'), ('age', 22), ('gender', '남자'), ('hobby', ['모임', '게임', '등산']), ('wegiht', 85.123), ('height', 103.3)])\n"
     ]
    }
   ],
   "source": [
    "dict1.update({'weight' : 66.66, 'height':103.3})\n",
    "print('update() 메소드', dict1)\n",
    "\n",
    "dict1['hobby'] = ['모임', '게임', '등산']\n",
    "print(\"수정된 딕셔너리 확인 : \", dict1)\n",
    "\n",
    "del dict1['weight']\n",
    "print('weight 요소 삭제 : ', dict1)\n",
    "\n",
    "print('딕셔너리 아이템 확인 : \\n', dict1.items())"
   ]
  },
  {
   "cell_type": "markdown",
   "metadata": {},
   "source": [
    "## 5 연산자"
   ]
  },
  {
   "cell_type": "markdown",
   "metadata": {},
   "source": [
    "### 연산자"
   ]
  },
  {
   "cell_type": "code",
   "execution_count": 70,
   "metadata": {},
   "outputs": [
    {
     "name": "stdout",
     "output_type": "stream",
     "text": [
      "a+=1 :  11\n",
      "a-=1 :  10\n",
      "a*=2 :  20\n",
      "a/= :  10.0\n"
     ]
    }
   ],
   "source": [
    "a = 10\n",
    "\n",
    "a+=1\n",
    "print(\"a+=1 : \",a)\n",
    "\n",
    "a-=1\n",
    "print(\"a-=1 : \",a)\n",
    "\n",
    "a*=2\n",
    "print(\"a*=2 : \",a)\n",
    "\n",
    "a/=2\n",
    "print(\"a/= : \", a)"
   ]
  },
  {
   "cell_type": "code",
   "execution_count": 71,
   "metadata": {},
   "outputs": [
    {
     "name": "stdout",
     "output_type": "stream",
     "text": [
      "몫 :  3\n",
      "나머지 :  1\n"
     ]
    }
   ],
   "source": [
    "var1 = 10\n",
    "var2 = 3\n",
    "\n",
    "print(\"몫 : \", var1//var2)\n",
    "print(\"나머지 : \", var1%var2)"
   ]
  },
  {
   "cell_type": "code",
   "execution_count": 76,
   "metadata": {},
   "outputs": [
    {
     "name": "stdout",
     "output_type": "stream",
     "text": [
      "False\n",
      "True\n",
      "False\n",
      "False\n",
      "True\n"
     ]
    }
   ],
   "source": [
    "x=2\n",
    "y=3\n",
    "\n",
    "print(x==y)\n",
    "print(x!=y)\n",
    "print(x>y)\n",
    "print(x>=y)\n",
    "print(x<=y)"
   ]
  },
  {
   "cell_type": "code",
   "execution_count": 77,
   "metadata": {},
   "outputs": [
    {
     "name": "stdout",
     "output_type": "stream",
     "text": [
      "True\n",
      "True\n",
      "False\n"
     ]
    }
   ],
   "source": [
    "str1 = \"hello world\"\n",
    "print('h' in str1)\n",
    "print('hello' in str1)\n",
    "print('hi' in str1)"
   ]
  },
  {
   "cell_type": "code",
   "execution_count": 81,
   "metadata": {},
   "outputs": [
    {
     "name": "stdout",
     "output_type": "stream",
     "text": [
      "True\n",
      "True\n",
      "True\n"
     ]
    }
   ],
   "source": [
    "a = 4 \n",
    "\n",
    "print(a%2 == 0 and a != 0)\n",
    "print(a==0 or a ==4)\n",
    "\n",
    "b = False\n",
    "\n",
    "print( not b)\n"
   ]
  },
  {
   "cell_type": "code",
   "execution_count": 85,
   "metadata": {},
   "outputs": [
    {
     "name": "stdout",
     "output_type": "stream",
     "text": [
      "조건문 내부\n",
      "조건문 외부\n",
      "조건문 외부\n"
     ]
    }
   ],
   "source": [
    "condition = True\n",
    "\n",
    "if condition:\n",
    "    print('조건문 내부')\n",
    "print('조건문 외부')\n",
    "\n",
    "condition = False\n",
    "if condition:\n",
    "    print('조건문 내부')\n",
    "print('조건문 외부')"
   ]
  },
  {
   "cell_type": "code",
   "execution_count": 86,
   "metadata": {},
   "outputs": [
    {
     "name": "stdout",
     "output_type": "stream",
     "text": [
      "x는 5보다 크거나 또는 3보다 작습니다.\n"
     ]
    }
   ],
   "source": [
    "x = int(input(\"값을 입력\"))\n",
    "\n",
    "if x<10:\n",
    "    print(\"x가 10보다 작습니다.\")\n",
    "\n",
    "if x>5 and x<10:\n",
    "    print('x는 5보다 크고 10보다 작습니다.')\n",
    "if x>5 or x<3:\n",
    "    print('x는 5보다 크거나 또는 3보다 작습니다.')  "
   ]
  },
  {
   "cell_type": "code",
   "execution_count": 88,
   "metadata": {},
   "outputs": [],
   "source": [
    "x = int(input(\"값을 입력\"))\n",
    "if x<10:\n",
    "    print('x가 10보다 작습니다')\n",
    "    if x>5:\n",
    "        print('x가 5보다 작습니다.')"
   ]
  },
  {
   "cell_type": "code",
   "execution_count": 98,
   "metadata": {},
   "outputs": [
    {
     "name": "stdout",
     "output_type": "stream",
     "text": [
      "자연수 하나 입력해주세요: 50\n"
     ]
    }
   ],
   "source": [
    "x = int(input(\"자연수 하나 입력해주세요.\")) - 50\n",
    "\n",
    "if x>=0:\n",
    "    print(\"자연수 하나 입력해주세요:\", x)\n",
    "if x<0:\n",
    "    print(\"자연수 하나 입력해주세요:\",0)"
   ]
  },
  {
   "cell_type": "code",
   "execution_count": 101,
   "metadata": {},
   "outputs": [
    {
     "name": "stdout",
     "output_type": "stream",
     "text": [
      "0\n"
     ]
    }
   ],
   "source": [
    "num = int(input(\"자연수를 입력하세요.\"))-50\n",
    "if num<0:\n",
    "    num = 0\n",
    "print(num)"
   ]
  },
  {
   "cell_type": "code",
   "execution_count": 137,
   "metadata": {},
   "outputs": [
    {
     "name": "stdout",
     "output_type": "stream",
     "text": [
      "score :  59\n",
      "아쉽게도 불합격입니다.\n",
      "안내를 종료합니다\n"
     ]
    }
   ],
   "source": [
    "import random\n",
    "score = random.randint(0,100)\n",
    "print(\"score : \", score)\n",
    "if score >= 60:\n",
    "    print(\"합격을 축하합니다\")\n",
    "else:\n",
    "    print(\"아쉽게도 불합격입니다.\")\n",
    "print('안내를 종료합니다')"
   ]
  },
  {
   "cell_type": "code",
   "execution_count": 141,
   "metadata": {},
   "outputs": [
    {
     "name": "stdout",
     "output_type": "stream",
     "text": [
      "0\n",
      "짝수입니다\n"
     ]
    }
   ],
   "source": [
    "num = int(input(\"자연수 하나 입력해주세요\"))\n",
    "print(num)\n",
    "if num%2 ==0:\n",
    "    print(\"짝수입니다\")\n",
    "else:\n",
    "    print(\"홀수입니다\")"
   ]
  },
  {
   "cell_type": "code",
   "execution_count": 172,
   "metadata": {},
   "outputs": [
    {
     "name": "stdout",
     "output_type": "stream",
     "text": [
      "잘못된 점수입니다.\n"
     ]
    }
   ],
   "source": [
    "sub1 = int(input(\"소프트웨어 개발 점수를 입력하세요..\"))\n",
    "sub2 = int(input(\"데이터베이스 구축 점수를 입력하세요..\"))\n",
    "sub3 = int(input(\"프로그래밍 언어 활용 점수를 입력하세요..\"))\n",
    "aver = int(round((sub1+sub2+sub3)/3,2))\n",
    "\n",
    "if sub1 < 0 or sub1 > 100 or sub2 < 0 or sub2>100 or sub3 < 0 or sub3 >100:\n",
    "    print(\"잘못된 점수입니다.\")\n",
    "else:\n",
    "    if aver>=60:\n",
    "        print(\"소프트웨어 :\",sub1,\"점 / \", \"데이터베이스 : \",sub2,\"점 / \", \"프로그레밍 언어 : \",sub3,\"점\")\n",
    "        print(\"평균 : \", aver,\"점\")\n",
    "        print(\"합격\")\n",
    "    else:\n",
    "        print(\"소프트웨어 :\",sub1,\"점 / \", \"데이터베이스 : \",sub2,\"점 / \", \"프로그레밍 언어 : \",sub3,\"점\")\n",
    "        print(\"평균 : \", aver,\"점\")\n",
    "        print(\"불합격\")"
   ]
  },
  {
   "cell_type": "code",
   "execution_count": 177,
   "metadata": {},
   "outputs": [
    {
     "name": "stdout",
     "output_type": "stream",
     "text": [
      "성적을 알려드립니다.\n",
      "A입니다.\n",
      "안내를 종료합니다.\n"
     ]
    }
   ],
   "source": [
    "score = int(input(\"점수를 입력해주세요.\"))\n",
    "\n",
    "print(\"성적을 알려드립니다.\")\n",
    "\n",
    "if score >= 90:\n",
    "    print(\"A입니다.\")\n",
    "elif score >= 80:\n",
    "    print(\"B입니다.\")\n",
    "elif score >= 70:\n",
    "    print(\"C입니다.\")\n",
    "elif score >= 60:\n",
    "    print(\"D입니다.\")\n",
    "else:\n",
    "    print(\"F입니다.\")\n",
    "\n",
    "print(\"안내를 종료합니다.\")"
   ]
  },
  {
   "cell_type": "code",
   "execution_count": null,
   "metadata": {},
   "outputs": [],
   "source": [
    "# 단락평가(불필요한 연산이 일어나지 않게 하기)\n",
    "a = 0\n",
    "b = 10\n",
    "\n",
    "if a !=0 or b/a >5:\n",
    "    print(\"조건만족\")\n",
    "else:\n",
    "    print(\"조건 불만족\")"
   ]
  },
  {
   "cell_type": "code",
   "execution_count": 186,
   "metadata": {},
   "outputs": [
    {
     "name": "stdout",
     "output_type": "stream",
     "text": [
      "액체로 예상됩니다.\n"
     ]
    }
   ],
   "source": [
    "temp = float(input(\"현재 물의 온드를 입력해주세요.\"))\n",
    "\n",
    "if temp>=100:\n",
    "    print(\"기체로 예상됩니다.\")\n",
    "elif temp <100 and temp >= 0:\n",
    "    print(\"액체로 예상됩니다.\")\n",
    "else:\n",
    "    print(\"고체로 예상됩니다.\")"
   ]
  },
  {
   "cell_type": "code",
   "execution_count": null,
   "metadata": {},
   "outputs": [
    {
     "name": "stdout",
     "output_type": "stream",
     "text": [
      "2 무임승차입니다.\n"
     ]
    }
   ],
   "source": [
    "age = int(input(\"자신의 나이를 입력하세요\"))\n",
    "\n",
    "if age >= 19:\n",
    "    print(age, \"1500원\")\n",
    "elif age > 11:\n",
    "    print(age, \"1100원\")\n",
    "elif age > 5:\n",
    "    print(age, \"800원\")\n",
    "else:\n",
    "    print(age, \"무임승차입니다.\")"
   ]
  },
  {
   "cell_type": "code",
   "execution_count": 228,
   "metadata": {},
   "outputs": [
    {
     "name": "stdout",
     "output_type": "stream",
     "text": [
      "총 발주금액은 $ 9990 입니다.\n"
     ]
    }
   ],
   "source": [
    "num = int(input(\"발주수량을 입력하세요.\"))\n",
    "price = 10\n",
    "\n",
    "if num >2000:\n",
    "    dis_price = price*0.8\n",
    "elif num > 1500:\n",
    "    dis_price = price*0.9\n",
    "elif num >= 1000:\n",
    "    dis_price = price*0.95\n",
    "else:\n",
    "    dis_price = price\n",
    "print(\"적용 할인률은 \")\n",
    "print(\"총 발주금액은 $\",dis_price*num,\"입니다.\")"
   ]
  },
  {
   "cell_type": "code",
   "execution_count": null,
   "metadata": {},
   "outputs": [
    {
     "name": "stdout",
     "output_type": "stream",
     "text": [
      "자리수를 잘못 입력했습니다.\n"
     ]
    }
   ],
   "source": [
    "num = input(\"주민번호 뒷자리를 입력하세요.\")\n",
    "\n",
    "if len(num) !=7:\n",
    "    print(\"자리수를 잘못 입력했습니다.\")\n",
    "else:\n",
    "    first_num = int(num[0])\n",
    "    if first_num in (1,3):\n",
    "        print(\"남자\")\n",
    "    elif first_num in (2,4):\n",
    "        print(\"여자\")\n",
    "    else:\n",
    "        print(\"잘못된 입력입니다.\")"
   ]
  },
  {
   "cell_type": "code",
   "execution_count": 243,
   "metadata": {},
   "outputs": [
    {
     "name": "stdout",
     "output_type": "stream",
     "text": [
      "평년입니다.\n"
     ]
    }
   ],
   "source": [
    "year = int(input(\"확인할 연도를 입력하세요.\"))\n",
    "\n",
    "if year%100 == 0 and year%400 != 0:\n",
    "    print(\"평년입니다.\")\n",
    "else:\n",
    "    if year%4 == 0:\n",
    "        print(\"윤년입니다.\")\n",
    "    else:\n",
    "        print(\"평년입니다.\")"
   ]
  },
  {
   "cell_type": "markdown",
   "metadata": {},
   "source": []
  },
  {
   "cell_type": "markdown",
   "metadata": {},
   "source": [
    "## 6 - 반복문"
   ]
  },
  {
   "cell_type": "code",
   "execution_count": 1,
   "metadata": {},
   "outputs": [
    {
     "name": "stdout",
     "output_type": "stream",
     "text": [
      "[0, 1, 2, 3, 4, 5, 6, 7, 8, 9]\n",
      "[0, 2, 4, 6, 8]\n"
     ]
    }
   ],
   "source": [
    "print(list(range(10)))\n",
    "print(list(range(0,10,2)))"
   ]
  },
  {
   "cell_type": "code",
   "execution_count": 4,
   "metadata": {},
   "outputs": [
    {
     "name": "stdout",
     "output_type": "stream",
     "text": [
      "hello wolrd\n",
      "hello wolrd\n",
      "hello wolrd\n"
     ]
    }
   ],
   "source": [
    "a = int(input(\"몇 번 할래?\"))\n",
    "\n",
    "for i in range(a):\n",
    "    print(\"hello wolrd\")"
   ]
  },
  {
   "cell_type": "markdown",
   "metadata": {},
   "source": [
    "구구단"
   ]
  },
  {
   "cell_type": "code",
   "execution_count": 20,
   "metadata": {},
   "outputs": [
    {
     "name": "stdout",
     "output_type": "stream",
     "text": [
      "9x1=9\n",
      "9x2=18\n",
      "9x3=27\n",
      "9x4=36\n",
      "9x5=45\n",
      "9x6=54\n",
      "9x7=63\n",
      "9x8=72\n",
      "9x9=81\n"
     ]
    }
   ],
   "source": [
    "num = int(input(\"단수를 말해라\"))\n",
    "\n",
    "for i in range(1,10):\n",
    "    # print(num, \"*\", i, \"=\", num*i)\n",
    "    print(f\"{num}x{i}={num*i}\")"
   ]
  },
  {
   "cell_type": "markdown",
   "metadata": {},
   "source": [
    "0~ 입력값 까지의 짝수 추출"
   ]
  },
  {
   "cell_type": "code",
   "execution_count": 27,
   "metadata": {},
   "outputs": [
    {
     "name": "stdout",
     "output_type": "stream",
     "text": [
      "2\n"
     ]
    }
   ],
   "source": [
    "num = int(input(\"입력해봐\"))\n",
    "\n",
    "for i in range(num+1):\n",
    "    if i != 0 and i%2 ==0:\n",
    "        print(i)\n",
    "\n",
    "\n",
    "# # 풀이 2\n",
    "# input_value = int(input(\"입력\"))\n",
    "\n",
    "# for i in range(2, input_value+1, 2):\n",
    "#     print(i)"
   ]
  },
  {
   "cell_type": "markdown",
   "metadata": {},
   "source": [
    "피보나치수열"
   ]
  },
  {
   "cell_type": "code",
   "execution_count": 12,
   "metadata": {},
   "outputs": [
    {
     "name": "stdout",
     "output_type": "stream",
     "text": [
      "[1, 1, 2, 3, 5]\n"
     ]
    }
   ],
   "source": [
    "number = int(input(\"피보나치수열 입력해!!\"))\n",
    "\n",
    "a,b = 1, 1\n",
    "fibo = []\n",
    "\n",
    "for _ in range(number):\n",
    "    fibo.append(a)\n",
    "    a, b = b,a+b\n",
    "\n",
    "print(fibo)"
   ]
  },
  {
   "cell_type": "code",
   "execution_count": 27,
   "metadata": {},
   "outputs": [
    {
     "name": "stdout",
     "output_type": "stream",
     "text": [
      "1\n",
      "1\n",
      "2\n",
      "3\n",
      "5\n",
      "8\n",
      "13\n",
      "21\n",
      "34\n",
      "55\n"
     ]
    }
   ],
   "source": [
    "a, b = 1, 1\n",
    "\n",
    "for _ in range(10):\n",
    "    print(a)\n",
    "    a, b = b, a+b"
   ]
  },
  {
   "cell_type": "code",
   "execution_count": 7,
   "metadata": {},
   "outputs": [
    {
     "name": "stdout",
     "output_type": "stream",
     "text": [
      " 2단 2x1 = 2\n",
      " 2단 2x2 = 4\n",
      " 2단 2x3 = 6\n",
      " 2단 2x4 = 8\n",
      " 2단 2x5 = 10\n",
      " 2단 2x6 = 12\n",
      " 2단 2x7 = 14\n",
      " 2단 2x8 = 16\n",
      " 2단 2x9 = 18\n",
      " 4단 4x1 = 4\n",
      " 4단 4x2 = 8\n",
      " 4단 4x3 = 12\n",
      " 4단 4x4 = 16\n",
      " 4단 4x5 = 20\n",
      " 4단 4x6 = 24\n",
      " 4단 4x7 = 28\n",
      " 4단 4x8 = 32\n",
      " 4단 4x9 = 36\n",
      " 6단 6x1 = 6\n",
      " 6단 6x2 = 12\n",
      " 6단 6x3 = 18\n",
      " 6단 6x4 = 24\n",
      " 6단 6x5 = 30\n",
      " 6단 6x6 = 36\n",
      " 6단 6x7 = 42\n",
      " 6단 6x8 = 48\n",
      " 6단 6x9 = 54\n",
      " 8단 8x1 = 8\n",
      " 8단 8x2 = 16\n",
      " 8단 8x3 = 24\n",
      " 8단 8x4 = 32\n",
      " 8단 8x5 = 40\n",
      " 8단 8x6 = 48\n",
      " 8단 8x7 = 56\n",
      " 8단 8x8 = 64\n",
      " 8단 8x9 = 72\n"
     ]
    }
   ],
   "source": [
    "for i in range(2,10):\n",
    "    if i%2==0:\n",
    "        for j in range(1,10):\n",
    "            print(f\" {i}단 {i}x{j} = {i*j}\")"
   ]
  },
  {
   "cell_type": "code",
   "execution_count": 26,
   "metadata": {},
   "outputs": [
    {
     "name": "stdout",
     "output_type": "stream",
     "text": [
      "* * * * * * * * * *\n",
      "*                 *\n",
      "*                 *\n",
      "*                 *\n",
      "*                 *\n",
      "*                 *\n",
      "*                 *\n",
      "*                 *\n",
      "*                 *\n",
      "* * * * * * * * * *\n"
     ]
    }
   ],
   "source": [
    "for i in range(1,11):\n",
    "    if str(i).count(\"1\")==1:\n",
    "        print(\"* * * * * * * * * *\")\n",
    "    else:\n",
    "        print(\"*\",\" \"*15,\"*\")\n",
    "\n",
    "\n",
    "# for i in range(10):\n",
    "#     if i==0 or i==9:\n",
    "#         print(\"* \"*10)\n",
    "#     else:\n",
    "#         print(\"*\"+\" \"*17+\"*\")"
   ]
  },
  {
   "cell_type": "code",
   "execution_count": 37,
   "metadata": {},
   "outputs": [
    {
     "name": "stdout",
     "output_type": "stream",
     "text": [
      "1 + 3 + 5 + 7 + 9 + 11 + 13 + 15 + 17 + 19 + 21 + 23 + 25 + 27 + 29 + 31 + 33 + 35 + 37 + 39 + 41 + 43 + 45 + 47 + 49 + 51 + 53 + 55 + 57 + 59 + 61 + 63 + 65 + 67 + 69 + 71 + 73 + 75 + 77 + 79 + 81 + 83 + 85 + 87 + 89 + 91 + 93 + 95 + 97 + 99 = 2500\n"
     ]
    }
   ],
   "source": [
    "num = 10\n",
    "list_n = []\n",
    "\n",
    "for i in range(num):\n",
    "    if i%2 != 0:\n",
    "        if i != num-1:\n",
    "            print(f\"{i} \",end=\"+ \")\n",
    "            list_n.append(i)\n",
    "        else:\n",
    "            print(f\"{i}\",end=\"= \")\n",
    "            list_n.append(i)\n",
    "            print(sum(list_n))"
   ]
  },
  {
   "cell_type": "code",
   "execution_count": 48,
   "metadata": {},
   "outputs": [
    {
     "data": {
      "text/plain": [
       "720"
      ]
     },
     "execution_count": 48,
     "metadata": {},
     "output_type": "execute_result"
    }
   ],
   "source": [
    "# 팩토리얼!\n",
    "num = int(input(\"팩토리얼 구하슈\"))\n",
    "fac = 1\n",
    "for i in range(1,num+1):\n",
    "    fac*=i\n",
    "fac"
   ]
  },
  {
   "cell_type": "code",
   "execution_count": 74,
   "metadata": {},
   "outputs": [
    {
     "name": "stdout",
     "output_type": "stream",
     "text": [
      "6    6    6    6    6    6    \n",
      "5    5    5    5    5    \n",
      "4    4    4    4    \n",
      "3    3    3    \n",
      "2    2    \n",
      "1    \n"
     ]
    }
   ],
   "source": [
    "for i in range(-6,0):\n",
    "    print(f\"{-i}    \"*-i)\n",
    "\n",
    "\n",
    "# for i in range(6,0,-1):\n",
    "#     for _ in range(i):\n",
    "#         print(i, end='\\t')\n",
    "#     print()"
   ]
  },
  {
   "cell_type": "code",
   "execution_count": 129,
   "metadata": {},
   "outputs": [
    {
     "name": "stdout",
     "output_type": "stream",
     "text": [
      "*\n",
      "**\n",
      "***\n",
      "****\n",
      "*****\n",
      "******\n",
      "*******\n",
      "********\n",
      "*********\n",
      "**********\n"
     ]
    }
   ],
   "source": [
    "# for i in range(1,11):\n",
    "#     print(i*\"*\")\n",
    "\n",
    "\n",
    "for i in range(1,11):\n",
    "    for j in range(1,i+1):\n",
    "        print(\"*\",end=\"\")\n",
    "    print()"
   ]
  },
  {
   "cell_type": "code",
   "execution_count": 94,
   "metadata": {},
   "outputs": [
    {
     "name": "stdout",
     "output_type": "stream",
     "text": [
      "         *\n",
      "        **\n",
      "       ***\n",
      "      ****\n",
      "     *****\n",
      "    ******\n",
      "   *******\n",
      "  ********\n",
      " *********\n",
      "**********\n"
     ]
    }
   ],
   "source": [
    "num = 10\n",
    "for i in range(1,num+1):\n",
    "    print((num-i)*\" \"+\"*\"*i)"
   ]
  },
  {
   "cell_type": "code",
   "execution_count": 3,
   "metadata": {},
   "outputs": [
    {
     "name": "stdout",
     "output_type": "stream",
     "text": [
      "       *\n",
      "      ***\n",
      "     *****\n",
      "    *******\n",
      "   *********\n",
      "  ***********\n",
      " *************\n",
      "***************\n"
     ]
    }
   ],
   "source": [
    "num = 15\n",
    "\n",
    "for i in range(1,num+1,2):\n",
    "    print(((num-i)//2)*\" \"+\"*\"*(i))"
   ]
  },
  {
   "cell_type": "markdown",
   "metadata": {},
   "source": [
    "for문 문자열, 리스트, 딕셔너리"
   ]
  },
  {
   "cell_type": "code",
   "execution_count": 7,
   "metadata": {},
   "outputs": [
    {
     "name": "stdout",
     "output_type": "stream",
     "text": [
      "가 나 다 라 마 바 사 "
     ]
    }
   ],
   "source": [
    "str1 = \"가나다라마바사\"\n",
    "for i in str1:\n",
    "    print(i, end=\" \")"
   ]
  },
  {
   "cell_type": "code",
   "execution_count": 6,
   "metadata": {},
   "outputs": [
    {
     "name": "stdout",
     "output_type": "stream",
     "text": [
      "1 2 3 4 5 "
     ]
    }
   ],
   "source": [
    "lie = [1,2,3,4,5]\n",
    "for i in lie:\n",
    "    print(i, end =\" \")"
   ]
  },
  {
   "cell_type": "code",
   "execution_count": 8,
   "metadata": {},
   "outputs": [
    {
     "name": "stdout",
     "output_type": "stream",
     "text": [
      "5 4 3 2 1 "
     ]
    }
   ],
   "source": [
    "tu = (1,2,3,4,5)\n",
    "for i in reversed(tu):\n",
    "    print(i, end = \" \")"
   ]
  },
  {
   "cell_type": "code",
   "execution_count": 139,
   "metadata": {},
   "outputs": [
    {
     "name": "stdout",
     "output_type": "stream",
     "text": [
      "---------key--------\n",
      "name\n",
      "age\n",
      "gender\n",
      "-----value---------\n",
      "홍길동\n",
      "22\n",
      "남자\n",
      "-------kv---------\n",
      "key : name, value : 홍길동\n",
      "key : age, value : 22\n",
      "key : gender, value : 남자\n"
     ]
    }
   ],
   "source": [
    "dic_x ={\"name\" : \"홍길동\", \"age\" : 22, \"gender\":\"남자\"}\n",
    "\n",
    "print(\"---------key--------\")\n",
    "for i in dic_x:\n",
    "    print(i)\n",
    "\n",
    "print(\"-----value---------\")\n",
    "for i in dic_x.values():\n",
    "    print(i)\n",
    "\n",
    "print(\"-------kv---------\")\n",
    "for k,v in dic_x.items():\n",
    "    print(f\"key : {k}, value : {v}\")"
   ]
  },
  {
   "cell_type": "code",
   "execution_count": 9,
   "metadata": {},
   "outputs": [
    {
     "name": "stdout",
     "output_type": "stream",
     "text": [
      "0 1 2 3 4 5 6 7 8 9 "
     ]
    }
   ],
   "source": [
    "i = 0\n",
    "while i<10:\n",
    "    print(i,end=\" \")\n",
    "    i+=1"
   ]
  },
  {
   "cell_type": "code",
   "execution_count": 146,
   "metadata": {},
   "outputs": [
    {
     "name": "stdout",
     "output_type": "stream",
     "text": [
      "36482 x 1 = 36482\n",
      "36482 x 2 = 72964\n",
      "36482 x 3 = 109446\n",
      "36482 x 4 = 145928\n",
      "36482 x 5 = 182410\n",
      "36482 x 6 = 218892\n",
      "36482 x 7 = 255374\n",
      "36482 x 8 = 291856\n",
      "36482 x 9 = 328338\n"
     ]
    }
   ],
   "source": [
    "i = 1\n",
    "num = int(input(\"구구단 골라\"))\n",
    "\n",
    "while i<10:\n",
    "    print(f\"{num} x {i} = {num*i}\")\n",
    "    i+=1"
   ]
  },
  {
   "cell_type": "markdown",
   "metadata": {},
   "source": [
    "평균 구하기"
   ]
  },
  {
   "cell_type": "code",
   "execution_count": 156,
   "metadata": {},
   "outputs": [
    {
     "name": "stdout",
     "output_type": "stream",
     "text": [
      "79.0\n"
     ]
    }
   ],
   "source": [
    "class_a = (70, 60, 55, 75, 95, 90, 80, 80, 85, 100)\n",
    "\n",
    "count_class = len(class_a)\n",
    "avg = 0\n",
    "\n",
    "while count_class!=0:\n",
    "    avg += class_a[count_class-1]\n",
    "    count_class -= 1\n",
    "\n",
    "print(avg/len(class_a))"
   ]
  },
  {
   "cell_type": "code",
   "execution_count": 169,
   "metadata": {},
   "outputs": [
    {
     "data": {
      "text/plain": [
       "79.0"
      ]
     },
     "execution_count": 169,
     "metadata": {},
     "output_type": "execute_result"
    }
   ],
   "source": [
    "i = 0\n",
    "temp = 0\n",
    "count_cl = len(class_a)\n",
    "\n",
    "while i != count_cl:\n",
    "    temp +=class_a[i]\n",
    "    i+=1\n",
    "\n",
    "temp/count_cl"
   ]
  },
  {
   "cell_type": "markdown",
   "metadata": {},
   "source": [
    "모음 제거"
   ]
  },
  {
   "cell_type": "code",
   "execution_count": 173,
   "metadata": {},
   "outputs": [
    {
     "name": "stdout",
     "output_type": "stream",
     "text": [
      "Ths s n xmpl strng\n"
     ]
    }
   ],
   "source": [
    "text = \"This is an example string\"\n",
    "vowels = \"aeiou\"\n",
    "\n",
    "for i in vowels:\n",
    "    text = text.replace(i,\"\")\n",
    "print(text)\n",
    "    "
   ]
  },
  {
   "cell_type": "code",
   "execution_count": 181,
   "metadata": {},
   "outputs": [
    {
     "name": "stdout",
     "output_type": "stream",
     "text": [
      "Ths s n xmpl strng\n"
     ]
    }
   ],
   "source": [
    "text = \"This is an example string\"\n",
    "vowels = \"aeiou\"\n",
    "vowels_len = len(vowels)\n",
    "i = 0\n",
    "\n",
    "while i != vowels_len:\n",
    "    text = text.replace(vowels[i],\"\")\n",
    "    i+=1\n",
    "print(text)"
   ]
  },
  {
   "cell_type": "markdown",
   "metadata": {},
   "source": [
    "1~100 중에\n",
    "3으로 끝나는 값"
   ]
  },
  {
   "cell_type": "code",
   "execution_count": 194,
   "metadata": {},
   "outputs": [
    {
     "name": "stdout",
     "output_type": "stream",
     "text": [
      "3 13 23 33 43 53 63 73 83 93 "
     ]
    }
   ],
   "source": [
    "i = 0\n",
    "\n",
    "while True:\n",
    "    if i>100:\n",
    "        break\n",
    "    elif i%10 ==3:\n",
    "        print(i, end=' ')\n",
    "    i+=1\n",
    "    \n",
    "            "
   ]
  },
  {
   "cell_type": "markdown",
   "metadata": {},
   "source": [
    "1~100중에 3과 5의 3번째 최소 공배수(45)"
   ]
  },
  {
   "cell_type": "code",
   "execution_count": 201,
   "metadata": {},
   "outputs": [
    {
     "name": "stdout",
     "output_type": "stream",
     "text": [
      "45\n"
     ]
    }
   ],
   "source": [
    "number = []\n",
    "\n",
    "for i in range(1,101):\n",
    "    if len(number)==3:\n",
    "        break\n",
    "    if i%3 ==0 and i%5 ==0:\n",
    "        number.append(i)\n",
    "\n",
    "print(number[2])"
   ]
  },
  {
   "cell_type": "code",
   "execution_count": 207,
   "metadata": {},
   "outputs": [
    {
     "name": "stdout",
     "output_type": "stream",
     "text": [
      "45\n"
     ]
    }
   ],
   "source": [
    "i = 1\n",
    "number =[]\n",
    "\n",
    "while True:\n",
    "    if i>100:\n",
    "        break\n",
    "    if i%3==0 and i%5==0:\n",
    "        number.append(i)\n",
    "    i+=1\n",
    "    \n",
    "print(number[2])"
   ]
  },
  {
   "cell_type": "markdown",
   "metadata": {},
   "source": [
    "영화티켓 예매하기 연습문제"
   ]
  },
  {
   "cell_type": "code",
   "execution_count": 2,
   "metadata": {},
   "outputs": [
    {
     "name": "stdout",
     "output_type": "stream",
     "text": [
      "나다님, 티켓 예약이 완료되었습니다.\n",
      "너냐님, 티켓 예약이 완료되었습니다.\n",
      "뭐냐님, 티켓 예약이 완료되었습니다.\n",
      "으잉님, 티켓 예약이 완료되었습니다.\n",
      "이름에 공백이 포함되어 있습니다.\n",
      "바보님, 티켓 예약이 완료되었습니다.\n",
      "\n",
      "프로그램을 종료합니다. 안녕히가세요!\n",
      "\n",
      "예약된 이름 목록:\n",
      "- 나다\n",
      "- 너냐\n",
      "- 뭐냐\n",
      "- 으잉\n",
      "- 바보\n"
     ]
    }
   ],
   "source": [
    "customer_list =[]\n",
    "test =0\n",
    "\n",
    "while True:\n",
    "    name = input(\"영화 티켓 예약 프로그램 q/Q를 누르면 종료\")\n",
    "\n",
    "    if name == 'q' or name == 'Q':\n",
    "        print()\n",
    "        print(\"프로그램을 종료합니다. 안녕히가세요!\")\n",
    "        print()\n",
    "        break\n",
    "\n",
    "    if name.find(\" \") !=-1:\n",
    "        print(\"이름에 공백이 포함되어 있습니다.\")\n",
    "        continue\n",
    "\n",
    "    customer_list.append(name)\n",
    "    print(f\"{name}님, 티켓 예약이 완료되었습니다.\")\n",
    "\n",
    "print(\"예약된 이름 목록:\")\n",
    "\n",
    "for i in customer_list:\n",
    "    print(f\"- {i}\")\n",
    "\n",
    "    \n",
    "\n"
   ]
  },
  {
   "cell_type": "code",
   "execution_count": 142,
   "metadata": {},
   "outputs": [
    {
     "name": "stdout",
     "output_type": "stream",
     "text": [
      "5\n",
      "[1, 2, 3, 4, 5]\n",
      "[6]\n",
      "[7]\n",
      "[8]\n",
      "[13, 12, 11, 10, 9]\n"
     ]
    }
   ],
   "source": [
    "num_list = [n for n in range(1,26)]\n",
    "snail_list = [[],[],[],[],[]]\n",
    "for i in range(5):\n",
    "    for j in range(5):\n",
    "        if i==0:\n",
    "            snail_list[i].append(num_list.pop(0))\n",
    "            # print(i,j)\n",
    "            # print(f\"i==0,{snail_list}\")\n",
    "        elif j==4 and not(i==4 and j==4):\n",
    "            snail_list[i].insert(len(snail_list),num_list.pop(0))\n",
    "            # print(i,j)\n",
    "            # print(f\"j==4,{snail_list}\")\n",
    "        elif i==4 and j==4:\n",
    "            snail_list[i].insert(0, num_list.pop(0))\n",
    "            # print(i,j)\n",
    "            # print(f\"j==4,{snail_list}\")\n",
    "        elif i==4:\n",
    "            snail_list[i].insert(0, num_list.pop(0))\n",
    "            # print(i,j)\n",
    "            # print(f\"i==4,{snail_list}\")\n",
    "\n",
    "for a in snail_list:\n",
    "    print(a)\n"
   ]
  },
  {
   "cell_type": "code",
   "execution_count": 61,
   "metadata": {},
   "outputs": [
    {
     "name": "stdout",
     "output_type": "stream",
     "text": [
      "0+4 =[[1, 2, 3, 4, 0], [0, 0, 0, 0, 0], [0, 0, 0, 0, 0], [0, 0, 0, 0, 0], [0, 0, 0, 0, 0]]\n",
      "4+4 =[[1, 2, 3, 4, 0], [0, 0, 0, 0, 6], [0, 0, 0, 0, 7], [0, 0, 0, 0, 8], [0, 0, 0, 0, 9]]\n",
      "4+0 =[[1, 2, 3, 4, 0], [0, 0, 0, 0, 6], [0, 0, 0, 0, 7], [0, 0, 0, 0, 8], [13, 12, 11, 10, 9]]\n",
      "4+4 =[[1, 2, 3, 4, 0], [0, 0, 0, 0, 6], [0, 0, 0, 0, 7], [0, 0, 0, 0, 8], [13, 14, 15, 16, 9]]\n",
      "4+4 =[[1, 2, 3, 4, 0], [0, 0, 0, 0, 6], [0, 0, 0, 0, 7], [0, 0, 0, 0, 8], [13, 14, 15, 16, 9]]\n",
      "4+1 =[[1, 2, 3, 4, 0], [0, 0, 0, 0, 6], [0, 0, 0, 0, 7], [0, 0, 0, 0, 8], [13, 20, 19, 18, 9]]\n",
      "2\n"
     ]
    }
   ],
   "source": [
    "n = 5\n",
    "init_num = 1\n",
    "first_num = 0\n",
    "i = 0\n",
    "j = 0\n",
    "\n",
    "num_list =[[0,0,0,0,0],[0,0,0,0,0],[0,0,0,0,0],[0,0,0,0,0],[0,0,0,0,0]]\n",
    "\n",
    "while init_num < 14:\n",
    "    while j != n-1:\n",
    "        num_list[i][j] = init_num\n",
    "\n",
    "        j+=1\n",
    "        init_num+=1\n",
    "    print(f\"{i}+{j} ={num_list}\")\n",
    "    while i != n-1:\n",
    "        i+=1\n",
    "        init_num+=1\n",
    "        num_list[i][j] = init_num\n",
    "\n",
    "    print(f\"{i}+{j} ={num_list}\")\n",
    "\n",
    "    if i == j:\n",
    "        while j != first_num:\n",
    "            j-=1\n",
    "            init_num+=1\n",
    "            num_list[i][j] = init_num\n",
    "        first_num+=1\n",
    "    print(f\"{i}+{j} ={num_list}\")\n",
    "    # if i!= first_num:\n",
    "    #     while i != n-1:\n",
    "    #         i=-1\n",
    "    #         init_num+=1\n",
    "    #         num_list[i][j] = init_num\n",
    "    #         print(f\"{i}+{j} ={num_list}\")\n",
    "            \n",
    "print(first_num)\n",
    "    "
   ]
  },
  {
   "cell_type": "code",
   "execution_count": 43,
   "metadata": {},
   "outputs": [
    {
     "name": "stdout",
     "output_type": "stream",
     "text": [
      "5\n",
      "4\n",
      "n:1, x: 2, y:2,init:25\n",
      "[1, 2, 3, 4, 5]\n",
      "[16, 17, 18, 19, 6]\n",
      "[15, 24, 25, 20, 7]\n",
      "[14, 23, 22, 21, 8]\n",
      "[13, 12, 11, 10, 9]\n"
     ]
    }
   ],
   "source": [
    "# 달팽이 월드\n",
    "x = 0\n",
    "y = 0\n",
    "n = 5\n",
    "init_num = 1\n",
    "snail = [[0 for _ in range(n)] for _ in range(n)]\n",
    "snail\n",
    "for _ in range(n):\n",
    "    for _ in range(n):\n",
    "        snail[x][y] = init_num\n",
    "        # print(x,y, snail)\n",
    "        y+=1\n",
    "        init_num+=1\n",
    "    print(y)\n",
    "    y-=1\n",
    "    n-=1\n",
    "    for _ in range(n):\n",
    "        x+=1\n",
    "        snail[x][y] = init_num\n",
    "        init_num+=1\n",
    "        # print(x,y,snail)\n",
    "\n",
    "    for _ in range(n,0, -1):\n",
    "        y-=1\n",
    "        snail[x][y] = init_num\n",
    "        init_num+=1\n",
    "        # print(x,y,snail)\n",
    "    n-=1\n",
    "    for _ in range(n, 0,-1):\n",
    "        x-=1\n",
    "        snail[x][y] = init_num\n",
    "        init_num+=1\n",
    "        # print(x,y,snail)\n",
    "    y+=1\n",
    "    if n==1:\n",
    "        snail[x][y] = init_num\n",
    "        break\n",
    "\n",
    "print(f\"n:{n}, x: {x}, y:{y},init:{init_num}\")\n",
    "\n",
    "for i in snail:\n",
    "    print(i)"
   ]
  },
  {
   "cell_type": "markdown",
   "metadata": {},
   "source": [
    "### List Comprehension"
   ]
  },
  {
   "cell_type": "code",
   "execution_count": 32,
   "metadata": {},
   "outputs": [
    {
     "data": {
      "text/plain": [
       "[10, 20, 30, 40, 50]"
      ]
     },
     "execution_count": 32,
     "metadata": {},
     "output_type": "execute_result"
    }
   ],
   "source": [
    "[x for x in range(10,60,10)]"
   ]
  },
  {
   "cell_type": "code",
   "execution_count": 34,
   "metadata": {},
   "outputs": [
    {
     "data": {
      "text/plain": [
       "[2, 4, 6, 8, 10]"
      ]
     },
     "execution_count": 34,
     "metadata": {},
     "output_type": "execute_result"
    }
   ],
   "source": [
    "[x for x in range(1,11) if x%2 == 0]"
   ]
  },
  {
   "cell_type": "code",
   "execution_count": 36,
   "metadata": {},
   "outputs": [
    {
     "data": {
      "text/plain": [
       "['홀수', '짝수', '홀수', '짝수', '홀수']"
      ]
     },
     "execution_count": 36,
     "metadata": {},
     "output_type": "execute_result"
    }
   ],
   "source": [
    "[\"짝수\" if x%2==0 else \"홀수\" for x in range(1,6)]"
   ]
  },
  {
   "cell_type": "code",
   "execution_count": 37,
   "metadata": {},
   "outputs": [
    {
     "data": {
      "text/plain": [
       "[(1, 'A'),\n",
       " (1, 'B'),\n",
       " (1, 'C'),\n",
       " (2, 'A'),\n",
       " (2, 'B'),\n",
       " (2, 'C'),\n",
       " (3, 'A'),\n",
       " (3, 'B'),\n",
       " (3, 'C')]"
      ]
     },
     "execution_count": 37,
     "metadata": {},
     "output_type": "execute_result"
    }
   ],
   "source": [
    "[(x,y) for x in range(1,4) for y in 'ABC']"
   ]
  },
  {
   "cell_type": "code",
   "execution_count": 44,
   "metadata": {},
   "outputs": [
    {
     "data": {
      "text/plain": [
       "[(2, 'A'), (2, 'B'), (2, 'C')]"
      ]
     },
     "execution_count": 44,
     "metadata": {},
     "output_type": "execute_result"
    }
   ],
   "source": [
    "[(x,y)  for x in range(1,4) for y in \"ABC\" if x%2==0]"
   ]
  },
  {
   "cell_type": "code",
   "execution_count": null,
   "metadata": {},
   "outputs": [],
   "source": [
    "[(x,y) if x%2==0 else (y,x) for x in range(1,4) for y in \"ABC\" ]"
   ]
  },
  {
   "cell_type": "markdown",
   "metadata": {},
   "source": [
    "함수"
   ]
  },
  {
   "cell_type": "code",
   "execution_count": 63,
   "metadata": {},
   "outputs": [
    {
     "name": "stdout",
     "output_type": "stream",
     "text": [
      "hello\n"
     ]
    }
   ],
   "source": [
    "def hello():\n",
    "    print(\"hello\")\n",
    "hello()"
   ]
  },
  {
   "cell_type": "code",
   "execution_count": 64,
   "metadata": {},
   "outputs": [
    {
     "name": "stdout",
     "output_type": "stream",
     "text": [
      "x=1,y=2\n"
     ]
    }
   ],
   "source": [
    "def Printer(x,y):\n",
    "    print(f\"x={x},y={y}\")\n",
    "\n",
    "x=1\n",
    "y=2\n",
    "Printer(x,y)"
   ]
  },
  {
   "cell_type": "code",
   "execution_count": 68,
   "metadata": {},
   "outputs": [
    {
     "name": "stdout",
     "output_type": "stream",
     "text": [
      "11 12\n"
     ]
    }
   ],
   "source": [
    "def add(x,y):\n",
    "    return x+10,y+10\n",
    "\n",
    "x,y = 1, 2\n",
    "ad_x , ad_y = add(x,y)\n",
    "print(ad_x,ad_y)"
   ]
  },
  {
   "cell_type": "code",
   "execution_count": 69,
   "metadata": {},
   "outputs": [
    {
     "name": "stdout",
     "output_type": "stream",
     "text": [
      "3\n"
     ]
    }
   ],
   "source": [
    "def add(x,y):\n",
    "    return x+y\n",
    "x,y = 1, 2\n",
    "\n",
    "add_xy = add(x,y)\n",
    "print(add_xy)"
   ]
  },
  {
   "cell_type": "code",
   "execution_count": 73,
   "metadata": {},
   "outputs": [
    {
     "name": "stdout",
     "output_type": "stream",
     "text": [
      "파이썬씨 안녕하세요.\n",
      "약 11688.0일 되었습니다.\n"
     ]
    }
   ],
   "source": [
    "def greeting(name, year):\n",
    "    print(f\"{name}씨 안녕하세요.\")\n",
    "    print(f\"약 {year*365.25}일 되었습니다.\")\n",
    "\n",
    "greeting(\"파이썬\",32)"
   ]
  },
  {
   "cell_type": "code",
   "execution_count": 88,
   "metadata": {},
   "outputs": [
    {
     "name": "stdout",
     "output_type": "stream",
     "text": [
      "R씨 안녕하세요.\n",
      "약 11688.0일 되었습니다.\n"
     ]
    }
   ],
   "source": [
    "greeting(year=32, name=\"R\")\n"
   ]
  },
  {
   "cell_type": "code",
   "execution_count": 98,
   "metadata": {},
   "outputs": [
    {
     "name": "stdout",
     "output_type": "stream",
     "text": [
      "얌마씨 안녕하세요.\n",
      "약 12053.25일 되었습니다.\n"
     ]
    }
   ],
   "source": [
    "def greeting(year, name=\"얌마\"):\n",
    "    print(f\"{name}씨 안녕하세요.\")\n",
    "    print(f\"약 {year*365.25}일 되었습니다.\")\n",
    "\n",
    "greeting(33)"
   ]
  },
  {
   "cell_type": "markdown",
   "metadata": {},
   "source": [
    "위치인수 : 각 위치에 맞는 인수만 입력 \\n\n",
    "키워드 인수 : 각 파라미터 = 인수로 입력"
   ]
  },
  {
   "cell_type": "code",
   "execution_count": 101,
   "metadata": {},
   "outputs": [
    {
     "name": "stdout",
     "output_type": "stream",
     "text": [
      "위치인자\n"
     ]
    },
    {
     "ename": "TypeError",
     "evalue": "posonly() got some positional-only arguments passed as keyword arguments: 'posonly'",
     "output_type": "error",
     "traceback": [
      "\u001b[1;31m---------------------------------------------------------------------------\u001b[0m",
      "\u001b[1;31mTypeError\u001b[0m                                 Traceback (most recent call last)",
      "Input \u001b[1;32mIn [101]\u001b[0m, in \u001b[0;36m<cell line: 5>\u001b[1;34m()\u001b[0m\n\u001b[0;32m      3\u001b[0m     \u001b[38;5;28mprint\u001b[39m(posonly)\n\u001b[0;32m      4\u001b[0m posonly(\u001b[38;5;124m\"\u001b[39m\u001b[38;5;124m위치인자\u001b[39m\u001b[38;5;124m\"\u001b[39m)\n\u001b[1;32m----> 5\u001b[0m \u001b[43mposonly\u001b[49m\u001b[43m(\u001b[49m\u001b[43mposonly\u001b[49m\u001b[38;5;241;43m=\u001b[39;49m\u001b[38;5;124;43m\"\u001b[39;49m\u001b[38;5;124;43m키워드인자\u001b[39;49m\u001b[38;5;124;43m\"\u001b[39;49m\u001b[43m)\u001b[49m\n",
      "\u001b[1;31mTypeError\u001b[0m: posonly() got some positional-only arguments passed as keyword arguments: 'posonly'"
     ]
    }
   ],
   "source": [
    "# / 왼쪽의 값은 위치 인자만 올 수있음\n",
    "def posonly(posonly,/):\n",
    "    print(posonly)\n",
    "posonly(\"위치인자\")\n",
    "posonly(posonly=\"키워드인자\") # 에러"
   ]
  },
  {
   "cell_type": "code",
   "execution_count": 102,
   "metadata": {},
   "outputs": [
    {
     "name": "stdout",
     "output_type": "stream",
     "text": [
      "키워드전용 인자\n"
     ]
    },
    {
     "ename": "TypeError",
     "evalue": "keyonly() takes 0 positional arguments but 1 was given",
     "output_type": "error",
     "traceback": [
      "\u001b[1;31m---------------------------------------------------------------------------\u001b[0m",
      "\u001b[1;31mTypeError\u001b[0m                                 Traceback (most recent call last)",
      "Input \u001b[1;32mIn [102]\u001b[0m, in \u001b[0;36m<cell line: 4>\u001b[1;34m()\u001b[0m\n\u001b[0;32m      2\u001b[0m     \u001b[38;5;28mprint\u001b[39m(keyonly)\n\u001b[0;32m      3\u001b[0m keyonly(keyonly\u001b[38;5;241m=\u001b[39m\u001b[38;5;124m\"\u001b[39m\u001b[38;5;124m키워드전용 인자\u001b[39m\u001b[38;5;124m\"\u001b[39m)\n\u001b[1;32m----> 4\u001b[0m \u001b[43mkeyonly\u001b[49m\u001b[43m(\u001b[49m\u001b[38;5;124;43m\"\u001b[39;49m\u001b[38;5;124;43m위치전용 인자 오류\u001b[39;49m\u001b[38;5;124;43m\"\u001b[39;49m\u001b[43m)\u001b[49m\n",
      "\u001b[1;31mTypeError\u001b[0m: keyonly() takes 0 positional arguments but 1 was given"
     ]
    }
   ],
   "source": [
    "# * 오른쪽에는 키워드 전용 인자로 작성해야됨\n",
    "def keyonly(*, keyonly):\n",
    "    print(keyonly)\n",
    "keyonly(keyonly=\"키워드전용 인자\")\n",
    "keyonly(\"위치전용 인자 오류\")"
   ]
  },
  {
   "cell_type": "code",
   "execution_count": 108,
   "metadata": {},
   "outputs": [
    {
     "name": "stdout",
     "output_type": "stream",
     "text": [
      "<class 'tuple'>\n",
      "(1, 2, 3, 4, 5)\n",
      "(15, 9)\n"
     ]
    }
   ],
   "source": [
    "# 가변 위치 인자 *args\n",
    "def var_positional(*args):\n",
    "    print(type(args))\n",
    "    print(args)\n",
    "    return sum([_ for _ in args])\n",
    "print(var_positional(1,2,3,4,5))"
   ]
  },
  {
   "cell_type": "code",
   "execution_count": 111,
   "metadata": {},
   "outputs": [
    {
     "name": "stdout",
     "output_type": "stream",
     "text": [
      "<class 'dict'>\n",
      "{'key1': 'value1', 'key2': 'value2'}\n",
      "{'key1': 'value1', 'key2': 'value2'}\n"
     ]
    }
   ],
   "source": [
    "# **kagrs는 dict 반환\n",
    "def var_keyword(**kagrs):\n",
    "    print(type(kagrs))\n",
    "    print(kagrs)\n",
    "    return kagrs\n",
    "print(var_keyword(key1=\"value1\", key2=\"value2\"))"
   ]
  },
  {
   "cell_type": "code",
   "execution_count": 133,
   "metadata": {},
   "outputs": [
    {
     "name": "stdout",
     "output_type": "stream",
     "text": [
      "(1, 2, 3) {'key1': 'value1', 'key2': 'value2'}\n",
      "None\n"
     ]
    }
   ],
   "source": [
    "# 두개 같이 됨\n",
    "def seconed(*args,**kargs):\n",
    "    print(args,kargs)\n",
    "print(seconed(1,2,3, key1=\"value1\",key2=\"value2\"))"
   ]
  },
  {
   "cell_type": "code",
   "execution_count": 118,
   "metadata": {},
   "outputs": [
    {
     "data": {
      "text/plain": [
       "[80]"
      ]
     },
     "execution_count": 118,
     "metadata": {},
     "output_type": "execute_result"
    }
   ],
   "source": [
    "def plus_ten(*args):\n",
    "    return [i+10 for i in args]\n",
    "\n",
    "plus_ten(70)"
   ]
  },
  {
   "cell_type": "code",
   "execution_count": 131,
   "metadata": {},
   "outputs": [
    {
     "data": {
      "text/plain": [
       "21.11"
      ]
     },
     "execution_count": 131,
     "metadata": {},
     "output_type": "execute_result"
    }
   ],
   "source": [
    "def to_celsius(fahrenheit):\n",
    "    return round((fahrenheit -32l) * 5/9,2)\n",
    "\n",
    "to_celsius(70)"
   ]
  },
  {
   "cell_type": "code",
   "execution_count": 154,
   "metadata": {},
   "outputs": [],
   "source": [
    "def holjac(number):\n",
    "    \"\"\"number가 짝수면 '짝수' 홀수면 '홀수' 반환\"\"\"\n",
    "    if type(number)==int: # isintance(number,int)로 쓸 수 있음\n",
    "        if number%2 ==0:\n",
    "            print(\"짝수\")\n",
    "        else:\n",
    "            print(\"홀수\")\n",
    "    else:\n",
    "        return None"
   ]
  },
  {
   "cell_type": "code",
   "execution_count": 155,
   "metadata": {},
   "outputs": [
    {
     "name": "stdout",
     "output_type": "stream",
     "text": [
      "number가 짝수면 '짝수' 홀수면 '홀수' 반환\n",
      "짝수\n",
      "None\n",
      "홀수\n",
      "None\n",
      "None\n"
     ]
    }
   ],
   "source": [
    "print(holjac.__doc__)\n",
    "print(holjac(10))\n",
    "print(holjac(9))\n",
    "print(holjac(\"ㅁ\"))"
   ]
  },
  {
   "cell_type": "code",
   "execution_count": null,
   "metadata": {},
   "outputs": [],
   "source": [
    "year = int(input(\"확인할 연도를 입력하세요.\"))\n",
    "\n",
    "if year%100 == 0 and year%400 != 0:\n",
    "    print(\"평년입니다.\")\n",
    "else:\n",
    "    if year%4 == 0:\n",
    "        print(\"윤년입니다.\")\n",
    "    else:\n",
    "        print(\"평년입니다.\")"
   ]
  },
  {
   "cell_type": "code",
   "execution_count": 176,
   "metadata": {},
   "outputs": [
    {
     "name": "stdout",
     "output_type": "stream",
     "text": [
      "30\n",
      "31\n",
      "28\n",
      "29\n"
     ]
    }
   ],
   "source": [
    "def days(year,month):\n",
    "    deafault = {1 : 31, 2 : (28,29), 3:31, 4:30, 5:31, 6:30,\n",
    "            7:31, 8:31, 9:30, 10:31, 11:30, 12:31}\n",
    "    if (year%100 !=0 or year%400 == 0) and year%4 == 0:\n",
    "        if month ==2:\n",
    "            print(deafault[month][1])\n",
    "        else:\n",
    "            print(deafault[month])\n",
    "    else:\n",
    "        if month ==2:\n",
    "            print(deafault[month][0])\n",
    "        else:\n",
    "            print(deafault[month])\n",
    "    \n",
    "\n",
    "days(1900,11)\n",
    "days(2004,10)\n",
    "days(1900,2)\n",
    "days(2000,2)\n",
    "\n",
    "# # 윤년인지 확인하는 함수\n",
    "# def is_leap_year(year):\n",
    "#     return year % 4 == 0 and (year % 100 != 0 or year % 400 == 0)\n",
    "# # 주어진 연도(year)와 월(month)을 입력받아 그 달의 일수를 반환\n",
    "# def days(year, month):\n",
    "#     # 각 월의 기본 일수\n",
    "#     month_days = {\n",
    "#         1: 31, 2: 28, 3: 31, 4: 30, 5: 31, 6: 30,\n",
    "#         7: 31, 8: 31, 9: 30, 10: 31, 11: 30, 12: 31\n",
    "#     }\n",
    "#     # 2월의 윤년 여부에 따라 일수를 조정\n",
    "#     if month == 2 and is_leap_year(year):\n",
    "#         return 29\n",
    "#     # 주어진 월의 일수 반환\n",
    "#     return month_days.get(month, \"잘못된 월입니다.\")\n",
    "# # 테스트 실행\n",
    "# print(days(1900, 11))  # 출력: 30\n",
    "# print(days(2004, 10))  # 출력: 31\n",
    "# print(days(1900, 2))   # 출력: 28\n",
    "# print(days(2000, 2))   # 출력: 29\n",
    "# print(days(2000, 13))   # 출력: 29"
   ]
  },
  {
   "cell_type": "code",
   "execution_count": 187,
   "metadata": {},
   "outputs": [
    {
     "name": "stdout",
     "output_type": "stream",
     "text": [
      "몫 : 2, 나머지 : 2\n"
     ]
    }
   ],
   "source": [
    "def get_quotient_remainder(x,y):\n",
    "    return x//y, x%y\n",
    "\n",
    "quotient, remainder = get_quotient_remainder(8,3) \n",
    "print(f\"몫 : {quotient}, 나머지 : {remainder}\")"
   ]
  },
  {
   "cell_type": "code",
   "execution_count": 226,
   "metadata": {},
   "outputs": [
    {
     "name": "stdout",
     "output_type": "stream",
     "text": [
      "뭘바\n",
      "1715245735728\n"
     ]
    }
   ],
   "source": [
    "#달팽2\n",
    "\n",
    "global_val = \"뭘바\"\n",
    "def global_trand():\n",
    "    print(global_val)\n",
    "    print(id(global_val))\n",
    "global_trand()"
   ]
  },
  {
   "cell_type": "code",
   "execution_count": 233,
   "metadata": {},
   "outputs": [
    {
     "name": "stdout",
     "output_type": "stream",
     "text": [
      "뭘바\n",
      "1715245820880\n",
      "물봐\n"
     ]
    },
    {
     "data": {
      "text/plain": [
       "'물봐'"
      ]
     },
     "execution_count": 233,
     "metadata": {},
     "output_type": "execute_result"
    }
   ],
   "source": [
    "global_val = \"뭘바\"\n",
    "\n",
    "def global_trand():\n",
    "    global global_val\n",
    "    print(global_val)\n",
    "    print(id(global_val))\n",
    "    global_val=\"물봐\"\n",
    "    print(global_val)\n",
    "\n",
    "global_trand()\n",
    "global_val"
   ]
  },
  {
   "cell_type": "code",
   "execution_count": 256,
   "metadata": {},
   "outputs": [
    {
     "name": "stdout",
     "output_type": "stream",
     "text": [
      "1번입니다\n"
     ]
    }
   ],
   "source": [
    "def level1():\n",
    "    talk = \"1번입니다\"\n",
    "\n",
    "    def level2():\n",
    "        talk = \"2번입니다.\"\n",
    "    level2()\n",
    "    print(talk)\n",
    "level1()"
   ]
  },
  {
   "cell_type": "code",
   "execution_count": 257,
   "metadata": {},
   "outputs": [
    {
     "name": "stdout",
     "output_type": "stream",
     "text": [
      "2번입니다.\n"
     ]
    }
   ],
   "source": [
    "def level1():\n",
    "    talk = \"1번입니다\"\n",
    "    def level2():\n",
    "        nonlocal talk\n",
    "        talk = \"2번입니다.\"\n",
    "    level2()\n",
    "    print(talk)\n",
    "level1()"
   ]
  },
  {
   "cell_type": "code",
   "execution_count": 259,
   "metadata": {},
   "outputs": [
    {
     "name": "stdout",
     "output_type": "stream",
     "text": [
      "20\n"
     ]
    },
    {
     "data": {
      "text/plain": [
       "function"
      ]
     },
     "execution_count": 259,
     "metadata": {},
     "output_type": "execute_result"
    }
   ],
   "source": [
    "twice = lambda x : x*2\n",
    "\n",
    "print(twice(10))\n",
    "type(twice)"
   ]
  },
  {
   "cell_type": "code",
   "execution_count": 262,
   "metadata": {},
   "outputs": [
    {
     "name": "stdout",
     "output_type": "stream",
     "text": [
      "<function <lambda> at 0x0000018F5CA1F040>\n"
     ]
    }
   ],
   "source": [
    "print(lambda x : x*2)"
   ]
  },
  {
   "cell_type": "code",
   "execution_count": 267,
   "metadata": {},
   "outputs": [
    {
     "name": "stdout",
     "output_type": "stream",
     "text": [
      "C\n"
     ]
    }
   ],
   "source": [
    "score = 10\n",
    "grade = 'A' if score >= 90 else 'B' if score>=80 else 'C'\n",
    "print(grade)"
   ]
  },
  {
   "cell_type": "code",
   "execution_count": 284,
   "metadata": {},
   "outputs": [
    {
     "name": "stdout",
     "output_type": "stream",
     "text": [
      "C\n"
     ]
    }
   ],
   "source": [
    "score_func = lambda score : 'A' if 90 < score <=100 else 'B' if 80 < score else 'C'\n",
    "print(score_func(10))"
   ]
  },
  {
   "cell_type": "code",
   "execution_count": 288,
   "metadata": {},
   "outputs": [
    {
     "name": "stdout",
     "output_type": "stream",
     "text": [
      "[11, 22, 33, 44, 55]\n"
     ]
    }
   ],
   "source": [
    "num1 = [x for x in range(1,6)]\n",
    "num2 = [x*10 for x in range(1,6)]\n",
    "\n",
    "added_numbers = list(map(lambda x,y : x+y, num1,num2))\n",
    "print(added_numbers)"
   ]
  },
  {
   "cell_type": "code",
   "execution_count": 299,
   "metadata": {},
   "outputs": [
    {
     "ename": "ValueError",
     "evalue": "invalid literal for int() with base 10: '1,23,123,4'",
     "output_type": "error",
     "traceback": [
      "\u001b[1;31m---------------------------------------------------------------------------\u001b[0m",
      "\u001b[1;31mValueError\u001b[0m                                Traceback (most recent call last)",
      "Input \u001b[1;32mIn [299]\u001b[0m, in \u001b[0;36m<cell line: 1>\u001b[1;34m()\u001b[0m\n\u001b[1;32m----> 1\u001b[0m \u001b[38;5;28;43mlist\u001b[39;49m\u001b[43m(\u001b[49m\u001b[38;5;28;43mmap\u001b[39;49m\u001b[43m(\u001b[49m\u001b[38;5;28;43mint\u001b[39;49m\u001b[43m,\u001b[49m\u001b[38;5;28;43minput\u001b[39;49m\u001b[43m(\u001b[49m\u001b[43m)\u001b[49m\u001b[38;5;241;43m.\u001b[39;49m\u001b[43msplit\u001b[49m\u001b[43m(\u001b[49m\u001b[43m)\u001b[49m\u001b[43m)\u001b[49m\u001b[43m)\u001b[49m\n",
      "\u001b[1;31mValueError\u001b[0m: invalid literal for int() with base 10: '1,23,123,4'"
     ]
    }
   ],
   "source": [
    "list(map(int,input().split()))"
   ]
  },
  {
   "cell_type": "code",
   "execution_count": 300,
   "metadata": {},
   "outputs": [
    {
     "name": "stdout",
     "output_type": "stream",
     "text": [
      "25\n"
     ]
    }
   ],
   "source": [
    "square = lambda x : x**2\n",
    "print(square(5))"
   ]
  },
  {
   "cell_type": "code",
   "execution_count": 48,
   "metadata": {},
   "outputs": [
    {
     "name": "stdout",
     "output_type": "stream",
     "text": [
      "안녕하세요\n"
     ]
    },
    {
     "data": {
      "text/plain": [
       "'안녕하세요'"
      ]
     },
     "execution_count": 48,
     "metadata": {},
     "output_type": "execute_result"
    }
   ],
   "source": [
    "class Person:\n",
    "    def __init__(self):\n",
    "        self.hello = '안녕하세요'\n",
    "    def greeting(self):\n",
    "        return print(self.hello)\n",
    "\n",
    "james = Person()\n",
    "james.greeting()\n",
    "james.hello"
   ]
  },
  {
   "cell_type": "code",
   "execution_count": 55,
   "metadata": {},
   "outputs": [
    {
     "name": "stdout",
     "output_type": "stream",
     "text": [
      "['책', '열쇠']\n",
      "['책', '열쇠']\n"
     ]
    }
   ],
   "source": [
    "# self를 쓰는 이유는 본인을 참조하고 있다는 걸 알려주는 것\n",
    "# self를 사용하지 않으면, 클래스 속성으로만 사용됨(copy deepcopy 같은 것)\n",
    "# self를 쓰면 인스턴스 속성으로 변경됨\n",
    "\n",
    "class Person:\n",
    "    bag = []\n",
    "\n",
    "    def put_bag(self,stuff):\n",
    "        self.bag.append(stuff)\n",
    "\n",
    "james = Person()\n",
    "james.put_bag('책')\n",
    "\n",
    "maria = Person()\n",
    "maria.put_bag('열쇠')\n",
    "\n",
    "print(james.bag)\n",
    "print(maria.bag)"
   ]
  },
  {
   "cell_type": "code",
   "execution_count": 60,
   "metadata": {},
   "outputs": [
    {
     "name": "stdout",
     "output_type": "stream",
     "text": [
      "['bag']\n",
      "['key']\n"
     ]
    }
   ],
   "source": [
    "# self를 쓰는 이유는 본인을 참조하고 있다는 걸 알려주는 것\n",
    "# self를 사용하지 않으면, 클래스 속성으로만 사용됨(copy deepcopy 같은 것)\n",
    "# self를 쓰면 인스턴스 속성으로 변경됨\n",
    "# 인스턴스 속성은 객체 단위 따로따로 관리할 수 있음\n",
    "# 첫 번째 파라미터는 무조건 self를 넣어주어야 한다.\n",
    "\n",
    "class Person:\n",
    "    def __init__(self):\n",
    "        self.bag = []\n",
    "    def put_bag(self, stuff):\n",
    "        self.bag.append(stuff)\n",
    "\n",
    "james = Person()\n",
    "james.put_bag('bag')\n",
    "\n",
    "maria = Person()\n",
    "maria.put_bag('key')\n",
    "\n",
    "print(james.bag)\n",
    "print(maria.bag)"
   ]
  },
  {
   "cell_type": "code",
   "execution_count": 58,
   "metadata": {},
   "outputs": [
    {
     "data": {
      "text/plain": [
       "{'bag': ['key']}"
      ]
     },
     "execution_count": 58,
     "metadata": {},
     "output_type": "execute_result"
    }
   ],
   "source": [
    "james.__dict__\n",
    "maria.__dict__"
   ]
  },
  {
   "cell_type": "markdown",
   "metadata": {},
   "source": [
    "### 클래스(CLASS)"
   ]
  },
  {
   "cell_type": "code",
   "execution_count": 64,
   "metadata": {},
   "outputs": [
    {
     "name": "stdout",
     "output_type": "stream",
     "text": [
      "안녕하세요 제 이름은 20입니다.\n",
      "이름 : 마리아\n",
      "나이 : 20\n",
      "주소 : 서울시 서초구 반포동\n"
     ]
    }
   ],
   "source": [
    "class Person:\n",
    "    def __init__(self,name,age,address):\n",
    "        self.hello = \"안녕하세요\"\n",
    "        self.name = name\n",
    "        self.age = age\n",
    "        self.address = address\n",
    "    def greeting(self):\n",
    "        print(f\"{self.hello} 제 이름은 {self.age}입니다.\")\n",
    "\n",
    "maria = Person(\"마리아\",20,\"서울시 서초구 반포동\")\n",
    "maria.greeting()       \n",
    "\n",
    "print(f\"이름 : {maria.name}\")\n",
    "print(f\"나이 : {maria.age}\")\n",
    "print(f\"주소 : {maria.address}\")"
   ]
  },
  {
   "cell_type": "markdown",
   "metadata": {},
   "source": [
    "앞의 __는 비공개 속성으로 외부 접근 불가"
   ]
  },
  {
   "cell_type": "code",
   "execution_count": 10,
   "metadata": {},
   "outputs": [
    {
     "ename": "AttributeError",
     "evalue": "'Person' object has no attribute '__wallet'",
     "output_type": "error",
     "traceback": [
      "\u001b[1;31m---------------------------------------------------------------------------\u001b[0m",
      "\u001b[1;31mAttributeError\u001b[0m                            Traceback (most recent call last)",
      "Input \u001b[1;32mIn [10]\u001b[0m, in \u001b[0;36m<cell line: 10>\u001b[1;34m()\u001b[0m\n\u001b[0;32m      6\u001b[0m         \u001b[38;5;28mself\u001b[39m\u001b[38;5;241m.\u001b[39m__wallet \u001b[38;5;241m=\u001b[39m wallet\n\u001b[0;32m      9\u001b[0m maria \u001b[38;5;241m=\u001b[39m Person(\u001b[38;5;124m\"\u001b[39m\u001b[38;5;124m마리아\u001b[39m\u001b[38;5;124m\"\u001b[39m, \u001b[38;5;241m20\u001b[39m, \u001b[38;5;124m'\u001b[39m\u001b[38;5;124m서울시 서초구 반포동\u001b[39m\u001b[38;5;124m'\u001b[39m, \u001b[38;5;241m10000\u001b[39m)\n\u001b[1;32m---> 10\u001b[0m \u001b[43mmaria\u001b[49m\u001b[38;5;241;43m.\u001b[39;49m\u001b[43m__wallet\u001b[49m\n",
      "\u001b[1;31mAttributeError\u001b[0m: 'Person' object has no attribute '__wallet'"
     ]
    }
   ],
   "source": [
    "class Person:\n",
    "    def __init__(self, name, age, address, wallet):\n",
    "        self.name = name\n",
    "        self.__age = age\n",
    "        self.address = address\n",
    "        self.__wallet = wallet\n",
    "\n",
    "\n",
    "maria = Person(\"마리아\", 20, '서울시 서초구 반포동', 10000)\n",
    "maria.__wallet"
   ]
  },
  {
   "cell_type": "code",
   "execution_count": 11,
   "metadata": {},
   "outputs": [
    {
     "data": {
      "text/plain": [
       "{'name': '마리아',\n",
       " '_Person__age': 20,\n",
       " 'address': '서울시 서초구 반포동',\n",
       " '_Person__wallet': 10000}"
      ]
     },
     "execution_count": 11,
     "metadata": {},
     "output_type": "execute_result"
    }
   ],
   "source": [
    "# 비공개속성 보려면\n",
    "maria.__dict__"
   ]
  },
  {
   "cell_type": "code",
   "execution_count": 12,
   "metadata": {},
   "outputs": [
    {
     "data": {
      "text/plain": [
       "10000"
      ]
     },
     "execution_count": 12,
     "metadata": {},
     "output_type": "execute_result"
    }
   ],
   "source": [
    "# 상수의 개념으로 바뀌지 않을 값들을 지정할 때 사용\n",
    "maria._Person__wallet"
   ]
  },
  {
   "cell_type": "markdown",
   "metadata": {},
   "source": [
    "인스턴스화 하면 값을 하나만 할당할 수 있음   \n",
    "여러 값을 할당하고 싶다면 class와 \\_\\_init\\_\\_ 사이에 self를 제거하고 만들면 된다."
   ]
  },
  {
   "cell_type": "code",
   "execution_count": 42,
   "metadata": {},
   "outputs": [
    {
     "name": "stdout",
     "output_type": "stream",
     "text": [
      "이름은 무엇익나요?: aaf\n",
      "나이는 무엇인가요?: 24\n",
      "주소는 무엇인나요?: 서울시 강남구\n",
      "이름은 무엇익나요?: 제임스\n",
      "나이는 무엇인가요?: 21\n",
      "주소는 무엇인나요?: 서울시 구로구\n"
     ]
    },
    {
     "data": {
      "text/plain": [
       "{'name': 'aaf', 'age': 24, '_Person__address': '서울시 강남구'}"
      ]
     },
     "execution_count": 43,
     "metadata": {},
     "output_type": "execute_result"
    }
   ],
   "source": [
    "class Person:\n",
    "    def __init__(self,name,age,address):\n",
    "        self.name = name\n",
    "        self.age = age\n",
    "        self.__address = address\n",
    "    \n",
    "    def intro(self):\n",
    "        print(f\"이름은 무엇익나요?: {self.name}\")\n",
    "        print(f\"나이는 무엇인가요?: {self.age}\")\n",
    "        print(f\"주소는 무엇인나요?: {self._Person__address}\")\n",
    "\n",
    "\n",
    "    # def numb(self)\n",
    "        \n",
    "\n",
    "maria = Person(\"마리아\",20,\"서울시 강남구\")\n",
    "# 여러번 해도 마지막 값만 등록됨\n",
    "maria = Person(\"마리아\",21,\"서울시 강남구\")\n",
    "maria = Person(\"aaf\",24,\"서울시 강남구\")\n",
    "jaimes = Person(\"제임스\",21,\"서울시 구로구\")\n",
    "\n",
    "maria.intro()\n",
    "jaimes.intro()\n",
    "maria.__dict__"
   ]
  },
  {
   "cell_type": "markdown",
   "metadata": {},
   "source": [
    "List 값을 각 문자열로 뿌려주는 방법 = list 앞에 *를 붙인다.   \n",
    "(단독으로는 안되고 함수 안에서만 사용 가능)   \n",
    "*list는 안되고   \n",
    "print(*list)는 됨"
   ]
  },
  {
   "cell_type": "code",
   "execution_count": 67,
   "metadata": {},
   "outputs": [
    {
     "name": "stdout",
     "output_type": "stream",
     "text": [
      "체력, 마나, ap를 입력하세요 : 50.0,30.0,20.0\n",
      "티버 : 피해량 413.0\n"
     ]
    }
   ],
   "source": [
    "class Annie:\n",
    "    def __init__(self, hp, mp, ap):\n",
    "        self.hp = hp\n",
    "        self.mp = mp\n",
    "        self.ap = ap\n",
    "    \n",
    "    def input_list(self):\n",
    "        print(f\"체력, 마나, ap를 입력하세요 : {self.hp},{self.mp},{self.ap}\")\n",
    "        print(f\"티버 : 피해량 {self.ap*0.65+400}\")\n",
    "\n",
    "# hp, mp, ap = list(map(float, input().split()))\n",
    "\n",
    "ann = Annie(*list(map(float, input().split())))\n",
    "ann.input_list()"
   ]
  },
  {
   "cell_type": "markdown",
   "metadata": {},
   "source": [
    "데코레이터(@) : 함수를 직접 수정하지 않고, 기능만 추가하고자 할 때 사용"
   ]
  },
  {
   "cell_type": "code",
   "execution_count": 79,
   "metadata": {},
   "outputs": [
    {
     "name": "stdout",
     "output_type": "stream",
     "text": [
      "\n",
      "데코레이터\n",
      "********************\n",
      "hello 2\n",
      "********************\n"
     ]
    }
   ],
   "source": [
    "def deoco1(fn):\n",
    "    def deco_hello():\n",
    "        print(\"\\n데코레이터\")\n",
    "        print(\"*\"*20)\n",
    "        fn()\n",
    "        print(\"*\"*20)\n",
    "    return deco_hello\n",
    "\n",
    "@deoco1\n",
    "def hello2():\n",
    "    print(\"hello 2\")\n",
    "\n",
    "hello2()"
   ]
  },
  {
   "cell_type": "markdown",
   "metadata": {},
   "source": [
    "클래스 매소드 :  \\@classsmethod, 객체를 만들지 않고도 클래스에 접근할 수 있다. 첫 번째 인자로 self가 아닌 cls를 받는다. 자식 클래스의 영향을 받음   \n",
    "정적 매소드 : \\@staticmethod, 변수에 접근 불가, 기능적인 용도로만 사용. self나 cls를 받지 않음. 자식 클래스의 영향을 받지 않음"
   ]
  },
  {
   "cell_type": "code",
   "execution_count": 80,
   "metadata": {},
   "outputs": [
    {
     "name": "stdout",
     "output_type": "stream",
     "text": [
      "instance_variable: 15\n",
      "class_variable: 35\n",
      "class_variable (from class method): 40\n",
      "static_method called!\n"
     ]
    }
   ],
   "source": [
    "class MyClass:\n",
    "    class_variable = 0  # 클래스 변수\n",
    "    def __init__(self, value):\n",
    "        self.instance_variable = value  # 인스턴스 변수\n",
    "        MyClass.class_variable += value  # 생성 시 클래스 변수 증가\n",
    "    # 일반 메서드\n",
    "    def instance_method(self, value):\n",
    "        self.instance_variable += value  # 인스턴스 변수에 접근\n",
    "        MyClass.class_variable += value  # 클래스 변수에도 접근 가능\n",
    "        print(f\"instance_variable: {self.instance_variable}\")\n",
    "        print(f\"class_variable: {MyClass.class_variable}\")\n",
    "    # 클래스 메서드\n",
    "    @classmethod\n",
    "    def class_method(cls, value):\n",
    "        cls.class_variable += value  # 클래스 변수에 접근\n",
    "        print(f\"class_variable (from class method): {cls.class_variable}\")\n",
    "    # 정적 메서드\n",
    "    @staticmethod\n",
    "    def static_method():\n",
    "        print(\"static_method called!\")\n",
    "# 객체 생성\n",
    "instance1 = MyClass(10)\n",
    "instance2 = MyClass(20)\n",
    "# 일반 메서드 호출\n",
    "instance1.instance_method(5)\n",
    "# instance_variable: 15\n",
    "# class_variable: 35\n",
    "# 클래스 메서드 호출\n",
    "MyClass.class_method(5)\n",
    "# class_variable (from class method): 40\n",
    "# 정적 메서드 호출\n",
    "MyClass.static_method()\n",
    "# static_method called!"
   ]
  },
  {
   "cell_type": "markdown",
   "metadata": {},
   "source": [
    "상속   \n",
    "부모클래스의 속성과 매소드를 모두 상속받는 것   \n",
    "기본적인 사항은 부모클래스에 작성하고, 바뀌는 부분만 자식 클래스로 사용함"
   ]
  },
  {
   "cell_type": "code",
   "execution_count": 83,
   "metadata": {},
   "outputs": [
    {
     "name": "stdout",
     "output_type": "stream",
     "text": [
      "국가 클래스의 메소드입니다.\n",
      "국가의 이름은 :대한민국\n",
      "수도 : 대한민국\n"
     ]
    }
   ],
   "source": [
    "class Country:\n",
    "    \"\"\"spuer class\"\"\"\n",
    "    name = '국가명'\n",
    "    population = \"인구\"\n",
    "    captial = \"수도\"\n",
    "\n",
    "    def show(self):\n",
    "        print(\"국가 클래스의 메소드입니다.\")\n",
    "\n",
    "class Korea(Country):\n",
    "    \"\"\"Sub Class\"\"\"\n",
    "    def __init__(self,name):\n",
    "        self.name = name\n",
    "    \n",
    "    def show_name(self):\n",
    "        print(f'국가의 이름은 :{self.name}')\n",
    "        \n",
    "a = Korea('대한민국')\n",
    "a.show()\n",
    "a.show_name()\n",
    "print(a.captial, \":\",a.name)"
   ]
  },
  {
   "cell_type": "markdown",
   "metadata": {},
   "source": [
    "매소드 오버라이딩 : 부모 클래스에서 사용하는 함수이름을 자식 클래스에서 사용하고 싶을 때 변경하는 것(덮어쓰기 하는 것)"
   ]
  },
  {
   "cell_type": "code",
   "execution_count": 84,
   "metadata": {},
   "outputs": [
    {
     "name": "stdout",
     "output_type": "stream",
     "text": [
      "\n",
      "        국가의 이름은 대한민국 입니다.\n",
      "        국가의 인구는 50000000 입니다.\n",
      "        국가의 수도는 서울 입니다.\n",
      "        \n"
     ]
    }
   ],
   "source": [
    "class Country:\n",
    "    \"\"\"Super Class\"\"\"\n",
    "    name = '국가명'\n",
    "    population = '인구'\n",
    "    capital = '수도'\n",
    "    def show(self):\n",
    "        print('국가 클래스의 메소드입니다.')\n",
    "class Korea(Country):\n",
    "    \"\"\"Sub Class\"\"\"\n",
    "    def __init__(self, name, population, capital):\n",
    "        self.name = name\n",
    "        self.population = population\n",
    "        self.capital = capital\n",
    "    def show(self):\n",
    "        print(\"\"\"\n",
    "        국가의 이름은 {} 입니다.\n",
    "        국가의 인구는 {} 입니다.\n",
    "        국가의 수도는 {} 입니다.\n",
    "        \"\"\".format(self.name, self.population, self.capital))\n",
    "# 객체 생성 및 메서드 호출\n",
    "a = Korea('대한민국', 50000000, '서울')\n",
    "a.show()"
   ]
  },
  {
   "cell_type": "markdown",
   "metadata": {},
   "source": [
    "super() - 부모 클래스의 변수를 가져오고 싶을 때 사용"
   ]
  },
  {
   "cell_type": "code",
   "execution_count": 85,
   "metadata": {},
   "outputs": [
    {
     "name": "stdout",
     "output_type": "stream",
     "text": [
      "국가명 인구 수도\n",
      "국가 클래스의 메소드입니다.\n",
      "\n",
      "        국가의 이름은 대한민국 입니다.\n",
      "        국가의 인구는 50000000 입니다.\n",
      "        국가의 수도는 서울 입니다.\n",
      "        \n"
     ]
    }
   ],
   "source": [
    "class Country:\n",
    "    \"\"\"Super Class\"\"\"\n",
    "    name = '국가명'\n",
    "    population = '인구'\n",
    "    capital = '수도'\n",
    "    def show(self):\n",
    "        print('국가 클래스의 메소드입니다.')\n",
    "class Korea(Country):\n",
    "    \"\"\"Sub Class\"\"\"\n",
    "    def __init__(self, name, population, capital):\n",
    "        self.name = name\n",
    "        self.population = population\n",
    "        self.capital = capital\n",
    "    def show(self):\n",
    "        # 부모 클래스 속성 출력\n",
    "        print(super().name, super().population, super().capital)\n",
    "        # 부모 클래스 메서드 호출\n",
    "        super().show()\n",
    "        # 자식 클래스의 정보 출력\n",
    "        print(\"\"\"\n",
    "        국가의 이름은 {} 입니다.\n",
    "        국가의 인구는 {} 입니다.\n",
    "        국가의 수도는 {} 입니다.\n",
    "        \"\"\".format(self.name, self.population, self.capital))\n",
    "# 객체 생성 및 메서드 호출\n",
    "a = Korea('대한민국', 50000000, '서울')\n",
    "a.show()"
   ]
  },
  {
   "cell_type": "code",
   "execution_count": null,
   "metadata": {},
   "outputs": [],
   "source": []
  }
 ],
 "metadata": {
  "kernelspec": {
   "display_name": "study",
   "language": "python",
   "name": "python3"
  },
  "language_info": {
   "codemirror_mode": {
    "name": "ipython",
    "version": 3
   },
   "file_extension": ".py",
   "mimetype": "text/x-python",
   "name": "python",
   "nbconvert_exporter": "python",
   "pygments_lexer": "ipython3",
   "version": "3.9.12"
  }
 },
 "nbformat": 4,
 "nbformat_minor": 2
}
