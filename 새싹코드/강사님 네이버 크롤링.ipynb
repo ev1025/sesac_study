{
 "cells": [
  {
   "cell_type": "code",
   "execution_count": 1,
   "metadata": {},
   "outputs": [],
   "source": [
    "import requests\n",
    "import json\n",
    "from bs4 import BeautifulSoup\n",
    "import os\n",
    "# 헤더 설정\n",
    "HEADERS = {\n",
    "    'user-agent': 'Mozilla/5.0 (Windows NT 10.0; Win64; x64) AppleWebKit/537.36 (KHTML, like Gecko) Chrome/127.0.0.0 Safari/537.36',\n",
    "    'referer': 'https://n.news.naver.com/mnews/article/comment/032/0003312684'\n",
    "}\n",
    "# 기사 제목 및 본문 추출 함수\n",
    "def fetch_article_data(article_url):\n",
    "    response = requests.get(article_url, headers=HEADERS)\n",
    "    soup = BeautifulSoup(response.text, 'html.parser')\n",
    "    title = soup.select_one('#title_area span').text.strip()\n",
    "    body = soup.select_one('article#dic_area').text.strip()\n",
    "    return title, body\n",
    "# 리액션 데이터 추출 함수\n",
    "def fetch_reactions(reaction_url):\n",
    "    response = requests.get(reaction_url)\n",
    "    reactions = response.json()['contents'][0]['reactions']\n",
    "    return {react['reactionType']: react['count'] for react in reactions}\n",
    "# 댓글 데이터 추출 함수\n",
    "def fetch_comments(comment_url):\n",
    "    response = requests.get(comment_url, headers=HEADERS)\n",
    "    cleaned_response = response.text.replace('_callback(', '')[:-2]\n",
    "    comments = json.loads(cleaned_response)['result']['commentList']\n",
    "    return [comment['contents'] for comment in comments if comment['contents']]\n",
    "# JSON 파일 저장 함수\n",
    "def save_to_json(data, filename):\n",
    "    # Jupyter Notebook에서 현재 작업 디렉토리를 얻는 방식으로 수정\n",
    "    current_dir = os.getcwd()\n",
    "    file_path = os.path.join(current_dir, filename)\n",
    "    with open(file_path, 'w', encoding='utf-8') as file:\n",
    "        json.dump(data, file, ensure_ascii=False, indent=4)\n",
    "# URL 설정\n",
    "ARTICLE_URL = 'https://n.news.naver.com/mnews/article/032/0003312694'\n",
    "REACTION_URL = 'https://news.like.naver.com/v1/search/contents?suppress_response_codes=true&q=NEWS%5Bne_032_0003312694%5D&isDuplication=false&cssIds=MULTI_MOBILE%2CNEWS_MOBILE&_=1722702074749'\n",
    "COMMENT_URL = 'https://apis.naver.com/commentBox/cbox/web_naver_list_jsonp.json?ticket=news&templateId=default_world&pool=cbox5&_cv=20241217130331&lang=ko&country=KR&objectId=news032%2C0003312694&categoryId=&pageSize=20&indexSize=10&groupId=&listType=OBJECT&pageType=more&page=1&initialize=true&followSize=5&userType=&useAltSort=true&replyPageSize=20&sort=FAVORITE&_=1735135173645'\n",
    "# 데이터 수집\n",
    "title, body = fetch_article_data(ARTICLE_URL)\n",
    "reactions = fetch_reactions(REACTION_URL)\n",
    "comments = fetch_comments(COMMENT_URL)\n",
    "# 뉴스 데이터 구조 생성\n",
    "news_data = {\n",
    "    'title': title,\n",
    "    'body': body,\n",
    "    'reactions': reactions,\n",
    "    'comments': comments\n",
    "}\n",
    "# JSON 파일로 저장\n",
    "\n",
    "save_to_json(news_data, 'news_data.json')"
   ]
  }
 ],
 "metadata": {
  "kernelspec": {
   "display_name": "study",
   "language": "python",
   "name": "python3"
  },
  "language_info": {
   "codemirror_mode": {
    "name": "ipython",
    "version": 3
   },
   "file_extension": ".py",
   "mimetype": "text/x-python",
   "name": "python",
   "nbconvert_exporter": "python",
   "pygments_lexer": "ipython3",
   "version": "3.9.12"
  }
 },
 "nbformat": 4,
 "nbformat_minor": 2
}
