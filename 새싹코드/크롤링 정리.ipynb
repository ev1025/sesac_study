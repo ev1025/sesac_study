{
 "cells": [
  {
   "cell_type": "markdown",
   "metadata": {},
   "source": [
    "# 크롤링 정리"
   ]
  },
  {
   "cell_type": "code",
   "execution_count": 66,
   "metadata": {},
   "outputs": [
    {
     "name": "stdout",
     "output_type": "stream",
     "text": [
      "response 타입 : <class 'requests.models.Response'>\n",
      "soup 타입 : <class 'bs4.BeautifulSoup'>\n",
      "\n",
      "----------------------------------------------------------------------------------------------------\n",
      "전체 값 확인\n",
      "<!DOCTYPE html>\n",
      "\n",
      "<html>\n",
      "<head>\n",
      "<meta charset=\"utf-8\"/>\n",
      "<link href=\"mystyle.css\" rel=\"stylesheet\" type=\"text/css\"/>\n",
      "<title>크롤링 연습사이트 02</title>\n",
      "</head>\n",
      "<body>\n",
      "<div class=\"bold blue\" id=\"title\">\n",
      "        안녕하세요 \n",
      "    </div>\n",
      "<div class=\"bold\" id=\"content\">\n",
      "<ul>\n",
      "<li>첫번쨰리스트</li>\n",
      "<li class=\"blue\">두번째리스트</li>\n",
      "<li class=\"blue\">세번째리스트</li>\n",
      "<li>네번째리스트</li>\n",
      "</ul>\n",
      "</div>\n",
      "<div id=\"winter\">\n",
      "<p>온세상이 떨릴듯</p>\n",
      "<p class=\"blue\">두근거리고 <span>익숙한 듯 편안해</span></p>\n",
      "<div>\n",
      "<p>네가 느껴져</p>\n",
      "<p class=\"blue\">오래된 친구같아</p>\n",
      "<span>안녕하세요!</span>\n",
      "</div>\n",
      "</div>\n",
      "<a href=\"http://naver.com\" target=\"_blank\">네이버</a>\n",
      "<a href=\"http://daum.net\" target=\"_self\">다음</a>\n",
      "<a href=\"http://google.com\" target=\"_self\">구글</a>\n",
      "</body>\n",
      "</html>\n"
     ]
    }
   ],
   "source": [
    "import requests\n",
    "from bs4 import BeautifulSoup\n",
    "\n",
    "response = requests.get('https://crawlingstudy-dd3c9.web.app/02/') # 해당 사이트에서 응답 받기\n",
    "soup = BeautifulSoup(response.text, 'html.parser')               # 해당 사이트에서 html 값 받아오기\n",
    "\n",
    "print(f\"response 타입 : {type(response)}\")\n",
    "print(f\"soup 타입 : {type(soup)}\")\n",
    "print()\n",
    "print('-'*100)\n",
    "print('전체 값 확인')\n",
    "\n",
    "\n",
    "print(soup)"
   ]
  },
  {
   "cell_type": "markdown",
   "metadata": {},
   "source": [
    "<b>구분 방법</b> : <태그 속성=\"값\">       \n",
    "select : List로 여러 개체를 받아온다.(인덱스로 조회)   \n",
    "select_one : 개체를 바로 받음"
   ]
  },
  {
   "cell_type": "markdown",
   "metadata": {},
   "source": [
    "접근 방법"
   ]
  },
  {
   "cell_type": "code",
   "execution_count": 60,
   "metadata": {},
   "outputs": [
    {
     "name": "stdout",
     "output_type": "stream",
     "text": [
      "[<span>익숙한 듯 편안해</span>, <span>안녕하세요!</span>]\n",
      "\n",
      "--------------------------------------------------\n",
      "\n",
      "<span>익숙한 듯 편안해</span>\n"
     ]
    }
   ],
   "source": [
    "# 태그 접근 - 태그가 span인 값\n",
    "tag = soup.select('span')\n",
    "tag_list = soup.select_one('span')\n",
    "\n",
    "print(tag)\n",
    "print()\n",
    "print('-'*50)\n",
    "print()\n",
    "print(tag_list)"
   ]
  },
  {
   "cell_type": "code",
   "execution_count": 62,
   "metadata": {},
   "outputs": [
    {
     "name": "stdout",
     "output_type": "stream",
     "text": [
      "[<div class=\"bold blue\" id=\"title\">\n",
      "        안녕하세요 \n",
      "    </div>]\n",
      "\n",
      "--------------------------------------------------\n",
      "\n",
      "<div class=\"bold blue\" id=\"title\">\n",
      "        안녕하세요 \n",
      "    </div>\n"
     ]
    }
   ],
   "source": [
    "# id 접근 - id가 title인 값\n",
    "id_tag = soup.select('#title')\n",
    "id_tag_list = soup.select_one('#title')\n",
    "\n",
    "print(id_tag)\n",
    "print()\n",
    "print('-'*50)\n",
    "print()\n",
    "print(id_tag_list)"
   ]
  },
  {
   "cell_type": "code",
   "execution_count": 61,
   "metadata": {},
   "outputs": [
    {
     "name": "stdout",
     "output_type": "stream",
     "text": [
      "[<div class=\"bold blue\" id=\"title\">\n",
      "        안녕하세요 \n",
      "    </div>, <li class=\"blue\">두번째리스트</li>, <li class=\"blue\">세번째리스트</li>, <p class=\"blue\">두근거리고 <span>익숙한 듯 편안해</span></p>, <p class=\"blue\">오래된 친구같아</p>]\n",
      "\n",
      "--------------------------------------------------\n",
      "\n",
      "<div class=\"bold blue\" id=\"title\">\n",
      "        안녕하세요 \n",
      "    </div>\n"
     ]
    }
   ],
   "source": [
    "# class 접근 - 클래스가 blue인 값\n",
    "class_tag = soup.select('.blue')\n",
    "class_tag_list = soup.select_one('.blue')\n",
    "\n",
    "print(class_tag)\n",
    "print()\n",
    "print('-'*50)\n",
    "print()\n",
    "print(class_tag_list)"
   ]
  },
  {
   "cell_type": "markdown",
   "metadata": {},
   "source": [
    "속성셀렉터: soup.select(‘tag[속성=‘속성값‘]’) / soup.select_one(‘tag[속성=‘속성값‘]’)   \n"
   ]
  },
  {
   "cell_type": "code",
   "execution_count": 63,
   "metadata": {},
   "outputs": [
    {
     "name": "stdout",
     "output_type": "stream",
     "text": [
      "[<a href=\"http://naver.com\" target=\"_blank\">네이버</a>]\n",
      "\n",
      "--------------------------------------------------\n",
      "\n",
      "<a href=\"http://naver.com\" target=\"_blank\">네이버</a>\n"
     ]
    }
   ],
   "source": [
    "# 태그 + 속성값 접근 - 태그[속성=\"값\"]\n",
    "tag_value_list = soup.select('a[target=\"_blank\"]')\n",
    "tag_value = soup.select_one('a[target=\"_blank\"]')\n",
    "\n",
    "print(tag_value_list)\n",
    "print()\n",
    "print('-'*50)\n",
    "print()\n",
    "print(tag_value)"
   ]
  },
  {
   "cell_type": "markdown",
   "metadata": {},
   "source": [
    "- tag[속성~ = ”값”] : 해당 단어와 일치   \n",
    "- tag[속성^ = ”값”] : 해당 값으로 시작   \n",
    "- tag[속성$ = ”값”] : 해당 값으로 끝나는   \n",
    "- tag[속성* = ”값”] : 해당 값을 포함하   "
   ]
  },
  {
   "cell_type": "code",
   "execution_count": 64,
   "metadata": {},
   "outputs": [
    {
     "name": "stdout",
     "output_type": "stream",
     "text": [
      "[<a href=\"http://naver.com\" target=\"_blank\">네이버</a>, <a href=\"http://google.com\" target=\"_self\">구글</a>]\n",
      "\n",
      "--------------------------------------------------\n",
      "\n",
      "<a href=\"http://naver.com\" target=\"_blank\">네이버</a>\n"
     ]
    }
   ],
   "source": [
    "# 태그 + 속성값 접근(조건식) - 태그[속성=\"값\"] : 속성과 = 사이에 넣으면 됨\n",
    "tag_atr_list = soup.select('a[href$=\".com\"]') # .com으로 끝나는 href를 가진 것들 출력\n",
    "tag_atr = soup.select_one('a[href$=\".com\"]')\n",
    "\n",
    "print(tag_atr_list)\n",
    "print()\n",
    "print('-'*50)\n",
    "print()\n",
    "print(tag_atr)"
   ]
  },
  {
   "cell_type": "code",
   "execution_count": 39,
   "metadata": {},
   "outputs": [
    {
     "data": {
      "text/plain": [
       "'http://naver.com'"
      ]
     },
     "execution_count": 39,
     "metadata": {},
     "output_type": "execute_result"
    }
   ],
   "source": [
    "# 링크를 뽑는 방법 두 가지\n",
    "tag_atr.attrs['href'] # 대괄호 주의\n",
    "tag_atr.get(\"href\")"
   ]
  },
  {
   "cell_type": "code",
   "execution_count": 57,
   "metadata": {},
   "outputs": [
    {
     "name": "stdout",
     "output_type": "stream",
     "text": [
      "--------------모든 리스트--------------\n",
      "[<div id=\"winter\">\n",
      "<p>온세상이 떨릴듯</p>\n",
      "<p class=\"blue\">두근거리고 <span>익숙한 듯 편안해</span></p>\n",
      "<div>\n",
      "<p>네가 느껴져</p>\n",
      "<p class=\"blue\">오래된 친구같아</p>\n",
      "<span>안녕하세요!</span>\n",
      "</div>\n",
      "</div>]\n",
      "\n",
      "--------------후손 리스트--------------\n",
      "[<p>온세상이 떨릴듯</p>, <p class=\"blue\">두근거리고 <span>익숙한 듯 편안해</span></p>, <p>네가 느껴져</p>, <p class=\"blue\">오래된 친구같아</p>]\n",
      "후손의 개수 : 4\n",
      "\n",
      "--------------자손 리스트--------------\n",
      "[<p>온세상이 떨릴듯</p>, <p class=\"blue\">두근거리고 <span>익숙한 듯 편안해</span></p>]\n",
      "자손의 개수 : 2\n"
     ]
    }
   ],
   "source": [
    "# 후손과 자손의 차이\n",
    "\"\"\"\n",
    "후손(띄어쓰기) : 토글 안의 모든 값\n",
    "자손(>) : 가장 직계 값만\n",
    "\n",
    "\"\"\"\n",
    "print('--------------모든 리스트--------------')\n",
    "all_list = soup.select(\"div#winter\")\n",
    "print(all_list)\n",
    "\n",
    "\n",
    "# 후손 표기법\n",
    "print()\n",
    "print('--------------후손 리스트--------------')\n",
    "huson_list = soup.select(\"div#winter p\")\n",
    "print(huson_list)\n",
    "print(f'후손의 개수 : {len(huson_list)}')\n",
    "\n",
    "# 자손 표기법\n",
    "print()\n",
    "print('--------------자손 리스트--------------')\n",
    "child_list = soup.select('div#winter > p')\n",
    "print(child_list)\n",
    "print(f'자손의 개수 : {len(child_list)}')"
   ]
  },
  {
   "cell_type": "code",
   "execution_count": 90,
   "metadata": {},
   "outputs": [
    {
     "name": "stdout",
     "output_type": "stream",
     "text": [
      "------------------------------ 1. select값 출력(리스트형식) ------------------------------\n",
      "[<div class=\"bold blue\" id=\"title\">\n",
      "        안녕하세요 \n",
      "    </div>, <li class=\"blue\">두번째리스트</li>, <li class=\"blue\">세번째리스트</li>, <p class=\"blue\">두근거리고 <span>익숙한 듯 편안해</span></p>, <p class=\"blue\">오래된 친구같아</p>]\n",
      "\n",
      "------------------------------ 2. 인덱스로 값 선택해주기 ------------------------------\n",
      "<div class=\"bold blue\" id=\"title\">\n",
      "        안녕하세요 \n",
      "    </div>\n",
      "\n",
      "------------------------------ 3. 텍스트 출력해주기 ------------------------------\n",
      "\n",
      "        안녕하세요 \n",
      "    \n",
      "\n",
      "------------------------------ 4. 앞뒤 공백 제거 (필요에 따라서 .split()도 사용) ------------------------------\n",
      "안녕하세요\n",
      "\n"
     ]
    }
   ],
   "source": [
    "# 깔끔하게 정리하는 법\n",
    "# 1. select값 출력(리스트형식)\n",
    "print('-'*30,\"1. select값 출력(리스트형식)\",'-'*30,)\n",
    "print(class_tag)\n",
    "print()\n",
    "\n",
    "# 2. 인덱스로 값 선택해주기\n",
    "print('-'*30,'2. 인덱스로 값 선택해주기','-'*30)\n",
    "print(class_tag[0])\n",
    "print()\n",
    "\n",
    "# 3. 텍스트 출력해주기\n",
    "print('-'*30,'3. 텍스트 출력해주기','-'*30)\n",
    "print(class_tag[0].text)\n",
    "print()\n",
    "\n",
    "# 4. 앞뒤 공백 제거 (필요에 따라서 .split()도 사용)\n",
    "print('-'*30,'4. 앞뒤 공백 제거 (필요에 따라서 .split()도 사용)','-'*30)\n",
    "print(class_tag[0].text.strip())\n",
    "print()"
   ]
  },
  {
   "cell_type": "code",
   "execution_count": 18,
   "metadata": {},
   "outputs": [
    {
     "name": "stdout",
     "output_type": "stream",
     "text": [
      "5\n",
      "2.5\n",
      "2\n",
      "2\n"
     ]
    },
    {
     "data": {
      "text/plain": [
       "2"
      ]
     },
     "execution_count": 18,
     "metadata": {},
     "output_type": "execute_result"
    }
   ],
   "source": [
    "def solution(array):\n",
    "    array.sort()\n",
    "    num = int(round(len(array)/2,0))\n",
    "    print(len(array))\n",
    "    print(len(array)/2)\n",
    "    print(round(len(array)/2,))\n",
    "    print(num)\n",
    "    answer= array[num-1]\n",
    "    return answer\n",
    "\n",
    "solution([1, 2, 3, 4, 5])"
   ]
  },
  {
   "cell_type": "code",
   "execution_count": 12,
   "metadata": {},
   "outputs": [
    {
     "data": {
      "text/plain": [
       "2"
      ]
     },
     "execution_count": 12,
     "metadata": {},
     "output_type": "execute_result"
    }
   ],
   "source": [
    "solution([1, 2, 3, 4, 5])"
   ]
  },
  {
   "cell_type": "code",
   "execution_count": null,
   "metadata": {},
   "outputs": [],
   "source": [
    "# 전체 데이터 가져오기\n",
    "response = requests.get('https://news.naver.com/main/list.naver?mode=LPOD&mid=sec&oid=032')\n",
    "soup = BeautifulSoup(response.text, 'html.parser')\n",
    "all_data = soup.select('div#main_content')[0]\n",
    "\n",
    "# 본문데이터\n",
    "head_data = all_data.select('.list_body.newsflash_body')\n",
    "\n",
    "# 페이지 데이터\n",
    "page_data = all_data.select('div.paging')\n",
    "\n",
    "# 현재 페이지, 마지막 페이지\n",
    "current_num = int(page_data[0].select_one('strong').text)\n",
    "last_num = int(page_data[0].text.strip().split('\\n')[-1])\n",
    "\n",
    "# 값 받을 리스트\n",
    "all_list =  []"
   ]
  },
  {
   "cell_type": "markdown",
   "metadata": {},
   "source": []
  }
 ],
 "metadata": {
  "kernelspec": {
   "display_name": "study",
   "language": "python",
   "name": "python3"
  },
  "language_info": {
   "codemirror_mode": {
    "name": "ipython",
    "version": 3
   },
   "file_extension": ".py",
   "mimetype": "text/x-python",
   "name": "python",
   "nbconvert_exporter": "python",
   "pygments_lexer": "ipython3",
   "version": "3.9.12"
  }
 },
 "nbformat": 4,
 "nbformat_minor": 2
}
