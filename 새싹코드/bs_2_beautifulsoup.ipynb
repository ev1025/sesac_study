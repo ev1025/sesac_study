{
 "cells": [
  {
   "cell_type": "markdown",
   "metadata": {},
   "source": [
    "# BeautifulSoup을 활용한 데이터 수집 순서 "
   ]
  },
  {
   "cell_type": "code",
   "execution_count": 1,
   "metadata": {},
   "outputs": [
    {
     "name": "stdout",
     "output_type": "stream",
     "text": [
      "* resutl:  <title>크롤링 연습사이트 01</title>\n",
      "* result 타입 :  <class 'bs4.element.Tag'>\n",
      "* 태그 내용만 갖고오기 :  크롤링 연습사이트 01\n"
     ]
    }
   ],
   "source": [
    "import requests \n",
    "from bs4 import BeautifulSoup \n",
    "\n",
    "response = requests.get('https://crawlingstudy-dd3c9.web.app/01/')\n",
    "source = response.text \n",
    "soup = BeautifulSoup(source, 'html.parser') # bs class는 feature 인자값으로 str타입을 받아들임 \n",
    "\n",
    "result = soup.select_one('title')\n",
    "\n",
    "print('* resutl: ', result) # title 태그 \n",
    "print('* result 타입 : ', type(result)) # result는 태그를 갖고온 객체임을 알 수 있음 \n",
    "print('* 태그 내용만 갖고오기 : ', result.text) # 갖고온 태그를 보여줌"
   ]
  },
  {
   "cell_type": "code",
   "execution_count": null,
   "metadata": {},
   "outputs": [],
   "source": []
  }
 ],
 "metadata": {
  "kernelspec": {
   "display_name": "Python 3 (ipykernel)",
   "language": "python",
   "name": "python3"
  },
  "language_info": {
   "codemirror_mode": {
    "name": "ipython",
    "version": 3
   },
   "file_extension": ".py",
   "mimetype": "text/x-python",
   "name": "python",
   "nbconvert_exporter": "python",
   "pygments_lexer": "ipython3",
   "version": "3.12.7"
  }
 },
 "nbformat": 4,
 "nbformat_minor": 4
}
