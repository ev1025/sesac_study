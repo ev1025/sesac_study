{
 "cells": [
  {
   "cell_type": "code",
   "execution_count": 1,
   "id": "614ff8d2-0002-4d86-b4c1-a3d6171eaae4",
   "metadata": {},
   "outputs": [
    {
     "name": "stdout",
     "output_type": "stream",
     "text": [
      "예외 오류 발생\n"
     ]
    }
   ],
   "source": [
    "try: \n",
    "\tprint(10/0) # 오류가 발생할 가능성이 있는 코드 작성\n",
    "except:\n",
    "\tprint('예외 오류 발생') # 오류가 발생 시 실행할 코드"
   ]
  },
  {
   "cell_type": "code",
   "execution_count": 3,
   "id": "9158f6ad-21c9-4e78-9bfe-f74f59704550",
   "metadata": {},
   "outputs": [
    {
     "name": "stdout",
     "output_type": "stream",
     "text": [
      "숫자를 입력하세요:  0\n"
     ]
    },
    {
     "name": "stdout",
     "output_type": "stream",
     "text": [
      "0으로 나눌 수 없습니다.\n"
     ]
    }
   ],
   "source": [
    "try: \n",
    "\tx = int(input('숫자를 입력하세요: '))\n",
    "\tprint(10/x)\n",
    "except ZeroDivisionError:\t\n",
    "\tprint('0으로 나눌 수 없습니다.')\n",
    "except ValueError:\n",
    "\tprint('유효한 숫자를 입력하세요.')"
   ]
  },
  {
   "cell_type": "code",
   "execution_count": 7,
   "id": "76a82798-4bed-45a1-9870-63f8c6225806",
   "metadata": {},
   "outputs": [
    {
     "name": "stdout",
     "output_type": "stream",
     "text": [
      "숫자를 입력하세요:  asd\n"
     ]
    },
    {
     "ename": "ValueError",
     "evalue": "invalid literal for int() with base 10: 'asd'",
     "output_type": "error",
     "traceback": [
      "\u001b[1;31m---------------------------------------------------------------------------\u001b[0m",
      "\u001b[1;31mValueError\u001b[0m                                Traceback (most recent call last)",
      "Cell \u001b[1;32mIn[7], line 2\u001b[0m\n\u001b[0;32m      1\u001b[0m \u001b[38;5;28;01mtry\u001b[39;00m: \n\u001b[1;32m----> 2\u001b[0m \tx \u001b[38;5;241m=\u001b[39m \u001b[38;5;28mint\u001b[39m(\u001b[38;5;28minput\u001b[39m(\u001b[38;5;124m'\u001b[39m\u001b[38;5;124m숫자를 입력하세요: \u001b[39m\u001b[38;5;124m'\u001b[39m))\n\u001b[0;32m      3\u001b[0m \t\u001b[38;5;28mprint\u001b[39m(\u001b[38;5;241m10\u001b[39m\u001b[38;5;241m/\u001b[39mx)\n\u001b[0;32m      4\u001b[0m \u001b[38;5;28;01mexcept\u001b[39;00m \u001b[38;5;167;01mZeroDivisionError\u001b[39;00m \u001b[38;5;28;01mas\u001b[39;00m e:\t\n",
      "\u001b[1;31mValueError\u001b[0m: invalid literal for int() with base 10: 'asd'"
     ]
    }
   ],
   "source": [
    "try: \n",
    "\tx = int(input('숫자를 입력하세요: '))\n",
    "\tprint(10/x)\n",
    "except ZeroDivisionError as e:\t\n",
    "\tprint(e)  # 출력: division by zero"
   ]
  },
  {
   "cell_type": "code",
   "execution_count": 9,
   "id": "2fb3af01-02f5-44cf-8cc4-16eb7307072b",
   "metadata": {},
   "outputs": [
    {
     "name": "stdout",
     "output_type": "stream",
     "text": [
      "숫자를 입력하세요:  0\n"
     ]
    },
    {
     "name": "stdout",
     "output_type": "stream",
     "text": [
      "0으로 나눌 수 없습니다.\n",
      "프로그램이 종료되었습니다.\n"
     ]
    }
   ],
   "source": [
    "try: \n",
    "\tx = int(input('숫자를 입력하세요: '))\n",
    "\tprint(10/x)\n",
    "except ZeroDivisionError:\t\n",
    "\tprint('0으로 나눌 수 없습니다.')\n",
    "else:\n",
    "\tprint('성공적으로 실행되었습니다.')\n",
    "finally:\n",
    "\tprint('프로그램이 종료되었습니다.')"
   ]
  },
  {
   "cell_type": "code",
   "execution_count": 11,
   "id": "59a58cd7-0588-4f18-be7f-38c192965dfe",
   "metadata": {},
   "outputs": [
    {
     "name": "stdout",
     "output_type": "stream",
     "text": [
      "숫자를 입력하세요:  asd\n"
     ]
    },
    {
     "name": "stdout",
     "output_type": "stream",
     "text": [
      "오류가 발생했습니다: invalid literal for int() with base 10: 'asd'\n"
     ]
    }
   ],
   "source": [
    "try: \n",
    "\tx = int(input('숫자를 입력하세요: '))\n",
    "\tprint(10/x)\n",
    "except Exception as e:\t\n",
    "\tprint(f'오류가 발생했습니다: {e}')"
   ]
  },
  {
   "cell_type": "code",
   "execution_count": 15,
   "id": "d293ae5b-131b-416b-98dd-df422406d7d5",
   "metadata": {},
   "outputs": [
    {
     "name": "stdout",
     "output_type": "stream",
     "text": [
      "숫자 두 개를 입력하세요:  asd 1\n"
     ]
    },
    {
     "name": "stdout",
     "output_type": "stream",
     "text": [
      "값을 잘못 입력하셨습니다.\n"
     ]
    },
    {
     "name": "stdout",
     "output_type": "stream",
     "text": [
      "숫자 두 개를 입력하세요:  aa\n"
     ]
    },
    {
     "name": "stdout",
     "output_type": "stream",
     "text": [
      "값을 잘못 입력하셨습니다.\n"
     ]
    },
    {
     "name": "stdout",
     "output_type": "stream",
     "text": [
      "숫자 두 개를 입력하세요:  1 1\n"
     ]
    },
    {
     "name": "stdout",
     "output_type": "stream",
     "text": [
      "입력된 숫자는 x: 1, y: 1입니다.\n"
     ]
    }
   ],
   "source": [
    "while True:\n",
    "    try:\n",
    "        x, y = input(\"숫자 두 개를 입력하세요: \").split()\n",
    "        x = int(x)\n",
    "        y = int(y)\n",
    "        print(f\"입력된 숫자는 x: {x}, y: {y}입니다.\")\n",
    "        break\n",
    "    except ValueError:\n",
    "        print(\"값을 잘못 입력하셨습니다.\")\n"
   ]
  },
  {
   "cell_type": "code",
   "execution_count": null,
   "id": "4be7c5e1-db8d-43ed-8902-acca044f2860",
   "metadata": {},
   "outputs": [],
   "source": []
  }
 ],
 "metadata": {
  "kernelspec": {
   "display_name": "study",
   "language": "python",
   "name": "python3"
  },
  "language_info": {
   "codemirror_mode": {
    "name": "ipython",
    "version": 3
   },
   "file_extension": ".py",
   "mimetype": "text/x-python",
   "name": "python",
   "nbconvert_exporter": "python",
   "pygments_lexer": "ipython3",
   "version": "3.9.12"
  }
 },
 "nbformat": 4,
 "nbformat_minor": 5
}
