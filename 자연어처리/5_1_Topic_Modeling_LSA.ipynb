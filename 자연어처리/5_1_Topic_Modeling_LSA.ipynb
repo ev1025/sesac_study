{
  "nbformat": 4,
  "nbformat_minor": 0,
  "metadata": {
    "colab": {
      "provenance": []
    },
    "kernelspec": {
      "name": "python3",
      "display_name": "Python 3"
    },
    "language_info": {
      "name": "python"
    }
  },
  "cells": [
    {
      "cell_type": "markdown",
      "source": [
        "# 1.LSA 간단 실습"
      ],
      "metadata": {
        "id": "-7VbPW-VLYdL"
      }
    },
    {
      "cell_type": "code",
      "execution_count": 1,
      "metadata": {
        "id": "hZEHWsAQLFWR"
      },
      "outputs": [],
      "source": [
        "import numpy as np\n",
        "import pandas as pd"
      ]
    },
    {
      "cell_type": "markdown",
      "source": [
        "## 1.DTM 행렬 생성"
      ],
      "metadata": {
        "id": "7zpLD7DEL_qk"
      }
    },
    {
      "cell_type": "code",
      "source": [
        "A = np.array([[0,0,0,1,0,1,1,0,0],\n",
        "              [0,0,0,1,1,0,1,0,0],\n",
        "              [0,1,1,0,2,0,0,0,0],\n",
        "              [1,0,0,0,0,0,0,1,1]])\n",
        "print('DTM의 크기(shape) :', np.shape(A))\n",
        "display(A)"
      ],
      "metadata": {
        "id": "4q2uW5-RLYFK",
        "colab": {
          "base_uri": "https://localhost:8080/",
          "height": 104
        },
        "outputId": "2a78736f-ca1f-4e98-e97f-bceb47f5f0ab"
      },
      "execution_count": 2,
      "outputs": [
        {
          "output_type": "stream",
          "name": "stdout",
          "text": [
            "DTM의 크기(shape) : (4, 9)\n"
          ]
        },
        {
          "output_type": "display_data",
          "data": {
            "text/plain": [
              "array([[0, 0, 0, 1, 0, 1, 1, 0, 0],\n",
              "       [0, 0, 0, 1, 1, 0, 1, 0, 0],\n",
              "       [0, 1, 1, 0, 2, 0, 0, 0, 0],\n",
              "       [1, 0, 0, 0, 0, 0, 0, 1, 1]])"
            ]
          },
          "metadata": {}
        }
      ]
    },
    {
      "cell_type": "markdown",
      "source": [
        "## 2.Full SVD"
      ],
      "metadata": {
        "id": "GM1NoOqzMGNi"
      }
    },
    {
      "cell_type": "markdown",
      "source": [
        "- U"
      ],
      "metadata": {
        "id": "UEmLHIOHRLWA"
      }
    },
    {
      "cell_type": "code",
      "source": [
        "U, s,VT = np.linalg.svd(A, full_matrices=True)\n",
        "print('행렬 U :',U.round(2))\n",
        "print('행렬 U의 크기(shape) :',np.shape(U))"
      ],
      "metadata": {
        "id": "mls5OoTeLcX2",
        "colab": {
          "base_uri": "https://localhost:8080/"
        },
        "outputId": "1cf60f8b-ad68-4e6c-8047-e58ba709b2ad"
      },
      "execution_count": 3,
      "outputs": [
        {
          "output_type": "stream",
          "name": "stdout",
          "text": [
            "행렬 U : [[-0.24  0.75  0.   -0.62]\n",
            " [-0.51  0.44 -0.    0.74]\n",
            " [-0.83 -0.49 -0.   -0.27]\n",
            " [-0.   -0.    1.    0.  ]]\n",
            "행렬 U의 크기(shape) : (4, 4)\n"
          ]
        }
      ]
    },
    {
      "cell_type": "markdown",
      "source": [
        "- S\n",
        "- linalg.svd()는 특이값 분해의 결과로 대각 행렬이 아닌 특이값의 리스트를 반환 따라서 다시 대각 행렬로 변환 해주어야 함.\n",
        "- np.diag()는 1차원 array는 각각의 값을 대각 성분으로 가지는 대각 행렬 생성, 2차원은 대각 성분의 값을 추출"
      ],
      "metadata": {
        "id": "dpjKLYozNzOj"
      }
    },
    {
      "cell_type": "code",
      "source": [
        "print('특이값 리스트 :',s)\n",
        "print()\n",
        "\n",
        "# 2차원행렬로 변환\n",
        "print('2차원 행렬로 변환')\n",
        "print(np.diag(s))\n",
        "print('특이값 리스트의 크기(shape) :',np.shape(s))"
      ],
      "metadata": {
        "id": "jKAfE42NMEpK",
        "colab": {
          "base_uri": "https://localhost:8080/"
        },
        "outputId": "1b4578ee-73df-4119-a0ea-38d1d5c6dd0e"
      },
      "execution_count": 4,
      "outputs": [
        {
          "output_type": "stream",
          "name": "stdout",
          "text": [
            "특이값 리스트 : [2.68731789 2.04508425 1.73205081 0.77197992]\n",
            "\n",
            "2차원 행렬로 변환\n",
            "[[2.68731789 0.         0.         0.        ]\n",
            " [0.         2.04508425 0.         0.        ]\n",
            " [0.         0.         1.73205081 0.        ]\n",
            " [0.         0.         0.         0.77197992]]\n",
            "특이값 리스트의 크기(shape) : (4,)\n"
          ]
        }
      ]
    },
    {
      "cell_type": "code",
      "source": [
        "# 원본에 맞춰서 4x9 배열 생성\n",
        "S = np.zeros((4,9))\n",
        "print(S)\n",
        "print()\n",
        "\n",
        "# 특이값을 대각행렬에 삽입\n",
        "S[:4,:4] = np.diag(s)\n",
        "print(S)"
      ],
      "metadata": {
        "id": "vhF8fBkQuoF9",
        "colab": {
          "base_uri": "https://localhost:8080/"
        },
        "outputId": "25a0eeed-d1c0-4f7a-e2f9-430ce2a7294f"
      },
      "execution_count": 5,
      "outputs": [
        {
          "output_type": "stream",
          "name": "stdout",
          "text": [
            "[[0. 0. 0. 0. 0. 0. 0. 0. 0.]\n",
            " [0. 0. 0. 0. 0. 0. 0. 0. 0.]\n",
            " [0. 0. 0. 0. 0. 0. 0. 0. 0.]\n",
            " [0. 0. 0. 0. 0. 0. 0. 0. 0.]]\n",
            "\n",
            "[[2.68731789 0.         0.         0.         0.         0.\n",
            "  0.         0.         0.        ]\n",
            " [0.         2.04508425 0.         0.         0.         0.\n",
            "  0.         0.         0.        ]\n",
            " [0.         0.         1.73205081 0.         0.         0.\n",
            "  0.         0.         0.        ]\n",
            " [0.         0.         0.         0.77197992 0.         0.\n",
            "  0.         0.         0.        ]]\n"
          ]
        }
      ]
    },
    {
      "cell_type": "markdown",
      "source": [
        "- VT"
      ],
      "metadata": {
        "id": "e3FFI088NxSD"
      }
    },
    {
      "cell_type": "code",
      "source": [
        "VT = VT.T\n",
        "print('행렬 VT :')\n",
        "print(VT.round(2))\n",
        "print('행렬 VT의 크기(shape) :',np.shape(VT))"
      ],
      "metadata": {
        "id": "x5aAoXLNMvbh",
        "colab": {
          "base_uri": "https://localhost:8080/"
        },
        "outputId": "e1d71f3f-f332-4406-fe44-be0cf98a5724"
      },
      "execution_count": 6,
      "outputs": [
        {
          "output_type": "stream",
          "name": "stdout",
          "text": [
            "행렬 VT :\n",
            "[[-0.    0.    0.58  0.   -0.   -0.29 -0.29 -0.5  -0.5 ]\n",
            " [-0.31 -0.24 -0.   -0.35 -0.78  0.31 -0.1  -0.06 -0.06]\n",
            " [-0.31 -0.24  0.   -0.35 -0.01 -0.78  0.26  0.15  0.15]\n",
            " [-0.28  0.58  0.    0.16 -0.2  -0.24 -0.59  0.24  0.24]\n",
            " [-0.8  -0.26 -0.    0.25  0.4   0.23 -0.08 -0.05 -0.05]\n",
            " [-0.09  0.37  0.   -0.8   0.4   0.23 -0.08 -0.05 -0.05]\n",
            " [-0.28  0.58 -0.    0.16 -0.2   0.01  0.66 -0.19 -0.19]\n",
            " [-0.   -0.    0.58 -0.    0.    0.14  0.14  0.75 -0.25]\n",
            " [-0.   -0.    0.58 -0.    0.    0.14  0.14 -0.25  0.75]]\n",
            "행렬 VT의 크기(shape) : (9, 9)\n"
          ]
        }
      ]
    },
    {
      "cell_type": "markdown",
      "source": [
        "- U X S X VT = A\n",
        "- np.allclose() : 두 배열이 거의 같은지 확인"
      ],
      "metadata": {
        "id": "EWeCXgwDNVIm"
      }
    },
    {
      "cell_type": "code",
      "source": [
        "# 민감한 소수점 문제 무시해줌\n",
        "np.allclose(A, np.dot(np.dot(U,S),VT).round(2))"
      ],
      "metadata": {
        "id": "nTmeuspYM5Wg",
        "colab": {
          "base_uri": "https://localhost:8080/"
        },
        "outputId": "70da047a-576d-4ff1-f5c4-6dc4502dee88"
      },
      "execution_count": 7,
      "outputs": [
        {
          "output_type": "execute_result",
          "data": {
            "text/plain": [
              "False"
            ]
          },
          "metadata": {},
          "execution_count": 7
        }
      ]
    },
    {
      "cell_type": "markdown",
      "source": [
        "## 3.Truncated SVD"
      ],
      "metadata": {
        "id": "VJUns-w_PzeI"
      }
    },
    {
      "cell_type": "code",
      "source": [
        "# 특이값 상위 2개만 보존\n",
        "S_T = S[:2,:2]\n",
        "print('대각 행렬 S')\n",
        "print(S_T.round(2))\n"
      ],
      "metadata": {
        "id": "3z7s2rzKM8mf",
        "colab": {
          "base_uri": "https://localhost:8080/"
        },
        "outputId": "dab709d3-cf66-4dd7-ed46-4ef6a0a68a05"
      },
      "execution_count": 8,
      "outputs": [
        {
          "output_type": "stream",
          "name": "stdout",
          "text": [
            "대각 행렬 S\n",
            "[[2.69 0.  ]\n",
            " [0.   2.05]]\n"
          ]
        }
      ]
    },
    {
      "cell_type": "code",
      "source": [
        "U_T = U[:,:2]\n",
        "print('행렬 U')\n",
        "print(U_T.round(2))"
      ],
      "metadata": {
        "id": "cIBVTwGhP6HT",
        "colab": {
          "base_uri": "https://localhost:8080/"
        },
        "outputId": "862b1ef2-bd55-44a3-c00a-e3bbfd556dda"
      },
      "execution_count": 9,
      "outputs": [
        {
          "output_type": "stream",
          "name": "stdout",
          "text": [
            "행렬 U\n",
            "[[-0.24  0.75]\n",
            " [-0.51  0.44]\n",
            " [-0.83 -0.49]\n",
            " [-0.   -0.  ]]\n"
          ]
        }
      ]
    },
    {
      "cell_type": "code",
      "source": [
        "VT_T = VT[:2]\n",
        "print('직교행렬VT')\n",
        "print(VT_T.round(2))"
      ],
      "metadata": {
        "id": "GwhCZr6xP_m4",
        "colab": {
          "base_uri": "https://localhost:8080/"
        },
        "outputId": "9ffe458b-c2d5-4bf0-addd-a7d43046a5bf"
      },
      "execution_count": 10,
      "outputs": [
        {
          "output_type": "stream",
          "name": "stdout",
          "text": [
            "직교행렬VT\n",
            "[[-0.    0.    0.58  0.   -0.   -0.29 -0.29 -0.5  -0.5 ]\n",
            " [-0.31 -0.24 -0.   -0.35 -0.78  0.31 -0.1  -0.06 -0.06]]\n"
          ]
        }
      ]
    },
    {
      "cell_type": "code",
      "source": [
        "A_prime = np.dot(U_T, np.dot(S_T, VT_T)).round(2)\n",
        "print(A)\n",
        "print(A_prime)"
      ],
      "metadata": {
        "id": "3HfXuGe_QCfJ",
        "colab": {
          "base_uri": "https://localhost:8080/"
        },
        "outputId": "0e3d7771-1126-4e13-9afa-2e244e04e86d"
      },
      "execution_count": 11,
      "outputs": [
        {
          "output_type": "stream",
          "name": "stdout",
          "text": [
            "[[0 0 0 1 0 1 1 0 0]\n",
            " [0 0 0 1 1 0 1 0 0]\n",
            " [0 1 1 0 2 0 0 0 0]\n",
            " [1 0 0 0 0 0 0 1 1]]\n",
            "[[-0.47 -0.37 -0.37 -0.54 -1.2   0.66  0.03  0.23  0.23]\n",
            " [-0.28 -0.22 -0.79 -0.32 -0.71  0.68  0.3   0.63  0.63]\n",
            " [ 0.31  0.24 -1.29  0.35  0.78  0.33  0.75  1.17  1.17]\n",
            " [ 0.    0.   -0.    0.    0.    0.    0.    0.    0.  ]]\n"
          ]
        }
      ]
    },
    {
      "cell_type": "markdown",
      "source": [
        "## 4.sklearn TruncatedSVD 활용"
      ],
      "metadata": {
        "id": "-OGOrky9xRLI"
      }
    },
    {
      "cell_type": "code",
      "source": [
        "from sklearn.decomposition import TruncatedSVD\n",
        "# TruncatedSVD 객체 생성\n",
        "svd_model = TruncatedSVD(n_components=2,\n",
        "                         algorithm='randomized',\n",
        "                         random_state=42)\n",
        "\n",
        "# 문서-토픽 행렬 생성 UxS\n",
        "las_matrix = svd_model.fit_transform(A)\n",
        "\n",
        "# 단어-토픽 행렬 (components_) VT\n",
        "components = svd_model.components_"
      ],
      "metadata": {
        "id": "cXXgiqFSmogJ"
      },
      "execution_count": 12,
      "outputs": []
    },
    {
      "cell_type": "markdown",
      "source": [
        "- **fit_transform**은 문서-토픽 행렬을 반환. U x S\n",
        "      - 행(n_samples): 이 행렬의 각 행은 하나의 문서를 나타냄.\n",
        "      - 열(n_components): 이 행렬의 각 열은 하나의 토픽(축소된 차원)을 나타냄.\n",
        "      - 각 값: 특정 문서가 특정 토픽에서 얼마나 설명되는지를 나타냄. 값이 클수록 그 문서가 해당 토픽에서 더 잘 설명된다는 의미.\n",
        "\n",
        "- **components_**는 토픽-단어 행렬. S x VT\n",
        "      - 행(n_components): 토픽을 나타냄.\n",
        "      - 열(n_features): 단어를 나타냄.\n",
        "      - 각 값: 특정 토픽에서 특정 단어의 가중치(기여도)를 나타냄.\n",
        "\n"
      ],
      "metadata": {
        "id": "Dn4KgUiAq9Q5"
      }
    },
    {
      "cell_type": "code",
      "source": [
        "# 출력\n",
        "print('문서-토픽 행렬')\n",
        "print(las_matrix.round(2))\n",
        "print()\n",
        "\n",
        "print('단어-토픽 행렬')\n",
        "print(components.round(2))\n",
        "print()\n",
        "\n",
        "# 원래 행렬 근사\n",
        "A_prime = np.dot(las_matrix, components).round(2)\n",
        "print('토픽 행렬')\n",
        "print(A_prime)\n",
        "print()\n",
        "\n",
        "print('원래 행렬')\n",
        "print(A)"
      ],
      "metadata": {
        "id": "fOFeN4oWpMq5",
        "colab": {
          "base_uri": "https://localhost:8080/"
        },
        "outputId": "2854be67-35be-4518-8ed3-0dca680e25d7"
      },
      "execution_count": 13,
      "outputs": [
        {
          "output_type": "stream",
          "name": "stdout",
          "text": [
            "문서-토픽 행렬\n",
            "[[ 0.64  1.54]\n",
            " [ 1.36  0.91]\n",
            " [ 2.23 -1.  ]\n",
            " [ 0.   -0.  ]]\n",
            "\n",
            "단어-토픽 행렬\n",
            "[[ 0.    0.31  0.31  0.28  0.8   0.09  0.28  0.    0.  ]\n",
            " [ 0.   -0.24 -0.24  0.58 -0.26  0.37  0.58 -0.   -0.  ]]\n",
            "\n",
            "토픽 행렬\n",
            "[[ 0.   -0.17 -0.17  1.08  0.12  0.62  1.08 -0.   -0.  ]\n",
            " [ 0.    0.2   0.2   0.91  0.86  0.45  0.91  0.    0.  ]\n",
            " [ 0.    0.93  0.93  0.03  2.05 -0.17  0.03  0.    0.  ]\n",
            " [ 0.    0.    0.    0.    0.   -0.    0.    0.    0.  ]]\n",
            "\n",
            "원래 행렬\n",
            "[[0 0 0 1 0 1 1 0 0]\n",
            " [0 0 0 1 1 0 1 0 0]\n",
            " [0 1 1 0 2 0 0 0 0]\n",
            " [1 0 0 0 0 0 0 1 1]]\n"
          ]
        }
      ]
    },
    {
      "cell_type": "markdown",
      "source": [
        "# 2.뉴스 데이터를 통한 LSA 분석\n",
        "- 사이킷런에서는 Twenty Newsgroups이라고 불리는 20개의 다른 주제를 가진 뉴스그룹 데이터를 제공"
      ],
      "metadata": {
        "id": "za1tU6pNRwMv"
      }
    },
    {
      "cell_type": "markdown",
      "source": [
        "## 1.필요 모듈 로드"
      ],
      "metadata": {
        "id": "qFjz5qIeR8e7"
      }
    },
    {
      "cell_type": "code",
      "source": [
        "import pandas as pd\n",
        "from sklearn.datasets import fetch_20newsgroups\n",
        "import nltk\n",
        "from nltk.corpus import stopwords\n",
        "from sklearn.feature_extraction.text import TfidfVectorizer\n",
        "from sklearn.decomposition import TruncatedSVD"
      ],
      "metadata": {
        "id": "rJMMsFpiQca6"
      },
      "execution_count": 14,
      "outputs": []
    },
    {
      "cell_type": "markdown",
      "source": [
        "## 2.데이터 로드"
      ],
      "metadata": {
        "id": "8l47ST_zR_VI"
      }
    },
    {
      "cell_type": "code",
      "source": [
        "dataset = fetch_20newsgroups(shuffle=True, random_state=42, remove=('headers', 'footers', 'quotes'))\n",
        "documents = dataset.data\n",
        "print('샘플의 수 :',len(documents))"
      ],
      "metadata": {
        "id": "AUFXXj_wR8Hg",
        "colab": {
          "base_uri": "https://localhost:8080/"
        },
        "outputId": "65d83f22-d069-4ac6-aa0d-6a9ee174c268"
      },
      "execution_count": 15,
      "outputs": [
        {
          "output_type": "stream",
          "name": "stdout",
          "text": [
            "샘플의 수 : 11314\n"
          ]
        }
      ]
    },
    {
      "cell_type": "code",
      "source": [
        "documents[0]"
      ],
      "metadata": {
        "id": "HVjauU7fSA1G",
        "colab": {
          "base_uri": "https://localhost:8080/",
          "height": 70
        },
        "outputId": "8715b03a-ffb7-426d-9f03-88285efa7dc9"
      },
      "execution_count": 16,
      "outputs": [
        {
          "output_type": "execute_result",
          "data": {
            "text/plain": [
              "'I was wondering if anyone out there could enlighten me on this car I saw\\nthe other day. It was a 2-door sports car, looked to be from the late 60s/\\nearly 70s. It was called a Bricklin. The doors were really small. In addition,\\nthe front bumper was separate from the rest of the body. This is \\nall I know. If anyone can tellme a model name, engine specs, years\\nof production, where this car is made, history, or whatever info you\\nhave on this funky looking car, please e-mail.'"
            ],
            "application/vnd.google.colaboratory.intrinsic+json": {
              "type": "string"
            }
          },
          "metadata": {},
          "execution_count": 16
        }
      ]
    },
    {
      "cell_type": "code",
      "source": [
        "print(dataset.target_names)\n",
        "print(\"뉴스 카테고리의 수 : \", len(dataset.target_names))"
      ],
      "metadata": {
        "id": "2zBGhcHPSCoK",
        "colab": {
          "base_uri": "https://localhost:8080/"
        },
        "outputId": "abaca8c5-47f6-4d2d-d749-b39173c907b0"
      },
      "execution_count": 17,
      "outputs": [
        {
          "output_type": "stream",
          "name": "stdout",
          "text": [
            "['alt.atheism', 'comp.graphics', 'comp.os.ms-windows.misc', 'comp.sys.ibm.pc.hardware', 'comp.sys.mac.hardware', 'comp.windows.x', 'misc.forsale', 'rec.autos', 'rec.motorcycles', 'rec.sport.baseball', 'rec.sport.hockey', 'sci.crypt', 'sci.electronics', 'sci.med', 'sci.space', 'soc.religion.christian', 'talk.politics.guns', 'talk.politics.mideast', 'talk.politics.misc', 'talk.religion.misc']\n",
            "뉴스 카테고리의 수 :  20\n"
          ]
        }
      ]
    },
    {
      "cell_type": "markdown",
      "source": [
        "## 3.데이터 전처리\n",
        "  1. 대문자->소문자\n",
        "  2. 구두점, 숫자, 특수 문자 제거\n",
        "  3. 짧은 단어 제거"
      ],
      "metadata": {
        "id": "kgTqL3PFU8mo"
      }
    },
    {
      "cell_type": "markdown",
      "source": [
        "- [^a-zA-Z] : 영문자를 제외한 모든 문자\n",
        "- regrex=True : 함수에서 이 패턴을 정규 표현식으로 처리\n",
        "- ' '.join([w for w in x.split() if len(w)>3]) : 데이터를 순회하면서 공백으로 단어를 나누고 길이가 3이상인 단어들을 리스트로 반환하고 join 함수를 통해서 한 줄의 텍스트로 병합"
      ],
      "metadata": {
        "id": "kwqo-CkBVyVR"
      }
    },
    {
      "cell_type": "code",
      "source": [
        "news_df = pd.DataFrame({'document' : documents})\n",
        "news_df['document'].apply(lambda x: [w for w in x.split() if len(w)>3])"
      ],
      "metadata": {
        "id": "fr7BIDdiAKbc",
        "colab": {
          "base_uri": "https://localhost:8080/",
          "height": 458
        },
        "outputId": "5b94f653-b9a5-413c-a99e-9e2fddb83e62"
      },
      "execution_count": 18,
      "outputs": [
        {
          "output_type": "execute_result",
          "data": {
            "text/plain": [
              "0        [wondering, anyone, there, could, enlighten, t...\n",
              "1        [fair, number, brave, souls, upgraded, their, ...\n",
              "2        [well, folks,, plus, finally, gave, ghost, thi...\n",
              "3        [have, Weitek's, address/phone, number?, like,...\n",
              "4        [From, article, <C5owCB.n3p@world.std.com>,, t...\n",
              "                               ...                        \n",
              "11309    [From:, nyeda@cnsvax.uwec.edu, (David, Nye), n...\n",
              "11310    [have, (very, old), 512k, Plus,, both, which, ...\n",
              "11311    [just, installed, DX2-66, clone, motherboard,,...\n",
              "11312    [Wouldn't, this, require, hyper-sphere., 3-spa...\n",
              "11313    [Stolen, from, Pasadena, between, 4:30, 6:30, ...\n",
              "Name: document, Length: 11314, dtype: object"
            ],
            "text/html": [
              "<div>\n",
              "<style scoped>\n",
              "    .dataframe tbody tr th:only-of-type {\n",
              "        vertical-align: middle;\n",
              "    }\n",
              "\n",
              "    .dataframe tbody tr th {\n",
              "        vertical-align: top;\n",
              "    }\n",
              "\n",
              "    .dataframe thead th {\n",
              "        text-align: right;\n",
              "    }\n",
              "</style>\n",
              "<table border=\"1\" class=\"dataframe\">\n",
              "  <thead>\n",
              "    <tr style=\"text-align: right;\">\n",
              "      <th></th>\n",
              "      <th>document</th>\n",
              "    </tr>\n",
              "  </thead>\n",
              "  <tbody>\n",
              "    <tr>\n",
              "      <th>0</th>\n",
              "      <td>[wondering, anyone, there, could, enlighten, t...</td>\n",
              "    </tr>\n",
              "    <tr>\n",
              "      <th>1</th>\n",
              "      <td>[fair, number, brave, souls, upgraded, their, ...</td>\n",
              "    </tr>\n",
              "    <tr>\n",
              "      <th>2</th>\n",
              "      <td>[well, folks,, plus, finally, gave, ghost, thi...</td>\n",
              "    </tr>\n",
              "    <tr>\n",
              "      <th>3</th>\n",
              "      <td>[have, Weitek's, address/phone, number?, like,...</td>\n",
              "    </tr>\n",
              "    <tr>\n",
              "      <th>4</th>\n",
              "      <td>[From, article, &lt;C5owCB.n3p@world.std.com&gt;,, t...</td>\n",
              "    </tr>\n",
              "    <tr>\n",
              "      <th>...</th>\n",
              "      <td>...</td>\n",
              "    </tr>\n",
              "    <tr>\n",
              "      <th>11309</th>\n",
              "      <td>[From:, nyeda@cnsvax.uwec.edu, (David, Nye), n...</td>\n",
              "    </tr>\n",
              "    <tr>\n",
              "      <th>11310</th>\n",
              "      <td>[have, (very, old), 512k, Plus,, both, which, ...</td>\n",
              "    </tr>\n",
              "    <tr>\n",
              "      <th>11311</th>\n",
              "      <td>[just, installed, DX2-66, clone, motherboard,,...</td>\n",
              "    </tr>\n",
              "    <tr>\n",
              "      <th>11312</th>\n",
              "      <td>[Wouldn't, this, require, hyper-sphere., 3-spa...</td>\n",
              "    </tr>\n",
              "    <tr>\n",
              "      <th>11313</th>\n",
              "      <td>[Stolen, from, Pasadena, between, 4:30, 6:30, ...</td>\n",
              "    </tr>\n",
              "  </tbody>\n",
              "</table>\n",
              "<p>11314 rows × 1 columns</p>\n",
              "</div><br><label><b>dtype:</b> object</label>"
            ]
          },
          "metadata": {},
          "execution_count": 18
        }
      ]
    },
    {
      "cell_type": "code",
      "source": [
        "news_df = pd.DataFrame({'document':documents})\n",
        "# 특수 문자 제거\n",
        "news_df['clean_doc'] = news_df['document'].str.replace('[^a-zA-Z]',' ',regex=True)\n",
        "\n",
        "# 길이가 3이하인 단어는 제거 (길이가 짧은 단어 제거)\n",
        "news_df['clean_doc'] = news_df['clean_doc'].apply(lambda x: ' '.join([w for w in x.split() if len(w)>3]))\n",
        "\n",
        "# 전체 단어에 대한 소문자 변환\n",
        "news_df['clean_doc'] = news_df['clean_doc'].apply(lambda x: x.lower())\n",
        "\n",
        "news_df['clean_doc']"
      ],
      "metadata": {
        "id": "eHGOjgOXSGDE",
        "colab": {
          "base_uri": "https://localhost:8080/",
          "height": 458
        },
        "outputId": "47a94e91-1823-466b-a81e-393a85e9589f"
      },
      "execution_count": 19,
      "outputs": [
        {
          "output_type": "execute_result",
          "data": {
            "text/plain": [
              "0        wondering anyone there could enlighten this ot...\n",
              "1        fair number brave souls upgraded their clock o...\n",
              "2        well folks plus finally gave ghost this weeken...\n",
              "3        have weitek address phone number like some inf...\n",
              "4        from article owcb world tombaker world baker u...\n",
              "                               ...                        \n",
              "11309    from nyeda cnsvax uwec david neurology consult...\n",
              "11310    have very plus both which have same problem th...\n",
              "11311    just installed clone motherboard tried mountin...\n",
              "11312    wouldn this require hyper sphere space points ...\n",
              "11313    stolen from pasadena between blue white honda ...\n",
              "Name: clean_doc, Length: 11314, dtype: object"
            ],
            "text/html": [
              "<div>\n",
              "<style scoped>\n",
              "    .dataframe tbody tr th:only-of-type {\n",
              "        vertical-align: middle;\n",
              "    }\n",
              "\n",
              "    .dataframe tbody tr th {\n",
              "        vertical-align: top;\n",
              "    }\n",
              "\n",
              "    .dataframe thead th {\n",
              "        text-align: right;\n",
              "    }\n",
              "</style>\n",
              "<table border=\"1\" class=\"dataframe\">\n",
              "  <thead>\n",
              "    <tr style=\"text-align: right;\">\n",
              "      <th></th>\n",
              "      <th>clean_doc</th>\n",
              "    </tr>\n",
              "  </thead>\n",
              "  <tbody>\n",
              "    <tr>\n",
              "      <th>0</th>\n",
              "      <td>wondering anyone there could enlighten this ot...</td>\n",
              "    </tr>\n",
              "    <tr>\n",
              "      <th>1</th>\n",
              "      <td>fair number brave souls upgraded their clock o...</td>\n",
              "    </tr>\n",
              "    <tr>\n",
              "      <th>2</th>\n",
              "      <td>well folks plus finally gave ghost this weeken...</td>\n",
              "    </tr>\n",
              "    <tr>\n",
              "      <th>3</th>\n",
              "      <td>have weitek address phone number like some inf...</td>\n",
              "    </tr>\n",
              "    <tr>\n",
              "      <th>4</th>\n",
              "      <td>from article owcb world tombaker world baker u...</td>\n",
              "    </tr>\n",
              "    <tr>\n",
              "      <th>...</th>\n",
              "      <td>...</td>\n",
              "    </tr>\n",
              "    <tr>\n",
              "      <th>11309</th>\n",
              "      <td>from nyeda cnsvax uwec david neurology consult...</td>\n",
              "    </tr>\n",
              "    <tr>\n",
              "      <th>11310</th>\n",
              "      <td>have very plus both which have same problem th...</td>\n",
              "    </tr>\n",
              "    <tr>\n",
              "      <th>11311</th>\n",
              "      <td>just installed clone motherboard tried mountin...</td>\n",
              "    </tr>\n",
              "    <tr>\n",
              "      <th>11312</th>\n",
              "      <td>wouldn this require hyper sphere space points ...</td>\n",
              "    </tr>\n",
              "    <tr>\n",
              "      <th>11313</th>\n",
              "      <td>stolen from pasadena between blue white honda ...</td>\n",
              "    </tr>\n",
              "  </tbody>\n",
              "</table>\n",
              "<p>11314 rows × 1 columns</p>\n",
              "</div><br><label><b>dtype:</b> object</label>"
            ]
          },
          "metadata": {},
          "execution_count": 19
        }
      ]
    },
    {
      "cell_type": "markdown",
      "source": [
        "## 4.TF-IDF 벡터화"
      ],
      "metadata": {
        "id": "yBY3bmkSWrPb"
      }
    },
    {
      "cell_type": "markdown",
      "source": [
        "- stop_words='english' : 불용어 사전, sklearn에서 제공하는 기본 영어 불용어 리스트\n",
        "- max_features=1000 : 상위 1000개의 단어만을 보존\n",
        "- max_df=0.5 : 너무 자주 등장하는 경우 해당 단어를 무시. 50% 이상 나타나는 단어는 무시\n",
        "- smooth_idf=True : IDF 점수 계산 시, smoothing을 적용.\n",
        "  - 스무딩은 IDF 계산에서 모든 문서에 1을 더하는 방식으로, IDF 값이 0이 되는 것을 방지. 즉 적절한 IDF 값을 가지게 하고 안정적인 결과를 얻을 수 있음"
      ],
      "metadata": {
        "id": "8DF-gsokljXM"
      }
    },
    {
      "cell_type": "code",
      "source": [
        "# TF-IDF 행렬의 크기 확인\n",
        "vectorizer = TfidfVectorizer(stop_words='english',\n",
        "                             max_features=1000, # 상위 1000개 단어만 보존\n",
        "                             max_df=0.5,\n",
        "                             smooth_idf=True) # idf값이 0이 되지 않게 1을 더해주는 것\n",
        "\n",
        "X = vectorizer.fit_transform(news_df['clean_doc'])\n",
        "\n",
        "print('TF-IDF 행렬의 크기 :',X.shape)"
      ],
      "metadata": {
        "id": "mj5av_iwW0mA",
        "colab": {
          "base_uri": "https://localhost:8080/"
        },
        "outputId": "e32b109a-eb26-441a-a21b-c69d18523088"
      },
      "execution_count": 20,
      "outputs": [
        {
          "output_type": "stream",
          "name": "stdout",
          "text": [
            "TF-IDF 행렬의 크기 : (11314, 1000)\n"
          ]
        }
      ]
    },
    {
      "cell_type": "markdown",
      "source": [
        "## 5.LSA를 통한 토픽 모델링"
      ],
      "metadata": {
        "id": "hXIuR1xPXDam"
      }
    },
    {
      "cell_type": "code",
      "source": [
        "svd_model = TruncatedSVD(n_components=20,\n",
        "                        algorithm='randomized',\n",
        "                        n_iter=100,\n",
        "                        random_state=42)\n",
        "svd_model.fit(X)\n",
        "len(svd_model.components_)"
      ],
      "metadata": {
        "id": "iGluZeNsW8fk",
        "colab": {
          "base_uri": "https://localhost:8080/"
        },
        "outputId": "39216d6b-7e7e-4867-d322-0ea1243577c3"
      },
      "execution_count": 21,
      "outputs": [
        {
          "output_type": "execute_result",
          "data": {
            "text/plain": [
              "20"
            ]
          },
          "metadata": {},
          "execution_count": 21
        }
      ]
    },
    {
      "cell_type": "code",
      "source": [
        "np.shape(svd_model.components_)"
      ],
      "metadata": {
        "id": "nqD3jSnEXF4G",
        "colab": {
          "base_uri": "https://localhost:8080/"
        },
        "outputId": "197890af-1df6-45c5-fb36-cf91582e88b6"
      },
      "execution_count": 22,
      "outputs": [
        {
          "output_type": "execute_result",
          "data": {
            "text/plain": [
              "(20, 1000)"
            ]
          },
          "metadata": {},
          "execution_count": 22
        }
      ]
    },
    {
      "cell_type": "code",
      "source": [
        "svd_model.components_"
      ],
      "metadata": {
        "id": "Dyra7-hSaCnS",
        "colab": {
          "base_uri": "https://localhost:8080/"
        },
        "outputId": "f594c8e3-bb74-4149-8f1a-a800df72f5ce"
      },
      "execution_count": 23,
      "outputs": [
        {
          "output_type": "execute_result",
          "data": {
            "text/plain": [
              "array([[ 0.01409818,  0.04787982,  0.02051048, ...,  0.07483329,\n",
              "         0.01377606,  0.01712888],\n",
              "       [-0.00521437,  0.01742255, -0.01542793, ..., -0.06266609,\n",
              "        -0.01075043, -0.01888594],\n",
              "       [ 0.00243598, -0.00142246, -0.01848973, ...,  0.05823359,\n",
              "         0.02412148,  0.02038499],\n",
              "       ...,\n",
              "       [ 0.00746824, -0.00689738, -0.00963879, ..., -0.03316437,\n",
              "        -0.00649624, -0.0002525 ],\n",
              "       [ 0.00352545,  0.01029423, -0.01284824, ...,  0.01336511,\n",
              "        -0.01588696, -0.00127575],\n",
              "       [-0.00221752,  0.00855738,  0.00623431, ..., -0.05112382,\n",
              "        -0.00794478, -0.00491315]])"
            ]
          },
          "metadata": {},
          "execution_count": 23
        }
      ]
    },
    {
      "cell_type": "markdown",
      "source": [
        "- argsort() : 배열의 인덱스를 정렬된 순서로 반환 [3,1,2] -> [1,2,0] (오름차순 정렬)\n",
        "- [::-1][:5] : 역순으로 정렬 후 5개의 데이터 선택"
      ],
      "metadata": {
        "id": "lReTBAohdVv_"
      }
    },
    {
      "cell_type": "code",
      "source": [
        "example_array = np.array([[0.1, 0.4, 0.2, 0.9, 0.3]])\n",
        "print(\"argmax : \", example_array.argmax())\n",
        "\n",
        "# 가장 높은 가중치를 가진 값들 확인\n",
        "sorted_indices = example_array.argsort()[0][::-1][:5]\n",
        "print(sorted_indices)"
      ],
      "metadata": {
        "id": "10HsWMdPBy3q",
        "colab": {
          "base_uri": "https://localhost:8080/"
        },
        "outputId": "a2e3ec76-e6e3-49b1-a93f-0a2c05185077"
      },
      "execution_count": 24,
      "outputs": [
        {
          "output_type": "stream",
          "name": "stdout",
          "text": [
            "argmax :  3\n",
            "[3 1 4 2 0]\n"
          ]
        }
      ]
    },
    {
      "cell_type": "markdown",
      "source": [
        "- 주제0번에 대한 단어별 가중치"
      ],
      "metadata": {
        "id": "Y2zv_jBUD6mi"
      }
    },
    {
      "cell_type": "code",
      "source": [
        "print(svd_model.components_[0])\n",
        "print(svd_model.components_[0].shape)"
      ],
      "metadata": {
        "id": "UejQ3ncpI8JC",
        "colab": {
          "base_uri": "https://localhost:8080/"
        },
        "outputId": "8c554cfe-0bb0-4150-f88d-c2e82650b07e"
      },
      "execution_count": 25,
      "outputs": [
        {
          "output_type": "stream",
          "name": "stdout",
          "text": [
            "[0.01409818 0.04787982 0.02051048 0.02933549 0.01732167 0.01227351\n",
            " 0.01648381 0.01181282 0.01084788 0.0593574  0.01055266 0.0111863\n",
            " 0.00867278 0.03419897 0.01132049 0.0401397  0.0177775  0.00850201\n",
            " 0.03508718 0.0158544  0.02076485 0.01292826 0.01060273 0.01168965\n",
            " 0.01392965 0.02813562 0.0110224  0.00927105 0.00607689 0.0090752\n",
            " 0.03507546 0.01364729 0.01940152 0.04266487 0.01638954 0.0120186\n",
            " 0.01376949 0.02842646 0.02492808 0.01559292 0.01259682 0.021828\n",
            " 0.03209353 0.01136994 0.01236091 0.01826516 0.01198612 0.00833366\n",
            " 0.03061078 0.01221436 0.02441905 0.02483554 0.01177919 0.00769201\n",
            " 0.0165582  0.01614453 0.01055487 0.01213478 0.03688943 0.01293101\n",
            " 0.02388438 0.02126642 0.02266981 0.01389217 0.01078975 0.01070881\n",
            " 0.01389446 0.0098783  0.01064283 0.01166813 0.05015364 0.01938976\n",
            " 0.01583951 0.04028201 0.01072811 0.01719875 0.02045526 0.03970562\n",
            " 0.01404409 0.01610265 0.01334269 0.01173088 0.01054992 0.01465089\n",
            " 0.01299643 0.07890412 0.05921976 0.07381847 0.03534568 0.03939203\n",
            " 0.01053376 0.01309968 0.02305592 0.01030658 0.01542287 0.01202174\n",
            " 0.03034135 0.02501139 0.04076944 0.02173604 0.01020105 0.02519626\n",
            " 0.01590821 0.01619363 0.01264306 0.02037551 0.01619681 0.02072355\n",
            " 0.02181794 0.01703492 0.01136249 0.04733823 0.01273743 0.01268688\n",
            " 0.03317941 0.01387891 0.05987849 0.02406369 0.02948062 0.01575537\n",
            " 0.0260114  0.06136791 0.01813905 0.0306592  0.01952811 0.02648471\n",
            " 0.03125562 0.01890933 0.03605516 0.01639754 0.01339521 0.00234846\n",
            " 0.00950773 0.01845606 0.02984402 0.01260772 0.01513099 0.02906934\n",
            " 0.04447801 0.02028458 0.01854462 0.02558632 0.03455694 0.01729958\n",
            " 0.02829264 0.02963493 0.01371102 0.02085335 0.01308275 0.02912228\n",
            " 0.01522802 0.01646788 0.02333671 0.01620218 0.02149877 0.0268029\n",
            " 0.01442268 0.02130791 0.03458222 0.03068452 0.00988132 0.0140223\n",
            " 0.05988254 0.03430668 0.02103581 0.01489532 0.01492139 0.01738768\n",
            " 0.01294806 0.0064907  0.02410219 0.01161971 0.01109083 0.0115886\n",
            " 0.0144098  0.02576612 0.01715518 0.01854868 0.04551206 0.00952724\n",
            " 0.02340311 0.00910958 0.01148385 0.0274488  0.01824109 0.01501736\n",
            " 0.02214146 0.00948673 0.01370945 0.01239539 0.00408314 0.03644602\n",
            " 0.02097184 0.01280248 0.02657754 0.02818252 0.03125256 0.01377367\n",
            " 0.02384632 0.01287629 0.01182569 0.02562072 0.03200903 0.05816872\n",
            " 0.01983659 0.01450363 0.01799998 0.01438758 0.01852764 0.01291278\n",
            " 0.01250224 0.03522814 0.02028906 0.05015332 0.01597354 0.01655291\n",
            " 0.02737212 0.03470089 0.02260643 0.0294719  0.02304121 0.01581329\n",
            " 0.00955272 0.00725122 0.019312   0.00962337 0.02544207 0.0120104\n",
            " 0.01054993 0.00962551 0.01906788 0.01596936 0.01726693 0.00936235\n",
            " 0.00858426 0.01461813 0.0179247  0.01324347 0.06724776 0.01201363\n",
            " 0.03096392 0.0529709  0.01581768 0.01438218 0.01140465 0.01605537\n",
            " 0.01449316 0.02149967 0.0149166  0.03583293 0.01302515 0.02668941\n",
            " 0.00923289 0.0140731  0.0143416  0.15335612 0.07181041 0.04614263\n",
            " 0.01369173 0.01415617 0.0214014  0.01161519 0.0714603  0.030753\n",
            " 0.02788009 0.02298284 0.01652681 0.01367794 0.01269133 0.01318845\n",
            " 0.02209263 0.0223198  0.01864259 0.01241507 0.02605742 0.01043495\n",
            " 0.02077665 0.01277214 0.01108413 0.01018162 0.0457216  0.02643261\n",
            " 0.01097536 0.02271284 0.01440161 0.00639221 0.01145518 0.01495439\n",
            " 0.02052737 0.01014174 0.01227089 0.02610365 0.01372478 0.01330701\n",
            " 0.03444828 0.02874971 0.03939474 0.01737533 0.02213407 0.01329846\n",
            " 0.01394035 0.02139372 0.01273831 0.01443547 0.02843541 0.01850791\n",
            " 0.0081604  0.01897392 0.02341313 0.05163241 0.01549058 0.02493717\n",
            " 0.01389945 0.01114088 0.01743677 0.02929955 0.01707499 0.01447457\n",
            " 0.01072228 0.01778776 0.03411856 0.01442345 0.02063091 0.05553355\n",
            " 0.04281264 0.01307833 0.01866563 0.0326407  0.01058627 0.01688638\n",
            " 0.02268118 0.01810843 0.03627042 0.00968134 0.00910895 0.02108415\n",
            " 0.02185577 0.0150246  0.01951727 0.0183369  0.03613337 0.01374381\n",
            " 0.02727806 0.01478078 0.00978502 0.01431961 0.00934193 0.01956852\n",
            " 0.05735148 0.03962902 0.01745127 0.03074665 0.01503349 0.0072904\n",
            " 0.01071819 0.02545292 0.04783332 0.03505131 0.01612847 0.01439492\n",
            " 0.01385148 0.00917678 0.02846083 0.07872309 0.01586357 0.14379843\n",
            " 0.06215069 0.03462261 0.05617824 0.01881066 0.01140394 0.0182316\n",
            " 0.04776096 0.01803524 0.03759454 0.02434987 0.01843887 0.02047001\n",
            " 0.03409726 0.01364962 0.01298777 0.02446789 0.02305823 0.0174308\n",
            " 0.01736906 0.05221929 0.0272167  0.02928299 0.0470423  0.02312929\n",
            " 0.01496785 0.02912637 0.05026885 0.01166766 0.02673943 0.01944372\n",
            " 0.07414082 0.04726995 0.01809069 0.0245539  0.02458891 0.01885189\n",
            " 0.01057402 0.03471435 0.03855205 0.01407761 0.01997011 0.02956873\n",
            " 0.04694696 0.02082812 0.02429573 0.0116787  0.01722494 0.02792055\n",
            " 0.02393543 0.01704669 0.01820487 0.02363046 0.01236353 0.0082113\n",
            " 0.01464085 0.04227749 0.05939609 0.01596259 0.01712185 0.02038879\n",
            " 0.0302524  0.00748505 0.01391841 0.01118785 0.04441341 0.02792653\n",
            " 0.01428786 0.01898367 0.01095537 0.02134116 0.01895232 0.02907078\n",
            " 0.01995115 0.02850727 0.01279163 0.01190218 0.04700022 0.01962944\n",
            " 0.02525243 0.01061243 0.02929859 0.00381891 0.20886722 0.0123067\n",
            " 0.01561753 0.02364873 0.02068013 0.02045741 0.01303758 0.04243707\n",
            " 0.01144179 0.01714504 0.19348726 0.01905126 0.02742818 0.02362655\n",
            " 0.01410489 0.01615705 0.0140705  0.03196144 0.01482173 0.02970829\n",
            " 0.01384932 0.01281598 0.02051754 0.01330424 0.02287181 0.01840298\n",
            " 0.01938575 0.03920332 0.01900943 0.01324948 0.02650948 0.01529882\n",
            " 0.00969705 0.04895618 0.02518351 0.2046869  0.02815664 0.01470619\n",
            " 0.04674244 0.0224682  0.04605805 0.06567454 0.03128002 0.01347189\n",
            " 0.01773377 0.03591491 0.01635041 0.0651054  0.02127179 0.06448103\n",
            " 0.02025952 0.05732678 0.02858382 0.01459993 0.02075561 0.01969895\n",
            " 0.03278207 0.01404704 0.00803461 0.03237159 0.01651559 0.01353417\n",
            " 0.07275799 0.01099902 0.01796918 0.02374907 0.01437544 0.10460603\n",
            " 0.03832896 0.02978454 0.01797728 0.02004559 0.00725821 0.02105459\n",
            " 0.01990333 0.01259683 0.00964322 0.01126833 0.03198525 0.00710635\n",
            " 0.05411777 0.04977002 0.01481573 0.03641265 0.0174177  0.01509704\n",
            " 0.01304189 0.01477221 0.03936474 0.01629834 0.02315303 0.02909846\n",
            " 0.00930946 0.01344178 0.01309147 0.01533907 0.02103227 0.01776541\n",
            " 0.01882218 0.01640482 0.03271912 0.015169   0.00798184 0.00703484\n",
            " 0.02574569 0.02531677 0.01407817 0.02266219 0.01267638 0.03968965\n",
            " 0.03442947 0.01364142 0.02476192 0.01228036 0.01686091 0.01315438\n",
            " 0.01663802 0.01966962 0.01136422 0.01061812 0.00830699 0.01299921\n",
            " 0.02149014 0.02230216 0.01298489 0.01551339 0.02078439 0.01688571\n",
            " 0.09708718 0.01909302 0.02347813 0.01825306 0.03491926 0.02077002\n",
            " 0.03534277 0.02237465 0.02061301 0.01115834 0.03290436 0.00484668\n",
            " 0.05633588 0.02454859 0.012616   0.01186083 0.01633866 0.01853425\n",
            " 0.03027232 0.00994268 0.01744293 0.00988978 0.02611078 0.02635796\n",
            " 0.00874745 0.02165291 0.02039204 0.01427852 0.01085491 0.01040014\n",
            " 0.04276838 0.01483927 0.03614481 0.01975037 0.01809377 0.02320783\n",
            " 0.01157128 0.01358856 0.01438454 0.01626658 0.0201713  0.01216347\n",
            " 0.02146663 0.01435025 0.01281718 0.00880075 0.02352849 0.0113199\n",
            " 0.01957501 0.01574594 0.1831816  0.01701422 0.02180947 0.01640667\n",
            " 0.04264925 0.0206429  0.01152391 0.03535605 0.01192799 0.01595985\n",
            " 0.01424875 0.01080517 0.04129649 0.01766436 0.01446683 0.03654797\n",
            " 0.01498581 0.02201689 0.02847342 0.01637739 0.02363921 0.07223408\n",
            " 0.02126014 0.02357633 0.01238519 0.01548444 0.0143801  0.01496377\n",
            " 0.01903587 0.02270835 0.05001268 0.0164829  0.05690841 0.02350063\n",
            " 0.03017449 0.01516793 0.00859917 0.05844047 0.01261595 0.0157439\n",
            " 0.01875653 0.01766782 0.04396188 0.01227098 0.01320897 0.04165885\n",
            " 0.01303819 0.0179611  0.0125241  0.01772059 0.06493699 0.09267923\n",
            " 0.04841238 0.01828802 0.00700923 0.0109777  0.01837894 0.01296403\n",
            " 0.05764078 0.01053188 0.02363222 0.01531192 0.01216678 0.01158386\n",
            " 0.01344327 0.02319363 0.01000433 0.00788354 0.03952908 0.01055161\n",
            " 0.0170642  0.02062244 0.0661096  0.03449492 0.04647958 0.01455335\n",
            " 0.02107242 0.01245102 0.02008774 0.00932492 0.06478948 0.02849046\n",
            " 0.05258393 0.01309683 0.01511937 0.0948671  0.04245669 0.01848982\n",
            " 0.01712147 0.00964795 0.01387581 0.0155663  0.02446137 0.0183479\n",
            " 0.01811038 0.01236162 0.0125117  0.01217248 0.01536456 0.01409171\n",
            " 0.02672821 0.01917254 0.04390707 0.02620314 0.01450673 0.01033344\n",
            " 0.01303971 0.01450122 0.01475502 0.0158363  0.01151279 0.02440881\n",
            " 0.00729097 0.00770893 0.01238225 0.02183167 0.02395606 0.01736567\n",
            " 0.01858573 0.01656156 0.10327526 0.02665544 0.0110118  0.02162521\n",
            " 0.01078671 0.01474303 0.01167603 0.01284415 0.0147536  0.04031122\n",
            " 0.02447886 0.00666857 0.0103702  0.01197431 0.0158186  0.07916632\n",
            " 0.02757759 0.00735081 0.01725691 0.03208768 0.04267018 0.01953672\n",
            " 0.02481727 0.01280074 0.02828601 0.02917298 0.01163605 0.02868423\n",
            " 0.04733065 0.01277535 0.01330288 0.01434874 0.01946345 0.04939595\n",
            " 0.02266414 0.02909233 0.04372662 0.02537984 0.01716529 0.02040144\n",
            " 0.02089994 0.01551645 0.02540615 0.02041331 0.01010251 0.01065358\n",
            " 0.01330119 0.01852654 0.02399164 0.01702905 0.01541211 0.01581955\n",
            " 0.00917889 0.02873146 0.02805786 0.02950441 0.02428583 0.01636882\n",
            " 0.00984873 0.02108665 0.02360589 0.01422195 0.03640541 0.01255584\n",
            " 0.01036697 0.02002345 0.05061399 0.01402436 0.00824062 0.01686555\n",
            " 0.01823948 0.0290182  0.03366975 0.03247866 0.02990614 0.02870274\n",
            " 0.0324835  0.01735842 0.01076188 0.00795172 0.0494087  0.01155838\n",
            " 0.01705855 0.0160802  0.01300847 0.04072837 0.01059689 0.01577293\n",
            " 0.03099726 0.00897905 0.04196659 0.02720811 0.01328692 0.04597578\n",
            " 0.01242804 0.02151283 0.02384607 0.01496301 0.01552744 0.01377495\n",
            " 0.00191356 0.01869999 0.02636435 0.02087841 0.00495574 0.01328387\n",
            " 0.02061475 0.00977535 0.01726639 0.04170911 0.01853437 0.03055786\n",
            " 0.01861104 0.01539172 0.01081466 0.0163847  0.04229571 0.0084918\n",
            " 0.00951637 0.01548767 0.018777   0.07717078 0.00973428 0.01655071\n",
            " 0.01863472 0.02797349 0.0087772  0.02278739 0.01753728 0.02104228\n",
            " 0.02562593 0.0266165  0.01687851 0.04834221 0.01890657 0.01477396\n",
            " 0.02148046 0.06036997 0.0164964  0.01351053 0.02261273 0.02059076\n",
            " 0.02280077 0.11062907 0.01778883 0.07020575 0.07548979 0.16970233\n",
            " 0.02594256 0.05045161 0.13655542 0.0402286  0.01193964 0.0314902\n",
            " 0.03406714 0.02606381 0.01144728 0.01238872 0.0165278  0.01032673\n",
            " 0.01808999 0.01474945 0.01025568 0.03341434 0.01665247 0.05571825\n",
            " 0.01567656 0.02543694 0.04687777 0.01022686 0.01237468 0.00777042\n",
            " 0.02762305 0.013391   0.03089059 0.01180472 0.03133957 0.0128828\n",
            " 0.01868424 0.01470658 0.01153622 0.00926244 0.02877013 0.01713895\n",
            " 0.03004434 0.08992542 0.01633022 0.00851959 0.01824768 0.015301\n",
            " 0.02366733 0.07424683 0.02721002 0.02126832 0.01214031 0.00619274\n",
            " 0.0171523  0.01246343 0.04181725 0.00931157 0.03759802 0.02101403\n",
            " 0.01669324 0.00797185 0.02043873 0.1001782  0.02850716 0.01917867\n",
            " 0.01303626 0.02553888 0.01623169 0.01609368 0.01394299 0.00969071\n",
            " 0.01884587 0.02662572 0.02082976 0.02987277 0.01178785 0.01032837\n",
            " 0.02150463 0.01059492 0.0109234  0.01288714 0.01993036 0.03970236\n",
            " 0.08253419 0.00900263 0.01632266 0.01088701 0.01954464 0.01832368\n",
            " 0.02422768 0.0330855  0.02354629 0.0871178  0.01612236 0.03047721\n",
            " 0.03877544 0.05709411 0.01657757 0.02600679 0.03406204 0.02633897\n",
            " 0.01333325 0.02174936 0.05003966 0.01334294 0.00796081 0.02170964\n",
            " 0.0806632  0.07483329 0.01377606 0.01712888]\n",
            "(1000,)\n"
          ]
        }
      ]
    },
    {
      "cell_type": "code",
      "source": [
        "svd_model.components_.argsort()[0][::-1][:5]"
      ],
      "metadata": {
        "id": "JeWMiIPidCD9",
        "colab": {
          "base_uri": "https://localhost:8080/"
        },
        "outputId": "178c733f-a0a6-49a3-f0ce-41d7bfd9da7e"
      },
      "execution_count": 26,
      "outputs": [
        {
          "output_type": "execute_result",
          "data": {
            "text/plain": [
              "array([448, 483, 458, 626, 893])"
            ]
          },
          "metadata": {},
          "execution_count": 26
        }
      ]
    },
    {
      "cell_type": "code",
      "source": [
        "(vectorizer.get_feature_names_out()[448],svd_model.components_[0][448].round(5))"
      ],
      "metadata": {
        "id": "IwynvOhFEEKt",
        "colab": {
          "base_uri": "https://localhost:8080/"
        },
        "outputId": "cc53ce01-91e6-472c-837c-c7d7d5d53368"
      },
      "execution_count": 27,
      "outputs": [
        {
          "output_type": "execute_result",
          "data": {
            "text/plain": [
              "('just', 0.20887)"
            ]
          },
          "metadata": {},
          "execution_count": 27
        }
      ]
    },
    {
      "cell_type": "code",
      "source": [
        "(vectorizer.get_feature_names_out()[483],svd_model.components_[0][483].round(5))"
      ],
      "metadata": {
        "colab": {
          "base_uri": "https://localhost:8080/"
        },
        "id": "t4rclcRdyvFA",
        "outputId": "e419eca0-0e9a-4f90-a081-aa71796b8a9f"
      },
      "execution_count": 28,
      "outputs": [
        {
          "output_type": "execute_result",
          "data": {
            "text/plain": [
              "('like', 0.20469)"
            ]
          },
          "metadata": {},
          "execution_count": 28
        }
      ]
    },
    {
      "cell_type": "code",
      "source": [
        "terms = vectorizer.get_feature_names_out() # 단어 집합. 1,000개의 단어가 저장됨.\n",
        "for idx, topic in enumerate(svd_model.components_):\n",
        "    # 각 토픽에 대해 상위 5개의 단어와 그 단어의 값을 추출\n",
        "    sorted_indices = topic.argsort()[::-1][:5]  # 내림차순으로 상위 5개 단어의 인덱스 추출\n",
        "    print(\"Topic %d:\" % (idx+1), [(terms[i], topic[i].round(5)) for i in sorted_indices])\n",
        "    break  # 첫 번째 토픽만 출력하기 위해 break"
      ],
      "metadata": {
        "id": "-DDkqeXee6fT",
        "colab": {
          "base_uri": "https://localhost:8080/"
        },
        "outputId": "16681ad2-dbdb-4c52-8b6d-4f5acc0cb5e8"
      },
      "execution_count": 29,
      "outputs": [
        {
          "output_type": "stream",
          "name": "stdout",
          "text": [
            "Topic 1: [('just', 0.20887), ('like', 0.20469), ('know', 0.19349), ('people', 0.18318), ('think', 0.1697)]\n"
          ]
        }
      ]
    },
    {
      "cell_type": "code",
      "source": [
        "def get_topics(components, feature_names, n=5):\n",
        "    for idx, topic in enumerate(components):\n",
        "        print(\"Topic %d:\"%(idx+1),\n",
        "              [(feature_names[i], topic[i].round(5))for i in topic.argsort()[::-1][:5]])\n",
        "\n",
        "get_topics(svd_model.components_,terms)"
      ],
      "metadata": {
        "id": "hBt2vmKdXIhy",
        "colab": {
          "base_uri": "https://localhost:8080/"
        },
        "outputId": "e0cb333d-35e3-4d7c-f7ac-6729e15c9ed2"
      },
      "execution_count": 30,
      "outputs": [
        {
          "output_type": "stream",
          "name": "stdout",
          "text": [
            "Topic 1: [('just', 0.20887), ('like', 0.20469), ('know', 0.19349), ('people', 0.18318), ('think', 0.1697)]\n",
            "Topic 2: [('thanks', 0.32763), ('windows', 0.28786), ('card', 0.18019), ('drive', 0.16864), ('mail', 0.15261)]\n",
            "Topic 3: [('game', 0.34011), ('team', 0.30311), ('year', 0.26894), ('games', 0.23784), ('drive', 0.17472)]\n",
            "Topic 4: [('drive', 0.46159), ('scsi', 0.17188), ('disk', 0.14451), ('hard', 0.13805), ('problem', 0.12763)]\n",
            "Topic 5: [('drive', 0.39993), ('know', 0.28768), ('thanks', 0.24917), ('does', 0.24678), ('just', 0.17387)]\n",
            "Topic 6: [('just', 0.55559), ('like', 0.23559), ('windows', 0.23078), ('know', 0.15795), ('does', 0.11156)]\n",
            "Topic 7: [('just', 0.43264), ('like', 0.22858), ('mail', 0.15052), ('bike', 0.11698), ('thanks', 0.10025)]\n",
            "Topic 8: [('does', 0.39692), ('know', 0.25192), ('chip', 0.22492), ('like', 0.17824), ('card', 0.15695)]\n",
            "Topic 9: [('like', 0.42065), ('card', 0.32249), ('sale', 0.20267), ('video', 0.1571), ('offer', 0.14119)]\n",
            "Topic 10: [('like', 0.61166), ('drive', 0.23998), ('file', 0.13257), ('files', 0.09233), ('sounds', 0.08533)]\n",
            "Topic 11: [('people', 0.44189), ('like', 0.25647), ('thanks', 0.19072), ('card', 0.18615), ('government', 0.18341)]\n",
            "Topic 12: [('think', 0.66867), ('good', 0.25984), ('thanks', 0.11249), ('need', 0.10479), ('chip', 0.09178)]\n",
            "Topic 13: [('think', 0.36273), ('does', 0.22264), ('just', 0.21194), ('mail', 0.12875), ('like', 0.12095)]\n",
            "Topic 14: [('know', 0.36546), ('good', 0.30975), ('people', 0.27825), ('windows', 0.2729), ('file', 0.20088)]\n",
            "Topic 15: [('space', 0.4519), ('know', 0.31141), ('think', 0.18571), ('nasa', 0.1711), ('card', 0.11724)]\n",
            "Topic 16: [('does', 0.42324), ('israel', 0.31948), ('think', 0.26996), ('right', 0.1863), ('israeli', 0.17007)]\n",
            "Topic 17: [('good', 0.41859), ('space', 0.27501), ('card', 0.1855), ('does', 0.16985), ('thanks', 0.16633)]\n",
            "Topic 18: [('people', 0.5173), ('does', 0.25965), ('window', 0.21657), ('problem', 0.19057), ('space', 0.12958)]\n",
            "Topic 19: [('right', 0.36578), ('bike', 0.31154), ('time', 0.19438), ('windows', 0.18916), ('space', 0.1777)]\n",
            "Topic 20: [('file', 0.53334), ('problem', 0.20198), ('files', 0.19583), ('need', 0.18333), ('time', 0.15802)]\n"
          ]
        }
      ]
    },
    {
      "cell_type": "code",
      "source": [
        "def get_document_topics(lsa_matrix, n=5):\n",
        "    for idx, doc in enumerate(las_matrix):\n",
        "        if idx==10 :break\n",
        "        print(f\"Document {idx+1}:\", [(f\"Topic {i+1}\", doc[i].round(5)) for i in doc.argsort()[::-1][:n]])\n",
        "\n",
        "# 문서별 토픽 비율 확인\n",
        "lsa_matrix = svd_model.transform(X)\n",
        "\n",
        "# 함수 호출\n",
        "get_document_topics(lsa_matrix, n=5)\n"
      ],
      "metadata": {
        "id": "FjCDpaC4wi5E",
        "colab": {
          "base_uri": "https://localhost:8080/"
        },
        "outputId": "60a8b157-8e96-4e0b-91ac-76e2c7e512f3"
      },
      "execution_count": 31,
      "outputs": [
        {
          "output_type": "stream",
          "name": "stdout",
          "text": [
            "Document 1: [('Topic 2', 1.53603), ('Topic 1', 0.64429)]\n",
            "Document 2: [('Topic 1', 1.35999), ('Topic 2', 0.90808)]\n",
            "Document 3: [('Topic 1', 2.22643), ('Topic 2', -0.99919)]\n",
            "Document 4: [('Topic 1', 0.0), ('Topic 2', -0.0)]\n"
          ]
        }
      ]
    }
  ]
}