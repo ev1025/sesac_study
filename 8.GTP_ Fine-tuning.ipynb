{
 "cells": [
  {
   "cell_type": "markdown",
   "id": "902a8051-cd3c-417f-8b78-f47e8068ac01",
   "metadata": {},
   "source": [
    "## GTP API를 사용하여 Fine-tuning 시켜보자\n",
    "- fine-tuning에 필요한 데이터셋은 ChatCompletions API와 동일한 형식이 '대화'여야 하며, 각  메세지에 role별로 content가 들어간 메세지 목록이어야 함(system, user, assistants)\n",
    "- fine-tuning시 최소 10개 이상의 대화 데이터가 필요하며, 비용상 처음부터 많은 양으로 학습시키기 보다는 50개 미만의 소량의 데이터 셋으로 학습시켜 결과를 확인해보고 필요시 추가하는 전략이 필요함\n",
    "- openai 공식 페이지에서는 **100개 미만의 데이터**를 `소량의 데이터`라고 정의하고 있음\n",
    "- 또한, 적어도 일부 학습 데이터에는 **기존 모델이 원하는대로 작동하지 않았을 경우**에 `제대로된 응답이 들어간 데이터`가 fine-tuning에 포함되어야 성능 향상을 크게 확인할 수 있음\n",
    "    - 원하는대로 동작하지 않았던 응답\n",
    "\n",
    "```\n",
    "      Q : 프랑스의 수도는 어디야?\n",
    "      A : 프랑스는 세계에서 가장 유명한 관광도시예요!\n",
    "```\n",
    "    \n",
    "    - fine-tuning에 넣어줄 제대로된 데이터\n",
    "\n",
    "```\n",
    "      Q : 프랑스의 수도는 어디야?\n",
    "      A : 프랑스의 수도는 파리입니다.\n",
    "```\n"
   ]
  },
  {
   "cell_type": "code",
   "execution_count": 19,
   "id": "7edd1b20-d720-49fe-88a9-5d52ccf88f89",
   "metadata": {
    "scrolled": true
   },
   "outputs": [
    {
     "name": "stdout",
     "output_type": "stream",
     "text": [
      "Requirement already satisfied: tiktoken in c:\\users\\envy\\anaconda3\\envs\\study\\lib\\site-packages (0.7.0)\n",
      "Requirement already satisfied: regex>=2022.1.18 in c:\\users\\envy\\anaconda3\\envs\\study\\lib\\site-packages (from tiktoken) (2024.11.6)\n",
      "Requirement already satisfied: requests>=2.26.0 in c:\\users\\envy\\anaconda3\\envs\\study\\lib\\site-packages (from tiktoken) (2.32.3)\n",
      "Requirement already satisfied: charset-normalizer<4,>=2 in c:\\users\\envy\\anaconda3\\envs\\study\\lib\\site-packages (from requests>=2.26.0->tiktoken) (3.4.1)\n",
      "Requirement already satisfied: idna<4,>=2.5 in c:\\users\\envy\\anaconda3\\envs\\study\\lib\\site-packages (from requests>=2.26.0->tiktoken) (3.10)\n",
      "Requirement already satisfied: urllib3<3,>=1.21.1 in c:\\users\\envy\\anaconda3\\envs\\study\\lib\\site-packages (from requests>=2.26.0->tiktoken) (2.2.3)\n",
      "Requirement already satisfied: certifi>=2017.4.17 in c:\\users\\envy\\anaconda3\\envs\\study\\lib\\site-packages (from requests>=2.26.0->tiktoken) (2025.1.31)\n"
     ]
    }
   ],
   "source": [
    "!pip install tiktoken"
   ]
  },
  {
   "cell_type": "code",
   "execution_count": 23,
   "id": "396dcdb1-fbf0-47ee-8440-697795c35336",
   "metadata": {},
   "outputs": [],
   "source": [
    "from openai import OpenAI\n",
    "from getpass import getpass\n",
    "from datetime import datetime\n",
    "from collections import defaultdict\n",
    "import numpy as np\n",
    "import time\n",
    "import json\n",
    "import tiktoken # openai 모델들이 사용하는 base 토큰화 + 인코딩 모듈"
   ]
  },
  {
   "cell_type": "code",
   "execution_count": 27,
   "id": "ae6e235a-78bf-4bbc-8140-d19994e7d25e",
   "metadata": {},
   "outputs": [
    {
     "name": "stdin",
     "output_type": "stream",
     "text": [
      "OpenAI API Key : ········\n"
     ]
    }
   ],
   "source": [
    "MY_API_KEY = getpass.getpass(\"OpenAI API Key :\")"
   ]
  },
  {
   "cell_type": "code",
   "execution_count": 31,
   "id": "b9355217-2101-4f74-93ef-940786791ba3",
   "metadata": {},
   "outputs": [],
   "source": [
    "client = OpenAI(api_key=MY_API_KEY)"
   ]
  },
  {
   "cell_type": "markdown",
   "id": "705c3fc6-36d0-425d-a476-cf027af1ce5c",
   "metadata": {},
   "source": [
    "### 1.Fine-tuning 전 데이터 로드 및 검증\n",
    "- fine-tuning은 비용이 많이들 수 있기 때문에 사전에 적합한 데이터 형태인지 검증하고 진행하는 것이 좋음\n",
    "- OpenAI fine-tuning API 사용시에 데이터의 구조는 JSONL 형태여야함\n",
    "- **JSONL(JSON Lines)** : 한 줄당 json 객체가 존재하는 형태로 일반 json에 비해 한 줄씩 또는 청크 단위로 읽고 쓰는 것이 더 효율적이며 대규모의 데이터세트에 적합함"
   ]
  },
  {
   "cell_type": "code",
   "execution_count": 38,
   "id": "86d05462-6814-4d65-86d0-cb26948b7b5a",
   "metadata": {},
   "outputs": [
    {
     "ename": "FileNotFoundError",
     "evalue": "[Errno 2] No such file or directory: 'finetune_data/my_dataset.jsonl'",
     "output_type": "error",
     "traceback": [
      "\u001b[1;31m---------------------------------------------------------------------------\u001b[0m",
      "\u001b[1;31mFileNotFoundError\u001b[0m                         Traceback (most recent call last)",
      "Cell \u001b[1;32mIn[38], line 13\u001b[0m\n\u001b[0;32m      1\u001b[0m data \u001b[38;5;241m=\u001b[39m [\n\u001b[0;32m      2\u001b[0m     {\u001b[38;5;124m\"\u001b[39m\u001b[38;5;124mmessages\u001b[39m\u001b[38;5;124m\"\u001b[39m : [\n\u001b[0;32m      3\u001b[0m         {\u001b[38;5;124m\"\u001b[39m\u001b[38;5;124mrole\u001b[39m\u001b[38;5;124m\"\u001b[39m : \u001b[38;5;124m\"\u001b[39m\u001b[38;5;124msystem\u001b[39m\u001b[38;5;124m\"\u001b[39m, \u001b[38;5;124m\"\u001b[39m\u001b[38;5;124mcontent\u001b[39m\u001b[38;5;124m\"\u001b[39m : \u001b[38;5;124m\"\u001b[39m\u001b[38;5;124mYou are a chatbot that gives clear answers.\u001b[39m\u001b[38;5;124m\"\u001b[39m},\n\u001b[1;32m   (...)\u001b[0m\n\u001b[0;32m     11\u001b[0m     ]}\n\u001b[0;32m     12\u001b[0m ]\n\u001b[1;32m---> 13\u001b[0m \u001b[38;5;28;01mwith\u001b[39;00m \u001b[38;5;28;43mopen\u001b[39;49m\u001b[43m(\u001b[49m\u001b[38;5;124;43m\"\u001b[39;49m\u001b[38;5;124;43mfinetune_data/my_dataset.jsonl\u001b[39;49m\u001b[38;5;124;43m\"\u001b[39;49m\u001b[43m,\u001b[49m\u001b[43m \u001b[49m\u001b[38;5;124;43m\"\u001b[39;49m\u001b[38;5;124;43mw\u001b[39;49m\u001b[38;5;124;43m\"\u001b[39;49m\u001b[43m,\u001b[49m\u001b[43m \u001b[49m\u001b[43mencoding\u001b[49m\u001b[38;5;241;43m=\u001b[39;49m\u001b[38;5;124;43m\"\u001b[39;49m\u001b[38;5;124;43mutf-8\u001b[39;49m\u001b[38;5;124;43m\"\u001b[39;49m\u001b[43m)\u001b[49m \u001b[38;5;28;01mas\u001b[39;00m f :\n\u001b[0;32m     14\u001b[0m     \u001b[38;5;66;03m# JSONL 파일 저장시 한 줄에 JSON 객체(딕셔너리)를 하나씩 저장해주는 방식\u001b[39;00m\n\u001b[0;32m     15\u001b[0m     \u001b[38;5;28;01mfor\u001b[39;00m i \u001b[38;5;129;01min\u001b[39;00m data :\n\u001b[0;32m     16\u001b[0m         f\u001b[38;5;241m.\u001b[39mwrite(json\u001b[38;5;241m.\u001b[39mdumps(\u001b[38;5;241m1\u001b[39m) \u001b[38;5;241m+\u001b[39m \u001b[38;5;124m\"\u001b[39m\u001b[38;5;130;01m\\n\u001b[39;00m\u001b[38;5;124m\"\u001b[39m)\n",
      "File \u001b[1;32m~\\anaconda3\\envs\\study\\lib\\site-packages\\IPython\\core\\interactiveshell.py:284\u001b[0m, in \u001b[0;36m_modified_open\u001b[1;34m(file, *args, **kwargs)\u001b[0m\n\u001b[0;32m    277\u001b[0m \u001b[38;5;28;01mif\u001b[39;00m file \u001b[38;5;129;01min\u001b[39;00m {\u001b[38;5;241m0\u001b[39m, \u001b[38;5;241m1\u001b[39m, \u001b[38;5;241m2\u001b[39m}:\n\u001b[0;32m    278\u001b[0m     \u001b[38;5;28;01mraise\u001b[39;00m \u001b[38;5;167;01mValueError\u001b[39;00m(\n\u001b[0;32m    279\u001b[0m         \u001b[38;5;124mf\u001b[39m\u001b[38;5;124m\"\u001b[39m\u001b[38;5;124mIPython won\u001b[39m\u001b[38;5;124m'\u001b[39m\u001b[38;5;124mt let you open fd=\u001b[39m\u001b[38;5;132;01m{\u001b[39;00mfile\u001b[38;5;132;01m}\u001b[39;00m\u001b[38;5;124m by default \u001b[39m\u001b[38;5;124m\"\u001b[39m\n\u001b[0;32m    280\u001b[0m         \u001b[38;5;124m\"\u001b[39m\u001b[38;5;124mas it is likely to crash IPython. If you know what you are doing, \u001b[39m\u001b[38;5;124m\"\u001b[39m\n\u001b[0;32m    281\u001b[0m         \u001b[38;5;124m\"\u001b[39m\u001b[38;5;124myou can use builtins\u001b[39m\u001b[38;5;124m'\u001b[39m\u001b[38;5;124m open.\u001b[39m\u001b[38;5;124m\"\u001b[39m\n\u001b[0;32m    282\u001b[0m     )\n\u001b[1;32m--> 284\u001b[0m \u001b[38;5;28;01mreturn\u001b[39;00m \u001b[43mio_open\u001b[49m\u001b[43m(\u001b[49m\u001b[43mfile\u001b[49m\u001b[43m,\u001b[49m\u001b[43m \u001b[49m\u001b[38;5;241;43m*\u001b[39;49m\u001b[43margs\u001b[49m\u001b[43m,\u001b[49m\u001b[43m \u001b[49m\u001b[38;5;241;43m*\u001b[39;49m\u001b[38;5;241;43m*\u001b[39;49m\u001b[43mkwargs\u001b[49m\u001b[43m)\u001b[49m\n",
      "\u001b[1;31mFileNotFoundError\u001b[0m: [Errno 2] No such file or directory: 'finetune_data/my_dataset.jsonl'"
     ]
    }
   ],
   "source": [
    "data = [\n",
    "    {\"messages\" : [\n",
    "        {\"role\" : \"system\", \"content\" : \"You are a chatbot that gives clear answers.\"},\n",
    "        {\"role\" : \"user\", \"content\" : \"What can i do here?\"},\n",
    "        {\"role\" : \"assistant\", \"content\" : \"Ask a question about he part you want.\"}\n",
    "    ]},\n",
    "    {\"messages\" : [\n",
    "        {\"role\" : \"system\", \"content\" : \"Your are a chatbot that gives clear answers\"},\n",
    "        {\"role\" : \"user\", \"content\" : \"I fell sick\"},\n",
    "        {\"role\" : \"assistant\", \"content\" : \"Please describe your symptoms in detail\"}\n",
    "    ]}\n",
    "]\n",
    "with open(\"finetune_data/my_dataset.jsonl\", \"w\", encoding=\"utf-8\") as f :\n",
    "    # JSONL 파일 저장시 한 줄에 JSON 객체(딕셔너리)를 하나씩 저장해주는 방식\n",
    "    for i in data :\n",
    "        f.write(json.dumps(1) + \"\\n\")"
   ]
  },
  {
   "cell_type": "code",
   "execution_count": null,
   "id": "6e6da5f2-0cd4-49e9-9f6a-8a108beb38d3",
   "metadata": {},
   "outputs": [],
   "source": []
  },
  {
   "cell_type": "code",
   "execution_count": null,
   "id": "746002fe-f366-4a3b-8bed-456f17b6108a",
   "metadata": {},
   "outputs": [],
   "source": []
  }
 ],
 "metadata": {
  "kernelspec": {
   "display_name": "Python [conda env:study]",
   "language": "python",
   "name": "conda-env-study-py"
  },
  "language_info": {
   "codemirror_mode": {
    "name": "ipython",
    "version": 3
   },
   "file_extension": ".py",
   "mimetype": "text/x-python",
   "name": "python",
   "nbconvert_exporter": "python",
   "pygments_lexer": "ipython3",
   "version": "3.8.20"
  }
 },
 "nbformat": 4,
 "nbformat_minor": 5
}
